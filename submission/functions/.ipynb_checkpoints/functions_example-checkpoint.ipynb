{
 "cells": [
  {
   "cell_type": "markdown",
   "metadata": {},
   "source": [
    "## Draft. This jupyter notebook was used to review data files and try to learn insights from the data"
   ]
  },
  {
   "cell_type": "code",
   "execution_count": 1,
   "metadata": {},
   "outputs": [],
   "source": [
    "import numpy as np\n",
    "import pandas as pd\n",
    "import matplotlib.pyplot as plt"
   ]
  },
  {
   "cell_type": "code",
   "execution_count": 13,
   "metadata": {},
   "outputs": [
    {
     "name": "stderr",
     "output_type": "stream",
     "text": [
      "/Users/andreizn/opt/anaconda3/lib/python3.8/site-packages/IPython/core/interactiveshell.py:3146: DtypeWarning: Columns (10) have mixed types.Specify dtype option on import or set low_memory=False.\n",
      "  has_raised = await self.run_ast_nodes(code_ast.body, cell_name,\n"
     ]
    }
   ],
   "source": [
    "data_folder = '../../../idao_2021_train/'\n",
    "df_appl = pd.read_csv(data_folder + 'appl.csv')\n",
    "df_aum = pd.read_csv(data_folder + 'aum.csv')\n",
    "df_balance = pd.read_csv(data_folder + 'balance.csv')\n",
    "df_client = pd.read_csv(data_folder + 'client.csv')\n",
    "df_com = pd.read_csv(data_folder + 'com.csv')\n",
    "df_funnel = pd.read_csv(data_folder + 'funnel.csv')\n",
    "df_payments = pd.read_csv(data_folder + 'payments.csv')\n",
    "df_deals = pd.read_csv(data_folder + 'deals.csv')\n",
    "df_trxn = pd.read_csv(data_folder + 'trxn.csv')"
   ]
  },
  {
   "cell_type": "markdown",
   "metadata": {},
   "source": [
    "# initial cleaning"
   ]
  },
  {
   "cell_type": "code",
   "execution_count": 14,
   "metadata": {},
   "outputs": [],
   "source": [
    "df_client[\"education_bool\"] = (df_client[\"education\"] == 'PRIMARY_PROFESSIONAL') | (pd.isna(df_client[\"education\"]))\n",
    "df_client[\"education_bool\"] = 1 - (df_client[\"education_bool\"]).astype('int64')\n",
    "cid_idx = df_client[df_client[\"education_bool\"] == 1].client_id\n",
    "\n",
    "df_appl = df_appl.loc[df_appl['client_id'].isin(cid_idx.values)]\n",
    "df_aum = df_aum.loc[df_aum['client_id'].isin(cid_idx.values)]\n",
    "df_balance = df_balance.loc[df_balance['client_id'].isin(cid_idx.values)]\n",
    "df_client = df_client.loc[df_client['client_id'].isin(cid_idx.values)]\n",
    "df_com = df_com.loc[df_com['client_id'].isin(cid_idx.values)]\n",
    "# df_funnel = df_funnel.loc[df_funnel['client_id'].isin(cid_idx.values)]\n",
    "df_payments = df_payments.loc[df_payments['client_id'].isin(cid_idx.values)]\n",
    "df_deals = df_deals.loc[df_deals['client_id'].isin(cid_idx.values)]\n",
    "df_trxn = df_trxn.loc[df_trxn['client_id'].isin(cid_idx.values)]"
   ]
  },
  {
   "cell_type": "code",
   "execution_count": 4,
   "metadata": {},
   "outputs": [],
   "source": [
    "contacts = df_funnel.contacts.values\n",
    "y = df_funnel.sale_flg.values"
   ]
  },
  {
   "cell_type": "code",
   "execution_count": 5,
   "metadata": {},
   "outputs": [
    {
     "data": {
      "text/plain": [
       "0.3880778588807786"
      ]
     },
     "execution_count": 5,
     "metadata": {},
     "output_type": "execute_result"
    }
   ],
   "source": [
    "sum(y)/len(y)"
   ]
  },
  {
   "cell_type": "markdown",
   "metadata": {},
   "source": [
    "# appl.csv"
   ]
  },
  {
   "cell_type": "code",
   "execution_count": 83,
   "metadata": {},
   "outputs": [
    {
     "data": {
      "text/html": [
       "<div>\n",
       "<style scoped>\n",
       "    .dataframe tbody tr th:only-of-type {\n",
       "        vertical-align: middle;\n",
       "    }\n",
       "\n",
       "    .dataframe tbody tr th {\n",
       "        vertical-align: top;\n",
       "    }\n",
       "\n",
       "    .dataframe thead th {\n",
       "        text-align: right;\n",
       "    }\n",
       "</style>\n",
       "<table border=\"1\" class=\"dataframe\">\n",
       "  <thead>\n",
       "    <tr style=\"text-align: right;\">\n",
       "      <th></th>\n",
       "      <th>client_id</th>\n",
       "      <th>month_end_dt</th>\n",
       "      <th>appl_prod_group_name</th>\n",
       "      <th>appl_prod_type_name</th>\n",
       "      <th>appl_stts_name_dc</th>\n",
       "      <th>appl_sale_channel_name</th>\n",
       "    </tr>\n",
       "  </thead>\n",
       "  <tbody>\n",
       "    <tr>\n",
       "      <th>2</th>\n",
       "      <td>1316154201527307743</td>\n",
       "      <td>2018-09-30</td>\n",
       "      <td>PILS</td>\n",
       "      <td>PILS</td>\n",
       "      <td>The consultation is over</td>\n",
       "      <td>Network</td>\n",
       "    </tr>\n",
       "    <tr>\n",
       "      <th>3</th>\n",
       "      <td>1316154201527307743</td>\n",
       "      <td>2018-09-30</td>\n",
       "      <td>PILS</td>\n",
       "      <td>PILS</td>\n",
       "      <td>The consultation is over</td>\n",
       "      <td>Network</td>\n",
       "    </tr>\n",
       "    <tr>\n",
       "      <th>4</th>\n",
       "      <td>1316154201527307743</td>\n",
       "      <td>2018-09-30</td>\n",
       "      <td>PILS</td>\n",
       "      <td>PILS</td>\n",
       "      <td>The consultation is over</td>\n",
       "      <td>Network</td>\n",
       "    </tr>\n",
       "    <tr>\n",
       "      <th>6</th>\n",
       "      <td>-4044521687787721089</td>\n",
       "      <td>2018-11-30</td>\n",
       "      <td>PILS</td>\n",
       "      <td>PILS</td>\n",
       "      <td>The consultation is over</td>\n",
       "      <td>Network</td>\n",
       "    </tr>\n",
       "    <tr>\n",
       "      <th>7</th>\n",
       "      <td>1657859473600065768</td>\n",
       "      <td>2018-10-31</td>\n",
       "      <td>PILS</td>\n",
       "      <td>PILS</td>\n",
       "      <td>The consultation is over</td>\n",
       "      <td>Network</td>\n",
       "    </tr>\n",
       "  </tbody>\n",
       "</table>\n",
       "</div>"
      ],
      "text/plain": [
       "             client_id month_end_dt appl_prod_group_name appl_prod_type_name  \\\n",
       "2  1316154201527307743   2018-09-30                 PILS                PILS   \n",
       "3  1316154201527307743   2018-09-30                 PILS                PILS   \n",
       "4  1316154201527307743   2018-09-30                 PILS                PILS   \n",
       "6 -4044521687787721089   2018-11-30                 PILS                PILS   \n",
       "7  1657859473600065768   2018-10-31                 PILS                PILS   \n",
       "\n",
       "          appl_stts_name_dc appl_sale_channel_name  \n",
       "2  The consultation is over                Network  \n",
       "3  The consultation is over                Network  \n",
       "4  The consultation is over                Network  \n",
       "6  The consultation is over                Network  \n",
       "7  The consultation is over                Network  "
      ]
     },
     "execution_count": 83,
     "metadata": {},
     "output_type": "execute_result"
    }
   ],
   "source": [
    "df_appl.head()"
   ]
  },
  {
   "cell_type": "code",
   "execution_count": 103,
   "metadata": {},
   "outputs": [
    {
     "data": {
      "text/plain": [
       "Credit cards    3549\n",
       "Debit cards     3525\n",
       "PILS            3320\n",
       "Mortgage          20\n",
       "Name: appl_prod_type_name, dtype: int64"
      ]
     },
     "execution_count": 103,
     "metadata": {},
     "output_type": "execute_result"
    }
   ],
   "source": [
    "df_appl['appl_prod_type_name'].value_counts()"
   ]
  },
  {
   "cell_type": "code",
   "execution_count": 106,
   "metadata": {},
   "outputs": [
    {
     "data": {
      "text/html": [
       "<div>\n",
       "<style scoped>\n",
       "    .dataframe tbody tr th:only-of-type {\n",
       "        vertical-align: middle;\n",
       "    }\n",
       "\n",
       "    .dataframe tbody tr th {\n",
       "        vertical-align: top;\n",
       "    }\n",
       "\n",
       "    .dataframe thead th {\n",
       "        text-align: right;\n",
       "    }\n",
       "</style>\n",
       "<table border=\"1\" class=\"dataframe\">\n",
       "  <thead>\n",
       "    <tr style=\"text-align: right;\">\n",
       "      <th></th>\n",
       "      <th>client_id</th>\n",
       "      <th>appl_prod_type_name_bool</th>\n",
       "    </tr>\n",
       "  </thead>\n",
       "  <tbody>\n",
       "    <tr>\n",
       "      <th>0</th>\n",
       "      <td>1316154201527307743</td>\n",
       "      <td>1.0</td>\n",
       "    </tr>\n",
       "    <tr>\n",
       "      <th>1</th>\n",
       "      <td>-4044521687787721089</td>\n",
       "      <td>1.0</td>\n",
       "    </tr>\n",
       "    <tr>\n",
       "      <th>2</th>\n",
       "      <td>1657859473600065768</td>\n",
       "      <td>1.0</td>\n",
       "    </tr>\n",
       "    <tr>\n",
       "      <th>3</th>\n",
       "      <td>-2226802752242197751</td>\n",
       "      <td>1.0</td>\n",
       "    </tr>\n",
       "    <tr>\n",
       "      <th>4</th>\n",
       "      <td>-9079895224318432575</td>\n",
       "      <td>1.0</td>\n",
       "    </tr>\n",
       "    <tr>\n",
       "      <th>...</th>\n",
       "      <td>...</td>\n",
       "      <td>...</td>\n",
       "    </tr>\n",
       "    <tr>\n",
       "      <th>4843</th>\n",
       "      <td>-2659496364726359571</td>\n",
       "      <td>1.0</td>\n",
       "    </tr>\n",
       "    <tr>\n",
       "      <th>4844</th>\n",
       "      <td>-4062484147246531541</td>\n",
       "      <td>1.0</td>\n",
       "    </tr>\n",
       "    <tr>\n",
       "      <th>4845</th>\n",
       "      <td>-1823293089681696442</td>\n",
       "      <td>0.0</td>\n",
       "    </tr>\n",
       "    <tr>\n",
       "      <th>4846</th>\n",
       "      <td>4109280571813979726</td>\n",
       "      <td>0.0</td>\n",
       "    </tr>\n",
       "    <tr>\n",
       "      <th>4847</th>\n",
       "      <td>-5376954588157764175</td>\n",
       "      <td>0.0</td>\n",
       "    </tr>\n",
       "  </tbody>\n",
       "</table>\n",
       "<p>4848 rows × 2 columns</p>\n",
       "</div>"
      ],
      "text/plain": [
       "                client_id  appl_prod_type_name_bool\n",
       "0     1316154201527307743                       1.0\n",
       "1    -4044521687787721089                       1.0\n",
       "2     1657859473600065768                       1.0\n",
       "3    -2226802752242197751                       1.0\n",
       "4    -9079895224318432575                       1.0\n",
       "...                   ...                       ...\n",
       "4843 -2659496364726359571                       1.0\n",
       "4844 -4062484147246531541                       1.0\n",
       "4845 -1823293089681696442                       0.0\n",
       "4846  4109280571813979726                       0.0\n",
       "4847 -5376954588157764175                       0.0\n",
       "\n",
       "[4848 rows x 2 columns]"
      ]
     },
     "execution_count": 106,
     "metadata": {},
     "output_type": "execute_result"
    }
   ],
   "source": [
    "df_appl_grouped_mean"
   ]
  },
  {
   "cell_type": "code",
   "execution_count": 122,
   "metadata": {},
   "outputs": [],
   "source": [
    "df_appl[\"appl_prod_type_name_bool\"] = (df_appl[\"appl_prod_type_name\"] != 'Credit cards').astype('int64')\n",
    "df_appl_grouped = df_appl.groupby(by=\"client_id\", as_index=False, sort=False)[\"appl_prod_type_name_bool\"]\n",
    "df_appl_grouped_mean = df_appl_grouped.mean()\n",
    "# df_aum_grouped_max = df_aum_grouped_max.fillna(0)\n",
    "feat = df_appl_grouped_mean[\"appl_prod_type_name_bool\"].values\n",
    "\n",
    "df_funnel_selected = df_funnel.loc[df_funnel['client_id'].isin(df_appl_grouped_mean.client_id.values)]\n",
    "df_funnel_selected_shuffled = df_funnel_selected.set_index('client_id')\n",
    "df_funnel_selected_shuffled = df_funnel_selected_shuffled.reindex(index=df_appl_grouped_mean['client_id'])\n",
    "df_funnel_selected_shuffled = df_funnel_selected_shuffled.reset_index()"
   ]
  },
  {
   "cell_type": "code",
   "execution_count": 123,
   "metadata": {},
   "outputs": [
    {
     "data": {
      "text/plain": [
       "array([[ 1.        , -0.00750369],\n",
       "       [-0.00750369,  1.        ]])"
      ]
     },
     "execution_count": 123,
     "metadata": {},
     "output_type": "execute_result"
    }
   ],
   "source": [
    "y_selected = df_funnel_selected['sale_flg'].values\n",
    "np.corrcoef(y_selected, feat)"
   ]
  },
  {
   "cell_type": "code",
   "execution_count": 124,
   "metadata": {},
   "outputs": [
    {
     "data": {
      "text/plain": [
       "Issuance has been made                     4096\n",
       "Issuing a card                             1248\n",
       "Informing the Methodics                     805\n",
       "The consultation is over                    501\n",
       "Attachment of documents (after release)     423\n",
       "Draft                                       108\n",
       "Client refusal (Methodics)                   84\n",
       "The documents have been prepared             34\n",
       "Bank refusal (sent to Methodics)             21\n",
       "Client refusal                               16\n",
       "Formation of the application                 16\n",
       "An agreement is required to be signed        16\n",
       "Attachment of documents                       6\n",
       "Verification of customer data                 5\n",
       "four                                          3\n",
       "Getting a list of customer cards              3\n",
       "To issue                                      2\n",
       "Confirmation of issue by the Controller       2\n",
       "Improvement is required from the URC          1\n",
       "Waiting for contract data                     1\n",
       "Name: appl_stts_name_dc, dtype: int64"
      ]
     },
     "execution_count": 124,
     "metadata": {},
     "output_type": "execute_result"
    }
   ],
   "source": [
    "df_appl['appl_stts_name_dc'].value_counts()"
   ]
  },
  {
   "cell_type": "code",
   "execution_count": 212,
   "metadata": {},
   "outputs": [],
   "source": [
    "df_appl[\"Issuance_bool\"] = (df_appl[\"appl_stts_name_dc\"] == '') | (df_appl[\"appl_stts_name_dc\"] == 'Draft') | (df_appl[\"appl_stts_name_dc\"] == 'The documents have been prepared') | (df_appl[\"appl_stts_name_dc\"] == 'The documents have been prepared')"
   ]
  },
  {
   "cell_type": "code",
   "execution_count": 283,
   "metadata": {},
   "outputs": [],
   "source": [
    "df_appl[\"Issuance_bool\"] = (df_appl[\"appl_stts_name_dc\"] == 'Client refusal')\n",
    "df_appl_grouped = df_appl.groupby(by=\"client_id\", as_index=False, sort=False)[\"Issuance_bool\"]\n",
    "df_appl_grouped_mean = df_appl_grouped.mean().round()\n",
    "# df_aum_grouped_max = df_aum_grouped_max.fillna(0)\n",
    "feat = df_appl_grouped_mean[\"Issuance_bool\"].values\n",
    "\n",
    "df_funnel_selected = df_funnel.loc[df_funnel['client_id'].isin(df_appl_grouped_mean.client_id.values)]\n",
    "df_funnel_selected_shuffled = df_funnel_selected.set_index('client_id')\n",
    "df_funnel_selected_shuffled = df_funnel_selected_shuffled.reindex(index=df_appl_grouped_mean['client_id'])\n",
    "df_funnel_selected_shuffled = df_funnel_selected_shuffled.reset_index()"
   ]
  },
  {
   "cell_type": "code",
   "execution_count": 284,
   "metadata": {},
   "outputs": [
    {
     "data": {
      "text/plain": [
       "array([[1.        , 0.01937561],\n",
       "       [0.01937561, 1.        ]])"
      ]
     },
     "execution_count": 284,
     "metadata": {},
     "output_type": "execute_result"
    }
   ],
   "source": [
    "y_selected = df_funnel_selected['sale_flg'].values\n",
    "np.corrcoef(y_selected, feat)"
   ]
  },
  {
   "cell_type": "code",
   "execution_count": 285,
   "metadata": {},
   "outputs": [],
   "source": [
    "df_a_selected = df_appl_grouped_mean.loc[df_appl_grouped_mean[\"Issuance_bool\"] != 0]\n",
    "df_funnel_selected_shuffled = df_funnel_selected.set_index('client_id')\n",
    "df_funnel_selected_shuffled = df_funnel_selected_shuffled.reindex(index=df_a_selected['client_id'])\n",
    "df_funnel_selected_shuffled = df_funnel_selected_shuffled.reset_index()"
   ]
  },
  {
   "cell_type": "code",
   "execution_count": 286,
   "metadata": {},
   "outputs": [
    {
     "data": {
      "text/plain": [
       "0.25"
      ]
     },
     "execution_count": 286,
     "metadata": {},
     "output_type": "execute_result"
    }
   ],
   "source": [
    "sum(df_funnel_selected_shuffled.sale_flg) / len(df_funnel_selected_shuffled.sale_flg)"
   ]
  },
  {
   "cell_type": "code",
   "execution_count": 254,
   "metadata": {},
   "outputs": [
    {
     "data": {
      "text/html": [
       "<div>\n",
       "<style scoped>\n",
       "    .dataframe tbody tr th:only-of-type {\n",
       "        vertical-align: middle;\n",
       "    }\n",
       "\n",
       "    .dataframe tbody tr th {\n",
       "        vertical-align: top;\n",
       "    }\n",
       "\n",
       "    .dataframe thead th {\n",
       "        text-align: right;\n",
       "    }\n",
       "</style>\n",
       "<table border=\"1\" class=\"dataframe\">\n",
       "  <thead>\n",
       "    <tr style=\"text-align: right;\">\n",
       "      <th></th>\n",
       "      <th>client_id</th>\n",
       "      <th>Issuance_bool</th>\n",
       "    </tr>\n",
       "  </thead>\n",
       "  <tbody>\n",
       "    <tr>\n",
       "      <th>2866</th>\n",
       "      <td>5514924409041426526</td>\n",
       "      <td>1.0</td>\n",
       "    </tr>\n",
       "    <tr>\n",
       "      <th>2870</th>\n",
       "      <td>-4667182362076220452</td>\n",
       "      <td>1.0</td>\n",
       "    </tr>\n",
       "    <tr>\n",
       "      <th>4828</th>\n",
       "      <td>-5987867101718833502</td>\n",
       "      <td>1.0</td>\n",
       "    </tr>\n",
       "    <tr>\n",
       "      <th>4829</th>\n",
       "      <td>2893773721942246831</td>\n",
       "      <td>1.0</td>\n",
       "    </tr>\n",
       "  </tbody>\n",
       "</table>\n",
       "</div>"
      ],
      "text/plain": [
       "                client_id  Issuance_bool\n",
       "2866  5514924409041426526            1.0\n",
       "2870 -4667182362076220452            1.0\n",
       "4828 -5987867101718833502            1.0\n",
       "4829  2893773721942246831            1.0"
      ]
     },
     "execution_count": 254,
     "metadata": {},
     "output_type": "execute_result"
    }
   ],
   "source": [
    "df_a_selected"
   ]
  },
  {
   "cell_type": "markdown",
   "metadata": {},
   "source": [
    "# aum.csv"
   ]
  },
  {
   "cell_type": "code",
   "execution_count": 6,
   "metadata": {},
   "outputs": [
    {
     "data": {
      "text/html": [
       "<div>\n",
       "<style scoped>\n",
       "    .dataframe tbody tr th:only-of-type {\n",
       "        vertical-align: middle;\n",
       "    }\n",
       "\n",
       "    .dataframe tbody tr th {\n",
       "        vertical-align: top;\n",
       "    }\n",
       "\n",
       "    .dataframe thead th {\n",
       "        text-align: right;\n",
       "    }\n",
       "</style>\n",
       "<table border=\"1\" class=\"dataframe\">\n",
       "  <thead>\n",
       "    <tr style=\"text-align: right;\">\n",
       "      <th></th>\n",
       "      <th>client_id</th>\n",
       "      <th>month_end_dt</th>\n",
       "      <th>balance_rur_amt</th>\n",
       "      <th>product_code</th>\n",
       "    </tr>\n",
       "  </thead>\n",
       "  <tbody>\n",
       "    <tr>\n",
       "      <th>20</th>\n",
       "      <td>-2918739578801888500</td>\n",
       "      <td>2019-01-31</td>\n",
       "      <td>115.0</td>\n",
       "      <td>Current accounts</td>\n",
       "    </tr>\n",
       "    <tr>\n",
       "      <th>21</th>\n",
       "      <td>-2918739578801888500</td>\n",
       "      <td>2019-03-31</td>\n",
       "      <td>1083.0</td>\n",
       "      <td>Current accounts</td>\n",
       "    </tr>\n",
       "    <tr>\n",
       "      <th>22</th>\n",
       "      <td>-2918739578801888500</td>\n",
       "      <td>2019-05-31</td>\n",
       "      <td>58469.0</td>\n",
       "      <td>Current accounts</td>\n",
       "    </tr>\n",
       "    <tr>\n",
       "      <th>23</th>\n",
       "      <td>-2918739578801888500</td>\n",
       "      <td>2019-07-31</td>\n",
       "      <td>105085.0</td>\n",
       "      <td>Current accounts</td>\n",
       "    </tr>\n",
       "    <tr>\n",
       "      <th>24</th>\n",
       "      <td>-2918739578801888500</td>\n",
       "      <td>2019-08-31</td>\n",
       "      <td>10827.0</td>\n",
       "      <td>Current accounts</td>\n",
       "    </tr>\n",
       "  </tbody>\n",
       "</table>\n",
       "</div>"
      ],
      "text/plain": [
       "              client_id month_end_dt  balance_rur_amt      product_code\n",
       "20 -2918739578801888500   2019-01-31            115.0  Current accounts\n",
       "21 -2918739578801888500   2019-03-31           1083.0  Current accounts\n",
       "22 -2918739578801888500   2019-05-31          58469.0  Current accounts\n",
       "23 -2918739578801888500   2019-07-31         105085.0  Current accounts\n",
       "24 -2918739578801888500   2019-08-31          10827.0  Current accounts"
      ]
     },
     "execution_count": 6,
     "metadata": {},
     "output_type": "execute_result"
    }
   ],
   "source": [
    "df_aum.head()"
   ]
  },
  {
   "cell_type": "code",
   "execution_count": 7,
   "metadata": {},
   "outputs": [
    {
     "data": {
      "text/plain": [
       "Current accounts    60181\n",
       "Time account         1880\n",
       "NSJ                   631\n",
       "UK                    570\n",
       "Broker                390\n",
       "ILI                   186\n",
       "Name: product_code, dtype: int64"
      ]
     },
     "execution_count": 7,
     "metadata": {},
     "output_type": "execute_result"
    }
   ],
   "source": [
    "df_aum['product_code'].value_counts()"
   ]
  },
  {
   "cell_type": "code",
   "execution_count": 8,
   "metadata": {},
   "outputs": [],
   "source": [
    "df_aum[\"current_accounts_bool\"] = (df_aum[\"product_code\"] == 'Current accounts').astype('int64')\n",
    "df_aum_grouped = df_aum.groupby(by=\"client_id\", as_index=False, sort=False)[\"current_accounts_bool\"]\n",
    "df_aum_grouped_max = df_aum_grouped.mean()\n",
    "# df_aum_grouped_max = df_aum_grouped_max.fillna(0)\n",
    "feat = df_aum_grouped_max[\"current_accounts_bool\"].values"
   ]
  },
  {
   "cell_type": "code",
   "execution_count": 9,
   "metadata": {},
   "outputs": [],
   "source": [
    "df_funnel_selected = df_funnel.loc[df_funnel['client_id'].isin(df_aum_grouped_max.client_id.values)]\n",
    "df_funnel_selected_shuffled = df_funnel_selected.set_index('client_id')\n",
    "df_funnel_selected_shuffled = df_funnel_selected_shuffled.reindex(index=df_aum_grouped_max['client_id'])\n",
    "df_funnel_selected_shuffled = df_funnel_selected_shuffled.reset_index()"
   ]
  },
  {
   "cell_type": "code",
   "execution_count": 10,
   "metadata": {},
   "outputs": [],
   "source": [
    "y_selected = df_funnel_selected['sale_flg'].values\n",
    "np.corrcoef(y_selected, feat)"
   ]
  },
  {
   "cell_type": "code",
   "execution_count": 17,
   "metadata": {},
   "outputs": [
    {
     "data": {
      "text/plain": [
       "0.43724058966652357"
      ]
     },
     "execution_count": 17,
     "metadata": {},
     "output_type": "execute_result"
    }
   ],
   "source": [
    "sum(df_funnel_selected.sale_flg)/len(df_funnel_selected.sale_flg)"
   ]
  },
  {
   "cell_type": "code",
   "execution_count": null,
   "metadata": {},
   "outputs": [],
   "source": []
  },
  {
   "cell_type": "code",
   "execution_count": 18,
   "metadata": {},
   "outputs": [],
   "source": [
    "df_aum_grouped = df_aum.groupby(by=\"client_id\", as_index=False, sort=False)[\"balance_rur_amt\"]\n",
    "df_aum_grouped_max = df_aum_grouped.max()\n",
    "df_aum_grouped_max = df_aum_grouped_max.fillna(0)\n",
    "feat = df_aum_grouped_max[\"balance_rur_amt\"].values"
   ]
  },
  {
   "cell_type": "code",
   "execution_count": 19,
   "metadata": {},
   "outputs": [],
   "source": [
    "df_funnel_selected = df_funnel.loc[df_funnel['client_id'].isin(df_aum_grouped_max.client_id.values)]\n",
    "df_funnel_selected_shuffled = df_funnel_selected.set_index('client_id')\n",
    "df_funnel_selected_shuffled = df_funnel_selected_shuffled.reindex(index=df_aum_grouped_max['client_id'])\n",
    "df_funnel_selected_shuffled = df_funnel_selected_shuffled.reset_index()"
   ]
  },
  {
   "cell_type": "code",
   "execution_count": 20,
   "metadata": {},
   "outputs": [
    {
     "data": {
      "text/plain": [
       "array([[ 1.        , -0.00456379],\n",
       "       [-0.00456379,  1.        ]])"
      ]
     },
     "execution_count": 20,
     "metadata": {},
     "output_type": "execute_result"
    }
   ],
   "source": [
    "y_selected = df_funnel_selected['sale_flg'].values\n",
    "np.corrcoef(y_selected, feat)"
   ]
  },
  {
   "cell_type": "code",
   "execution_count": 21,
   "metadata": {},
   "outputs": [
    {
     "data": {
      "image/png": "[encoded data removed]",
      "text/plain": [
       "<Figure size 432x288 with 1 Axes>"
      ]
     },
     "metadata": {
      "needs_background": "light"
     },
     "output_type": "display_data"
    }
   ],
   "source": [
    "plt.hist(df_aum_grouped_max.balance_rur_amt, bins=50, range=(0,100))\n",
    "plt.show()"
   ]
  },
  {
   "cell_type": "code",
   "execution_count": 22,
   "metadata": {},
   "outputs": [],
   "source": [
    "df_a_selected = df_aum_grouped_max.loc[df_aum_grouped_max[\"balance_rur_amt\"] == 0]\n",
    "df_funnel_selected_shuffled = df_funnel_selected.set_index('client_id')\n",
    "df_funnel_selected_shuffled = df_funnel_selected_shuffled.reindex(index=df_a_selected['client_id'])\n",
    "df_funnel_selected_shuffled = df_funnel_selected_shuffled.reset_index()"
   ]
  },
  {
   "cell_type": "code",
   "execution_count": 23,
   "metadata": {},
   "outputs": [
    {
     "data": {
      "text/html": [
       "<div>\n",
       "<style scoped>\n",
       "    .dataframe tbody tr th:only-of-type {\n",
       "        vertical-align: middle;\n",
       "    }\n",
       "\n",
       "    .dataframe tbody tr th {\n",
       "        vertical-align: top;\n",
       "    }\n",
       "\n",
       "    .dataframe thead th {\n",
       "        text-align: right;\n",
       "    }\n",
       "</style>\n",
       "<table border=\"1\" class=\"dataframe\">\n",
       "  <thead>\n",
       "    <tr style=\"text-align: right;\">\n",
       "      <th></th>\n",
       "      <th>client_id</th>\n",
       "      <th>sale_flg</th>\n",
       "      <th>sale_amount</th>\n",
       "      <th>contacts</th>\n",
       "      <th>feature_1</th>\n",
       "      <th>client_segment</th>\n",
       "      <th>feature_2</th>\n",
       "      <th>feature_3</th>\n",
       "      <th>feature_4</th>\n",
       "      <th>feature_5</th>\n",
       "      <th>feature_6</th>\n",
       "      <th>feature_7</th>\n",
       "      <th>feature_8</th>\n",
       "      <th>feature_9</th>\n",
       "      <th>feature_10</th>\n",
       "      <th>region_cd</th>\n",
       "    </tr>\n",
       "  </thead>\n",
       "  <tbody>\n",
       "    <tr>\n",
       "      <th>0</th>\n",
       "      <td>-4882956838023690136</td>\n",
       "      <td>0</td>\n",
       "      <td>NaN</td>\n",
       "      <td>3</td>\n",
       "      <td>7</td>\n",
       "      <td>7.0</td>\n",
       "      <td>1664899.0</td>\n",
       "      <td>45785.0</td>\n",
       "      <td>6175.0</td>\n",
       "      <td>0.0</td>\n",
       "      <td>81725.0</td>\n",
       "      <td>1664563.0</td>\n",
       "      <td>1377044.0</td>\n",
       "      <td>9.4</td>\n",
       "      <td>35696.0</td>\n",
       "      <td>77.0</td>\n",
       "    </tr>\n",
       "    <tr>\n",
       "      <th>1</th>\n",
       "      <td>4485763970052208069</td>\n",
       "      <td>0</td>\n",
       "      <td>NaN</td>\n",
       "      <td>1</td>\n",
       "      <td>2</td>\n",
       "      <td>9.0</td>\n",
       "      <td>0.0</td>\n",
       "      <td>0.0</td>\n",
       "      <td>24776.0</td>\n",
       "      <td>0.0</td>\n",
       "      <td>46041.0</td>\n",
       "      <td>922733.0</td>\n",
       "      <td>505606.0</td>\n",
       "      <td>7.4</td>\n",
       "      <td>18446.0</td>\n",
       "      <td>66.0</td>\n",
       "    </tr>\n",
       "    <tr>\n",
       "      <th>2</th>\n",
       "      <td>3028904512556417089</td>\n",
       "      <td>0</td>\n",
       "      <td>NaN</td>\n",
       "      <td>2</td>\n",
       "      <td>7</td>\n",
       "      <td>7.0</td>\n",
       "      <td>611580.0</td>\n",
       "      <td>13329.0</td>\n",
       "      <td>3567.0</td>\n",
       "      <td>0.0</td>\n",
       "      <td>11925.0</td>\n",
       "      <td>611918.0</td>\n",
       "      <td>505717.0</td>\n",
       "      <td>9.9</td>\n",
       "      <td>13338.0</td>\n",
       "      <td>64.0</td>\n",
       "    </tr>\n",
       "    <tr>\n",
       "      <th>3</th>\n",
       "      <td>3112717114058191714</td>\n",
       "      <td>0</td>\n",
       "      <td>NaN</td>\n",
       "      <td>1</td>\n",
       "      <td>1</td>\n",
       "      <td>5.0</td>\n",
       "      <td>3642369.0</td>\n",
       "      <td>12643.0</td>\n",
       "      <td>15128.0</td>\n",
       "      <td>0.0</td>\n",
       "      <td>38761.0</td>\n",
       "      <td>582779.0</td>\n",
       "      <td>481635.0</td>\n",
       "      <td>10.9</td>\n",
       "      <td>12642.0</td>\n",
       "      <td>42.0</td>\n",
       "    </tr>\n",
       "    <tr>\n",
       "      <th>4</th>\n",
       "      <td>6348658568834479759</td>\n",
       "      <td>0</td>\n",
       "      <td>NaN</td>\n",
       "      <td>1</td>\n",
       "      <td>6</td>\n",
       "      <td>13.0</td>\n",
       "      <td>2428246.0</td>\n",
       "      <td>101429.0</td>\n",
       "      <td>106113.0</td>\n",
       "      <td>0.0</td>\n",
       "      <td>229034.0</td>\n",
       "      <td>2428246.0</td>\n",
       "      <td>2209505.0</td>\n",
       "      <td>14.9</td>\n",
       "      <td>57640.0</td>\n",
       "      <td>77.0</td>\n",
       "    </tr>\n",
       "    <tr>\n",
       "      <th>5</th>\n",
       "      <td>-2731423505468305301</td>\n",
       "      <td>1</td>\n",
       "      <td>27139.25</td>\n",
       "      <td>2</td>\n",
       "      <td>1</td>\n",
       "      <td>13.0</td>\n",
       "      <td>3642369.0</td>\n",
       "      <td>21786.0</td>\n",
       "      <td>13821.0</td>\n",
       "      <td>0.0</td>\n",
       "      <td>71874.0</td>\n",
       "      <td>981011.0</td>\n",
       "      <td>831366.0</td>\n",
       "      <td>11.9</td>\n",
       "      <td>21773.0</td>\n",
       "      <td>33.0</td>\n",
       "    </tr>\n",
       "    <tr>\n",
       "      <th>6</th>\n",
       "      <td>-8436172258658674772</td>\n",
       "      <td>0</td>\n",
       "      <td>NaN</td>\n",
       "      <td>1</td>\n",
       "      <td>9</td>\n",
       "      <td>13.0</td>\n",
       "      <td>285361.0</td>\n",
       "      <td>6883.0</td>\n",
       "      <td>0.0</td>\n",
       "      <td>0.0</td>\n",
       "      <td>0.0</td>\n",
       "      <td>259822.0</td>\n",
       "      <td>201725.0</td>\n",
       "      <td>19.9</td>\n",
       "      <td>6869.0</td>\n",
       "      <td>23.0</td>\n",
       "    </tr>\n",
       "    <tr>\n",
       "      <th>7</th>\n",
       "      <td>6854611043171023972</td>\n",
       "      <td>0</td>\n",
       "      <td>NaN</td>\n",
       "      <td>1</td>\n",
       "      <td>6</td>\n",
       "      <td>4.0</td>\n",
       "      <td>2428246.0</td>\n",
       "      <td>112737.0</td>\n",
       "      <td>78352.0</td>\n",
       "      <td>0.0</td>\n",
       "      <td>130442.0</td>\n",
       "      <td>2428246.0</td>\n",
       "      <td>1095631.0</td>\n",
       "      <td>14.4</td>\n",
       "      <td>57006.0</td>\n",
       "      <td>86.0</td>\n",
       "    </tr>\n",
       "    <tr>\n",
       "      <th>8</th>\n",
       "      <td>2185797961583148087</td>\n",
       "      <td>0</td>\n",
       "      <td>NaN</td>\n",
       "      <td>1</td>\n",
       "      <td>5</td>\n",
       "      <td>8.0</td>\n",
       "      <td>3533098.0</td>\n",
       "      <td>23979.0</td>\n",
       "      <td>46194.0</td>\n",
       "      <td>0.0</td>\n",
       "      <td>86387.0</td>\n",
       "      <td>1131563.0</td>\n",
       "      <td>991728.0</td>\n",
       "      <td>9.9</td>\n",
       "      <td>23987.0</td>\n",
       "      <td>12.0</td>\n",
       "    </tr>\n",
       "    <tr>\n",
       "      <th>9</th>\n",
       "      <td>-3289550876719723057</td>\n",
       "      <td>0</td>\n",
       "      <td>NaN</td>\n",
       "      <td>1</td>\n",
       "      <td>6</td>\n",
       "      <td>13.0</td>\n",
       "      <td>2428246.0</td>\n",
       "      <td>34162.0</td>\n",
       "      <td>21309.0</td>\n",
       "      <td>0.0</td>\n",
       "      <td>53537.0</td>\n",
       "      <td>1438736.0</td>\n",
       "      <td>1260943.0</td>\n",
       "      <td>14.9</td>\n",
       "      <td>34152.0</td>\n",
       "      <td>39.0</td>\n",
       "    </tr>\n",
       "    <tr>\n",
       "      <th>10</th>\n",
       "      <td>8405899505611906441</td>\n",
       "      <td>0</td>\n",
       "      <td>NaN</td>\n",
       "      <td>1</td>\n",
       "      <td>7</td>\n",
       "      <td>9.0</td>\n",
       "      <td>3642369.0</td>\n",
       "      <td>12614.0</td>\n",
       "      <td>36208.0</td>\n",
       "      <td>0.0</td>\n",
       "      <td>80429.0</td>\n",
       "      <td>594920.0</td>\n",
       "      <td>469987.0</td>\n",
       "      <td>9.9</td>\n",
       "      <td>12611.0</td>\n",
       "      <td>78.0</td>\n",
       "    </tr>\n",
       "    <tr>\n",
       "      <th>11</th>\n",
       "      <td>-8535160385576792656</td>\n",
       "      <td>1</td>\n",
       "      <td>10942.10</td>\n",
       "      <td>1</td>\n",
       "      <td>3</td>\n",
       "      <td>13.0</td>\n",
       "      <td>3642369.0</td>\n",
       "      <td>5867.0</td>\n",
       "      <td>0.0</td>\n",
       "      <td>0.0</td>\n",
       "      <td>0.0</td>\n",
       "      <td>282891.0</td>\n",
       "      <td>217608.0</td>\n",
       "      <td>8.9</td>\n",
       "      <td>5868.0</td>\n",
       "      <td>54.0</td>\n",
       "    </tr>\n",
       "    <tr>\n",
       "      <th>12</th>\n",
       "      <td>-8743038466406017283</td>\n",
       "      <td>0</td>\n",
       "      <td>NaN</td>\n",
       "      <td>1</td>\n",
       "      <td>9</td>\n",
       "      <td>14.0</td>\n",
       "      <td>1821184.0</td>\n",
       "      <td>20702.0</td>\n",
       "      <td>22075.0</td>\n",
       "      <td>0.0</td>\n",
       "      <td>40605.0</td>\n",
       "      <td>791608.0</td>\n",
       "      <td>670854.0</td>\n",
       "      <td>19.4</td>\n",
       "      <td>20709.0</td>\n",
       "      <td>12.0</td>\n",
       "    </tr>\n",
       "    <tr>\n",
       "      <th>13</th>\n",
       "      <td>3347036004746326053</td>\n",
       "      <td>0</td>\n",
       "      <td>NaN</td>\n",
       "      <td>1</td>\n",
       "      <td>7</td>\n",
       "      <td>4.0</td>\n",
       "      <td>3576806.0</td>\n",
       "      <td>16202.0</td>\n",
       "      <td>13659.0</td>\n",
       "      <td>0.0</td>\n",
       "      <td>28580.0</td>\n",
       "      <td>764897.0</td>\n",
       "      <td>648218.0</td>\n",
       "      <td>9.9</td>\n",
       "      <td>16214.0</td>\n",
       "      <td>68.0</td>\n",
       "    </tr>\n",
       "    <tr>\n",
       "      <th>14</th>\n",
       "      <td>-7006293700834016696</td>\n",
       "      <td>1</td>\n",
       "      <td>39280.45</td>\n",
       "      <td>1</td>\n",
       "      <td>4</td>\n",
       "      <td>5.0</td>\n",
       "      <td>3642369.0</td>\n",
       "      <td>98509.0</td>\n",
       "      <td>0.0</td>\n",
       "      <td>0.0</td>\n",
       "      <td>7952.0</td>\n",
       "      <td>3642369.0</td>\n",
       "      <td>3314257.0</td>\n",
       "      <td>7.9</td>\n",
       "      <td>75433.0</td>\n",
       "      <td>86.0</td>\n",
       "    </tr>\n",
       "    <tr>\n",
       "      <th>15</th>\n",
       "      <td>-7463253719948906740</td>\n",
       "      <td>0</td>\n",
       "      <td>NaN</td>\n",
       "      <td>1</td>\n",
       "      <td>7</td>\n",
       "      <td>13.0</td>\n",
       "      <td>3642369.0</td>\n",
       "      <td>51158.0</td>\n",
       "      <td>17489.0</td>\n",
       "      <td>0.0</td>\n",
       "      <td>113764.0</td>\n",
       "      <td>2385752.0</td>\n",
       "      <td>2170839.0</td>\n",
       "      <td>10.4</td>\n",
       "      <td>51161.0</td>\n",
       "      <td>31.0</td>\n",
       "    </tr>\n",
       "    <tr>\n",
       "      <th>16</th>\n",
       "      <td>-5064858309701640499</td>\n",
       "      <td>0</td>\n",
       "      <td>NaN</td>\n",
       "      <td>1</td>\n",
       "      <td>5</td>\n",
       "      <td>14.0</td>\n",
       "      <td>3642369.0</td>\n",
       "      <td>11429.0</td>\n",
       "      <td>0.0</td>\n",
       "      <td>0.0</td>\n",
       "      <td>0.0</td>\n",
       "      <td>526929.0</td>\n",
       "      <td>435479.0</td>\n",
       "      <td>10.9</td>\n",
       "      <td>11430.0</td>\n",
       "      <td>23.0</td>\n",
       "    </tr>\n",
       "    <tr>\n",
       "      <th>17</th>\n",
       "      <td>-8501525584861047674</td>\n",
       "      <td>0</td>\n",
       "      <td>NaN</td>\n",
       "      <td>1</td>\n",
       "      <td>5</td>\n",
       "      <td>9.0</td>\n",
       "      <td>3642369.0</td>\n",
       "      <td>53347.0</td>\n",
       "      <td>0.0</td>\n",
       "      <td>0.0</td>\n",
       "      <td>110092.0</td>\n",
       "      <td>2516877.0</td>\n",
       "      <td>2290152.0</td>\n",
       "      <td>9.9</td>\n",
       "      <td>53360.0</td>\n",
       "      <td>77.0</td>\n",
       "    </tr>\n",
       "    <tr>\n",
       "      <th>18</th>\n",
       "      <td>9105007611711842780</td>\n",
       "      <td>0</td>\n",
       "      <td>NaN</td>\n",
       "      <td>1</td>\n",
       "      <td>7</td>\n",
       "      <td>13.0</td>\n",
       "      <td>3642369.0</td>\n",
       "      <td>68294.0</td>\n",
       "      <td>7588.0</td>\n",
       "      <td>0.0</td>\n",
       "      <td>5059.0</td>\n",
       "      <td>3148221.0</td>\n",
       "      <td>2864624.0</td>\n",
       "      <td>10.9</td>\n",
       "      <td>68293.0</td>\n",
       "      <td>37.0</td>\n",
       "    </tr>\n",
       "    <tr>\n",
       "      <th>19</th>\n",
       "      <td>1689140165905750057</td>\n",
       "      <td>0</td>\n",
       "      <td>NaN</td>\n",
       "      <td>1</td>\n",
       "      <td>7</td>\n",
       "      <td>13.0</td>\n",
       "      <td>3642369.0</td>\n",
       "      <td>3007.0</td>\n",
       "      <td>607.0</td>\n",
       "      <td>0.0</td>\n",
       "      <td>1214.0</td>\n",
       "      <td>133554.0</td>\n",
       "      <td>103691.0</td>\n",
       "      <td>12.4</td>\n",
       "      <td>2998.0</td>\n",
       "      <td>53.0</td>\n",
       "    </tr>\n",
       "    <tr>\n",
       "      <th>20</th>\n",
       "      <td>-6477116189846603018</td>\n",
       "      <td>0</td>\n",
       "      <td>NaN</td>\n",
       "      <td>1</td>\n",
       "      <td>1</td>\n",
       "      <td>13.0</td>\n",
       "      <td>3642369.0</td>\n",
       "      <td>70278.0</td>\n",
       "      <td>27172.0</td>\n",
       "      <td>0.0</td>\n",
       "      <td>100317.0</td>\n",
       "      <td>3202856.0</td>\n",
       "      <td>2914337.0</td>\n",
       "      <td>11.4</td>\n",
       "      <td>70278.0</td>\n",
       "      <td>32.0</td>\n",
       "    </tr>\n",
       "    <tr>\n",
       "      <th>21</th>\n",
       "      <td>9194839341091866262</td>\n",
       "      <td>0</td>\n",
       "      <td>NaN</td>\n",
       "      <td>1</td>\n",
       "      <td>7</td>\n",
       "      <td>6.0</td>\n",
       "      <td>609962.0</td>\n",
       "      <td>13177.0</td>\n",
       "      <td>3586.0</td>\n",
       "      <td>0.0</td>\n",
       "      <td>17425.0</td>\n",
       "      <td>609490.0</td>\n",
       "      <td>481497.0</td>\n",
       "      <td>9.9</td>\n",
       "      <td>12920.0</td>\n",
       "      <td>54.0</td>\n",
       "    </tr>\n",
       "    <tr>\n",
       "      <th>22</th>\n",
       "      <td>-1172148829751192844</td>\n",
       "      <td>1</td>\n",
       "      <td>60706.15</td>\n",
       "      <td>1</td>\n",
       "      <td>1</td>\n",
       "      <td>8.0</td>\n",
       "      <td>3408043.0</td>\n",
       "      <td>85952.0</td>\n",
       "      <td>48846.0</td>\n",
       "      <td>0.0</td>\n",
       "      <td>85707.0</td>\n",
       "      <td>3408043.0</td>\n",
       "      <td>3101040.0</td>\n",
       "      <td>10.9</td>\n",
       "      <td>75638.0</td>\n",
       "      <td>50.0</td>\n",
       "    </tr>\n",
       "    <tr>\n",
       "      <th>23</th>\n",
       "      <td>6297985396929932925</td>\n",
       "      <td>0</td>\n",
       "      <td>NaN</td>\n",
       "      <td>1</td>\n",
       "      <td>6</td>\n",
       "      <td>13.0</td>\n",
       "      <td>2428246.0</td>\n",
       "      <td>30421.0</td>\n",
       "      <td>0.0</td>\n",
       "      <td>0.0</td>\n",
       "      <td>81132.0</td>\n",
       "      <td>1282114.0</td>\n",
       "      <td>1123676.0</td>\n",
       "      <td>14.9</td>\n",
       "      <td>30434.0</td>\n",
       "      <td>60.0</td>\n",
       "    </tr>\n",
       "    <tr>\n",
       "      <th>24</th>\n",
       "      <td>-3692131312500692145</td>\n",
       "      <td>0</td>\n",
       "      <td>NaN</td>\n",
       "      <td>1</td>\n",
       "      <td>6</td>\n",
       "      <td>9.0</td>\n",
       "      <td>2185421.0</td>\n",
       "      <td>114514.0</td>\n",
       "      <td>105417.0</td>\n",
       "      <td>0.0</td>\n",
       "      <td>455933.0</td>\n",
       "      <td>2185421.0</td>\n",
       "      <td>1877277.0</td>\n",
       "      <td>14.9</td>\n",
       "      <td>51876.0</td>\n",
       "      <td>74.0</td>\n",
       "    </tr>\n",
       "    <tr>\n",
       "      <th>25</th>\n",
       "      <td>-5230705331867564298</td>\n",
       "      <td>1</td>\n",
       "      <td>60706.15</td>\n",
       "      <td>4</td>\n",
       "      <td>1</td>\n",
       "      <td>5.0</td>\n",
       "      <td>3642369.0</td>\n",
       "      <td>179733.0</td>\n",
       "      <td>37845.0</td>\n",
       "      <td>0.0</td>\n",
       "      <td>131727.0</td>\n",
       "      <td>3642369.0</td>\n",
       "      <td>3314257.0</td>\n",
       "      <td>10.9</td>\n",
       "      <td>80839.0</td>\n",
       "      <td>66.0</td>\n",
       "    </tr>\n",
       "    <tr>\n",
       "      <th>26</th>\n",
       "      <td>1953739765860686949</td>\n",
       "      <td>0</td>\n",
       "      <td>NaN</td>\n",
       "      <td>1</td>\n",
       "      <td>3</td>\n",
       "      <td>13.0</td>\n",
       "      <td>3642369.0</td>\n",
       "      <td>43708.0</td>\n",
       "      <td>0.0</td>\n",
       "      <td>0.0</td>\n",
       "      <td>0.0</td>\n",
       "      <td>2110146.0</td>\n",
       "      <td>1920060.0</td>\n",
       "      <td>8.9</td>\n",
       "      <td>43701.0</td>\n",
       "      <td>77.0</td>\n",
       "    </tr>\n",
       "    <tr>\n",
       "      <th>27</th>\n",
       "      <td>-1006692895158608720</td>\n",
       "      <td>0</td>\n",
       "      <td>NaN</td>\n",
       "      <td>1</td>\n",
       "      <td>8</td>\n",
       "      <td>5.0</td>\n",
       "      <td>2428246.0</td>\n",
       "      <td>73229.0</td>\n",
       "      <td>36695.0</td>\n",
       "      <td>0.0</td>\n",
       "      <td>109720.0</td>\n",
       "      <td>2428246.0</td>\n",
       "      <td>2085863.0</td>\n",
       "      <td>17.9</td>\n",
       "      <td>61529.0</td>\n",
       "      <td>54.0</td>\n",
       "    </tr>\n",
       "    <tr>\n",
       "      <th>28</th>\n",
       "      <td>2876678907030892365</td>\n",
       "      <td>0</td>\n",
       "      <td>NaN</td>\n",
       "      <td>1</td>\n",
       "      <td>12</td>\n",
       "      <td>6.0</td>\n",
       "      <td>3581663.0</td>\n",
       "      <td>125310.0</td>\n",
       "      <td>32767.0</td>\n",
       "      <td>0.0</td>\n",
       "      <td>244631.0</td>\n",
       "      <td>3581663.0</td>\n",
       "      <td>3259019.0</td>\n",
       "      <td>7.9</td>\n",
       "      <td>74176.0</td>\n",
       "      <td>53.0</td>\n",
       "    </tr>\n",
       "  </tbody>\n",
       "</table>\n",
       "</div>"
      ],
      "text/plain": [
       "              client_id  sale_flg  sale_amount  contacts  feature_1  \\\n",
       "0  -4882956838023690136         0          NaN         3          7   \n",
       "1   4485763970052208069         0          NaN         1          2   \n",
       "2   3028904512556417089         0          NaN         2          7   \n",
       "3   3112717114058191714         0          NaN         1          1   \n",
       "4   6348658568834479759         0          NaN         1          6   \n",
       "5  -2731423505468305301         1     27139.25         2          1   \n",
       "6  -8436172258658674772         0          NaN         1          9   \n",
       "7   6854611043171023972         0          NaN         1          6   \n",
       "8   2185797961583148087         0          NaN         1          5   \n",
       "9  -3289550876719723057         0          NaN         1          6   \n",
       "10  8405899505611906441         0          NaN         1          7   \n",
       "11 -8535160385576792656         1     10942.10         1          3   \n",
       "12 -8743038466406017283         0          NaN         1          9   \n",
       "13  3347036004746326053         0          NaN         1          7   \n",
       "14 -7006293700834016696         1     39280.45         1          4   \n",
       "15 -7463253719948906740         0          NaN         1          7   \n",
       "16 -5064858309701640499         0          NaN         1          5   \n",
       "17 -8501525584861047674         0          NaN         1          5   \n",
       "18  9105007611711842780         0          NaN         1          7   \n",
       "19  1689140165905750057         0          NaN         1          7   \n",
       "20 -6477116189846603018         0          NaN         1          1   \n",
       "21  9194839341091866262         0          NaN         1          7   \n",
       "22 -1172148829751192844         1     60706.15         1          1   \n",
       "23  6297985396929932925         0          NaN         1          6   \n",
       "24 -3692131312500692145         0          NaN         1          6   \n",
       "25 -5230705331867564298         1     60706.15         4          1   \n",
       "26  1953739765860686949         0          NaN         1          3   \n",
       "27 -1006692895158608720         0          NaN         1          8   \n",
       "28  2876678907030892365         0          NaN         1         12   \n",
       "\n",
       "    client_segment  feature_2  feature_3  feature_4  feature_5  feature_6  \\\n",
       "0              7.0  1664899.0    45785.0     6175.0        0.0    81725.0   \n",
       "1              9.0        0.0        0.0    24776.0        0.0    46041.0   \n",
       "2              7.0   611580.0    13329.0     3567.0        0.0    11925.0   \n",
       "3              5.0  3642369.0    12643.0    15128.0        0.0    38761.0   \n",
       "4             13.0  2428246.0   101429.0   106113.0        0.0   229034.0   \n",
       "5             13.0  3642369.0    21786.0    13821.0        0.0    71874.0   \n",
       "6             13.0   285361.0     6883.0        0.0        0.0        0.0   \n",
       "7              4.0  2428246.0   112737.0    78352.0        0.0   130442.0   \n",
       "8              8.0  3533098.0    23979.0    46194.0        0.0    86387.0   \n",
       "9             13.0  2428246.0    34162.0    21309.0        0.0    53537.0   \n",
       "10             9.0  3642369.0    12614.0    36208.0        0.0    80429.0   \n",
       "11            13.0  3642369.0     5867.0        0.0        0.0        0.0   \n",
       "12            14.0  1821184.0    20702.0    22075.0        0.0    40605.0   \n",
       "13             4.0  3576806.0    16202.0    13659.0        0.0    28580.0   \n",
       "14             5.0  3642369.0    98509.0        0.0        0.0     7952.0   \n",
       "15            13.0  3642369.0    51158.0    17489.0        0.0   113764.0   \n",
       "16            14.0  3642369.0    11429.0        0.0        0.0        0.0   \n",
       "17             9.0  3642369.0    53347.0        0.0        0.0   110092.0   \n",
       "18            13.0  3642369.0    68294.0     7588.0        0.0     5059.0   \n",
       "19            13.0  3642369.0     3007.0      607.0        0.0     1214.0   \n",
       "20            13.0  3642369.0    70278.0    27172.0        0.0   100317.0   \n",
       "21             6.0   609962.0    13177.0     3586.0        0.0    17425.0   \n",
       "22             8.0  3408043.0    85952.0    48846.0        0.0    85707.0   \n",
       "23            13.0  2428246.0    30421.0        0.0        0.0    81132.0   \n",
       "24             9.0  2185421.0   114514.0   105417.0        0.0   455933.0   \n",
       "25             5.0  3642369.0   179733.0    37845.0        0.0   131727.0   \n",
       "26            13.0  3642369.0    43708.0        0.0        0.0        0.0   \n",
       "27             5.0  2428246.0    73229.0    36695.0        0.0   109720.0   \n",
       "28             6.0  3581663.0   125310.0    32767.0        0.0   244631.0   \n",
       "\n",
       "    feature_7  feature_8  feature_9  feature_10  region_cd  \n",
       "0   1664563.0  1377044.0        9.4     35696.0       77.0  \n",
       "1    922733.0   505606.0        7.4     18446.0       66.0  \n",
       "2    611918.0   505717.0        9.9     13338.0       64.0  \n",
       "3    582779.0   481635.0       10.9     12642.0       42.0  \n",
       "4   2428246.0  2209505.0       14.9     57640.0       77.0  \n",
       "5    981011.0   831366.0       11.9     21773.0       33.0  \n",
       "6    259822.0   201725.0       19.9      6869.0       23.0  \n",
       "7   2428246.0  1095631.0       14.4     57006.0       86.0  \n",
       "8   1131563.0   991728.0        9.9     23987.0       12.0  \n",
       "9   1438736.0  1260943.0       14.9     34152.0       39.0  \n",
       "10   594920.0   469987.0        9.9     12611.0       78.0  \n",
       "11   282891.0   217608.0        8.9      5868.0       54.0  \n",
       "12   791608.0   670854.0       19.4     20709.0       12.0  \n",
       "13   764897.0   648218.0        9.9     16214.0       68.0  \n",
       "14  3642369.0  3314257.0        7.9     75433.0       86.0  \n",
       "15  2385752.0  2170839.0       10.4     51161.0       31.0  \n",
       "16   526929.0   435479.0       10.9     11430.0       23.0  \n",
       "17  2516877.0  2290152.0        9.9     53360.0       77.0  \n",
       "18  3148221.0  2864624.0       10.9     68293.0       37.0  \n",
       "19   133554.0   103691.0       12.4      2998.0       53.0  \n",
       "20  3202856.0  2914337.0       11.4     70278.0       32.0  \n",
       "21   609490.0   481497.0        9.9     12920.0       54.0  \n",
       "22  3408043.0  3101040.0       10.9     75638.0       50.0  \n",
       "23  1282114.0  1123676.0       14.9     30434.0       60.0  \n",
       "24  2185421.0  1877277.0       14.9     51876.0       74.0  \n",
       "25  3642369.0  3314257.0       10.9     80839.0       66.0  \n",
       "26  2110146.0  1920060.0        8.9     43701.0       77.0  \n",
       "27  2428246.0  2085863.0       17.9     61529.0       54.0  \n",
       "28  3581663.0  3259019.0        7.9     74176.0       53.0  "
      ]
     },
     "execution_count": 23,
     "metadata": {},
     "output_type": "execute_result"
    }
   ],
   "source": [
    "df_funnel_selected_shuffled"
   ]
  },
  {
   "cell_type": "code",
   "execution_count": 24,
   "metadata": {},
   "outputs": [
    {
     "data": {
      "text/plain": [
       "0.1724137931034483"
      ]
     },
     "execution_count": 24,
     "metadata": {},
     "output_type": "execute_result"
    }
   ],
   "source": [
    "sum(df_funnel_selected_shuffled.sale_flg.values) / len(df_funnel_selected_shuffled.sale_flg.values)"
   ]
  },
  {
   "cell_type": "code",
   "execution_count": 25,
   "metadata": {},
   "outputs": [
    {
     "data": {
      "text/plain": [
       "29"
      ]
     },
     "execution_count": 25,
     "metadata": {},
     "output_type": "execute_result"
    }
   ],
   "source": [
    "len(df_funnel_selected_shuffled.sale_flg.values)"
   ]
  },
  {
   "cell_type": "markdown",
   "metadata": {},
   "source": [
    "# balance.csv"
   ]
  },
  {
   "cell_type": "code",
   "execution_count": 26,
   "metadata": {},
   "outputs": [
    {
     "data": {
      "text/html": [
       "<div>\n",
       "<style scoped>\n",
       "    .dataframe tbody tr th:only-of-type {\n",
       "        vertical-align: middle;\n",
       "    }\n",
       "\n",
       "    .dataframe tbody tr th {\n",
       "        vertical-align: top;\n",
       "    }\n",
       "\n",
       "    .dataframe thead th {\n",
       "        text-align: right;\n",
       "    }\n",
       "</style>\n",
       "<table border=\"1\" class=\"dataframe\">\n",
       "  <thead>\n",
       "    <tr style=\"text-align: right;\">\n",
       "      <th></th>\n",
       "      <th>client_id</th>\n",
       "      <th>crncy_cd</th>\n",
       "      <th>eop_bal_sum_rur</th>\n",
       "      <th>min_bal_sum_rur</th>\n",
       "      <th>max_bal_sum_rur</th>\n",
       "      <th>avg_bal_sum_rur</th>\n",
       "      <th>month_end_dt</th>\n",
       "      <th>prod_cat_name</th>\n",
       "      <th>prod_group_name</th>\n",
       "    </tr>\n",
       "  </thead>\n",
       "  <tbody>\n",
       "    <tr>\n",
       "      <th>168</th>\n",
       "      <td>-2918739578801888500</td>\n",
       "      <td>810.0</td>\n",
       "      <td>0.0</td>\n",
       "      <td>58.0</td>\n",
       "      <td>58.0</td>\n",
       "      <td>58.0</td>\n",
       "      <td>2019-01-31</td>\n",
       "      <td>CURRENT ACCOUNTS</td>\n",
       "      <td>Cash on demand</td>\n",
       "    </tr>\n",
       "    <tr>\n",
       "      <th>169</th>\n",
       "      <td>-2918739578801888500</td>\n",
       "      <td>810.0</td>\n",
       "      <td>58.0</td>\n",
       "      <td>58.0</td>\n",
       "      <td>58.0</td>\n",
       "      <td>58.0</td>\n",
       "      <td>2019-02-28</td>\n",
       "      <td>CURRENT ACCOUNTS</td>\n",
       "      <td>Cash on demand</td>\n",
       "    </tr>\n",
       "    <tr>\n",
       "      <th>170</th>\n",
       "      <td>-2918739578801888500</td>\n",
       "      <td>810.0</td>\n",
       "      <td>0.0</td>\n",
       "      <td>58.0</td>\n",
       "      <td>58.0</td>\n",
       "      <td>58.0</td>\n",
       "      <td>2019-03-31</td>\n",
       "      <td>CURRENT ACCOUNTS</td>\n",
       "      <td>Cash on demand</td>\n",
       "    </tr>\n",
       "    <tr>\n",
       "      <th>171</th>\n",
       "      <td>-2918739578801888500</td>\n",
       "      <td>810.0</td>\n",
       "      <td>0.0</td>\n",
       "      <td>58.0</td>\n",
       "      <td>58.0</td>\n",
       "      <td>58.0</td>\n",
       "      <td>2019-04-30</td>\n",
       "      <td>CURRENT ACCOUNTS</td>\n",
       "      <td>Cash on demand</td>\n",
       "    </tr>\n",
       "    <tr>\n",
       "      <th>172</th>\n",
       "      <td>-2918739578801888500</td>\n",
       "      <td>810.0</td>\n",
       "      <td>58.0</td>\n",
       "      <td>58.0</td>\n",
       "      <td>58.0</td>\n",
       "      <td>58.0</td>\n",
       "      <td>2019-05-31</td>\n",
       "      <td>CURRENT ACCOUNTS</td>\n",
       "      <td>Cash on demand</td>\n",
       "    </tr>\n",
       "  </tbody>\n",
       "</table>\n",
       "</div>"
      ],
      "text/plain": [
       "               client_id  crncy_cd  eop_bal_sum_rur  min_bal_sum_rur  \\\n",
       "168 -2918739578801888500     810.0              0.0             58.0   \n",
       "169 -2918739578801888500     810.0             58.0             58.0   \n",
       "170 -2918739578801888500     810.0              0.0             58.0   \n",
       "171 -2918739578801888500     810.0              0.0             58.0   \n",
       "172 -2918739578801888500     810.0             58.0             58.0   \n",
       "\n",
       "     max_bal_sum_rur  avg_bal_sum_rur month_end_dt     prod_cat_name  \\\n",
       "168             58.0             58.0   2019-01-31  CURRENT ACCOUNTS   \n",
       "169             58.0             58.0   2019-02-28  CURRENT ACCOUNTS   \n",
       "170             58.0             58.0   2019-03-31  CURRENT ACCOUNTS   \n",
       "171             58.0             58.0   2019-04-30  CURRENT ACCOUNTS   \n",
       "172             58.0             58.0   2019-05-31  CURRENT ACCOUNTS   \n",
       "\n",
       "    prod_group_name  \n",
       "168  Cash on demand  \n",
       "169  Cash on demand  \n",
       "170  Cash on demand  \n",
       "171  Cash on demand  \n",
       "172  Cash on demand  "
      ]
     },
     "execution_count": 26,
     "metadata": {},
     "output_type": "execute_result"
    }
   ],
   "source": [
    "df_balance.head()"
   ]
  },
  {
   "cell_type": "markdown",
   "metadata": {},
   "source": [
    "### prod_cat_name"
   ]
  },
  {
   "cell_type": "code",
   "execution_count": 27,
   "metadata": {},
   "outputs": [
    {
     "data": {
      "text/plain": [
       "KN                        369308\n",
       "CURRENT ACCOUNTS          161178\n",
       "DEPOSITS                   70599\n",
       "SALARY CARDS               38499\n",
       "DEBIT CARDS                23191\n",
       "CREDIT CARDS               15220\n",
       "MORTGAGE                    4157\n",
       "TECHNICAL CARDS             1967\n",
       "NaN                          786\n",
       "CAR LOANS                    612\n",
       "CREDITS IN CASH OR           264\n",
       "CASH CREDITS (X-SALE)        180\n",
       "Cash on demand               132\n",
       "OTHER MORTGAGE                36\n",
       "URGENT DEPOSITS BIN           24\n",
       "VIP CREDIT CARDS              12\n",
       "LENDING SALARY CLIENTS        12\n",
       "LOANS FOR EMPLOYEES           12\n",
       "PREAD MAP                     12\n",
       "Name: prod_cat_name, dtype: int64"
      ]
     },
     "execution_count": 27,
     "metadata": {},
     "output_type": "execute_result"
    }
   ],
   "source": [
    "df_balance['prod_cat_name'].value_counts(dropna=False)"
   ]
  },
  {
   "cell_type": "code",
   "execution_count": 52,
   "metadata": {},
   "outputs": [],
   "source": [
    "df_balance[\"KN_bool\"] = (df_balance[\"prod_cat_name\"] == 'KN ').astype('int64')\n",
    "df_balance_grouped = df_balance.groupby(by=\"client_id\", as_index=False, sort=False)[\"KN_bool\"]\n",
    "df_balance_grouped_mean = df_balance_grouped.mean()\n",
    "df_balance_grouped_mean = df_balance_grouped_mean.fillna(0)\n",
    "feat = df_balance_grouped_mean[\"KN_bool\"].values"
   ]
  },
  {
   "cell_type": "code",
   "execution_count": 53,
   "metadata": {},
   "outputs": [],
   "source": [
    "df_funnel_selected = df_funnel.loc[df_funnel['client_id'].isin(df_balance_grouped_mean.client_id.values)]\n",
    "df_funnel_selected_shuffled = df_funnel_selected.set_index('client_id')\n",
    "df_funnel_selected_shuffled = df_funnel_selected_shuffled.reindex(index=df_balance_grouped_mean['client_id'])\n",
    "df_funnel_selected_shuffled = df_funnel_selected_shuffled.reset_index()"
   ]
  },
  {
   "cell_type": "code",
   "execution_count": 54,
   "metadata": {},
   "outputs": [],
   "source": [
    "y_selected = df_funnel_selected['sale_flg'].values"
   ]
  },
  {
   "cell_type": "code",
   "execution_count": 55,
   "metadata": {},
   "outputs": [
    {
     "data": {
      "text/plain": [
       "array([[ 1., nan],\n",
       "       [nan, nan]])"
      ]
     },
     "execution_count": 55,
     "metadata": {},
     "output_type": "execute_result"
    }
   ],
   "source": [
    "np.corrcoef(y_selected, feat)"
   ]
  },
  {
   "cell_type": "code",
   "execution_count": 56,
   "metadata": {},
   "outputs": [
    {
     "data": {
      "text/plain": [
       "0.4013189448441247"
      ]
     },
     "execution_count": 56,
     "metadata": {},
     "output_type": "execute_result"
    }
   ],
   "source": [
    "sum(y_selected) / len(y_selected)"
   ]
  },
  {
   "cell_type": "markdown",
   "metadata": {},
   "source": [
    "### max_bal_sum_rur"
   ]
  },
  {
   "cell_type": "code",
   "execution_count": 57,
   "metadata": {},
   "outputs": [],
   "source": [
    "df_balance_grouped = df_balance.groupby(by=\"client_id\", as_index=False, sort=False)[\"max_bal_sum_rur\"]\n",
    "df_balance_grouped_mean = df_balance_grouped.mean()\n",
    "df_balance_grouped_mean = df_balance_grouped_mean.fillna(0)\n",
    "feat = df_balance_grouped_mean[\"max_bal_sum_rur\"].values"
   ]
  },
  {
   "cell_type": "code",
   "execution_count": 58,
   "metadata": {},
   "outputs": [],
   "source": [
    "df_funnel_selected = df_funnel.loc[df_funnel['client_id'].isin(df_balance_grouped_mean.client_id.values)]\n",
    "df_funnel_selected_shuffled = df_funnel_selected.set_index('client_id')\n",
    "df_funnel_selected_shuffled = df_funnel_selected_shuffled.reindex(index=df_balance_grouped_mean['client_id'])\n",
    "df_funnel_selected_shuffled = df_funnel_selected_shuffled.reset_index()"
   ]
  },
  {
   "cell_type": "code",
   "execution_count": 59,
   "metadata": {},
   "outputs": [
    {
     "data": {
      "image/png": "[encoded data removed]",
      "text/plain": [
       "<Figure size 432x288 with 1 Axes>"
      ]
     },
     "metadata": {
      "needs_background": "light"
     },
     "output_type": "display_data"
    }
   ],
   "source": [
    "plt.hist(df_balance_grouped_mean.max_bal_sum_rur, bins=50, range=(-100,100))\n",
    "plt.show()"
   ]
  },
  {
   "cell_type": "code",
   "execution_count": 60,
   "metadata": {},
   "outputs": [
    {
     "data": {
      "text/plain": [
       "array([[ 1.        , -0.00441135],\n",
       "       [-0.00441135,  1.        ]])"
      ]
     },
     "execution_count": 60,
     "metadata": {},
     "output_type": "execute_result"
    }
   ],
   "source": [
    "y_selected = df_funnel_selected['sale_flg'].values\n",
    "np.corrcoef(y_selected, feat)"
   ]
  },
  {
   "cell_type": "code",
   "execution_count": 61,
   "metadata": {},
   "outputs": [
    {
     "data": {
      "text/html": [
       "<div>\n",
       "<style scoped>\n",
       "    .dataframe tbody tr th:only-of-type {\n",
       "        vertical-align: middle;\n",
       "    }\n",
       "\n",
       "    .dataframe tbody tr th {\n",
       "        vertical-align: top;\n",
       "    }\n",
       "\n",
       "    .dataframe thead th {\n",
       "        text-align: right;\n",
       "    }\n",
       "</style>\n",
       "<table border=\"1\" class=\"dataframe\">\n",
       "  <thead>\n",
       "    <tr style=\"text-align: right;\">\n",
       "      <th></th>\n",
       "      <th>client_id</th>\n",
       "      <th>max_bal_sum_rur</th>\n",
       "    </tr>\n",
       "  </thead>\n",
       "  <tbody>\n",
       "    <tr>\n",
       "      <th>0</th>\n",
       "      <td>-2918739578801888500</td>\n",
       "      <td>-821.791667</td>\n",
       "    </tr>\n",
       "    <tr>\n",
       "      <th>1</th>\n",
       "      <td>-4569470415387261653</td>\n",
       "      <td>0.000000</td>\n",
       "    </tr>\n",
       "    <tr>\n",
       "      <th>2</th>\n",
       "      <td>497866795935220651</td>\n",
       "      <td>-60.880000</td>\n",
       "    </tr>\n",
       "    <tr>\n",
       "      <th>3</th>\n",
       "      <td>-3506296450266498598</td>\n",
       "      <td>44.040000</td>\n",
       "    </tr>\n",
       "    <tr>\n",
       "      <th>4</th>\n",
       "      <td>377141127543547866</td>\n",
       "      <td>5.989583</td>\n",
       "    </tr>\n",
       "    <tr>\n",
       "      <th>5</th>\n",
       "      <td>-5924052245502407994</td>\n",
       "      <td>-29.185185</td>\n",
       "    </tr>\n",
       "    <tr>\n",
       "      <th>6</th>\n",
       "      <td>-6290602817115676905</td>\n",
       "      <td>-23.785124</td>\n",
       "    </tr>\n",
       "    <tr>\n",
       "      <th>7</th>\n",
       "      <td>-1490294173029062751</td>\n",
       "      <td>0.000000</td>\n",
       "    </tr>\n",
       "    <tr>\n",
       "      <th>8</th>\n",
       "      <td>2897849887287086776</td>\n",
       "      <td>26.035144</td>\n",
       "    </tr>\n",
       "    <tr>\n",
       "      <th>9</th>\n",
       "      <td>-4976026508164850392</td>\n",
       "      <td>-36.055556</td>\n",
       "    </tr>\n",
       "    <tr>\n",
       "      <th>10</th>\n",
       "      <td>-8924943255777980502</td>\n",
       "      <td>0.000000</td>\n",
       "    </tr>\n",
       "    <tr>\n",
       "      <th>11</th>\n",
       "      <td>1385805512840068341</td>\n",
       "      <td>-48.393939</td>\n",
       "    </tr>\n",
       "    <tr>\n",
       "      <th>12</th>\n",
       "      <td>3950681773355317963</td>\n",
       "      <td>74.195122</td>\n",
       "    </tr>\n",
       "    <tr>\n",
       "      <th>13</th>\n",
       "      <td>625848590982096381</td>\n",
       "      <td>-18.500000</td>\n",
       "    </tr>\n",
       "    <tr>\n",
       "      <th>14</th>\n",
       "      <td>5357850912465967720</td>\n",
       "      <td>0.000000</td>\n",
       "    </tr>\n",
       "    <tr>\n",
       "      <th>15</th>\n",
       "      <td>-1833871080683731911</td>\n",
       "      <td>5.344907</td>\n",
       "    </tr>\n",
       "    <tr>\n",
       "      <th>16</th>\n",
       "      <td>8391302318502103056</td>\n",
       "      <td>-190.680851</td>\n",
       "    </tr>\n",
       "    <tr>\n",
       "      <th>17</th>\n",
       "      <td>7204827006754532528</td>\n",
       "      <td>-93.327778</td>\n",
       "    </tr>\n",
       "    <tr>\n",
       "      <th>18</th>\n",
       "      <td>-3513927318215058789</td>\n",
       "      <td>-91.545455</td>\n",
       "    </tr>\n",
       "    <tr>\n",
       "      <th>19</th>\n",
       "      <td>-6700084446760539639</td>\n",
       "      <td>0.520833</td>\n",
       "    </tr>\n",
       "  </tbody>\n",
       "</table>\n",
       "</div>"
      ],
      "text/plain": [
       "              client_id  max_bal_sum_rur\n",
       "0  -2918739578801888500      -821.791667\n",
       "1  -4569470415387261653         0.000000\n",
       "2    497866795935220651       -60.880000\n",
       "3  -3506296450266498598        44.040000\n",
       "4    377141127543547866         5.989583\n",
       "5  -5924052245502407994       -29.185185\n",
       "6  -6290602817115676905       -23.785124\n",
       "7  -1490294173029062751         0.000000\n",
       "8   2897849887287086776        26.035144\n",
       "9  -4976026508164850392       -36.055556\n",
       "10 -8924943255777980502         0.000000\n",
       "11  1385805512840068341       -48.393939\n",
       "12  3950681773355317963        74.195122\n",
       "13   625848590982096381       -18.500000\n",
       "14  5357850912465967720         0.000000\n",
       "15 -1833871080683731911         5.344907\n",
       "16  8391302318502103056      -190.680851\n",
       "17  7204827006754532528       -93.327778\n",
       "18 -3513927318215058789       -91.545455\n",
       "19 -6700084446760539639         0.520833"
      ]
     },
     "execution_count": 61,
     "metadata": {},
     "output_type": "execute_result"
    }
   ],
   "source": [
    "df_balance_grouped_mean.head(20)"
   ]
  },
  {
   "cell_type": "code",
   "execution_count": 62,
   "metadata": {
    "scrolled": false
   },
   "outputs": [],
   "source": [
    "df_b_selected = df_balance_grouped_mean.loc[df_balance_grouped_mean[\"max_bal_sum_rur\"] == 0]\n",
    "df_funnel_selected_shuffled = df_funnel_selected.set_index('client_id')\n",
    "df_funnel_selected_shuffled = df_funnel_selected_shuffled.reindex(index=df_b_selected['client_id'])\n",
    "df_funnel_selected_shuffled = df_funnel_selected_shuffled.reset_index()"
   ]
  },
  {
   "cell_type": "code",
   "execution_count": 63,
   "metadata": {},
   "outputs": [
    {
     "data": {
      "text/plain": [
       "0.21714687280393535"
      ]
     },
     "execution_count": 63,
     "metadata": {},
     "output_type": "execute_result"
    }
   ],
   "source": [
    "sum(df_funnel_selected_shuffled.sale_flg.values) / len(df_funnel_selected_shuffled.sale_flg.values)"
   ]
  },
  {
   "cell_type": "code",
   "execution_count": 64,
   "metadata": {},
   "outputs": [
    {
     "data": {
      "text/plain": [
       "1423"
      ]
     },
     "execution_count": 64,
     "metadata": {},
     "output_type": "execute_result"
    }
   ],
   "source": [
    "len(df_funnel_selected_shuffled.sale_flg.values)"
   ]
  },
  {
   "cell_type": "code",
   "execution_count": 65,
   "metadata": {},
   "outputs": [
    {
     "data": {
      "text/html": [
       "<div>\n",
       "<style scoped>\n",
       "    .dataframe tbody tr th:only-of-type {\n",
       "        vertical-align: middle;\n",
       "    }\n",
       "\n",
       "    .dataframe tbody tr th {\n",
       "        vertical-align: top;\n",
       "    }\n",
       "\n",
       "    .dataframe thead th {\n",
       "        text-align: right;\n",
       "    }\n",
       "</style>\n",
       "<table border=\"1\" class=\"dataframe\">\n",
       "  <thead>\n",
       "    <tr style=\"text-align: right;\">\n",
       "      <th></th>\n",
       "      <th>client_id</th>\n",
       "      <th>sale_flg</th>\n",
       "      <th>sale_amount</th>\n",
       "      <th>contacts</th>\n",
       "      <th>feature_1</th>\n",
       "      <th>client_segment</th>\n",
       "      <th>feature_2</th>\n",
       "      <th>feature_3</th>\n",
       "      <th>feature_4</th>\n",
       "      <th>feature_5</th>\n",
       "      <th>feature_6</th>\n",
       "      <th>feature_7</th>\n",
       "      <th>feature_8</th>\n",
       "      <th>feature_9</th>\n",
       "      <th>feature_10</th>\n",
       "      <th>region_cd</th>\n",
       "    </tr>\n",
       "  </thead>\n",
       "  <tbody>\n",
       "    <tr>\n",
       "      <th>0</th>\n",
       "      <td>-4569470415387261653</td>\n",
       "      <td>0</td>\n",
       "      <td>NaN</td>\n",
       "      <td>2</td>\n",
       "      <td>1</td>\n",
       "      <td>8.0</td>\n",
       "      <td>1000940.0</td>\n",
       "      <td>15992.0</td>\n",
       "      <td>11534.0</td>\n",
       "      <td>0.0</td>\n",
       "      <td>83000.0</td>\n",
       "      <td>736973.0</td>\n",
       "      <td>624553.0</td>\n",
       "      <td>10.9</td>\n",
       "      <td>15987.0</td>\n",
       "      <td>56.0</td>\n",
       "    </tr>\n",
       "    <tr>\n",
       "      <th>1</th>\n",
       "      <td>-1490294173029062751</td>\n",
       "      <td>0</td>\n",
       "      <td>NaN</td>\n",
       "      <td>1</td>\n",
       "      <td>9</td>\n",
       "      <td>13.0</td>\n",
       "      <td>1821184.0</td>\n",
       "      <td>20318.0</td>\n",
       "      <td>18175.0</td>\n",
       "      <td>0.0</td>\n",
       "      <td>49740.0</td>\n",
       "      <td>547569.0</td>\n",
       "      <td>486296.0</td>\n",
       "      <td>19.9</td>\n",
       "      <td>20322.0</td>\n",
       "      <td>60.0</td>\n",
       "    </tr>\n",
       "    <tr>\n",
       "      <th>2</th>\n",
       "      <td>-8924943255777980502</td>\n",
       "      <td>0</td>\n",
       "      <td>NaN</td>\n",
       "      <td>1</td>\n",
       "      <td>7</td>\n",
       "      <td>14.0</td>\n",
       "      <td>277082.0</td>\n",
       "      <td>1713.0</td>\n",
       "      <td>0.0</td>\n",
       "      <td>0.0</td>\n",
       "      <td>0.0</td>\n",
       "      <td>78918.0</td>\n",
       "      <td>61272.0</td>\n",
       "      <td>10.9</td>\n",
       "      <td>1712.0</td>\n",
       "      <td>86.0</td>\n",
       "    </tr>\n",
       "    <tr>\n",
       "      <th>3</th>\n",
       "      <td>5357850912465967720</td>\n",
       "      <td>1</td>\n",
       "      <td>182118.45</td>\n",
       "      <td>2</td>\n",
       "      <td>2</td>\n",
       "      <td>4.0</td>\n",
       "      <td>3642369.0</td>\n",
       "      <td>249648.0</td>\n",
       "      <td>102362.0</td>\n",
       "      <td>0.0</td>\n",
       "      <td>388983.0</td>\n",
       "      <td>3642369.0</td>\n",
       "      <td>3314257.0</td>\n",
       "      <td>7.9</td>\n",
       "      <td>79012.0</td>\n",
       "      <td>47.0</td>\n",
       "    </tr>\n",
       "    <tr>\n",
       "      <th>4</th>\n",
       "      <td>-6701142133563872894</td>\n",
       "      <td>0</td>\n",
       "      <td>NaN</td>\n",
       "      <td>1</td>\n",
       "      <td>8</td>\n",
       "      <td>12.0</td>\n",
       "      <td>2428246.0</td>\n",
       "      <td>10193.0</td>\n",
       "      <td>8438.0</td>\n",
       "      <td>0.0</td>\n",
       "      <td>25082.0</td>\n",
       "      <td>420087.0</td>\n",
       "      <td>332128.0</td>\n",
       "      <td>15.9</td>\n",
       "      <td>10193.0</td>\n",
       "      <td>50.0</td>\n",
       "    </tr>\n",
       "    <tr>\n",
       "      <th>...</th>\n",
       "      <td>...</td>\n",
       "      <td>...</td>\n",
       "      <td>...</td>\n",
       "      <td>...</td>\n",
       "      <td>...</td>\n",
       "      <td>...</td>\n",
       "      <td>...</td>\n",
       "      <td>...</td>\n",
       "      <td>...</td>\n",
       "      <td>...</td>\n",
       "      <td>...</td>\n",
       "      <td>...</td>\n",
       "      <td>...</td>\n",
       "      <td>...</td>\n",
       "      <td>...</td>\n",
       "      <td>...</td>\n",
       "    </tr>\n",
       "    <tr>\n",
       "      <th>1418</th>\n",
       "      <td>5445260659657012350</td>\n",
       "      <td>0</td>\n",
       "      <td>NaN</td>\n",
       "      <td>1</td>\n",
       "      <td>2</td>\n",
       "      <td>14.0</td>\n",
       "      <td>3642369.0</td>\n",
       "      <td>36424.0</td>\n",
       "      <td>42257.0</td>\n",
       "      <td>0.0</td>\n",
       "      <td>88092.0</td>\n",
       "      <td>1759264.0</td>\n",
       "      <td>1541862.0</td>\n",
       "      <td>8.9</td>\n",
       "      <td>36434.0</td>\n",
       "      <td>77.0</td>\n",
       "    </tr>\n",
       "    <tr>\n",
       "      <th>1419</th>\n",
       "      <td>-4437111923561786192</td>\n",
       "      <td>0</td>\n",
       "      <td>NaN</td>\n",
       "      <td>1</td>\n",
       "      <td>9</td>\n",
       "      <td>14.0</td>\n",
       "      <td>1821184.0</td>\n",
       "      <td>26669.0</td>\n",
       "      <td>23885.0</td>\n",
       "      <td>0.0</td>\n",
       "      <td>47958.0</td>\n",
       "      <td>1008936.0</td>\n",
       "      <td>855030.0</td>\n",
       "      <td>19.9</td>\n",
       "      <td>26675.0</td>\n",
       "      <td>64.0</td>\n",
       "    </tr>\n",
       "    <tr>\n",
       "      <th>1420</th>\n",
       "      <td>3012385405779319223</td>\n",
       "      <td>0</td>\n",
       "      <td>NaN</td>\n",
       "      <td>1</td>\n",
       "      <td>8</td>\n",
       "      <td>4.0</td>\n",
       "      <td>785377.0</td>\n",
       "      <td>20943.0</td>\n",
       "      <td>0.0</td>\n",
       "      <td>0.0</td>\n",
       "      <td>7039.0</td>\n",
       "      <td>785538.0</td>\n",
       "      <td>665710.0</td>\n",
       "      <td>17.9</td>\n",
       "      <td>19905.0</td>\n",
       "      <td>78.0</td>\n",
       "    </tr>\n",
       "    <tr>\n",
       "      <th>1421</th>\n",
       "      <td>2675264984639167644</td>\n",
       "      <td>0</td>\n",
       "      <td>NaN</td>\n",
       "      <td>1</td>\n",
       "      <td>5</td>\n",
       "      <td>5.0</td>\n",
       "      <td>3642369.0</td>\n",
       "      <td>158634.0</td>\n",
       "      <td>123990.0</td>\n",
       "      <td>0.0</td>\n",
       "      <td>339998.0</td>\n",
       "      <td>3642369.0</td>\n",
       "      <td>2128202.0</td>\n",
       "      <td>9.4</td>\n",
       "      <td>76319.0</td>\n",
       "      <td>78.0</td>\n",
       "    </tr>\n",
       "    <tr>\n",
       "      <th>1422</th>\n",
       "      <td>8136525518067858767</td>\n",
       "      <td>0</td>\n",
       "      <td>NaN</td>\n",
       "      <td>2</td>\n",
       "      <td>7</td>\n",
       "      <td>15.0</td>\n",
       "      <td>3642369.0</td>\n",
       "      <td>50719.0</td>\n",
       "      <td>42328.0</td>\n",
       "      <td>0.0</td>\n",
       "      <td>182253.0</td>\n",
       "      <td>2448886.0</td>\n",
       "      <td>2228286.0</td>\n",
       "      <td>8.9</td>\n",
       "      <td>50727.0</td>\n",
       "      <td>66.0</td>\n",
       "    </tr>\n",
       "  </tbody>\n",
       "</table>\n",
       "<p>1423 rows × 16 columns</p>\n",
       "</div>"
      ],
      "text/plain": [
       "                client_id  sale_flg  sale_amount  contacts  feature_1  \\\n",
       "0    -4569470415387261653         0          NaN         2          1   \n",
       "1    -1490294173029062751         0          NaN         1          9   \n",
       "2    -8924943255777980502         0          NaN         1          7   \n",
       "3     5357850912465967720         1    182118.45         2          2   \n",
       "4    -6701142133563872894         0          NaN         1          8   \n",
       "...                   ...       ...          ...       ...        ...   \n",
       "1418  5445260659657012350         0          NaN         1          2   \n",
       "1419 -4437111923561786192         0          NaN         1          9   \n",
       "1420  3012385405779319223         0          NaN         1          8   \n",
       "1421  2675264984639167644         0          NaN         1          5   \n",
       "1422  8136525518067858767         0          NaN         2          7   \n",
       "\n",
       "      client_segment  feature_2  feature_3  feature_4  feature_5  feature_6  \\\n",
       "0                8.0  1000940.0    15992.0    11534.0        0.0    83000.0   \n",
       "1               13.0  1821184.0    20318.0    18175.0        0.0    49740.0   \n",
       "2               14.0   277082.0     1713.0        0.0        0.0        0.0   \n",
       "3                4.0  3642369.0   249648.0   102362.0        0.0   388983.0   \n",
       "4               12.0  2428246.0    10193.0     8438.0        0.0    25082.0   \n",
       "...              ...        ...        ...        ...        ...        ...   \n",
       "1418            14.0  3642369.0    36424.0    42257.0        0.0    88092.0   \n",
       "1419            14.0  1821184.0    26669.0    23885.0        0.0    47958.0   \n",
       "1420             4.0   785377.0    20943.0        0.0        0.0     7039.0   \n",
       "1421             5.0  3642369.0   158634.0   123990.0        0.0   339998.0   \n",
       "1422            15.0  3642369.0    50719.0    42328.0        0.0   182253.0   \n",
       "\n",
       "      feature_7  feature_8  feature_9  feature_10  region_cd  \n",
       "0      736973.0   624553.0       10.9     15987.0       56.0  \n",
       "1      547569.0   486296.0       19.9     20322.0       60.0  \n",
       "2       78918.0    61272.0       10.9      1712.0       86.0  \n",
       "3     3642369.0  3314257.0        7.9     79012.0       47.0  \n",
       "4      420087.0   332128.0       15.9     10193.0       50.0  \n",
       "...         ...        ...        ...         ...        ...  \n",
       "1418  1759264.0  1541862.0        8.9     36434.0       77.0  \n",
       "1419  1008936.0   855030.0       19.9     26675.0       64.0  \n",
       "1420   785538.0   665710.0       17.9     19905.0       78.0  \n",
       "1421  3642369.0  2128202.0        9.4     76319.0       78.0  \n",
       "1422  2448886.0  2228286.0        8.9     50727.0       66.0  \n",
       "\n",
       "[1423 rows x 16 columns]"
      ]
     },
     "execution_count": 65,
     "metadata": {},
     "output_type": "execute_result"
    }
   ],
   "source": [
    "df_funnel_selected_shuffled"
   ]
  },
  {
   "cell_type": "code",
   "execution_count": 51,
   "metadata": {},
   "outputs": [],
   "source": [
    "df_funnel_selected_shuffled = df_funnel_selected_shuffled.fillna(0)\n",
    "df_funnel_selected_shuffled[\"nic\"] = df_funnel_selected_shuffled[\"sale_flg\"] * df_funnel_selected_shuffled[\"sale_amount\"] - df_funnel_selected_shuffled[\"contacts\"] * 4000"
   ]
  },
  {
   "cell_type": "code",
   "execution_count": 52,
   "metadata": {},
   "outputs": [
    {
     "name": "stdout",
     "output_type": "stream",
     "text": [
      "11925598.550000003\n"
     ]
    }
   ],
   "source": [
    "df_funnel_selected_shuffled = df_funnel_selected_shuffled.fillna(0)\n",
    "df_funnel_selected_shuffled[\"nic\"] = 1 * df_funnel_selected_shuffled[\"sale_amount\"] - df_funnel_selected_shuffled[\"contacts\"] * 4000\n",
    "print(sum(df_funnel_selected_shuffled.query(\"sale_flg == 1\").nic.values))"
   ]
  },
  {
   "cell_type": "code",
   "execution_count": 53,
   "metadata": {},
   "outputs": [
    {
     "name": "stdout",
     "output_type": "stream",
     "text": [
      "6509598.549999999\n"
     ]
    }
   ],
   "source": [
    "df_funnel_selected_shuffled = df_funnel_selected_shuffled.fillna(0)\n",
    "df_funnel_selected_shuffled[\"nic\"] = 1 * df_funnel_selected_shuffled[\"sale_amount\"] - df_funnel_selected_shuffled[\"contacts\"] * 4000\n",
    "print(sum(df_funnel_selected_shuffled.nic.values))"
   ]
  },
  {
   "cell_type": "code",
   "execution_count": 54,
   "metadata": {},
   "outputs": [
    {
     "data": {
      "text/html": [
       "<div>\n",
       "<style scoped>\n",
       "    .dataframe tbody tr th:only-of-type {\n",
       "        vertical-align: middle;\n",
       "    }\n",
       "\n",
       "    .dataframe tbody tr th {\n",
       "        vertical-align: top;\n",
       "    }\n",
       "\n",
       "    .dataframe thead th {\n",
       "        text-align: right;\n",
       "    }\n",
       "</style>\n",
       "<table border=\"1\" class=\"dataframe\">\n",
       "  <thead>\n",
       "    <tr style=\"text-align: right;\">\n",
       "      <th></th>\n",
       "      <th>client_id</th>\n",
       "      <th>sale_flg</th>\n",
       "      <th>sale_amount</th>\n",
       "      <th>contacts</th>\n",
       "      <th>feature_1</th>\n",
       "      <th>client_segment</th>\n",
       "      <th>feature_2</th>\n",
       "      <th>feature_3</th>\n",
       "      <th>feature_4</th>\n",
       "      <th>feature_5</th>\n",
       "      <th>feature_6</th>\n",
       "      <th>feature_7</th>\n",
       "      <th>feature_8</th>\n",
       "      <th>feature_9</th>\n",
       "      <th>feature_10</th>\n",
       "      <th>region_cd</th>\n",
       "      <th>nic</th>\n",
       "    </tr>\n",
       "  </thead>\n",
       "  <tbody>\n",
       "    <tr>\n",
       "      <th>0</th>\n",
       "      <td>-4569470415387261653</td>\n",
       "      <td>0</td>\n",
       "      <td>0.00</td>\n",
       "      <td>2</td>\n",
       "      <td>1</td>\n",
       "      <td>8.0</td>\n",
       "      <td>1000940.0</td>\n",
       "      <td>15992.0</td>\n",
       "      <td>11534.0</td>\n",
       "      <td>0.0</td>\n",
       "      <td>83000.0</td>\n",
       "      <td>736973.0</td>\n",
       "      <td>624553.0</td>\n",
       "      <td>10.9</td>\n",
       "      <td>15987.0</td>\n",
       "      <td>56.0</td>\n",
       "      <td>-8000.00</td>\n",
       "    </tr>\n",
       "    <tr>\n",
       "      <th>1</th>\n",
       "      <td>-1490294173029062751</td>\n",
       "      <td>0</td>\n",
       "      <td>0.00</td>\n",
       "      <td>1</td>\n",
       "      <td>9</td>\n",
       "      <td>13.0</td>\n",
       "      <td>1821184.0</td>\n",
       "      <td>20318.0</td>\n",
       "      <td>18175.0</td>\n",
       "      <td>0.0</td>\n",
       "      <td>49740.0</td>\n",
       "      <td>547569.0</td>\n",
       "      <td>486296.0</td>\n",
       "      <td>19.9</td>\n",
       "      <td>20322.0</td>\n",
       "      <td>60.0</td>\n",
       "      <td>-4000.00</td>\n",
       "    </tr>\n",
       "    <tr>\n",
       "      <th>2</th>\n",
       "      <td>-8924943255777980502</td>\n",
       "      <td>0</td>\n",
       "      <td>0.00</td>\n",
       "      <td>1</td>\n",
       "      <td>7</td>\n",
       "      <td>14.0</td>\n",
       "      <td>277082.0</td>\n",
       "      <td>1713.0</td>\n",
       "      <td>0.0</td>\n",
       "      <td>0.0</td>\n",
       "      <td>0.0</td>\n",
       "      <td>78918.0</td>\n",
       "      <td>61272.0</td>\n",
       "      <td>10.9</td>\n",
       "      <td>1712.0</td>\n",
       "      <td>86.0</td>\n",
       "      <td>-4000.00</td>\n",
       "    </tr>\n",
       "    <tr>\n",
       "      <th>3</th>\n",
       "      <td>5357850912465967720</td>\n",
       "      <td>1</td>\n",
       "      <td>182118.45</td>\n",
       "      <td>2</td>\n",
       "      <td>2</td>\n",
       "      <td>4.0</td>\n",
       "      <td>3642369.0</td>\n",
       "      <td>249648.0</td>\n",
       "      <td>102362.0</td>\n",
       "      <td>0.0</td>\n",
       "      <td>388983.0</td>\n",
       "      <td>3642369.0</td>\n",
       "      <td>3314257.0</td>\n",
       "      <td>7.9</td>\n",
       "      <td>79012.0</td>\n",
       "      <td>47.0</td>\n",
       "      <td>174118.45</td>\n",
       "    </tr>\n",
       "    <tr>\n",
       "      <th>4</th>\n",
       "      <td>-6701142133563872894</td>\n",
       "      <td>0</td>\n",
       "      <td>0.00</td>\n",
       "      <td>1</td>\n",
       "      <td>8</td>\n",
       "      <td>12.0</td>\n",
       "      <td>2428246.0</td>\n",
       "      <td>10193.0</td>\n",
       "      <td>8438.0</td>\n",
       "      <td>0.0</td>\n",
       "      <td>25082.0</td>\n",
       "      <td>420087.0</td>\n",
       "      <td>332128.0</td>\n",
       "      <td>15.9</td>\n",
       "      <td>10193.0</td>\n",
       "      <td>50.0</td>\n",
       "      <td>-4000.00</td>\n",
       "    </tr>\n",
       "    <tr>\n",
       "      <th>...</th>\n",
       "      <td>...</td>\n",
       "      <td>...</td>\n",
       "      <td>...</td>\n",
       "      <td>...</td>\n",
       "      <td>...</td>\n",
       "      <td>...</td>\n",
       "      <td>...</td>\n",
       "      <td>...</td>\n",
       "      <td>...</td>\n",
       "      <td>...</td>\n",
       "      <td>...</td>\n",
       "      <td>...</td>\n",
       "      <td>...</td>\n",
       "      <td>...</td>\n",
       "      <td>...</td>\n",
       "      <td>...</td>\n",
       "      <td>...</td>\n",
       "    </tr>\n",
       "    <tr>\n",
       "      <th>1418</th>\n",
       "      <td>5445260659657012350</td>\n",
       "      <td>0</td>\n",
       "      <td>0.00</td>\n",
       "      <td>1</td>\n",
       "      <td>2</td>\n",
       "      <td>14.0</td>\n",
       "      <td>3642369.0</td>\n",
       "      <td>36424.0</td>\n",
       "      <td>42257.0</td>\n",
       "      <td>0.0</td>\n",
       "      <td>88092.0</td>\n",
       "      <td>1759264.0</td>\n",
       "      <td>1541862.0</td>\n",
       "      <td>8.9</td>\n",
       "      <td>36434.0</td>\n",
       "      <td>77.0</td>\n",
       "      <td>-4000.00</td>\n",
       "    </tr>\n",
       "    <tr>\n",
       "      <th>1419</th>\n",
       "      <td>-4437111923561786192</td>\n",
       "      <td>0</td>\n",
       "      <td>0.00</td>\n",
       "      <td>1</td>\n",
       "      <td>9</td>\n",
       "      <td>14.0</td>\n",
       "      <td>1821184.0</td>\n",
       "      <td>26669.0</td>\n",
       "      <td>23885.0</td>\n",
       "      <td>0.0</td>\n",
       "      <td>47958.0</td>\n",
       "      <td>1008936.0</td>\n",
       "      <td>855030.0</td>\n",
       "      <td>19.9</td>\n",
       "      <td>26675.0</td>\n",
       "      <td>64.0</td>\n",
       "      <td>-4000.00</td>\n",
       "    </tr>\n",
       "    <tr>\n",
       "      <th>1420</th>\n",
       "      <td>3012385405779319223</td>\n",
       "      <td>0</td>\n",
       "      <td>0.00</td>\n",
       "      <td>1</td>\n",
       "      <td>8</td>\n",
       "      <td>4.0</td>\n",
       "      <td>785377.0</td>\n",
       "      <td>20943.0</td>\n",
       "      <td>0.0</td>\n",
       "      <td>0.0</td>\n",
       "      <td>7039.0</td>\n",
       "      <td>785538.0</td>\n",
       "      <td>665710.0</td>\n",
       "      <td>17.9</td>\n",
       "      <td>19905.0</td>\n",
       "      <td>78.0</td>\n",
       "      <td>-4000.00</td>\n",
       "    </tr>\n",
       "    <tr>\n",
       "      <th>1421</th>\n",
       "      <td>2675264984639167644</td>\n",
       "      <td>0</td>\n",
       "      <td>0.00</td>\n",
       "      <td>1</td>\n",
       "      <td>5</td>\n",
       "      <td>5.0</td>\n",
       "      <td>3642369.0</td>\n",
       "      <td>158634.0</td>\n",
       "      <td>123990.0</td>\n",
       "      <td>0.0</td>\n",
       "      <td>339998.0</td>\n",
       "      <td>3642369.0</td>\n",
       "      <td>2128202.0</td>\n",
       "      <td>9.4</td>\n",
       "      <td>76319.0</td>\n",
       "      <td>78.0</td>\n",
       "      <td>-4000.00</td>\n",
       "    </tr>\n",
       "    <tr>\n",
       "      <th>1422</th>\n",
       "      <td>8136525518067858767</td>\n",
       "      <td>0</td>\n",
       "      <td>0.00</td>\n",
       "      <td>2</td>\n",
       "      <td>7</td>\n",
       "      <td>15.0</td>\n",
       "      <td>3642369.0</td>\n",
       "      <td>50719.0</td>\n",
       "      <td>42328.0</td>\n",
       "      <td>0.0</td>\n",
       "      <td>182253.0</td>\n",
       "      <td>2448886.0</td>\n",
       "      <td>2228286.0</td>\n",
       "      <td>8.9</td>\n",
       "      <td>50727.0</td>\n",
       "      <td>66.0</td>\n",
       "      <td>-8000.00</td>\n",
       "    </tr>\n",
       "  </tbody>\n",
       "</table>\n",
       "<p>1423 rows × 17 columns</p>\n",
       "</div>"
      ],
      "text/plain": [
       "                client_id  sale_flg  sale_amount  contacts  feature_1  \\\n",
       "0    -4569470415387261653         0         0.00         2          1   \n",
       "1    -1490294173029062751         0         0.00         1          9   \n",
       "2    -8924943255777980502         0         0.00         1          7   \n",
       "3     5357850912465967720         1    182118.45         2          2   \n",
       "4    -6701142133563872894         0         0.00         1          8   \n",
       "...                   ...       ...          ...       ...        ...   \n",
       "1418  5445260659657012350         0         0.00         1          2   \n",
       "1419 -4437111923561786192         0         0.00         1          9   \n",
       "1420  3012385405779319223         0         0.00         1          8   \n",
       "1421  2675264984639167644         0         0.00         1          5   \n",
       "1422  8136525518067858767         0         0.00         2          7   \n",
       "\n",
       "      client_segment  feature_2  feature_3  feature_4  feature_5  feature_6  \\\n",
       "0                8.0  1000940.0    15992.0    11534.0        0.0    83000.0   \n",
       "1               13.0  1821184.0    20318.0    18175.0        0.0    49740.0   \n",
       "2               14.0   277082.0     1713.0        0.0        0.0        0.0   \n",
       "3                4.0  3642369.0   249648.0   102362.0        0.0   388983.0   \n",
       "4               12.0  2428246.0    10193.0     8438.0        0.0    25082.0   \n",
       "...              ...        ...        ...        ...        ...        ...   \n",
       "1418            14.0  3642369.0    36424.0    42257.0        0.0    88092.0   \n",
       "1419            14.0  1821184.0    26669.0    23885.0        0.0    47958.0   \n",
       "1420             4.0   785377.0    20943.0        0.0        0.0     7039.0   \n",
       "1421             5.0  3642369.0   158634.0   123990.0        0.0   339998.0   \n",
       "1422            15.0  3642369.0    50719.0    42328.0        0.0   182253.0   \n",
       "\n",
       "      feature_7  feature_8  feature_9  feature_10  region_cd        nic  \n",
       "0      736973.0   624553.0       10.9     15987.0       56.0   -8000.00  \n",
       "1      547569.0   486296.0       19.9     20322.0       60.0   -4000.00  \n",
       "2       78918.0    61272.0       10.9      1712.0       86.0   -4000.00  \n",
       "3     3642369.0  3314257.0        7.9     79012.0       47.0  174118.45  \n",
       "4      420087.0   332128.0       15.9     10193.0       50.0   -4000.00  \n",
       "...         ...        ...        ...         ...        ...        ...  \n",
       "1418  1759264.0  1541862.0        8.9     36434.0       77.0   -4000.00  \n",
       "1419  1008936.0   855030.0       19.9     26675.0       64.0   -4000.00  \n",
       "1420   785538.0   665710.0       17.9     19905.0       78.0   -4000.00  \n",
       "1421  3642369.0  2128202.0        9.4     76319.0       78.0   -4000.00  \n",
       "1422  2448886.0  2228286.0        8.9     50727.0       66.0   -8000.00  \n",
       "\n",
       "[1423 rows x 17 columns]"
      ]
     },
     "execution_count": 54,
     "metadata": {},
     "output_type": "execute_result"
    }
   ],
   "source": [
    "df_funnel_selected_shuffled"
   ]
  },
  {
   "cell_type": "markdown",
   "metadata": {},
   "source": [
    "### crncy_cd"
   ]
  },
  {
   "cell_type": "code",
   "execution_count": 55,
   "metadata": {},
   "outputs": [
    {
     "data": {
      "text/plain": [
       "810.0    666241\n",
       "840.0     11882\n",
       "978.0      7005\n",
       "500.0       360\n",
       "826.0       295\n",
       "NaN         288\n",
       "98.0         33\n",
       "33.0         24\n",
       "99.0         20\n",
       "76.0         17\n",
       "756.0        12\n",
       "392.0        12\n",
       "156.0        12\n",
       "Name: crncy_cd, dtype: int64"
      ]
     },
     "execution_count": 55,
     "metadata": {},
     "output_type": "execute_result"
    }
   ],
   "source": [
    "df_balance['crncy_cd'].value_counts(dropna=False)"
   ]
  },
  {
   "cell_type": "code",
   "execution_count": 56,
   "metadata": {},
   "outputs": [],
   "source": [
    "df_balance_grouped = df_balance.groupby(by=\"client_id\", as_index=False, sort=False)[\"crncy_cd\"]\n",
    "df_balance_grouped_mean = df_balance_grouped.mean()\n",
    "df_balance_grouped_mean = df_balance_grouped_mean.fillna(0)\n",
    "feat = df_balance_grouped_mean[\"crncy_cd\"].values"
   ]
  },
  {
   "cell_type": "code",
   "execution_count": 57,
   "metadata": {},
   "outputs": [],
   "source": [
    "df_funnel_selected = df_funnel.loc[df_funnel['client_id'].isin(df_balance_grouped_mean.client_id.values)]\n",
    "df_funnel_selected_shuffled = df_funnel_selected.set_index('client_id')\n",
    "df_funnel_selected_shuffled = df_funnel_selected_shuffled.reindex(index=df_balance_grouped_mean['client_id'])\n",
    "df_funnel_selected_shuffled = df_funnel_selected_shuffled.reset_index()"
   ]
  },
  {
   "cell_type": "code",
   "execution_count": 58,
   "metadata": {},
   "outputs": [
    {
     "data": {
      "text/plain": [
       "array([[ 1.00000000e+00, -5.60724504e-04],\n",
       "       [-5.60724504e-04,  1.00000000e+00]])"
      ]
     },
     "execution_count": 58,
     "metadata": {},
     "output_type": "execute_result"
    }
   ],
   "source": [
    "y_selected = df_funnel_selected['sale_flg'].values\n",
    "np.corrcoef(y_selected, feat)"
   ]
  },
  {
   "cell_type": "code",
   "execution_count": 59,
   "metadata": {},
   "outputs": [
    {
     "data": {
      "text/plain": [
       "810.000000    7787\n",
       "825.000000      12\n",
       "816.000000      11\n",
       "834.000000       7\n",
       "831.000000       6\n",
       "              ... \n",
       "816.858974       1\n",
       "815.776561       1\n",
       "861.368421       1\n",
       "811.250000       1\n",
       "810.927835       1\n",
       "Name: crncy_cd, Length: 427, dtype: int64"
      ]
     },
     "execution_count": 59,
     "metadata": {},
     "output_type": "execute_result"
    }
   ],
   "source": [
    "df_balance_grouped_mean['crncy_cd'].value_counts(dropna=False)"
   ]
  },
  {
   "cell_type": "code",
   "execution_count": 60,
   "metadata": {},
   "outputs": [],
   "source": [
    "df_b_selected = df_balance_grouped_mean.loc[df_balance_grouped_mean[\"crncy_cd\"] != 810]\n",
    "df_funnel_selected_shuffled = df_funnel_selected.set_index('client_id')\n",
    "df_funnel_selected_shuffled = df_funnel_selected_shuffled.reindex(index=df_b_selected['client_id'])\n",
    "df_funnel_selected_shuffled = df_funnel_selected_shuffled.reset_index()"
   ]
  },
  {
   "cell_type": "code",
   "execution_count": 61,
   "metadata": {},
   "outputs": [
    {
     "data": {
      "text/plain": [
       "0.28390596745027125"
      ]
     },
     "execution_count": 61,
     "metadata": {},
     "output_type": "execute_result"
    }
   ],
   "source": [
    "sum(df_funnel_selected_shuffled.sale_flg.values) / len(df_funnel_selected_shuffled.sale_flg.values)"
   ]
  },
  {
   "cell_type": "markdown",
   "metadata": {},
   "source": [
    "# client.csv"
   ]
  },
  {
   "cell_type": "code",
   "execution_count": 66,
   "metadata": {},
   "outputs": [
    {
     "data": {
      "text/html": [
       "<div>\n",
       "<style scoped>\n",
       "    .dataframe tbody tr th:only-of-type {\n",
       "        vertical-align: middle;\n",
       "    }\n",
       "\n",
       "    .dataframe tbody tr th {\n",
       "        vertical-align: top;\n",
       "    }\n",
       "\n",
       "    .dataframe thead th {\n",
       "        text-align: right;\n",
       "    }\n",
       "</style>\n",
       "<table border=\"1\" class=\"dataframe\">\n",
       "  <thead>\n",
       "    <tr style=\"text-align: right;\">\n",
       "      <th></th>\n",
       "      <th>client_id</th>\n",
       "      <th>gender</th>\n",
       "      <th>age</th>\n",
       "      <th>region</th>\n",
       "      <th>city</th>\n",
       "      <th>citizenship</th>\n",
       "      <th>education</th>\n",
       "      <th>job_type</th>\n",
       "      <th>education_bool</th>\n",
       "    </tr>\n",
       "  </thead>\n",
       "  <tbody>\n",
       "    <tr>\n",
       "      <th>4</th>\n",
       "      <td>-8156468515495593794</td>\n",
       "      <td>F</td>\n",
       "      <td>34.0</td>\n",
       "      <td>-1</td>\n",
       "      <td>-1</td>\n",
       "      <td>RUSSIA</td>\n",
       "      <td>HIGHER_PROFESSIONAL</td>\n",
       "      <td>NaN</td>\n",
       "      <td>1</td>\n",
       "    </tr>\n",
       "    <tr>\n",
       "      <th>5</th>\n",
       "      <td>-2918739578801888500</td>\n",
       "      <td>M</td>\n",
       "      <td>34.0</td>\n",
       "      <td>7</td>\n",
       "      <td>13</td>\n",
       "      <td>RUSSIA</td>\n",
       "      <td>HIGHER_PROFESSIONAL</td>\n",
       "      <td>NaN</td>\n",
       "      <td>1</td>\n",
       "    </tr>\n",
       "    <tr>\n",
       "      <th>6</th>\n",
       "      <td>-4569470415387261653</td>\n",
       "      <td>M</td>\n",
       "      <td>55.0</td>\n",
       "      <td>19</td>\n",
       "      <td>27</td>\n",
       "      <td>RUSSIA</td>\n",
       "      <td>HIGHER_PROFESSIONAL</td>\n",
       "      <td>NaN</td>\n",
       "      <td>1</td>\n",
       "    </tr>\n",
       "    <tr>\n",
       "      <th>7</th>\n",
       "      <td>497866795935220651</td>\n",
       "      <td>F</td>\n",
       "      <td>48.0</td>\n",
       "      <td>28</td>\n",
       "      <td>45</td>\n",
       "      <td>RUSSIA</td>\n",
       "      <td>HIGHER_PROFESSIONAL</td>\n",
       "      <td>NaN</td>\n",
       "      <td>1</td>\n",
       "    </tr>\n",
       "    <tr>\n",
       "      <th>10</th>\n",
       "      <td>-1093433514453846397</td>\n",
       "      <td>F</td>\n",
       "      <td>39.0</td>\n",
       "      <td>20</td>\n",
       "      <td>104</td>\n",
       "      <td>RUSSIA</td>\n",
       "      <td>MIDDLE_PROFESSIONAL</td>\n",
       "      <td>NaN</td>\n",
       "      <td>1</td>\n",
       "    </tr>\n",
       "  </tbody>\n",
       "</table>\n",
       "</div>"
      ],
      "text/plain": [
       "              client_id gender   age  region  city citizenship  \\\n",
       "4  -8156468515495593794      F  34.0      -1    -1      RUSSIA   \n",
       "5  -2918739578801888500      M  34.0       7    13      RUSSIA   \n",
       "6  -4569470415387261653      M  55.0      19    27      RUSSIA   \n",
       "7    497866795935220651      F  48.0      28    45      RUSSIA   \n",
       "10 -1093433514453846397      F  39.0      20   104      RUSSIA   \n",
       "\n",
       "              education job_type  education_bool  \n",
       "4   HIGHER_PROFESSIONAL      NaN               1  \n",
       "5   HIGHER_PROFESSIONAL      NaN               1  \n",
       "6   HIGHER_PROFESSIONAL      NaN               1  \n",
       "7   HIGHER_PROFESSIONAL      NaN               1  \n",
       "10  MIDDLE_PROFESSIONAL      NaN               1  "
      ]
     },
     "execution_count": 66,
     "metadata": {},
     "output_type": "execute_result"
    }
   ],
   "source": [
    "df_client.head()"
   ]
  },
  {
   "cell_type": "code",
   "execution_count": 67,
   "metadata": {},
   "outputs": [
    {
     "data": {
      "text/plain": [
       "0     1650\n",
       "1      479\n",
       "7      452\n",
       "3      359\n",
       "25     340\n",
       "8      333\n",
       "37     314\n",
       "17     263\n",
       "21     242\n",
       "9      218\n",
       "Name: region, dtype: int64"
      ]
     },
     "execution_count": 67,
     "metadata": {},
     "output_type": "execute_result"
    }
   ],
   "source": [
    "df_client['region'].value_counts(dropna=False)[:10]"
   ]
  },
  {
   "cell_type": "markdown",
   "metadata": {},
   "source": [
    "### education and job type"
   ]
  },
  {
   "cell_type": "code",
   "execution_count": 68,
   "metadata": {},
   "outputs": [
    {
     "data": {
      "text/plain": [
       "HIGHER_PROFESSIONAL            4463\n",
       "MIDDLE_PROFESSIONAL            3550\n",
       "FULL_GENERAL                    606\n",
       "HIGHER_PROFESSIONAL_PARTIAL     258\n",
       "TWO_AND_MORE_HIGHER             147\n",
       "SCHOLASTIC_DEGREE                18\n",
       "Name: education, dtype: int64"
      ]
     },
     "execution_count": 68,
     "metadata": {},
     "output_type": "execute_result"
    }
   ],
   "source": [
    "df_client['education'].value_counts(dropna=False)"
   ]
  },
  {
   "cell_type": "code",
   "execution_count": 69,
   "metadata": {},
   "outputs": [
    {
     "data": {
      "text/plain": [
       "NaN                8991\n",
       "RETIRED              22\n",
       "BUSINESS             15\n",
       "STUDENT              10\n",
       "MATERNITY_LEAVE       4\n",
       "Name: job_type, dtype: int64"
      ]
     },
     "execution_count": 69,
     "metadata": {},
     "output_type": "execute_result"
    }
   ],
   "source": [
    "df_client['job_type'].value_counts(dropna=False)"
   ]
  },
  {
   "cell_type": "code",
   "execution_count": 70,
   "metadata": {},
   "outputs": [
    {
     "data": {
      "text/plain": [
       "array([[ 1.       , -0.0266434],\n",
       "       [-0.0266434,  1.       ]])"
      ]
     },
     "execution_count": 70,
     "metadata": {},
     "output_type": "execute_result"
    }
   ],
   "source": [
    "df_client[\"job_type_bool\"] = 1 - pd.isna(df_client[\"job_type\"]).astype('int64')\n",
    "# df_client[\"education_bool\"] = (df_client[\"education\"] == 'HIGHER_PROFESSIONAL').astype('int64')\n",
    "feat = df_client[\"job_type_bool\"].values\n",
    "np.corrcoef(y, feat)"
   ]
  },
  {
   "cell_type": "code",
   "execution_count": 128,
   "metadata": {},
   "outputs": [
    {
     "data": {
      "text/plain": [
       "array([[ 1., nan],\n",
       "       [nan, nan]])"
      ]
     },
     "execution_count": 128,
     "metadata": {},
     "output_type": "execute_result"
    }
   ],
   "source": [
    "df_client[\"education_bool\"] = 1 - pd.isna(df_client[\"education\"]).astype('int64')\n",
    "# df_client[\"education_bool\"] = (df_client[\"education\"] == 'HIGHER_PROFESSIONAL').astype('int64')\n",
    "feat = df_client[\"education_bool\"].values\n",
    "np.corrcoef(y, feat)"
   ]
  },
  {
   "cell_type": "code",
   "execution_count": 80,
   "metadata": {},
   "outputs": [],
   "source": [
    "df_client_HP_edu = df_client.loc[df_client[\"education\"] == 'MIDDLE_PROFESSIONAL']\n",
    "\n",
    "df_funnel_selected = df_funnel.loc[df_funnel['client_id'].isin(df_client_HP_edu.client_id.values)]\n",
    "df_funnel_selected_shuffled = df_funnel_selected.set_index('client_id')\n",
    "df_funnel_selected_shuffled = df_funnel_selected_shuffled.reindex(index=df_client_HP_edu['client_id'])\n",
    "df_funnel_selected_shuffled = df_funnel_selected_shuffled.reset_index()"
   ]
  },
  {
   "cell_type": "code",
   "execution_count": 81,
   "metadata": {},
   "outputs": [
    {
     "data": {
      "text/plain": [
       "0.32253521126760565"
      ]
     },
     "execution_count": 81,
     "metadata": {},
     "output_type": "execute_result"
    }
   ],
   "source": [
    "sum(df_funnel_selected_shuffled.sale_flg.values) / len(df_funnel_selected_shuffled.sale_flg.values)"
   ]
  },
  {
   "cell_type": "code",
   "execution_count": 1019,
   "metadata": {},
   "outputs": [],
   "source": [
    "df_client_NaN_edu = df_client.loc[pd.isna(df_client[\"education\"])]\n",
    "\n",
    "df_funnel_selected = df_funnel.loc[df_funnel['client_id'].isin(df_client_NaN_edu.client_id.values)]\n",
    "df_funnel_selected_shuffled = df_funnel_selected.set_index('client_id')\n",
    "df_funnel_selected_shuffled = df_funnel_selected_shuffled.reindex(index=df_client_NaN_edu['client_id'])\n",
    "df_funnel_selected_shuffled = df_funnel_selected_shuffled.reset_index()"
   ]
  },
  {
   "cell_type": "code",
   "execution_count": 1020,
   "metadata": {},
   "outputs": [
    {
     "data": {
      "text/html": [
       "<div>\n",
       "<style scoped>\n",
       "    .dataframe tbody tr th:only-of-type {\n",
       "        vertical-align: middle;\n",
       "    }\n",
       "\n",
       "    .dataframe tbody tr th {\n",
       "        vertical-align: top;\n",
       "    }\n",
       "\n",
       "    .dataframe thead th {\n",
       "        text-align: right;\n",
       "    }\n",
       "</style>\n",
       "<table border=\"1\" class=\"dataframe\">\n",
       "  <thead>\n",
       "    <tr style=\"text-align: right;\">\n",
       "      <th></th>\n",
       "      <th>client_id</th>\n",
       "      <th>gender</th>\n",
       "      <th>age</th>\n",
       "      <th>region</th>\n",
       "      <th>city</th>\n",
       "      <th>citizenship</th>\n",
       "      <th>education</th>\n",
       "      <th>job_type</th>\n",
       "      <th>education_bool</th>\n",
       "    </tr>\n",
       "  </thead>\n",
       "  <tbody>\n",
       "    <tr>\n",
       "      <th>0</th>\n",
       "      <td>7513301859607023584</td>\n",
       "      <td>F</td>\n",
       "      <td>33.0</td>\n",
       "      <td>0</td>\n",
       "      <td>115</td>\n",
       "      <td>RUSSIA</td>\n",
       "      <td>NaN</td>\n",
       "      <td>NaN</td>\n",
       "      <td>0</td>\n",
       "    </tr>\n",
       "    <tr>\n",
       "      <th>1</th>\n",
       "      <td>9157009756404187626</td>\n",
       "      <td>F</td>\n",
       "      <td>59.0</td>\n",
       "      <td>17</td>\n",
       "      <td>668</td>\n",
       "      <td>RUSSIA</td>\n",
       "      <td>NaN</td>\n",
       "      <td>NaN</td>\n",
       "      <td>0</td>\n",
       "    </tr>\n",
       "    <tr>\n",
       "      <th>2</th>\n",
       "      <td>-1893104556496814867</td>\n",
       "      <td>M</td>\n",
       "      <td>51.0</td>\n",
       "      <td>28</td>\n",
       "      <td>65</td>\n",
       "      <td>RUSSIA</td>\n",
       "      <td>NaN</td>\n",
       "      <td>NaN</td>\n",
       "      <td>0</td>\n",
       "    </tr>\n",
       "    <tr>\n",
       "      <th>3</th>\n",
       "      <td>6886062013213911831</td>\n",
       "      <td>F</td>\n",
       "      <td>56.0</td>\n",
       "      <td>0</td>\n",
       "      <td>40</td>\n",
       "      <td>RUSSIA</td>\n",
       "      <td>NaN</td>\n",
       "      <td>NaN</td>\n",
       "      <td>0</td>\n",
       "    </tr>\n",
       "    <tr>\n",
       "      <th>8</th>\n",
       "      <td>-2652197677327635516</td>\n",
       "      <td>M</td>\n",
       "      <td>46.0</td>\n",
       "      <td>30</td>\n",
       "      <td>46</td>\n",
       "      <td>RUSSIA</td>\n",
       "      <td>NaN</td>\n",
       "      <td>NaN</td>\n",
       "      <td>0</td>\n",
       "    </tr>\n",
       "    <tr>\n",
       "      <th>...</th>\n",
       "      <td>...</td>\n",
       "      <td>...</td>\n",
       "      <td>...</td>\n",
       "      <td>...</td>\n",
       "      <td>...</td>\n",
       "      <td>...</td>\n",
       "      <td>...</td>\n",
       "      <td>...</td>\n",
       "      <td>...</td>\n",
       "    </tr>\n",
       "    <tr>\n",
       "      <th>21490</th>\n",
       "      <td>2261406502954952560</td>\n",
       "      <td>M</td>\n",
       "      <td>35.0</td>\n",
       "      <td>6</td>\n",
       "      <td>3740</td>\n",
       "      <td>RUSSIA</td>\n",
       "      <td>NaN</td>\n",
       "      <td>NaN</td>\n",
       "      <td>0</td>\n",
       "    </tr>\n",
       "    <tr>\n",
       "      <th>21493</th>\n",
       "      <td>4662551505651924284</td>\n",
       "      <td>M</td>\n",
       "      <td>31.0</td>\n",
       "      <td>0</td>\n",
       "      <td>14</td>\n",
       "      <td>RUSSIA</td>\n",
       "      <td>NaN</td>\n",
       "      <td>NaN</td>\n",
       "      <td>0</td>\n",
       "    </tr>\n",
       "    <tr>\n",
       "      <th>21494</th>\n",
       "      <td>-8968737688687691353</td>\n",
       "      <td>M</td>\n",
       "      <td>53.0</td>\n",
       "      <td>25</td>\n",
       "      <td>33</td>\n",
       "      <td>RUSSIA</td>\n",
       "      <td>NaN</td>\n",
       "      <td>NaN</td>\n",
       "      <td>0</td>\n",
       "    </tr>\n",
       "    <tr>\n",
       "      <th>21495</th>\n",
       "      <td>-5799097497074119478</td>\n",
       "      <td>F</td>\n",
       "      <td>57.0</td>\n",
       "      <td>12</td>\n",
       "      <td>225</td>\n",
       "      <td>RUSSIA</td>\n",
       "      <td>NaN</td>\n",
       "      <td>NaN</td>\n",
       "      <td>0</td>\n",
       "    </tr>\n",
       "    <tr>\n",
       "      <th>21497</th>\n",
       "      <td>-174115151336149439</td>\n",
       "      <td>M</td>\n",
       "      <td>33.0</td>\n",
       "      <td>7</td>\n",
       "      <td>13</td>\n",
       "      <td>RUSSIA</td>\n",
       "      <td>NaN</td>\n",
       "      <td>NaN</td>\n",
       "      <td>0</td>\n",
       "    </tr>\n",
       "  </tbody>\n",
       "</table>\n",
       "<p>12218 rows × 9 columns</p>\n",
       "</div>"
      ],
      "text/plain": [
       "                 client_id gender   age  region  city citizenship education  \\\n",
       "0      7513301859607023584      F  33.0       0   115      RUSSIA       NaN   \n",
       "1      9157009756404187626      F  59.0      17   668      RUSSIA       NaN   \n",
       "2     -1893104556496814867      M  51.0      28    65      RUSSIA       NaN   \n",
       "3      6886062013213911831      F  56.0       0    40      RUSSIA       NaN   \n",
       "8     -2652197677327635516      M  46.0      30    46      RUSSIA       NaN   \n",
       "...                    ...    ...   ...     ...   ...         ...       ...   \n",
       "21490  2261406502954952560      M  35.0       6  3740      RUSSIA       NaN   \n",
       "21493  4662551505651924284      M  31.0       0    14      RUSSIA       NaN   \n",
       "21494 -8968737688687691353      M  53.0      25    33      RUSSIA       NaN   \n",
       "21495 -5799097497074119478      F  57.0      12   225      RUSSIA       NaN   \n",
       "21497  -174115151336149439      M  33.0       7    13      RUSSIA       NaN   \n",
       "\n",
       "      job_type  education_bool  \n",
       "0          NaN               0  \n",
       "1          NaN               0  \n",
       "2          NaN               0  \n",
       "3          NaN               0  \n",
       "8          NaN               0  \n",
       "...        ...             ...  \n",
       "21490      NaN               0  \n",
       "21493      NaN               0  \n",
       "21494      NaN               0  \n",
       "21495      NaN               0  \n",
       "21497      NaN               0  \n",
       "\n",
       "[12218 rows x 9 columns]"
      ]
     },
     "execution_count": 1020,
     "metadata": {},
     "output_type": "execute_result"
    }
   ],
   "source": [
    "df_client_NaN_edu"
   ]
  },
  {
   "cell_type": "code",
   "execution_count": 1024,
   "metadata": {},
   "outputs": [
    {
     "data": {
      "text/plain": [
       "12218"
      ]
     },
     "execution_count": 1024,
     "metadata": {},
     "output_type": "execute_result"
    }
   ],
   "source": [
    "len(df_funnel_selected_shuffled.sale_flg)"
   ]
  },
  {
   "cell_type": "code",
   "execution_count": 1074,
   "metadata": {},
   "outputs": [
    {
     "data": {
      "text/plain": [
       "array([[1.        , 0.51671212],\n",
       "       [0.51671212, 1.        ]])"
      ]
     },
     "execution_count": 1074,
     "metadata": {},
     "output_type": "execute_result"
    }
   ],
   "source": [
    "# df_client[\"education_bool\"] = 1 - pd.isna(df_client[\"education\"]).astype('int64')\n",
    "# df_client[\"education_bool\"] = (df_client[\"education\"] == 'SCHOLASTIC_DEGREE').astype('int64')\n",
    "df_client[\"education_bool\"] = (df_client[\"education\"] == 'PRIMARY_PROFESSIONAL') | (pd.isna(df_client[\"education\"]))\n",
    "df_client[\"education_bool\"] = 1 - df_client[\"education_bool\"]\n",
    "feat = df_client[\"education_bool\"].values\n",
    "np.corrcoef(y, feat)"
   ]
  },
  {
   "cell_type": "markdown",
   "metadata": {},
   "source": [
    "### region and city"
   ]
  },
  {
   "cell_type": "code",
   "execution_count": 64,
   "metadata": {},
   "outputs": [
    {
     "data": {
      "text/plain": [
       "array([[ 1.        , -0.08492985],\n",
       "       [-0.08492985,  1.        ]])"
      ]
     },
     "execution_count": 64,
     "metadata": {},
     "output_type": "execute_result"
    }
   ],
   "source": [
    "feat = df_client[\"region\"].values\n",
    "np.corrcoef(y, feat)"
   ]
  },
  {
   "cell_type": "code",
   "execution_count": 65,
   "metadata": {},
   "outputs": [
    {
     "data": {
      "text/plain": [
       "array([[ 1.     , -0.14883],\n",
       "       [-0.14883,  1.     ]])"
      ]
     },
     "execution_count": 65,
     "metadata": {},
     "output_type": "execute_result"
    }
   ],
   "source": [
    "feat = df_client[\"city\"].values\n",
    "np.corrcoef(y, feat)"
   ]
  },
  {
   "cell_type": "code",
   "execution_count": 68,
   "metadata": {},
   "outputs": [
    {
     "name": "stdout",
     "output_type": "stream",
     "text": [
      "region:  -1\n",
      "0.54\n",
      "num:  35\n",
      " \n",
      "region:  0\n",
      "0.52\n",
      "num:  1650\n",
      " \n",
      "region:  10\n",
      "0.54\n",
      "num:  157\n",
      " \n",
      "region:  20\n",
      "0.51\n",
      "num:  162\n",
      " \n",
      "region:  66\n",
      "0.55\n",
      "num:  11\n",
      " \n"
     ]
    }
   ],
   "source": [
    "for reg in np.unique(df_client.region.values):\n",
    "    df_client_selected_reg = df_client.query(\"region == \" + str(reg))\n",
    "    df_funnel_selected = df_funnel.loc[df_funnel['client_id'].isin(df_client_selected_reg.client_id.values)]\n",
    "    r = sum(df_funnel_selected.sale_flg.values) / len(df_funnel_selected.sale_flg.values)\n",
    "    if r > 0.5 and len(df_funnel_selected) > 10:\n",
    "        print('region: ', reg)\n",
    "        print(np.round(r,2))\n",
    "        print('num: ', len(df_funnel_selected))\n",
    "        print(' ')"
   ]
  },
  {
   "cell_type": "code",
   "execution_count": 71,
   "metadata": {},
   "outputs": [
    {
     "name": "stdout",
     "output_type": "stream",
     "text": [
      "region:  3\n",
      "0.24\n",
      "num:  359\n",
      " \n",
      "region:  13\n",
      "0.23\n",
      "num:  57\n",
      " \n",
      "region:  64\n",
      "0.16\n",
      "num:  73\n",
      " \n"
     ]
    }
   ],
   "source": [
    "for reg in np.unique(df_client.region.values):\n",
    "    df_client_selected_reg = df_client.query(\"region == \" + str(reg))\n",
    "    df_funnel_selected = df_funnel.loc[df_funnel['client_id'].isin(df_client_selected_reg.client_id.values)]\n",
    "    r = sum(df_funnel_selected.sale_flg.values) / len(df_funnel_selected.sale_flg.values)\n",
    "    if r < 0.25 and len(df_funnel_selected) > 5:\n",
    "        print('region: ', reg)\n",
    "        print(np.round(r,2))\n",
    "        print('num: ', len(df_funnel_selected))\n",
    "        print(' ')"
   ]
  },
  {
   "cell_type": "code",
   "execution_count": 72,
   "metadata": {},
   "outputs": [],
   "source": [
    "df_client[\"region_good_bool\"] = (df_client[\"region\"] == 0) | (df_client[\"region\"] == 4) | (df_client[\"region\"] == 10) | (df_client[\"region\"] == 50) | (df_client[\"region\"] == 71)"
   ]
  },
  {
   "cell_type": "code",
   "execution_count": 73,
   "metadata": {},
   "outputs": [
    {
     "data": {
      "text/plain": [
       "1884"
      ]
     },
     "execution_count": 73,
     "metadata": {},
     "output_type": "execute_result"
    }
   ],
   "source": [
    "sum(df_client[\"region_good_bool\"].values)"
   ]
  },
  {
   "cell_type": "code",
   "execution_count": 74,
   "metadata": {},
   "outputs": [],
   "source": [
    "df_client[\"region_bad_bool\"] = (df_client[\"region\"] == 46) | (df_client[\"region\"] == 57) | (df_client[\"region\"] == 60) | (df_client[\"region\"] == 72) | (df_client[\"region\"] == 76)"
   ]
  },
  {
   "cell_type": "code",
   "execution_count": 75,
   "metadata": {},
   "outputs": [
    {
     "data": {
      "text/plain": [
       "123"
      ]
     },
     "execution_count": 75,
     "metadata": {},
     "output_type": "execute_result"
    }
   ],
   "source": [
    "sum(df_client[\"region_bad_bool\"].values)"
   ]
  },
  {
   "cell_type": "code",
   "execution_count": 76,
   "metadata": {},
   "outputs": [],
   "source": [
    "# df_client_selected = df_client.query(\"region_bool == 1\")\n",
    "# df_funnel_selected = df_funnel.loc[df_funnel['client_id'].isin(df_client_selected.client_id.values)]\n",
    "# sum(df_funnel_selected.sale_flg.values) / len(df_funnel_selected)"
   ]
  },
  {
   "cell_type": "code",
   "execution_count": 77,
   "metadata": {},
   "outputs": [],
   "source": [
    "# df_client[\"job_type_bool\"] = pd.isna(df_client[\"job_type\"]).astype('int64')\n",
    "# feat = df_client[\"job_type_bool\"].values\n",
    "# np.corrcoef(y, feat)"
   ]
  },
  {
   "cell_type": "code",
   "execution_count": 78,
   "metadata": {},
   "outputs": [],
   "source": [
    "# df_client_retired = df_client.loc[df_client['job_type'] == 'MATERNITY_LEAVE']\n",
    "\n",
    "# df_funnel_selected = df_funnel.loc[df_funnel['client_id'].isin(df_client_retired.client_id.values)]\n",
    "# df_funnel_selected_shuffled = df_funnel_selected.set_index('client_id')\n",
    "# df_funnel_selected_shuffled = df_funnel_selected_shuffled.reindex(index=df_client_retired['client_id'])\n",
    "# df_funnel_selected_shuffled = df_funnel_selected_shuffled.reset_index()"
   ]
  },
  {
   "cell_type": "code",
   "execution_count": 79,
   "metadata": {},
   "outputs": [],
   "source": [
    "df_client_selected_cit = df_client.query(\"city == \" + str(reg))"
   ]
  },
  {
   "cell_type": "code",
   "execution_count": 83,
   "metadata": {
    "scrolled": true
   },
   "outputs": [
    {
     "name": "stdout",
     "output_type": "stream",
     "text": [
      "city:  8\n",
      "0.65\n",
      "num:  52\n",
      " \n",
      "city:  66\n",
      "0.65\n",
      "num:  23\n",
      " \n",
      "city:  136\n",
      "0.67\n",
      "num:  24\n",
      " \n",
      "city:  140\n",
      "0.67\n",
      "num:  54\n",
      " \n"
     ]
    }
   ],
   "source": [
    "good_cities = []\n",
    "for cit in np.unique(df_client.city.values):\n",
    "    df_client_selected_cit = df_client.query(\"city == \" + str(cit))\n",
    "    df_funnel_selected = df_funnel.loc[df_funnel['client_id'].isin(df_client_selected_cit.client_id.values)]\n",
    "    r = sum(df_funnel_selected.sale_flg.values) / len(df_funnel_selected.sale_flg.values)\n",
    "    if r > 0.65 and len(df_funnel_selected) > 10:\n",
    "        print('city: ', cit)\n",
    "        print(np.round(r,2))\n",
    "        print('num: ', len(df_funnel_selected))\n",
    "        print(' ')\n",
    "        \n",
    "        good_cities.append(cit)"
   ]
  },
  {
   "cell_type": "code",
   "execution_count": 395,
   "metadata": {},
   "outputs": [],
   "source": [
    "df_client[\"city_good_bool\"] = (df_client[\"city\"] == 'dummy_val')\n",
    "\n",
    "for i, cit in enumerate(good_cities):\n",
    "    df_client[\"city_good_bool\"] = df_client[\"city_good_bool\"] | (df_client[\"city\"] == cit)"
   ]
  },
  {
   "cell_type": "code",
   "execution_count": 484,
   "metadata": {
    "scrolled": true
   },
   "outputs": [
    {
     "name": "stdout",
     "output_type": "stream",
     "text": [
      "city:  70\n",
      "0.0\n",
      "num:  22\n",
      " \n",
      "city:  122\n",
      "0.04\n",
      "num:  121\n",
      " \n",
      "city:  228\n",
      "0.03\n",
      "num:  39\n",
      " \n",
      "city:  308\n",
      "0.04\n",
      "num:  25\n",
      " \n",
      "city:  363\n",
      "0.04\n",
      "num:  23\n",
      " \n",
      "city:  481\n",
      "0.04\n",
      "num:  27\n",
      " \n",
      "city:  508\n",
      "0.04\n",
      "num:  24\n",
      " \n",
      "city:  543\n",
      "0.0\n",
      "num:  28\n",
      " \n",
      "city:  801\n",
      "0.0\n",
      "num:  21\n",
      " \n",
      "city:  1173\n",
      "0.04\n",
      "num:  23\n",
      " \n"
     ]
    }
   ],
   "source": [
    "bad_cities = []\n",
    "for cit in np.unique(df_client.city.values):\n",
    "    df_client_selected_cit = df_client.query(\"city == \" + str(cit))\n",
    "    df_funnel_selected = df_funnel.loc[df_funnel['client_id'].isin(df_client_selected_cit.client_id.values)]\n",
    "    r = sum(df_funnel_selected.sale_flg.values) / len(df_funnel_selected.sale_flg.values)\n",
    "    if r < 0.05 and len(df_funnel_selected) > 20:\n",
    "        print('city: ', cit)\n",
    "        print(np.round(r,2))\n",
    "        print('num: ', len(df_funnel_selected))\n",
    "        print(' ')\n",
    "        \n",
    "        bad_cities.append(cit)"
   ]
  },
  {
   "cell_type": "code",
   "execution_count": 485,
   "metadata": {},
   "outputs": [],
   "source": [
    "df_client[\"city_bad_bool\"] = (df_client[\"city\"] == 'dummy_val')\n",
    "\n",
    "for i, cit in enumerate(bad_cities):\n",
    "    df_client[\"city_bad_bool\"] = df_client[\"city_bad_bool\"] | (df_client[\"city\"] == cit)"
   ]
  },
  {
   "cell_type": "markdown",
   "metadata": {},
   "source": [
    "### age and gender"
   ]
  },
  {
   "cell_type": "code",
   "execution_count": 85,
   "metadata": {},
   "outputs": [
    {
     "data": {
      "text/plain": [
       "array([[ 1.        , -0.05480117],\n",
       "       [-0.05480117,  1.        ]])"
      ]
     },
     "execution_count": 85,
     "metadata": {},
     "output_type": "execute_result"
    }
   ],
   "source": [
    "feat = df_client[\"age\"].fillna(0).values\n",
    "np.corrcoef(y, feat)"
   ]
  },
  {
   "cell_type": "code",
   "execution_count": 86,
   "metadata": {},
   "outputs": [],
   "source": [
    "df_client[\"age_bool\"] = df_client[\"age\"] < 55"
   ]
  },
  {
   "cell_type": "code",
   "execution_count": 87,
   "metadata": {},
   "outputs": [
    {
     "data": {
      "text/plain": [
       "array([[1.        , 0.04262308],\n",
       "       [0.04262308, 1.        ]])"
      ]
     },
     "execution_count": 87,
     "metadata": {},
     "output_type": "execute_result"
    }
   ],
   "source": [
    "np.corrcoef(y, df_client[\"age_bool\"].values)"
   ]
  },
  {
   "cell_type": "code",
   "execution_count": 88,
   "metadata": {},
   "outputs": [],
   "source": [
    "df_client[\"gender_bool\"] = df_client[\"gender\"] == 'M'"
   ]
  },
  {
   "cell_type": "code",
   "execution_count": 89,
   "metadata": {},
   "outputs": [
    {
     "data": {
      "text/plain": [
       "array([[1.        , 0.01493843],\n",
       "       [0.01493843, 1.        ]])"
      ]
     },
     "execution_count": 89,
     "metadata": {},
     "output_type": "execute_result"
    }
   ],
   "source": [
    "np.corrcoef(y, df_client[\"gender_bool\"].values)"
   ]
  },
  {
   "cell_type": "markdown",
   "metadata": {},
   "source": [
    "# funnel.csv"
   ]
  },
  {
   "cell_type": "code",
   "execution_count": 114,
   "metadata": {},
   "outputs": [
    {
     "data": {
      "text/html": [
       "<div>\n",
       "<style scoped>\n",
       "    .dataframe tbody tr th:only-of-type {\n",
       "        vertical-align: middle;\n",
       "    }\n",
       "\n",
       "    .dataframe tbody tr th {\n",
       "        vertical-align: top;\n",
       "    }\n",
       "\n",
       "    .dataframe thead th {\n",
       "        text-align: right;\n",
       "    }\n",
       "</style>\n",
       "<table border=\"1\" class=\"dataframe\">\n",
       "  <thead>\n",
       "    <tr style=\"text-align: right;\">\n",
       "      <th></th>\n",
       "      <th>client_id</th>\n",
       "      <th>sale_flg</th>\n",
       "      <th>sale_amount</th>\n",
       "      <th>contacts</th>\n",
       "      <th>feature_1</th>\n",
       "      <th>client_segment</th>\n",
       "      <th>feature_2</th>\n",
       "      <th>feature_3</th>\n",
       "      <th>feature_4</th>\n",
       "      <th>feature_5</th>\n",
       "      <th>feature_6</th>\n",
       "      <th>feature_7</th>\n",
       "      <th>feature_8</th>\n",
       "      <th>feature_9</th>\n",
       "      <th>feature_10</th>\n",
       "      <th>region_cd</th>\n",
       "    </tr>\n",
       "  </thead>\n",
       "  <tbody>\n",
       "    <tr>\n",
       "      <th>4</th>\n",
       "      <td>-8156468515495593794</td>\n",
       "      <td>1</td>\n",
       "      <td>138018.05</td>\n",
       "      <td>1</td>\n",
       "      <td>7</td>\n",
       "      <td>14.0</td>\n",
       "      <td>3642369.0</td>\n",
       "      <td>97156.0</td>\n",
       "      <td>81488.0</td>\n",
       "      <td>0.0</td>\n",
       "      <td>160308.0</td>\n",
       "      <td>3642369.0</td>\n",
       "      <td>3314257.0</td>\n",
       "      <td>10.4</td>\n",
       "      <td>78108.0</td>\n",
       "      <td>27.0</td>\n",
       "    </tr>\n",
       "    <tr>\n",
       "      <th>5</th>\n",
       "      <td>-2918739578801888500</td>\n",
       "      <td>1</td>\n",
       "      <td>121907.95</td>\n",
       "      <td>1</td>\n",
       "      <td>7</td>\n",
       "      <td>1.0</td>\n",
       "      <td>4212398.0</td>\n",
       "      <td>151894.0</td>\n",
       "      <td>73012.0</td>\n",
       "      <td>161463.0</td>\n",
       "      <td>265647.0</td>\n",
       "      <td>3520957.0</td>\n",
       "      <td>567525.0</td>\n",
       "      <td>7.4</td>\n",
       "      <td>70386.0</td>\n",
       "      <td>77.0</td>\n",
       "    </tr>\n",
       "    <tr>\n",
       "      <th>6</th>\n",
       "      <td>-4569470415387261653</td>\n",
       "      <td>0</td>\n",
       "      <td>NaN</td>\n",
       "      <td>2</td>\n",
       "      <td>1</td>\n",
       "      <td>8.0</td>\n",
       "      <td>1000940.0</td>\n",
       "      <td>15992.0</td>\n",
       "      <td>11534.0</td>\n",
       "      <td>0.0</td>\n",
       "      <td>83000.0</td>\n",
       "      <td>736973.0</td>\n",
       "      <td>624553.0</td>\n",
       "      <td>10.9</td>\n",
       "      <td>15987.0</td>\n",
       "      <td>56.0</td>\n",
       "    </tr>\n",
       "    <tr>\n",
       "      <th>7</th>\n",
       "      <td>497866795935220651</td>\n",
       "      <td>0</td>\n",
       "      <td>NaN</td>\n",
       "      <td>1</td>\n",
       "      <td>13</td>\n",
       "      <td>3.0</td>\n",
       "      <td>6070615.0</td>\n",
       "      <td>1927.0</td>\n",
       "      <td>30014.0</td>\n",
       "      <td>33300.0</td>\n",
       "      <td>19302.0</td>\n",
       "      <td>94702.0</td>\n",
       "      <td>72847.0</td>\n",
       "      <td>7.9</td>\n",
       "      <td>1936.0</td>\n",
       "      <td>52.0</td>\n",
       "    </tr>\n",
       "    <tr>\n",
       "      <th>10</th>\n",
       "      <td>-1093433514453846397</td>\n",
       "      <td>0</td>\n",
       "      <td>NaN</td>\n",
       "      <td>1</td>\n",
       "      <td>9</td>\n",
       "      <td>9.0</td>\n",
       "      <td>1821184.0</td>\n",
       "      <td>5425.0</td>\n",
       "      <td>3715.0</td>\n",
       "      <td>0.0</td>\n",
       "      <td>16073.0</td>\n",
       "      <td>205187.0</td>\n",
       "      <td>157836.0</td>\n",
       "      <td>19.9</td>\n",
       "      <td>5425.0</td>\n",
       "      <td>42.0</td>\n",
       "    </tr>\n",
       "    <tr>\n",
       "      <th>12</th>\n",
       "      <td>-330127410754871235</td>\n",
       "      <td>1</td>\n",
       "      <td>121277.55</td>\n",
       "      <td>3</td>\n",
       "      <td>6</td>\n",
       "      <td>8.0</td>\n",
       "      <td>2428246.0</td>\n",
       "      <td>213352.0</td>\n",
       "      <td>97565.0</td>\n",
       "      <td>0.0</td>\n",
       "      <td>296471.0</td>\n",
       "      <td>2428246.0</td>\n",
       "      <td>577495.0</td>\n",
       "      <td>14.4</td>\n",
       "      <td>57006.0</td>\n",
       "      <td>58.0</td>\n",
       "    </tr>\n",
       "    <tr>\n",
       "      <th>13</th>\n",
       "      <td>2247869018080705329</td>\n",
       "      <td>0</td>\n",
       "      <td>NaN</td>\n",
       "      <td>1</td>\n",
       "      <td>7</td>\n",
       "      <td>14.0</td>\n",
       "      <td>0.0</td>\n",
       "      <td>0.0</td>\n",
       "      <td>20957.0</td>\n",
       "      <td>0.0</td>\n",
       "      <td>38135.0</td>\n",
       "      <td>825604.0</td>\n",
       "      <td>699664.0</td>\n",
       "      <td>11.9</td>\n",
       "      <td>18323.0</td>\n",
       "      <td>59.0</td>\n",
       "    </tr>\n",
       "    <tr>\n",
       "      <th>14</th>\n",
       "      <td>-8220943058821961411</td>\n",
       "      <td>0</td>\n",
       "      <td>NaN</td>\n",
       "      <td>2</td>\n",
       "      <td>2</td>\n",
       "      <td>3.0</td>\n",
       "      <td>6070615.0</td>\n",
       "      <td>21229.0</td>\n",
       "      <td>0.0</td>\n",
       "      <td>12061.0</td>\n",
       "      <td>82175.0</td>\n",
       "      <td>1049002.0</td>\n",
       "      <td>860182.0</td>\n",
       "      <td>7.9</td>\n",
       "      <td>21220.0</td>\n",
       "      <td>16.0</td>\n",
       "    </tr>\n",
       "    <tr>\n",
       "      <th>15</th>\n",
       "      <td>-8339249258774556753</td>\n",
       "      <td>1</td>\n",
       "      <td>34481.10</td>\n",
       "      <td>1</td>\n",
       "      <td>1</td>\n",
       "      <td>14.0</td>\n",
       "      <td>0.0</td>\n",
       "      <td>0.0</td>\n",
       "      <td>22923.0</td>\n",
       "      <td>0.0</td>\n",
       "      <td>46179.0</td>\n",
       "      <td>679909.0</td>\n",
       "      <td>561908.0</td>\n",
       "      <td>11.4</td>\n",
       "      <td>14919.0</td>\n",
       "      <td>10.0</td>\n",
       "    </tr>\n",
       "    <tr>\n",
       "      <th>19</th>\n",
       "      <td>3487861705076325187</td>\n",
       "      <td>0</td>\n",
       "      <td>NaN</td>\n",
       "      <td>1</td>\n",
       "      <td>4</td>\n",
       "      <td>9.0</td>\n",
       "      <td>3642369.0</td>\n",
       "      <td>29437.0</td>\n",
       "      <td>0.0</td>\n",
       "      <td>0.0</td>\n",
       "      <td>0.0</td>\n",
       "      <td>1455733.0</td>\n",
       "      <td>1275841.0</td>\n",
       "      <td>7.9</td>\n",
       "      <td>29447.0</td>\n",
       "      <td>77.0</td>\n",
       "    </tr>\n",
       "    <tr>\n",
       "      <th>20</th>\n",
       "      <td>-3506296450266498598</td>\n",
       "      <td>0</td>\n",
       "      <td>NaN</td>\n",
       "      <td>1</td>\n",
       "      <td>8</td>\n",
       "      <td>16.0</td>\n",
       "      <td>338511.0</td>\n",
       "      <td>6599.0</td>\n",
       "      <td>2428.0</td>\n",
       "      <td>14753.0</td>\n",
       "      <td>270.0</td>\n",
       "      <td>284105.0</td>\n",
       "      <td>198873.0</td>\n",
       "      <td>13.9</td>\n",
       "      <td>6596.0</td>\n",
       "      <td>71.0</td>\n",
       "    </tr>\n",
       "    <tr>\n",
       "      <th>21</th>\n",
       "      <td>377141127543547866</td>\n",
       "      <td>0</td>\n",
       "      <td>NaN</td>\n",
       "      <td>2</td>\n",
       "      <td>5</td>\n",
       "      <td>15.0</td>\n",
       "      <td>1174673.0</td>\n",
       "      <td>32304.0</td>\n",
       "      <td>0.0</td>\n",
       "      <td>4232.0</td>\n",
       "      <td>0.0</td>\n",
       "      <td>1175271.0</td>\n",
       "      <td>1030036.0</td>\n",
       "      <td>8.9</td>\n",
       "      <td>24913.0</td>\n",
       "      <td>54.0</td>\n",
       "    </tr>\n",
       "    <tr>\n",
       "      <th>23</th>\n",
       "      <td>-5924052245502407994</td>\n",
       "      <td>0</td>\n",
       "      <td>NaN</td>\n",
       "      <td>2</td>\n",
       "      <td>6</td>\n",
       "      <td>3.0</td>\n",
       "      <td>506012.0</td>\n",
       "      <td>5591.0</td>\n",
       "      <td>10014.0</td>\n",
       "      <td>2463.0</td>\n",
       "      <td>16310.0</td>\n",
       "      <td>251323.0</td>\n",
       "      <td>193326.0</td>\n",
       "      <td>11.9</td>\n",
       "      <td>5578.0</td>\n",
       "      <td>66.0</td>\n",
       "    </tr>\n",
       "    <tr>\n",
       "      <th>24</th>\n",
       "      <td>-6290602817115676905</td>\n",
       "      <td>1</td>\n",
       "      <td>6898.40</td>\n",
       "      <td>1</td>\n",
       "      <td>1</td>\n",
       "      <td>4.0</td>\n",
       "      <td>2865872.0</td>\n",
       "      <td>19199.0</td>\n",
       "      <td>27791.0</td>\n",
       "      <td>0.0</td>\n",
       "      <td>8256.0</td>\n",
       "      <td>885096.0</td>\n",
       "      <td>750082.0</td>\n",
       "      <td>10.9</td>\n",
       "      <td>19213.0</td>\n",
       "      <td>55.0</td>\n",
       "    </tr>\n",
       "    <tr>\n",
       "      <th>25</th>\n",
       "      <td>-1490294173029062751</td>\n",
       "      <td>0</td>\n",
       "      <td>NaN</td>\n",
       "      <td>1</td>\n",
       "      <td>9</td>\n",
       "      <td>13.0</td>\n",
       "      <td>1821184.0</td>\n",
       "      <td>20318.0</td>\n",
       "      <td>18175.0</td>\n",
       "      <td>0.0</td>\n",
       "      <td>49740.0</td>\n",
       "      <td>547569.0</td>\n",
       "      <td>486296.0</td>\n",
       "      <td>19.9</td>\n",
       "      <td>20322.0</td>\n",
       "      <td>60.0</td>\n",
       "    </tr>\n",
       "    <tr>\n",
       "      <th>26</th>\n",
       "      <td>2897849887287086776</td>\n",
       "      <td>0</td>\n",
       "      <td>NaN</td>\n",
       "      <td>1</td>\n",
       "      <td>12</td>\n",
       "      <td>2.0</td>\n",
       "      <td>6070615.0</td>\n",
       "      <td>70739.0</td>\n",
       "      <td>2914.0</td>\n",
       "      <td>82686.0</td>\n",
       "      <td>5828.0</td>\n",
       "      <td>3496674.0</td>\n",
       "      <td>3181687.0</td>\n",
       "      <td>7.9</td>\n",
       "      <td>70733.0</td>\n",
       "      <td>42.0</td>\n",
       "    </tr>\n",
       "    <tr>\n",
       "      <th>27</th>\n",
       "      <td>-8072942284550731589</td>\n",
       "      <td>0</td>\n",
       "      <td>NaN</td>\n",
       "      <td>2</td>\n",
       "      <td>5</td>\n",
       "      <td>9.0</td>\n",
       "      <td>3642369.0</td>\n",
       "      <td>15353.0</td>\n",
       "      <td>0.0</td>\n",
       "      <td>0.0</td>\n",
       "      <td>26441.0</td>\n",
       "      <td>724831.0</td>\n",
       "      <td>599034.0</td>\n",
       "      <td>9.9</td>\n",
       "      <td>15365.0</td>\n",
       "      <td>2.0</td>\n",
       "    </tr>\n",
       "    <tr>\n",
       "      <th>29</th>\n",
       "      <td>5631944015950214052</td>\n",
       "      <td>0</td>\n",
       "      <td>NaN</td>\n",
       "      <td>1</td>\n",
       "      <td>6</td>\n",
       "      <td>4.0</td>\n",
       "      <td>2428246.0</td>\n",
       "      <td>10706.0</td>\n",
       "      <td>24364.0</td>\n",
       "      <td>0.0</td>\n",
       "      <td>56492.0</td>\n",
       "      <td>435870.0</td>\n",
       "      <td>360223.0</td>\n",
       "      <td>16.4</td>\n",
       "      <td>10692.0</td>\n",
       "      <td>34.0</td>\n",
       "    </tr>\n",
       "    <tr>\n",
       "      <th>30</th>\n",
       "      <td>-4976026508164850392</td>\n",
       "      <td>1</td>\n",
       "      <td>62549.75</td>\n",
       "      <td>2</td>\n",
       "      <td>1</td>\n",
       "      <td>3.0</td>\n",
       "      <td>2658774.0</td>\n",
       "      <td>95424.0</td>\n",
       "      <td>28584.0</td>\n",
       "      <td>49771.0</td>\n",
       "      <td>96269.0</td>\n",
       "      <td>2658929.0</td>\n",
       "      <td>2419408.0</td>\n",
       "      <td>9.9</td>\n",
       "      <td>59012.0</td>\n",
       "      <td>2.0</td>\n",
       "    </tr>\n",
       "    <tr>\n",
       "      <th>37</th>\n",
       "      <td>3944375335400908384</td>\n",
       "      <td>0</td>\n",
       "      <td>NaN</td>\n",
       "      <td>1</td>\n",
       "      <td>5</td>\n",
       "      <td>14.0</td>\n",
       "      <td>3642369.0</td>\n",
       "      <td>107531.0</td>\n",
       "      <td>30310.0</td>\n",
       "      <td>0.0</td>\n",
       "      <td>236180.0</td>\n",
       "      <td>3642369.0</td>\n",
       "      <td>3128795.0</td>\n",
       "      <td>9.9</td>\n",
       "      <td>77210.0</td>\n",
       "      <td>72.0</td>\n",
       "    </tr>\n",
       "  </tbody>\n",
       "</table>\n",
       "</div>"
      ],
      "text/plain": [
       "              client_id  sale_flg  sale_amount  contacts  feature_1  \\\n",
       "4  -8156468515495593794         1    138018.05         1          7   \n",
       "5  -2918739578801888500         1    121907.95         1          7   \n",
       "6  -4569470415387261653         0          NaN         2          1   \n",
       "7    497866795935220651         0          NaN         1         13   \n",
       "10 -1093433514453846397         0          NaN         1          9   \n",
       "12  -330127410754871235         1    121277.55         3          6   \n",
       "13  2247869018080705329         0          NaN         1          7   \n",
       "14 -8220943058821961411         0          NaN         2          2   \n",
       "15 -8339249258774556753         1     34481.10         1          1   \n",
       "19  3487861705076325187         0          NaN         1          4   \n",
       "20 -3506296450266498598         0          NaN         1          8   \n",
       "21   377141127543547866         0          NaN         2          5   \n",
       "23 -5924052245502407994         0          NaN         2          6   \n",
       "24 -6290602817115676905         1      6898.40         1          1   \n",
       "25 -1490294173029062751         0          NaN         1          9   \n",
       "26  2897849887287086776         0          NaN         1         12   \n",
       "27 -8072942284550731589         0          NaN         2          5   \n",
       "29  5631944015950214052         0          NaN         1          6   \n",
       "30 -4976026508164850392         1     62549.75         2          1   \n",
       "37  3944375335400908384         0          NaN         1          5   \n",
       "\n",
       "    client_segment  feature_2  feature_3  feature_4  feature_5  feature_6  \\\n",
       "4             14.0  3642369.0    97156.0    81488.0        0.0   160308.0   \n",
       "5              1.0  4212398.0   151894.0    73012.0   161463.0   265647.0   \n",
       "6              8.0  1000940.0    15992.0    11534.0        0.0    83000.0   \n",
       "7              3.0  6070615.0     1927.0    30014.0    33300.0    19302.0   \n",
       "10             9.0  1821184.0     5425.0     3715.0        0.0    16073.0   \n",
       "12             8.0  2428246.0   213352.0    97565.0        0.0   296471.0   \n",
       "13            14.0        0.0        0.0    20957.0        0.0    38135.0   \n",
       "14             3.0  6070615.0    21229.0        0.0    12061.0    82175.0   \n",
       "15            14.0        0.0        0.0    22923.0        0.0    46179.0   \n",
       "19             9.0  3642369.0    29437.0        0.0        0.0        0.0   \n",
       "20            16.0   338511.0     6599.0     2428.0    14753.0      270.0   \n",
       "21            15.0  1174673.0    32304.0        0.0     4232.0        0.0   \n",
       "23             3.0   506012.0     5591.0    10014.0     2463.0    16310.0   \n",
       "24             4.0  2865872.0    19199.0    27791.0        0.0     8256.0   \n",
       "25            13.0  1821184.0    20318.0    18175.0        0.0    49740.0   \n",
       "26             2.0  6070615.0    70739.0     2914.0    82686.0     5828.0   \n",
       "27             9.0  3642369.0    15353.0        0.0        0.0    26441.0   \n",
       "29             4.0  2428246.0    10706.0    24364.0        0.0    56492.0   \n",
       "30             3.0  2658774.0    95424.0    28584.0    49771.0    96269.0   \n",
       "37            14.0  3642369.0   107531.0    30310.0        0.0   236180.0   \n",
       "\n",
       "    feature_7  feature_8  feature_9  feature_10  region_cd  \n",
       "4   3642369.0  3314257.0       10.4     78108.0       27.0  \n",
       "5   3520957.0   567525.0        7.4     70386.0       77.0  \n",
       "6    736973.0   624553.0       10.9     15987.0       56.0  \n",
       "7     94702.0    72847.0        7.9      1936.0       52.0  \n",
       "10   205187.0   157836.0       19.9      5425.0       42.0  \n",
       "12  2428246.0   577495.0       14.4     57006.0       58.0  \n",
       "13   825604.0   699664.0       11.9     18323.0       59.0  \n",
       "14  1049002.0   860182.0        7.9     21220.0       16.0  \n",
       "15   679909.0   561908.0       11.4     14919.0       10.0  \n",
       "19  1455733.0  1275841.0        7.9     29447.0       77.0  \n",
       "20   284105.0   198873.0       13.9      6596.0       71.0  \n",
       "21  1175271.0  1030036.0        8.9     24913.0       54.0  \n",
       "23   251323.0   193326.0       11.9      5578.0       66.0  \n",
       "24   885096.0   750082.0       10.9     19213.0       55.0  \n",
       "25   547569.0   486296.0       19.9     20322.0       60.0  \n",
       "26  3496674.0  3181687.0        7.9     70733.0       42.0  \n",
       "27   724831.0   599034.0        9.9     15365.0        2.0  \n",
       "29   435870.0   360223.0       16.4     10692.0       34.0  \n",
       "30  2658929.0  2419408.0        9.9     59012.0        2.0  \n",
       "37  3642369.0  3128795.0        9.9     77210.0       72.0  "
      ]
     },
     "execution_count": 114,
     "metadata": {},
     "output_type": "execute_result"
    }
   ],
   "source": [
    "df_funnel.head(20)"
   ]
  },
  {
   "cell_type": "code",
   "execution_count": 115,
   "metadata": {},
   "outputs": [],
   "source": [
    "df_funnel['feat7_min_feat8'] = df_funnel[\"feature_7\"] - df_funnel[\"feature_8\"]"
   ]
  },
  {
   "cell_type": "code",
   "execution_count": 116,
   "metadata": {},
   "outputs": [
    {
     "data": {
      "text/plain": [
       "Index(['client_id', 'sale_flg', 'sale_amount', 'contacts', 'feature_1',\n",
       "       'client_segment', 'feature_2', 'feature_3', 'feature_4', 'feature_5',\n",
       "       'feature_6', 'feature_7', 'feature_8', 'feature_9', 'feature_10',\n",
       "       'region_cd', 'feat7_min_feat8'],\n",
       "      dtype='object')"
      ]
     },
     "execution_count": 116,
     "metadata": {},
     "output_type": "execute_result"
    }
   ],
   "source": [
    "df_funnel.columns"
   ]
  },
  {
   "cell_type": "code",
   "execution_count": 117,
   "metadata": {},
   "outputs": [
    {
     "name": "stdout",
     "output_type": "stream",
     "text": [
      "client_segment\n",
      "-0.19695643643649996\n",
      "feature_1\n",
      "-0.08684182295990735\n",
      "feature_2\n",
      "0.007245500910904905\n",
      "feature_3\n",
      "0.015264584922277636\n",
      "feature_4\n",
      "0.08438429496282925\n",
      "feature_5\n",
      "0.08875144845092282\n",
      "feature_6\n",
      "0.055430806117202615\n",
      "feature_7\n",
      "0.108509841644679\n",
      "feature_8\n",
      "0.07077733863370099\n",
      "feature_9\n",
      "-0.15363615899658997\n",
      "feature_10\n",
      "0.10025526871897433\n",
      "region_cd\n",
      "0.051415763163675875\n",
      "feat7_min_feat8\n",
      "0.1523104936149869\n"
     ]
    }
   ],
   "source": [
    "for col in ['client_segment', 'feature_1', 'feature_2', 'feature_3', 'feature_4', 'feature_5',\n",
    "           'feature_6', 'feature_7', 'feature_8', 'feature_9', 'feature_10', 'region_cd', 'feat7_min_feat8']:\n",
    "    print(col)\n",
    "    print(np.corrcoef(df_funnel['sale_flg'].values, df_funnel[col].fillna(0).values)[0][1])"
   ]
  },
  {
   "cell_type": "code",
   "execution_count": 95,
   "metadata": {},
   "outputs": [
    {
     "data": {
      "text/html": [
       "<div>\n",
       "<style scoped>\n",
       "    .dataframe tbody tr th:only-of-type {\n",
       "        vertical-align: middle;\n",
       "    }\n",
       "\n",
       "    .dataframe tbody tr th {\n",
       "        vertical-align: top;\n",
       "    }\n",
       "\n",
       "    .dataframe thead th {\n",
       "        text-align: right;\n",
       "    }\n",
       "</style>\n",
       "<table border=\"1\" class=\"dataframe\">\n",
       "  <thead>\n",
       "    <tr style=\"text-align: right;\">\n",
       "      <th></th>\n",
       "      <th>sale_amount</th>\n",
       "      <th>feat7_min_feat8</th>\n",
       "    </tr>\n",
       "  </thead>\n",
       "  <tbody>\n",
       "    <tr>\n",
       "      <th>4</th>\n",
       "      <td>138018.05</td>\n",
       "      <td>328112.0</td>\n",
       "    </tr>\n",
       "    <tr>\n",
       "      <th>5</th>\n",
       "      <td>121907.95</td>\n",
       "      <td>2953432.0</td>\n",
       "    </tr>\n",
       "    <tr>\n",
       "      <th>12</th>\n",
       "      <td>121277.55</td>\n",
       "      <td>1850751.0</td>\n",
       "    </tr>\n",
       "    <tr>\n",
       "      <th>15</th>\n",
       "      <td>34481.10</td>\n",
       "      <td>118001.0</td>\n",
       "    </tr>\n",
       "    <tr>\n",
       "      <th>24</th>\n",
       "      <td>6898.40</td>\n",
       "      <td>135014.0</td>\n",
       "    </tr>\n",
       "    <tr>\n",
       "      <th>...</th>\n",
       "      <td>...</td>\n",
       "      <td>...</td>\n",
       "    </tr>\n",
       "    <tr>\n",
       "      <th>21482</th>\n",
       "      <td>31635.05</td>\n",
       "      <td>79440.0</td>\n",
       "    </tr>\n",
       "    <tr>\n",
       "      <th>21483</th>\n",
       "      <td>21016.60</td>\n",
       "      <td>180643.0</td>\n",
       "    </tr>\n",
       "    <tr>\n",
       "      <th>21484</th>\n",
       "      <td>50289.70</td>\n",
       "      <td>946669.0</td>\n",
       "    </tr>\n",
       "    <tr>\n",
       "      <th>21492</th>\n",
       "      <td>52367.45</td>\n",
       "      <td>715459.0</td>\n",
       "    </tr>\n",
       "    <tr>\n",
       "      <th>21496</th>\n",
       "      <td>43882.85</td>\n",
       "      <td>53234.0</td>\n",
       "    </tr>\n",
       "  </tbody>\n",
       "</table>\n",
       "<p>3498 rows × 2 columns</p>\n",
       "</div>"
      ],
      "text/plain": [
       "       sale_amount  feat7_min_feat8\n",
       "4        138018.05         328112.0\n",
       "5        121907.95        2953432.0\n",
       "12       121277.55        1850751.0\n",
       "15        34481.10         118001.0\n",
       "24         6898.40         135014.0\n",
       "...            ...              ...\n",
       "21482     31635.05          79440.0\n",
       "21483     21016.60         180643.0\n",
       "21484     50289.70         946669.0\n",
       "21492     52367.45         715459.0\n",
       "21496     43882.85          53234.0\n",
       "\n",
       "[3498 rows x 2 columns]"
      ]
     },
     "execution_count": 95,
     "metadata": {},
     "output_type": "execute_result"
    }
   ],
   "source": [
    "df_funnel[['sale_amount', 'feat7_min_feat8']].dropna()"
   ]
  },
  {
   "cell_type": "code",
   "execution_count": 96,
   "metadata": {},
   "outputs": [
    {
     "data": {
      "text/plain": [
       "array([    4,     5,    12, ..., 21484, 21492, 21496])"
      ]
     },
     "execution_count": 96,
     "metadata": {},
     "output_type": "execute_result"
    }
   ],
   "source": [
    "df_funnel['sale_amount'].dropna().index.values"
   ]
  },
  {
   "cell_type": "code",
   "execution_count": 98,
   "metadata": {},
   "outputs": [],
   "source": [
    "# df_funnel.iloc[df_funnel['sale_amount'].dropna().index.values]"
   ]
  },
  {
   "cell_type": "code",
   "execution_count": 100,
   "metadata": {},
   "outputs": [],
   "source": [
    "# df_funnel_sold = df_funnel.iloc[df_funnel['sale_amount'].dropna().index.values]"
   ]
  },
  {
   "cell_type": "code",
   "execution_count": 171,
   "metadata": {},
   "outputs": [
    {
     "data": {
      "text/plain": [
       "array([78108., 70386., 57006., ..., 60872., 27456.,  5845.])"
      ]
     },
     "execution_count": 171,
     "metadata": {},
     "output_type": "execute_result"
    }
   ],
   "source": [
    "df_funnel_sold['feature_10'].values"
   ]
  },
  {
   "cell_type": "code",
   "execution_count": 1040,
   "metadata": {},
   "outputs": [
    {
     "data": {
      "text/plain": [
       "array([[1.        , 0.36102769],\n",
       "       [0.36102769, 1.        ]])"
      ]
     },
     "execution_count": 1040,
     "metadata": {},
     "output_type": "execute_result"
    }
   ],
   "source": [
    "np.corrcoef(df_funnel_sold['sale_amount'].values, df_funnel_sold['feat7_min_feat8'].fillna(0).values)"
   ]
  },
  {
   "cell_type": "code",
   "execution_count": 124,
   "metadata": {},
   "outputs": [
    {
     "data": {
      "text/plain": [
       "array([[1.        , 0.42769066],\n",
       "       [0.42769066, 1.        ]])"
      ]
     },
     "execution_count": 124,
     "metadata": {},
     "output_type": "execute_result"
    }
   ],
   "source": [
    "np.corrcoef(df_funnel['feature_2'].fillna(0).values, df_funnel['feature_7'].fillna(0).values)"
   ]
  },
  {
   "cell_type": "code",
   "execution_count": 125,
   "metadata": {},
   "outputs": [
    {
     "data": {
      "text/plain": [
       "array([[ 1.       , -0.2587954],\n",
       "       [-0.2587954,  1.       ]])"
      ]
     },
     "execution_count": 125,
     "metadata": {},
     "output_type": "execute_result"
    }
   ],
   "source": [
    "np.corrcoef(df_funnel['client_segment'].fillna(0).values, df_funnel['feature_7'].fillna(0).values)"
   ]
  },
  {
   "cell_type": "code",
   "execution_count": 126,
   "metadata": {},
   "outputs": [
    {
     "data": {
      "image/png": "[encoded data removed]",
      "text/plain": [
       "<Figure size 720x504 with 1 Axes>"
      ]
     },
     "metadata": {
      "needs_background": "light"
     },
     "output_type": "display_data"
    }
   ],
   "source": [
    "a = df_funnel['feature_8'].values * ( df_funnel['feature_9'] / 100 + 1) \n",
    "ratio = df_funnel['feature_7'] / a.values\n",
    "plt.figure(figsize=(10,7))\n",
    "plt.hist(ratio, bins=50, range=(0,5))\n",
    "plt.show()"
   ]
  },
  {
   "cell_type": "code",
   "execution_count": 127,
   "metadata": {},
   "outputs": [
    {
     "data": {
      "text/plain": [
       "792"
      ]
     },
     "execution_count": 127,
     "metadata": {},
     "output_type": "execute_result"
    }
   ],
   "source": [
    "sum(ratio.values > 2)"
   ]
  },
  {
   "cell_type": "code",
   "execution_count": 128,
   "metadata": {},
   "outputs": [
    {
     "data": {
      "text/plain": [
       "array([[1.        , 0.55783966],\n",
       "       [0.55783966, 1.        ]])"
      ]
     },
     "execution_count": 128,
     "metadata": {},
     "output_type": "execute_result"
    }
   ],
   "source": [
    "np.corrcoef(df_funnel['feature_10'].fillna(0).values, df_funnel['feat7_min_feat8'].fillna(0).values)"
   ]
  },
  {
   "cell_type": "code",
   "execution_count": null,
   "metadata": {},
   "outputs": [],
   "source": []
  },
  {
   "cell_type": "code",
   "execution_count": null,
   "metadata": {},
   "outputs": [],
   "source": []
  },
  {
   "cell_type": "markdown",
   "metadata": {},
   "source": [
    "# payments.csv"
   ]
  },
  {
   "cell_type": "code",
   "execution_count": 116,
   "metadata": {},
   "outputs": [
    {
     "data": {
      "text/html": [
       "<div>\n",
       "<style scoped>\n",
       "    .dataframe tbody tr th:only-of-type {\n",
       "        vertical-align: middle;\n",
       "    }\n",
       "\n",
       "    .dataframe tbody tr th {\n",
       "        vertical-align: top;\n",
       "    }\n",
       "\n",
       "    .dataframe thead th {\n",
       "        text-align: right;\n",
       "    }\n",
       "</style>\n",
       "<table border=\"1\" class=\"dataframe\">\n",
       "  <thead>\n",
       "    <tr style=\"text-align: right;\">\n",
       "      <th></th>\n",
       "      <th>client_id</th>\n",
       "      <th>day_dt</th>\n",
       "      <th>sum_rur</th>\n",
       "      <th>pmnts_name</th>\n",
       "      <th>pmnts_name_bool</th>\n",
       "    </tr>\n",
       "  </thead>\n",
       "  <tbody>\n",
       "    <tr>\n",
       "      <th>32</th>\n",
       "      <td>-2918739578801888500</td>\n",
       "      <td>2019-02-10</td>\n",
       "      <td>155120.0</td>\n",
       "      <td>Salary receipts</td>\n",
       "      <td>0</td>\n",
       "    </tr>\n",
       "    <tr>\n",
       "      <th>33</th>\n",
       "      <td>-2918739578801888500</td>\n",
       "      <td>2019-04-24</td>\n",
       "      <td>38077.0</td>\n",
       "      <td>Salary receipts</td>\n",
       "      <td>0</td>\n",
       "    </tr>\n",
       "    <tr>\n",
       "      <th>34</th>\n",
       "      <td>-2918739578801888500</td>\n",
       "      <td>2019-05-25</td>\n",
       "      <td>58469.0</td>\n",
       "      <td>Salary receipts</td>\n",
       "      <td>0</td>\n",
       "    </tr>\n",
       "    <tr>\n",
       "      <th>35</th>\n",
       "      <td>-2918739578801888500</td>\n",
       "      <td>2019-04-10</td>\n",
       "      <td>166009.0</td>\n",
       "      <td>Salary receipts</td>\n",
       "      <td>0</td>\n",
       "    </tr>\n",
       "    <tr>\n",
       "      <th>36</th>\n",
       "      <td>-2918739578801888500</td>\n",
       "      <td>2019-05-08</td>\n",
       "      <td>27455.0</td>\n",
       "      <td>Salary receipts</td>\n",
       "      <td>0</td>\n",
       "    </tr>\n",
       "  </tbody>\n",
       "</table>\n",
       "</div>"
      ],
      "text/plain": [
       "              client_id      day_dt   sum_rur       pmnts_name  \\\n",
       "32 -2918739578801888500  2019-02-10  155120.0  Salary receipts   \n",
       "33 -2918739578801888500  2019-04-24   38077.0  Salary receipts   \n",
       "34 -2918739578801888500  2019-05-25   58469.0  Salary receipts   \n",
       "35 -2918739578801888500  2019-04-10  166009.0  Salary receipts   \n",
       "36 -2918739578801888500  2019-05-08   27455.0  Salary receipts   \n",
       "\n",
       "    pmnts_name_bool  \n",
       "32                0  \n",
       "33                0  \n",
       "34                0  \n",
       "35                0  \n",
       "36                0  "
      ]
     },
     "execution_count": 116,
     "metadata": {},
     "output_type": "execute_result"
    }
   ],
   "source": [
    "df_payments.head()"
   ]
  },
  {
   "cell_type": "code",
   "execution_count": 117,
   "metadata": {},
   "outputs": [
    {
     "data": {
      "text/plain": [
       "Salary receipts     112294\n",
       "Pension receipts      3807\n",
       "Name: pmnts_name, dtype: int64"
      ]
     },
     "execution_count": 117,
     "metadata": {},
     "output_type": "execute_result"
    }
   ],
   "source": [
    "df_payments['pmnts_name'].value_counts()"
   ]
  },
  {
   "cell_type": "code",
   "execution_count": 118,
   "metadata": {},
   "outputs": [
    {
     "data": {
      "image/png": "[encoded data removed]",
      "text/plain": [
       "<Figure size 432x288 with 1 Axes>"
      ]
     },
     "metadata": {
      "needs_background": "light"
     },
     "output_type": "display_data"
    }
   ],
   "source": [
    "plt.hist(df_payments['sum_rur'], bins=50, range=(0, 1e5))\n",
    "plt.show()"
   ]
  },
  {
   "cell_type": "code",
   "execution_count": 119,
   "metadata": {},
   "outputs": [],
   "source": [
    "df_payments[\"pmnts_name_bool\"] = (df_payments[\"pmnts_name\"] == 'Pension receipts').astype('int64')\n",
    "df_payments_grouped = df_payments.groupby(by=\"client_id\", as_index=False, sort=False)[\"pmnts_name_bool\"]\n",
    "df_payments_grouped_max = df_payments_grouped.mean()\n",
    "# df_aum_grouped_max = df_aum_grouped_max.fillna(0)\n",
    "feat = df_payments_grouped_max[\"pmnts_name_bool\"].values"
   ]
  },
  {
   "cell_type": "code",
   "execution_count": 121,
   "metadata": {},
   "outputs": [
    {
     "data": {
      "text/plain": [
       "5425"
      ]
     },
     "execution_count": 121,
     "metadata": {},
     "output_type": "execute_result"
    }
   ],
   "source": [
    "len(np.unique(df_payments.client_id))"
   ]
  },
  {
   "cell_type": "code",
   "execution_count": 122,
   "metadata": {},
   "outputs": [],
   "source": [
    "df_funnel_selected = df_funnel.loc[df_funnel['client_id'].isin(df_payments_grouped_max.client_id.values)]\n",
    "df_funnel_selected_shuffled = df_funnel_selected.set_index('client_id')\n",
    "df_funnel_selected_shuffled = df_funnel_selected_shuffled.reindex(index=df_payments_grouped_max['client_id'])\n",
    "df_funnel_selected_shuffled = df_funnel_selected_shuffled.reset_index()"
   ]
  },
  {
   "cell_type": "code",
   "execution_count": 123,
   "metadata": {},
   "outputs": [
    {
     "data": {
      "text/plain": [
       "array([[ 1.        , -0.00739006],\n",
       "       [-0.00739006,  1.        ]])"
      ]
     },
     "execution_count": 123,
     "metadata": {},
     "output_type": "execute_result"
    }
   ],
   "source": [
    "y_selected = df_funnel_selected_shuffled['sale_flg'].values\n",
    "np.corrcoef(y_selected, feat)"
   ]
  },
  {
   "cell_type": "code",
   "execution_count": 124,
   "metadata": {},
   "outputs": [],
   "source": [
    "# df_outer = pd.merge(df_funnel, df_payments_grouped_max, on='client_id', how='left')"
   ]
  },
  {
   "cell_type": "code",
   "execution_count": 125,
   "metadata": {},
   "outputs": [
    {
     "data": {
      "text/plain": [
       "5425"
      ]
     },
     "execution_count": 125,
     "metadata": {},
     "output_type": "execute_result"
    }
   ],
   "source": [
    "len(y_selected)"
   ]
  },
  {
   "cell_type": "code",
   "execution_count": 126,
   "metadata": {},
   "outputs": [
    {
     "data": {
      "text/plain": [
       "2464"
      ]
     },
     "execution_count": 126,
     "metadata": {},
     "output_type": "execute_result"
    }
   ],
   "source": [
    "sum(y_selected)"
   ]
  },
  {
   "cell_type": "code",
   "execution_count": 109,
   "metadata": {},
   "outputs": [],
   "source": [
    "df_payments_grouped = df_aum.groupby(by=\"client_id\", as_index=False, sort=False)[\"balance_rur_amt\"]\n",
    "df_payments_grouped_max = df_payments_grouped.max()\n",
    "df_payments_grouped_max = df_payments_grouped_max.fillna(0)\n",
    "feat = df_payments_grouped_max[\"balance_rur_amt\"].values"
   ]
  },
  {
   "cell_type": "code",
   "execution_count": 110,
   "metadata": {},
   "outputs": [],
   "source": [
    "df_funnel_selected = df_funnel.loc[df_funnel['client_id'].isin(df_payments_grouped_max.client_id.values)]\n",
    "df_funnel_selected_shuffled = df_funnel_selected.set_index('client_id')\n",
    "df_funnel_selected_shuffled = df_funnel_selected_shuffled.reindex(index=df_payments_grouped_max['client_id'])\n",
    "df_funnel_selected_shuffled = df_funnel_selected_shuffled.reset_index()"
   ]
  },
  {
   "cell_type": "code",
   "execution_count": 111,
   "metadata": {},
   "outputs": [
    {
     "data": {
      "text/html": [
       "<div>\n",
       "<style scoped>\n",
       "    .dataframe tbody tr th:only-of-type {\n",
       "        vertical-align: middle;\n",
       "    }\n",
       "\n",
       "    .dataframe tbody tr th {\n",
       "        vertical-align: top;\n",
       "    }\n",
       "\n",
       "    .dataframe thead th {\n",
       "        text-align: right;\n",
       "    }\n",
       "</style>\n",
       "<table border=\"1\" class=\"dataframe\">\n",
       "  <thead>\n",
       "    <tr style=\"text-align: right;\">\n",
       "      <th></th>\n",
       "      <th>client_id</th>\n",
       "      <th>balance_rur_amt</th>\n",
       "    </tr>\n",
       "  </thead>\n",
       "  <tbody>\n",
       "    <tr>\n",
       "      <th>6977</th>\n",
       "      <td>2573668815005981530</td>\n",
       "      <td>29747.0</td>\n",
       "    </tr>\n",
       "    <tr>\n",
       "      <th>6978</th>\n",
       "      <td>-7500774652734072252</td>\n",
       "      <td>391.0</td>\n",
       "    </tr>\n",
       "    <tr>\n",
       "      <th>6979</th>\n",
       "      <td>-6601783320506447993</td>\n",
       "      <td>1168336.0</td>\n",
       "    </tr>\n",
       "    <tr>\n",
       "      <th>6980</th>\n",
       "      <td>895971972967899485</td>\n",
       "      <td>36919.0</td>\n",
       "    </tr>\n",
       "    <tr>\n",
       "      <th>6981</th>\n",
       "      <td>-5735935511373044848</td>\n",
       "      <td>37021.0</td>\n",
       "    </tr>\n",
       "    <tr>\n",
       "      <th>6982</th>\n",
       "      <td>6990548184631195402</td>\n",
       "      <td>4628.0</td>\n",
       "    </tr>\n",
       "    <tr>\n",
       "      <th>6983</th>\n",
       "      <td>-779309569391551027</td>\n",
       "      <td>37764.0</td>\n",
       "    </tr>\n",
       "    <tr>\n",
       "      <th>6984</th>\n",
       "      <td>2014661224537242110</td>\n",
       "      <td>3730.0</td>\n",
       "    </tr>\n",
       "    <tr>\n",
       "      <th>6985</th>\n",
       "      <td>7797789328120269779</td>\n",
       "      <td>33218.0</td>\n",
       "    </tr>\n",
       "    <tr>\n",
       "      <th>6986</th>\n",
       "      <td>161383671559828442</td>\n",
       "      <td>121412.0</td>\n",
       "    </tr>\n",
       "  </tbody>\n",
       "</table>\n",
       "</div>"
      ],
      "text/plain": [
       "                client_id  balance_rur_amt\n",
       "6977  2573668815005981530          29747.0\n",
       "6978 -7500774652734072252            391.0\n",
       "6979 -6601783320506447993        1168336.0\n",
       "6980   895971972967899485          36919.0\n",
       "6981 -5735935511373044848          37021.0\n",
       "6982  6990548184631195402           4628.0\n",
       "6983  -779309569391551027          37764.0\n",
       "6984  2014661224537242110           3730.0\n",
       "6985  7797789328120269779          33218.0\n",
       "6986   161383671559828442         121412.0"
      ]
     },
     "execution_count": 111,
     "metadata": {},
     "output_type": "execute_result"
    }
   ],
   "source": [
    "df_payments_grouped_max.tail(10)"
   ]
  },
  {
   "cell_type": "code",
   "execution_count": 112,
   "metadata": {},
   "outputs": [
    {
     "data": {
      "text/plain": [
       "array([[ 1.        , -0.00456379],\n",
       "       [-0.00456379,  1.        ]])"
      ]
     },
     "execution_count": 112,
     "metadata": {},
     "output_type": "execute_result"
    }
   ],
   "source": [
    "y_selected = df_funnel_selected['sale_flg'].values\n",
    "np.corrcoef(y_selected, feat)"
   ]
  },
  {
   "cell_type": "code",
   "execution_count": null,
   "metadata": {},
   "outputs": [],
   "source": []
  },
  {
   "cell_type": "code",
   "execution_count": 113,
   "metadata": {},
   "outputs": [
    {
     "data": {
      "text/plain": [
       "array([[ 1.       , -0.3928143],\n",
       "       [-0.3928143,  1.       ]])"
      ]
     },
     "execution_count": 113,
     "metadata": {},
     "output_type": "execute_result"
    }
   ],
   "source": [
    "np.corrcoef(df_funnel.fillna(0).region_cd, df_client.fillna(0).region)"
   ]
  },
  {
   "cell_type": "code",
   "execution_count": 114,
   "metadata": {},
   "outputs": [
    {
     "data": {
      "text/html": [
       "<div>\n",
       "<style scoped>\n",
       "    .dataframe tbody tr th:only-of-type {\n",
       "        vertical-align: middle;\n",
       "    }\n",
       "\n",
       "    .dataframe tbody tr th {\n",
       "        vertical-align: top;\n",
       "    }\n",
       "\n",
       "    .dataframe thead th {\n",
       "        text-align: right;\n",
       "    }\n",
       "</style>\n",
       "<table border=\"1\" class=\"dataframe\">\n",
       "  <thead>\n",
       "    <tr style=\"text-align: right;\">\n",
       "      <th></th>\n",
       "      <th>client_id</th>\n",
       "      <th>sale_flg</th>\n",
       "      <th>sale_amount</th>\n",
       "      <th>contacts</th>\n",
       "      <th>feature_1</th>\n",
       "      <th>client_segment</th>\n",
       "      <th>feature_2</th>\n",
       "      <th>feature_3</th>\n",
       "      <th>feature_4</th>\n",
       "      <th>feature_5</th>\n",
       "      <th>feature_6</th>\n",
       "      <th>feature_7</th>\n",
       "      <th>feature_8</th>\n",
       "      <th>feature_9</th>\n",
       "      <th>feature_10</th>\n",
       "      <th>region_cd</th>\n",
       "      <th>feat7_min_feat8</th>\n",
       "    </tr>\n",
       "  </thead>\n",
       "  <tbody>\n",
       "    <tr>\n",
       "      <th>4</th>\n",
       "      <td>-8156468515495593794</td>\n",
       "      <td>1</td>\n",
       "      <td>138018.05</td>\n",
       "      <td>1</td>\n",
       "      <td>7</td>\n",
       "      <td>14.0</td>\n",
       "      <td>3642369.0</td>\n",
       "      <td>97156.0</td>\n",
       "      <td>81488.0</td>\n",
       "      <td>0.0</td>\n",
       "      <td>160308.0</td>\n",
       "      <td>3642369.0</td>\n",
       "      <td>3314257.0</td>\n",
       "      <td>10.4</td>\n",
       "      <td>78108.0</td>\n",
       "      <td>27.0</td>\n",
       "      <td>328112.0</td>\n",
       "    </tr>\n",
       "    <tr>\n",
       "      <th>5</th>\n",
       "      <td>-2918739578801888500</td>\n",
       "      <td>1</td>\n",
       "      <td>121907.95</td>\n",
       "      <td>1</td>\n",
       "      <td>7</td>\n",
       "      <td>1.0</td>\n",
       "      <td>4212398.0</td>\n",
       "      <td>151894.0</td>\n",
       "      <td>73012.0</td>\n",
       "      <td>161463.0</td>\n",
       "      <td>265647.0</td>\n",
       "      <td>3520957.0</td>\n",
       "      <td>567525.0</td>\n",
       "      <td>7.4</td>\n",
       "      <td>70386.0</td>\n",
       "      <td>77.0</td>\n",
       "      <td>2953432.0</td>\n",
       "    </tr>\n",
       "    <tr>\n",
       "      <th>6</th>\n",
       "      <td>-4569470415387261653</td>\n",
       "      <td>0</td>\n",
       "      <td>NaN</td>\n",
       "      <td>2</td>\n",
       "      <td>1</td>\n",
       "      <td>8.0</td>\n",
       "      <td>1000940.0</td>\n",
       "      <td>15992.0</td>\n",
       "      <td>11534.0</td>\n",
       "      <td>0.0</td>\n",
       "      <td>83000.0</td>\n",
       "      <td>736973.0</td>\n",
       "      <td>624553.0</td>\n",
       "      <td>10.9</td>\n",
       "      <td>15987.0</td>\n",
       "      <td>56.0</td>\n",
       "      <td>112420.0</td>\n",
       "    </tr>\n",
       "    <tr>\n",
       "      <th>7</th>\n",
       "      <td>497866795935220651</td>\n",
       "      <td>0</td>\n",
       "      <td>NaN</td>\n",
       "      <td>1</td>\n",
       "      <td>13</td>\n",
       "      <td>3.0</td>\n",
       "      <td>6070615.0</td>\n",
       "      <td>1927.0</td>\n",
       "      <td>30014.0</td>\n",
       "      <td>33300.0</td>\n",
       "      <td>19302.0</td>\n",
       "      <td>94702.0</td>\n",
       "      <td>72847.0</td>\n",
       "      <td>7.9</td>\n",
       "      <td>1936.0</td>\n",
       "      <td>52.0</td>\n",
       "      <td>21855.0</td>\n",
       "    </tr>\n",
       "    <tr>\n",
       "      <th>10</th>\n",
       "      <td>-1093433514453846397</td>\n",
       "      <td>0</td>\n",
       "      <td>NaN</td>\n",
       "      <td>1</td>\n",
       "      <td>9</td>\n",
       "      <td>9.0</td>\n",
       "      <td>1821184.0</td>\n",
       "      <td>5425.0</td>\n",
       "      <td>3715.0</td>\n",
       "      <td>0.0</td>\n",
       "      <td>16073.0</td>\n",
       "      <td>205187.0</td>\n",
       "      <td>157836.0</td>\n",
       "      <td>19.9</td>\n",
       "      <td>5425.0</td>\n",
       "      <td>42.0</td>\n",
       "      <td>47351.0</td>\n",
       "    </tr>\n",
       "    <tr>\n",
       "      <th>...</th>\n",
       "      <td>...</td>\n",
       "      <td>...</td>\n",
       "      <td>...</td>\n",
       "      <td>...</td>\n",
       "      <td>...</td>\n",
       "      <td>...</td>\n",
       "      <td>...</td>\n",
       "      <td>...</td>\n",
       "      <td>...</td>\n",
       "      <td>...</td>\n",
       "      <td>...</td>\n",
       "      <td>...</td>\n",
       "      <td>...</td>\n",
       "      <td>...</td>\n",
       "      <td>...</td>\n",
       "      <td>...</td>\n",
       "      <td>...</td>\n",
       "    </tr>\n",
       "    <tr>\n",
       "      <th>21483</th>\n",
       "      <td>-8727103852075923180</td>\n",
       "      <td>1</td>\n",
       "      <td>21016.60</td>\n",
       "      <td>1</td>\n",
       "      <td>8</td>\n",
       "      <td>1.0</td>\n",
       "      <td>1461684.0</td>\n",
       "      <td>45055.0</td>\n",
       "      <td>47875.0</td>\n",
       "      <td>133524.0</td>\n",
       "      <td>102569.0</td>\n",
       "      <td>1461804.0</td>\n",
       "      <td>1281161.0</td>\n",
       "      <td>13.9</td>\n",
       "      <td>33938.0</td>\n",
       "      <td>86.0</td>\n",
       "      <td>180643.0</td>\n",
       "    </tr>\n",
       "    <tr>\n",
       "      <th>21484</th>\n",
       "      <td>8867503270592066463</td>\n",
       "      <td>1</td>\n",
       "      <td>50289.70</td>\n",
       "      <td>2</td>\n",
       "      <td>8</td>\n",
       "      <td>14.0</td>\n",
       "      <td>2428246.0</td>\n",
       "      <td>74158.0</td>\n",
       "      <td>47571.0</td>\n",
       "      <td>0.0</td>\n",
       "      <td>244516.0</td>\n",
       "      <td>2428246.0</td>\n",
       "      <td>1481577.0</td>\n",
       "      <td>17.4</td>\n",
       "      <td>60872.0</td>\n",
       "      <td>71.0</td>\n",
       "      <td>946669.0</td>\n",
       "    </tr>\n",
       "    <tr>\n",
       "      <th>21491</th>\n",
       "      <td>6124360150058591747</td>\n",
       "      <td>0</td>\n",
       "      <td>NaN</td>\n",
       "      <td>1</td>\n",
       "      <td>9</td>\n",
       "      <td>14.0</td>\n",
       "      <td>1821184.0</td>\n",
       "      <td>9215.0</td>\n",
       "      <td>18543.0</td>\n",
       "      <td>0.0</td>\n",
       "      <td>46374.0</td>\n",
       "      <td>348453.0</td>\n",
       "      <td>287978.0</td>\n",
       "      <td>19.9</td>\n",
       "      <td>9212.0</td>\n",
       "      <td>66.0</td>\n",
       "      <td>60475.0</td>\n",
       "    </tr>\n",
       "    <tr>\n",
       "      <th>21492</th>\n",
       "      <td>6304729431024445752</td>\n",
       "      <td>1</td>\n",
       "      <td>52367.45</td>\n",
       "      <td>1</td>\n",
       "      <td>8</td>\n",
       "      <td>3.0</td>\n",
       "      <td>2428246.0</td>\n",
       "      <td>27460.0</td>\n",
       "      <td>44014.0</td>\n",
       "      <td>26817.0</td>\n",
       "      <td>84454.0</td>\n",
       "      <td>1195911.0</td>\n",
       "      <td>480452.0</td>\n",
       "      <td>13.4</td>\n",
       "      <td>27456.0</td>\n",
       "      <td>66.0</td>\n",
       "      <td>715459.0</td>\n",
       "    </tr>\n",
       "    <tr>\n",
       "      <th>21496</th>\n",
       "      <td>-2264802671063321355</td>\n",
       "      <td>1</td>\n",
       "      <td>43882.85</td>\n",
       "      <td>2</td>\n",
       "      <td>8</td>\n",
       "      <td>4.0</td>\n",
       "      <td>2282408.0</td>\n",
       "      <td>5832.0</td>\n",
       "      <td>16185.0</td>\n",
       "      <td>0.0</td>\n",
       "      <td>82182.0</td>\n",
       "      <td>230683.0</td>\n",
       "      <td>177449.0</td>\n",
       "      <td>17.9</td>\n",
       "      <td>5845.0</td>\n",
       "      <td>59.0</td>\n",
       "      <td>53234.0</td>\n",
       "    </tr>\n",
       "  </tbody>\n",
       "</table>\n",
       "<p>9042 rows × 17 columns</p>\n",
       "</div>"
      ],
      "text/plain": [
       "                 client_id  sale_flg  sale_amount  contacts  feature_1  \\\n",
       "4     -8156468515495593794         1    138018.05         1          7   \n",
       "5     -2918739578801888500         1    121907.95         1          7   \n",
       "6     -4569470415387261653         0          NaN         2          1   \n",
       "7       497866795935220651         0          NaN         1         13   \n",
       "10    -1093433514453846397         0          NaN         1          9   \n",
       "...                    ...       ...          ...       ...        ...   \n",
       "21483 -8727103852075923180         1     21016.60         1          8   \n",
       "21484  8867503270592066463         1     50289.70         2          8   \n",
       "21491  6124360150058591747         0          NaN         1          9   \n",
       "21492  6304729431024445752         1     52367.45         1          8   \n",
       "21496 -2264802671063321355         1     43882.85         2          8   \n",
       "\n",
       "       client_segment  feature_2  feature_3  feature_4  feature_5  feature_6  \\\n",
       "4                14.0  3642369.0    97156.0    81488.0        0.0   160308.0   \n",
       "5                 1.0  4212398.0   151894.0    73012.0   161463.0   265647.0   \n",
       "6                 8.0  1000940.0    15992.0    11534.0        0.0    83000.0   \n",
       "7                 3.0  6070615.0     1927.0    30014.0    33300.0    19302.0   \n",
       "10                9.0  1821184.0     5425.0     3715.0        0.0    16073.0   \n",
       "...               ...        ...        ...        ...        ...        ...   \n",
       "21483             1.0  1461684.0    45055.0    47875.0   133524.0   102569.0   \n",
       "21484            14.0  2428246.0    74158.0    47571.0        0.0   244516.0   \n",
       "21491            14.0  1821184.0     9215.0    18543.0        0.0    46374.0   \n",
       "21492             3.0  2428246.0    27460.0    44014.0    26817.0    84454.0   \n",
       "21496             4.0  2282408.0     5832.0    16185.0        0.0    82182.0   \n",
       "\n",
       "       feature_7  feature_8  feature_9  feature_10  region_cd  feat7_min_feat8  \n",
       "4      3642369.0  3314257.0       10.4     78108.0       27.0         328112.0  \n",
       "5      3520957.0   567525.0        7.4     70386.0       77.0        2953432.0  \n",
       "6       736973.0   624553.0       10.9     15987.0       56.0         112420.0  \n",
       "7        94702.0    72847.0        7.9      1936.0       52.0          21855.0  \n",
       "10      205187.0   157836.0       19.9      5425.0       42.0          47351.0  \n",
       "...          ...        ...        ...         ...        ...              ...  \n",
       "21483  1461804.0  1281161.0       13.9     33938.0       86.0         180643.0  \n",
       "21484  2428246.0  1481577.0       17.4     60872.0       71.0         946669.0  \n",
       "21491   348453.0   287978.0       19.9      9212.0       66.0          60475.0  \n",
       "21492  1195911.0   480452.0       13.4     27456.0       66.0         715459.0  \n",
       "21496   230683.0   177449.0       17.9      5845.0       59.0          53234.0  \n",
       "\n",
       "[9042 rows x 17 columns]"
      ]
     },
     "execution_count": 114,
     "metadata": {},
     "output_type": "execute_result"
    }
   ],
   "source": [
    "df_funnel"
   ]
  },
  {
   "cell_type": "code",
   "execution_count": 115,
   "metadata": {},
   "outputs": [
    {
     "name": "stdout",
     "output_type": "stream",
     "text": [
      "client_segment:  1.0\n",
      "0.53\n",
      "num:  2049\n",
      " \n",
      "client_segment:  2.0\n",
      "0.52\n",
      "num:  297\n",
      " \n",
      "client_segment:  3.0\n",
      "0.42\n",
      "num:  1922\n",
      " \n",
      "client_segment:  4.0\n",
      "0.41\n",
      "num:  1087\n",
      " \n",
      "client_segment:  6.0\n",
      "0.44\n",
      "num:  39\n",
      " \n",
      "client_segment:  7.0\n",
      "0.4\n",
      "num:  168\n",
      " \n",
      "client_segment:  8.0\n",
      "0.42\n",
      "num:  332\n",
      " \n",
      "client_segment:  15.0\n",
      "0.36\n",
      "num:  162\n",
      " \n",
      "client_segment:  16.0\n",
      "0.38\n",
      "num:  560\n",
      " \n"
     ]
    }
   ],
   "source": [
    "good_client = []\n",
    "for val in np.unique(df_funnel.dropna().client_segment.values):\n",
    "    df_funnel_selected_reg = df_funnel.query(\"client_segment == \" + str(val))\n",
    "    df_funnel_selected = df_funnel.loc[df_funnel['client_id'].isin(df_funnel_selected_reg.client_id.values)]\n",
    "    r = sum(df_funnel_selected.sale_flg.values) / len(df_funnel_selected.sale_flg.values)\n",
    "\n",
    "    if r > 0.3 and len(df_funnel_selected) > 10:\n",
    "        print('client_segment: ', val)\n",
    "        print(np.round(r,2))\n",
    "        print('num: ', len(df_funnel_selected))\n",
    "        print(' ')\n",
    "        \n",
    "        good_client.append(val)"
   ]
  },
  {
   "cell_type": "markdown",
   "metadata": {},
   "source": [
    "# trxn.csv"
   ]
  },
  {
   "cell_type": "code",
   "execution_count": 154,
   "metadata": {},
   "outputs": [
    {
     "data": {
      "text/html": [
       "<div>\n",
       "<style scoped>\n",
       "    .dataframe tbody tr th:only-of-type {\n",
       "        vertical-align: middle;\n",
       "    }\n",
       "\n",
       "    .dataframe tbody tr th {\n",
       "        vertical-align: top;\n",
       "    }\n",
       "\n",
       "    .dataframe thead th {\n",
       "        text-align: right;\n",
       "    }\n",
       "</style>\n",
       "<table border=\"1\" class=\"dataframe\">\n",
       "  <thead>\n",
       "    <tr style=\"text-align: right;\">\n",
       "      <th></th>\n",
       "      <th>client_id</th>\n",
       "      <th>card_id</th>\n",
       "      <th>tran_time</th>\n",
       "      <th>tran_amt_rur</th>\n",
       "      <th>mcc_cd</th>\n",
       "      <th>merchant_cd</th>\n",
       "      <th>txn_country</th>\n",
       "      <th>txn_city</th>\n",
       "      <th>tsp_name</th>\n",
       "      <th>txn_comment_1</th>\n",
       "      <th>txn_comment_2</th>\n",
       "    </tr>\n",
       "  </thead>\n",
       "  <tbody>\n",
       "    <tr>\n",
       "      <th>10</th>\n",
       "      <td>-4569470415387261653</td>\n",
       "      <td>-6412558398403838420</td>\n",
       "      <td>2019-07-03 13:08:09</td>\n",
       "      <td>78918.0</td>\n",
       "      <td>6011.0</td>\n",
       "      <td>1652474843146974156</td>\n",
       "      <td>RUS</td>\n",
       "      <td>ORSK</td>\n",
       "      <td>OFIS PAO BINBANK</td>\n",
       "      <td>Cash withdrawal through an ATM</td>\n",
       "      <td>NaN</td>\n",
       "    </tr>\n",
       "    <tr>\n",
       "      <th>11</th>\n",
       "      <td>497866795935220651</td>\n",
       "      <td>-906692339483884238</td>\n",
       "      <td>2019-07-10 00:56:31</td>\n",
       "      <td>4249.0</td>\n",
       "      <td>6011.0</td>\n",
       "      <td>3967370607447365704</td>\n",
       "      <td>RUS</td>\n",
       "      <td>KSTOVO</td>\n",
       "      <td>GAZPROMBANK</td>\n",
       "      <td>Cash withdrawal through an ATM</td>\n",
       "      <td>NaN</td>\n",
       "    </tr>\n",
       "    <tr>\n",
       "      <th>12</th>\n",
       "      <td>497866795935220651</td>\n",
       "      <td>-906692339483884238</td>\n",
       "      <td>2019-07-07 21:36:22</td>\n",
       "      <td>6071.0</td>\n",
       "      <td>6011.0</td>\n",
       "      <td>3967370607447365704</td>\n",
       "      <td>RUS</td>\n",
       "      <td>KSTOVO</td>\n",
       "      <td>GAZPROMBANK</td>\n",
       "      <td>Cash withdrawal through an ATM</td>\n",
       "      <td>NaN</td>\n",
       "    </tr>\n",
       "    <tr>\n",
       "      <th>23</th>\n",
       "      <td>-330127410754871235</td>\n",
       "      <td>-5413591990581905103</td>\n",
       "      <td>2019-07-27 13:44:51</td>\n",
       "      <td>89845.0</td>\n",
       "      <td>6011.0</td>\n",
       "      <td>6671992430928680116</td>\n",
       "      <td>RUS</td>\n",
       "      <td>PENZA</td>\n",
       "      <td>OO NA MOSKOVSKOI</td>\n",
       "      <td>Cash withdrawal through an ATM</td>\n",
       "      <td>NaN</td>\n",
       "    </tr>\n",
       "    <tr>\n",
       "      <th>24</th>\n",
       "      <td>-330127410754871235</td>\n",
       "      <td>-5413591990581905103</td>\n",
       "      <td>2019-08-21 00:00:00</td>\n",
       "      <td>6071.0</td>\n",
       "      <td>6011.0</td>\n",
       "      <td>3967370607447365704</td>\n",
       "      <td>RUS</td>\n",
       "      <td>PENZA</td>\n",
       "      <td>SUVOROVA STR</td>\n",
       "      <td>Cash withdrawal through an ATM</td>\n",
       "      <td>NaN</td>\n",
       "    </tr>\n",
       "  </tbody>\n",
       "</table>\n",
       "</div>"
      ],
      "text/plain": [
       "              client_id              card_id            tran_time  \\\n",
       "10 -4569470415387261653 -6412558398403838420  2019-07-03 13:08:09   \n",
       "11   497866795935220651  -906692339483884238  2019-07-10 00:56:31   \n",
       "12   497866795935220651  -906692339483884238  2019-07-07 21:36:22   \n",
       "23  -330127410754871235 -5413591990581905103  2019-07-27 13:44:51   \n",
       "24  -330127410754871235 -5413591990581905103  2019-08-21 00:00:00   \n",
       "\n",
       "    tran_amt_rur  mcc_cd          merchant_cd txn_country txn_city  \\\n",
       "10       78918.0  6011.0  1652474843146974156         RUS     ORSK   \n",
       "11        4249.0  6011.0  3967370607447365704         RUS   KSTOVO   \n",
       "12        6071.0  6011.0  3967370607447365704         RUS   KSTOVO   \n",
       "23       89845.0  6011.0  6671992430928680116         RUS    PENZA   \n",
       "24        6071.0  6011.0  3967370607447365704         RUS    PENZA   \n",
       "\n",
       "            tsp_name                   txn_comment_1 txn_comment_2  \n",
       "10  OFIS PAO BINBANK  Cash withdrawal through an ATM           NaN  \n",
       "11       GAZPROMBANK  Cash withdrawal through an ATM           NaN  \n",
       "12       GAZPROMBANK  Cash withdrawal through an ATM           NaN  \n",
       "23  OO NA MOSKOVSKOI  Cash withdrawal through an ATM           NaN  \n",
       "24      SUVOROVA STR  Cash withdrawal through an ATM           NaN  "
      ]
     },
     "execution_count": 154,
     "metadata": {},
     "output_type": "execute_result"
    }
   ],
   "source": [
    "df_trxn.head()"
   ]
  },
  {
   "cell_type": "code",
   "execution_count": 167,
   "metadata": {},
   "outputs": [
    {
     "data": {
      "image/png": "[encoded data removed]",
      "text/plain": [
       "<Figure size 720x504 with 1 Axes>"
      ]
     },
     "metadata": {
      "needs_background": "light"
     },
     "output_type": "display_data"
    }
   ],
   "source": [
    "plt.figure(figsize=(10,7))\n",
    "plt.hist(df_trxn['merchant_cd'], bins = 50)\n",
    "plt.show()"
   ]
  },
  {
   "cell_type": "code",
   "execution_count": 247,
   "metadata": {},
   "outputs": [
    {
     "data": {
      "text/plain": [
       "OPEN.RU CARDCARD          101845\n",
       "WWW.OPENONLINE.RU         100230\n",
       "PYATEROCHKA                97681\n",
       "KRASNOE BELOE              57208\n",
       "ATM                        40321\n",
       "                           ...  \n",
       "UL. INTERNATSIONALNAYA         1\n",
       "IP SIPIN S.S.                  1\n",
       "MAGNIT MM OSTREIDA             1\n",
       "IP LYSIKOVA SG                 1\n",
       "TSN SNT STROITEL               1\n",
       "Name: tsp_name, Length: 112120, dtype: int64"
      ]
     },
     "execution_count": 247,
     "metadata": {},
     "output_type": "execute_result"
    }
   ],
   "source": [
    "df_trxn['tsp_name'].value_counts(dropna=False)"
   ]
  },
  {
   "cell_type": "code",
   "execution_count": 248,
   "metadata": {
    "scrolled": true
   },
   "outputs": [
    {
     "data": {
      "text/plain": [
       "Payment for goods and services     1750622\n",
       "Cash withdrawal through an ATM      156660\n",
       "Cashless transfer                   106721\n",
       "Payment by card (bank transfer)      37720\n",
       "Cash deposit by card                 29293\n",
       "Return of goods / services            5936\n",
       "Cash withdrawal                        848\n",
       "Name: txn_comment_1, dtype: int64"
      ]
     },
     "execution_count": 248,
     "metadata": {},
     "output_type": "execute_result"
    }
   ],
   "source": [
    "df_trxn['txn_comment_1'].value_counts(dropna=False)"
   ]
  },
  {
   "cell_type": "code",
   "execution_count": 249,
   "metadata": {},
   "outputs": [
    {
     "data": {
      "text/plain": [
       "NaN                       1803022\n",
       "<manual mode>              115555\n",
       "Opening Online             100230\n",
       "Purchase payment (web)      65244\n",
       "VISA MONEY TRANSFER          3743\n",
       "MASTERCARD MONEYSEND            6\n",
       "Name: txn_comment_2, dtype: int64"
      ]
     },
     "execution_count": 249,
     "metadata": {},
     "output_type": "execute_result"
    }
   ],
   "source": [
    "df_trxn['txn_comment_2'].value_counts(dropna=False)"
   ]
  },
  {
   "cell_type": "code",
   "execution_count": 296,
   "metadata": {},
   "outputs": [],
   "source": [
    "df_trxn_grouped = df_trxn.groupby(by=\"client_id\", as_index=False, sort=False)[\"mcc_cd\"]\n",
    "df_trxn_grouped_mean = df_trxn_grouped.std()\n",
    "df_trxn_grouped_mean = df_trxn_grouped_mean.fillna(0)\n",
    "feat = df_trxn_grouped_mean[\"mcc_cd\"].values"
   ]
  },
  {
   "cell_type": "code",
   "execution_count": 297,
   "metadata": {},
   "outputs": [],
   "source": [
    "df_funnel_selected = df_funnel.loc[df_funnel['client_id'].isin(df_trxn_grouped_mean.client_id.values)]\n",
    "df_funnel_selected_shuffled = df_funnel_selected.set_index('client_id')\n",
    "df_funnel_selected_shuffled = df_funnel_selected_shuffled.reindex(index=df_trxn_grouped_mean['client_id'])\n",
    "df_funnel_selected_shuffled = df_funnel_selected_shuffled.reset_index()"
   ]
  },
  {
   "cell_type": "code",
   "execution_count": 308,
   "metadata": {},
   "outputs": [
    {
     "data": {
      "image/png": "[encoded data removed]",
      "text/plain": [
       "<Figure size 432x288 with 1 Axes>"
      ]
     },
     "metadata": {
      "needs_background": "light"
     },
     "output_type": "display_data"
    }
   ],
   "source": [
    "plt.hist(df_trxn_grouped_mean.mcc_cd, bins=50)\n",
    "plt.show()"
   ]
  },
  {
   "cell_type": "code",
   "execution_count": 299,
   "metadata": {},
   "outputs": [
    {
     "data": {
      "text/plain": [
       "array([[ 1.        , -0.01110847],\n",
       "       [-0.01110847,  1.        ]])"
      ]
     },
     "execution_count": 299,
     "metadata": {},
     "output_type": "execute_result"
    }
   ],
   "source": [
    "y_selected = df_funnel_selected['sale_flg'].values\n",
    "np.corrcoef(y_selected, feat)"
   ]
  },
  {
   "cell_type": "code",
   "execution_count": 300,
   "metadata": {},
   "outputs": [
    {
     "data": {
      "text/html": [
       "<div>\n",
       "<style scoped>\n",
       "    .dataframe tbody tr th:only-of-type {\n",
       "        vertical-align: middle;\n",
       "    }\n",
       "\n",
       "    .dataframe tbody tr th {\n",
       "        vertical-align: top;\n",
       "    }\n",
       "\n",
       "    .dataframe thead th {\n",
       "        text-align: right;\n",
       "    }\n",
       "</style>\n",
       "<table border=\"1\" class=\"dataframe\">\n",
       "  <thead>\n",
       "    <tr style=\"text-align: right;\">\n",
       "      <th></th>\n",
       "      <th>client_id</th>\n",
       "      <th>mcc_cd</th>\n",
       "    </tr>\n",
       "  </thead>\n",
       "  <tbody>\n",
       "    <tr>\n",
       "      <th>0</th>\n",
       "      <td>-4569470415387261653</td>\n",
       "      <td>639.903962</td>\n",
       "    </tr>\n",
       "    <tr>\n",
       "      <th>1</th>\n",
       "      <td>497866795935220651</td>\n",
       "      <td>392.387473</td>\n",
       "    </tr>\n",
       "    <tr>\n",
       "      <th>2</th>\n",
       "      <td>-330127410754871235</td>\n",
       "      <td>471.098552</td>\n",
       "    </tr>\n",
       "    <tr>\n",
       "      <th>3</th>\n",
       "      <td>-8220943058821961411</td>\n",
       "      <td>612.532758</td>\n",
       "    </tr>\n",
       "    <tr>\n",
       "      <th>4</th>\n",
       "      <td>377141127543547866</td>\n",
       "      <td>734.691310</td>\n",
       "    </tr>\n",
       "    <tr>\n",
       "      <th>5</th>\n",
       "      <td>-5924052245502407994</td>\n",
       "      <td>390.700722</td>\n",
       "    </tr>\n",
       "    <tr>\n",
       "      <th>6</th>\n",
       "      <td>-6415375684334379970</td>\n",
       "      <td>0.000000</td>\n",
       "    </tr>\n",
       "    <tr>\n",
       "      <th>7</th>\n",
       "      <td>1056524954426057293</td>\n",
       "      <td>686.742414</td>\n",
       "    </tr>\n",
       "    <tr>\n",
       "      <th>8</th>\n",
       "      <td>1385805512840068341</td>\n",
       "      <td>528.356792</td>\n",
       "    </tr>\n",
       "    <tr>\n",
       "      <th>9</th>\n",
       "      <td>625848590982096381</td>\n",
       "      <td>407.571539</td>\n",
       "    </tr>\n",
       "    <tr>\n",
       "      <th>10</th>\n",
       "      <td>-5760323390404651514</td>\n",
       "      <td>420.493105</td>\n",
       "    </tr>\n",
       "    <tr>\n",
       "      <th>11</th>\n",
       "      <td>-1833871080683731911</td>\n",
       "      <td>793.071767</td>\n",
       "    </tr>\n",
       "    <tr>\n",
       "      <th>12</th>\n",
       "      <td>8391302318502103056</td>\n",
       "      <td>861.533518</td>\n",
       "    </tr>\n",
       "    <tr>\n",
       "      <th>13</th>\n",
       "      <td>7204827006754532528</td>\n",
       "      <td>883.408536</td>\n",
       "    </tr>\n",
       "    <tr>\n",
       "      <th>14</th>\n",
       "      <td>-3513927318215058789</td>\n",
       "      <td>592.769894</td>\n",
       "    </tr>\n",
       "    <tr>\n",
       "      <th>15</th>\n",
       "      <td>-6700084446760539639</td>\n",
       "      <td>395.841017</td>\n",
       "    </tr>\n",
       "    <tr>\n",
       "      <th>16</th>\n",
       "      <td>-9174455203665027034</td>\n",
       "      <td>438.314513</td>\n",
       "    </tr>\n",
       "    <tr>\n",
       "      <th>17</th>\n",
       "      <td>-3875276066702627633</td>\n",
       "      <td>465.523894</td>\n",
       "    </tr>\n",
       "    <tr>\n",
       "      <th>18</th>\n",
       "      <td>7235569438598503140</td>\n",
       "      <td>657.154077</td>\n",
       "    </tr>\n",
       "    <tr>\n",
       "      <th>19</th>\n",
       "      <td>8197240339960091537</td>\n",
       "      <td>384.877059</td>\n",
       "    </tr>\n",
       "  </tbody>\n",
       "</table>\n",
       "</div>"
      ],
      "text/plain": [
       "              client_id      mcc_cd\n",
       "0  -4569470415387261653  639.903962\n",
       "1    497866795935220651  392.387473\n",
       "2   -330127410754871235  471.098552\n",
       "3  -8220943058821961411  612.532758\n",
       "4    377141127543547866  734.691310\n",
       "5  -5924052245502407994  390.700722\n",
       "6  -6415375684334379970    0.000000\n",
       "7   1056524954426057293  686.742414\n",
       "8   1385805512840068341  528.356792\n",
       "9    625848590982096381  407.571539\n",
       "10 -5760323390404651514  420.493105\n",
       "11 -1833871080683731911  793.071767\n",
       "12  8391302318502103056  861.533518\n",
       "13  7204827006754532528  883.408536\n",
       "14 -3513927318215058789  592.769894\n",
       "15 -6700084446760539639  395.841017\n",
       "16 -9174455203665027034  438.314513\n",
       "17 -3875276066702627633  465.523894\n",
       "18  7235569438598503140  657.154077\n",
       "19  8197240339960091537  384.877059"
      ]
     },
     "execution_count": 300,
     "metadata": {},
     "output_type": "execute_result"
    }
   ],
   "source": [
    "df_trxn_grouped_mean.head(20)"
   ]
  },
  {
   "cell_type": "code",
   "execution_count": 339,
   "metadata": {
    "scrolled": false
   },
   "outputs": [],
   "source": [
    "df_t_selected = df_trxn_grouped_mean.loc[df_trxn_grouped_mean[\"mcc_cd\"] < 200]\n",
    "df_funnel_selected_shuffled = df_funnel_selected.set_index('client_id')\n",
    "df_funnel_selected_shuffled = df_funnel_selected_shuffled.reindex(index=df_t_selected['client_id'])\n",
    "df_funnel_selected_shuffled = df_funnel_selected_shuffled.reset_index()"
   ]
  },
  {
   "cell_type": "code",
   "execution_count": 340,
   "metadata": {},
   "outputs": [
    {
     "data": {
      "text/plain": [
       "0.3131868131868132"
      ]
     },
     "execution_count": 340,
     "metadata": {},
     "output_type": "execute_result"
    }
   ],
   "source": [
    "sum(df_funnel_selected_shuffled.sale_flg.values) / len(df_funnel_selected_shuffled.sale_flg.values)"
   ]
  },
  {
   "cell_type": "code",
   "execution_count": 341,
   "metadata": {},
   "outputs": [
    {
     "data": {
      "text/plain": [
       "364"
      ]
     },
     "execution_count": 341,
     "metadata": {},
     "output_type": "execute_result"
    }
   ],
   "source": [
    "len(df_funnel_selected_shuffled.sale_flg.values)"
   ]
  },
  {
   "cell_type": "code",
   "execution_count": null,
   "metadata": {},
   "outputs": [],
   "source": []
  },
  {
   "cell_type": "code",
   "execution_count": 401,
   "metadata": {},
   "outputs": [
    {
     "data": {
      "image/png": "[encoded data removed]",
      "text/plain": [
       "<Figure size 432x288 with 1 Axes>"
      ]
     },
     "metadata": {
      "needs_background": "light"
     },
     "output_type": "display_data"
    }
   ],
   "source": [
    "plt.hist(df_trxn.tran_amt_rur, bins=50, range=(0,1000))\n",
    "plt.show()"
   ]
  },
  {
   "cell_type": "code",
   "execution_count": 424,
   "metadata": {},
   "outputs": [],
   "source": [
    "df_trxn_grouped = df_trxn.groupby(by=\"client_id\", as_index=False, sort=False)[\"tran_amt_rur\"]\n",
    "df_trxn_grouped_mean = df_trxn_grouped.max()\n",
    "df_trxn_grouped_mean = df_trxn_grouped_mean.fillna(0)\n",
    "feat = df_trxn_grouped_mean[\"tran_amt_rur\"].values"
   ]
  },
  {
   "cell_type": "code",
   "execution_count": 425,
   "metadata": {},
   "outputs": [],
   "source": [
    "df_funnel_selected = df_funnel.loc[df_funnel['client_id'].isin(df_trxn_grouped_mean.client_id.values)]\n",
    "df_funnel_selected_shuffled = df_funnel_selected.set_index('client_id')\n",
    "df_funnel_selected_shuffled = df_funnel_selected_shuffled.reindex(index=df_trxn_grouped_mean['client_id'])\n",
    "df_funnel_selected_shuffled = df_funnel_selected_shuffled.reset_index()"
   ]
  },
  {
   "cell_type": "code",
   "execution_count": 426,
   "metadata": {},
   "outputs": [
    {
     "data": {
      "image/png": "[encoded data removed]",
      "text/plain": [
       "<Figure size 432x288 with 1 Axes>"
      ]
     },
     "metadata": {
      "needs_background": "light"
     },
     "output_type": "display_data"
    }
   ],
   "source": [
    "plt.hist(df_trxn_grouped_mean.tran_amt_rur, bins=50)\n",
    "plt.show()"
   ]
  },
  {
   "cell_type": "code",
   "execution_count": 427,
   "metadata": {},
   "outputs": [
    {
     "data": {
      "text/plain": [
       "array([[ 1.        , -0.00809802],\n",
       "       [-0.00809802,  1.        ]])"
      ]
     },
     "execution_count": 427,
     "metadata": {},
     "output_type": "execute_result"
    }
   ],
   "source": [
    "y_selected = df_funnel_selected['sale_flg'].values\n",
    "np.corrcoef(y_selected, feat)"
   ]
  },
  {
   "cell_type": "code",
   "execution_count": 428,
   "metadata": {},
   "outputs": [
    {
     "data": {
      "text/html": [
       "<div>\n",
       "<style scoped>\n",
       "    .dataframe tbody tr th:only-of-type {\n",
       "        vertical-align: middle;\n",
       "    }\n",
       "\n",
       "    .dataframe tbody tr th {\n",
       "        vertical-align: top;\n",
       "    }\n",
       "\n",
       "    .dataframe thead th {\n",
       "        text-align: right;\n",
       "    }\n",
       "</style>\n",
       "<table border=\"1\" class=\"dataframe\">\n",
       "  <thead>\n",
       "    <tr style=\"text-align: right;\">\n",
       "      <th></th>\n",
       "      <th>client_id</th>\n",
       "      <th>tran_amt_rur</th>\n",
       "    </tr>\n",
       "  </thead>\n",
       "  <tbody>\n",
       "    <tr>\n",
       "      <th>0</th>\n",
       "      <td>-4569470415387261653</td>\n",
       "      <td>78918.0</td>\n",
       "    </tr>\n",
       "    <tr>\n",
       "      <th>1</th>\n",
       "      <td>497866795935220651</td>\n",
       "      <td>37516.0</td>\n",
       "    </tr>\n",
       "    <tr>\n",
       "      <th>2</th>\n",
       "      <td>-330127410754871235</td>\n",
       "      <td>182118.0</td>\n",
       "    </tr>\n",
       "    <tr>\n",
       "      <th>3</th>\n",
       "      <td>-8220943058821961411</td>\n",
       "      <td>27919.0</td>\n",
       "    </tr>\n",
       "    <tr>\n",
       "      <th>4</th>\n",
       "      <td>377141127543547866</td>\n",
       "      <td>15369.0</td>\n",
       "    </tr>\n",
       "    <tr>\n",
       "      <th>5</th>\n",
       "      <td>-5924052245502407994</td>\n",
       "      <td>121412.0</td>\n",
       "    </tr>\n",
       "    <tr>\n",
       "      <th>6</th>\n",
       "      <td>-6415375684334379970</td>\n",
       "      <td>49779.0</td>\n",
       "    </tr>\n",
       "    <tr>\n",
       "      <th>7</th>\n",
       "      <td>1056524954426057293</td>\n",
       "      <td>48565.0</td>\n",
       "    </tr>\n",
       "    <tr>\n",
       "      <th>8</th>\n",
       "      <td>1385805512840068341</td>\n",
       "      <td>352096.0</td>\n",
       "    </tr>\n",
       "    <tr>\n",
       "      <th>9</th>\n",
       "      <td>625848590982096381</td>\n",
       "      <td>19001.0</td>\n",
       "    </tr>\n",
       "    <tr>\n",
       "      <th>10</th>\n",
       "      <td>-5760323390404651514</td>\n",
       "      <td>30353.0</td>\n",
       "    </tr>\n",
       "    <tr>\n",
       "      <th>11</th>\n",
       "      <td>-1833871080683731911</td>\n",
       "      <td>60706.0</td>\n",
       "    </tr>\n",
       "    <tr>\n",
       "      <th>12</th>\n",
       "      <td>8391302318502103056</td>\n",
       "      <td>449226.0</td>\n",
       "    </tr>\n",
       "    <tr>\n",
       "      <th>13</th>\n",
       "      <td>7204827006754532528</td>\n",
       "      <td>242825.0</td>\n",
       "    </tr>\n",
       "    <tr>\n",
       "      <th>14</th>\n",
       "      <td>-3513927318215058789</td>\n",
       "      <td>53421.0</td>\n",
       "    </tr>\n",
       "    <tr>\n",
       "      <th>15</th>\n",
       "      <td>-6700084446760539639</td>\n",
       "      <td>91059.0</td>\n",
       "    </tr>\n",
       "    <tr>\n",
       "      <th>16</th>\n",
       "      <td>-9174455203665027034</td>\n",
       "      <td>14569.0</td>\n",
       "    </tr>\n",
       "    <tr>\n",
       "      <th>17</th>\n",
       "      <td>-3875276066702627633</td>\n",
       "      <td>48565.0</td>\n",
       "    </tr>\n",
       "    <tr>\n",
       "      <th>18</th>\n",
       "      <td>7235569438598503140</td>\n",
       "      <td>242825.0</td>\n",
       "    </tr>\n",
       "    <tr>\n",
       "      <th>19</th>\n",
       "      <td>8197240339960091537</td>\n",
       "      <td>43708.0</td>\n",
       "    </tr>\n",
       "  </tbody>\n",
       "</table>\n",
       "</div>"
      ],
      "text/plain": [
       "              client_id  tran_amt_rur\n",
       "0  -4569470415387261653       78918.0\n",
       "1    497866795935220651       37516.0\n",
       "2   -330127410754871235      182118.0\n",
       "3  -8220943058821961411       27919.0\n",
       "4    377141127543547866       15369.0\n",
       "5  -5924052245502407994      121412.0\n",
       "6  -6415375684334379970       49779.0\n",
       "7   1056524954426057293       48565.0\n",
       "8   1385805512840068341      352096.0\n",
       "9    625848590982096381       19001.0\n",
       "10 -5760323390404651514       30353.0\n",
       "11 -1833871080683731911       60706.0\n",
       "12  8391302318502103056      449226.0\n",
       "13  7204827006754532528      242825.0\n",
       "14 -3513927318215058789       53421.0\n",
       "15 -6700084446760539639       91059.0\n",
       "16 -9174455203665027034       14569.0\n",
       "17 -3875276066702627633       48565.0\n",
       "18  7235569438598503140      242825.0\n",
       "19  8197240339960091537       43708.0"
      ]
     },
     "execution_count": 428,
     "metadata": {},
     "output_type": "execute_result"
    }
   ],
   "source": [
    "df_trxn_grouped_mean.head(20)"
   ]
  },
  {
   "cell_type": "code",
   "execution_count": 434,
   "metadata": {
    "scrolled": false
   },
   "outputs": [],
   "source": [
    "df_t_selected = df_trxn_grouped_mean.loc[df_trxn_grouped_mean[\"tran_amt_rur\"] < 10000]\n",
    "df_funnel_selected_shuffled = df_funnel_selected.set_index('client_id')\n",
    "df_funnel_selected_shuffled = df_funnel_selected_shuffled.reindex(index=df_t_selected['client_id'])\n",
    "df_funnel_selected_shuffled = df_funnel_selected_shuffled.reset_index()"
   ]
  },
  {
   "cell_type": "code",
   "execution_count": 435,
   "metadata": {},
   "outputs": [
    {
     "data": {
      "text/plain": [
       "0.3143989431968296"
      ]
     },
     "execution_count": 435,
     "metadata": {},
     "output_type": "execute_result"
    }
   ],
   "source": [
    "sum(df_funnel_selected_shuffled.sale_flg.values) / len(df_funnel_selected_shuffled.sale_flg.values)"
   ]
  },
  {
   "cell_type": "code",
   "execution_count": 436,
   "metadata": {},
   "outputs": [
    {
     "data": {
      "text/plain": [
       "757"
      ]
     },
     "execution_count": 436,
     "metadata": {},
     "output_type": "execute_result"
    }
   ],
   "source": [
    "len(df_funnel_selected_shuffled.sale_flg.values)"
   ]
  },
  {
   "cell_type": "code",
   "execution_count": null,
   "metadata": {},
   "outputs": [],
   "source": []
  },
  {
   "cell_type": "code",
   "execution_count": null,
   "metadata": {},
   "outputs": [],
   "source": [
    "combined_client_idx = list(set(list(set(df_aum.client_id.values)) + list(set(df_appl.client_id.values))))\n",
    "combined_client_idx = list(set(combined_client_idx + list(set(df_balance.client_id.values)) + list(set(df_com.client_id.values))))\n",
    "combined_client_idx = list(set(combined_client_idx + list(set(df_payments.client_id.values)) + list(set(df_deals.client_id.values)) + list(set(df_trxn.client_id.values))))\n",
    "\n",
    "pres_feat = np.array([df_funnel.client_id.values[i] in combined_client_idx for i in range(len(df_funnel))], dtype=int)"
   ]
  },
  {
   "cell_type": "markdown",
   "metadata": {},
   "source": [
    "### model train predict"
   ]
  },
  {
   "cell_type": "code",
   "execution_count": 153,
   "metadata": {},
   "outputs": [],
   "source": [
    "train_predict = pd.read_csv('../train_predict.csv')\n",
    "y_true = pd.read_csv('../true_train.csv')\n",
    "y_true = y_true.values.ravel()"
   ]
  },
  {
   "cell_type": "code",
   "execution_count": 138,
   "metadata": {},
   "outputs": [
    {
     "data": {
      "text/html": [
       "<div>\n",
       "<style scoped>\n",
       "    .dataframe tbody tr th:only-of-type {\n",
       "        vertical-align: middle;\n",
       "    }\n",
       "\n",
       "    .dataframe tbody tr th {\n",
       "        vertical-align: top;\n",
       "    }\n",
       "\n",
       "    .dataframe thead th {\n",
       "        text-align: right;\n",
       "    }\n",
       "</style>\n",
       "<table border=\"1\" class=\"dataframe\">\n",
       "  <thead>\n",
       "    <tr style=\"text-align: right;\">\n",
       "      <th></th>\n",
       "      <th>0</th>\n",
       "    </tr>\n",
       "  </thead>\n",
       "  <tbody>\n",
       "    <tr>\n",
       "      <th>0</th>\n",
       "      <td>1</td>\n",
       "    </tr>\n",
       "    <tr>\n",
       "      <th>1</th>\n",
       "      <td>1</td>\n",
       "    </tr>\n",
       "    <tr>\n",
       "      <th>2</th>\n",
       "      <td>1</td>\n",
       "    </tr>\n",
       "    <tr>\n",
       "      <th>3</th>\n",
       "      <td>1</td>\n",
       "    </tr>\n",
       "    <tr>\n",
       "      <th>4</th>\n",
       "      <td>1</td>\n",
       "    </tr>\n",
       "    <tr>\n",
       "      <th>...</th>\n",
       "      <td>...</td>\n",
       "    </tr>\n",
       "    <tr>\n",
       "      <th>9037</th>\n",
       "      <td>1</td>\n",
       "    </tr>\n",
       "    <tr>\n",
       "      <th>9038</th>\n",
       "      <td>1</td>\n",
       "    </tr>\n",
       "    <tr>\n",
       "      <th>9039</th>\n",
       "      <td>1</td>\n",
       "    </tr>\n",
       "    <tr>\n",
       "      <th>9040</th>\n",
       "      <td>1</td>\n",
       "    </tr>\n",
       "    <tr>\n",
       "      <th>9041</th>\n",
       "      <td>1</td>\n",
       "    </tr>\n",
       "  </tbody>\n",
       "</table>\n",
       "<p>9042 rows × 1 columns</p>\n",
       "</div>"
      ],
      "text/plain": [
       "      0\n",
       "0     1\n",
       "1     1\n",
       "2     1\n",
       "3     1\n",
       "4     1\n",
       "...  ..\n",
       "9037  1\n",
       "9038  1\n",
       "9039  1\n",
       "9040  1\n",
       "9041  1\n",
       "\n",
       "[9042 rows x 1 columns]"
      ]
     },
     "execution_count": 138,
     "metadata": {},
     "output_type": "execute_result"
    }
   ],
   "source": [
    "train_predict"
   ]
  },
  {
   "cell_type": "code",
   "execution_count": 139,
   "metadata": {},
   "outputs": [
    {
     "data": {
      "text/plain": [
       "array([0.99834107])"
      ]
     },
     "execution_count": 139,
     "metadata": {},
     "output_type": "execute_result"
    }
   ],
   "source": [
    "sum(train_predict.values) / len(train_predict)"
   ]
  },
  {
   "cell_type": "code",
   "execution_count": 140,
   "metadata": {},
   "outputs": [
    {
     "data": {
      "image/png": "[encoded data removed]",
      "text/plain": [
       "<Figure size 1080x720 with 1 Axes>"
      ]
     },
     "metadata": {
      "needs_background": "light"
     },
     "output_type": "display_data"
    }
   ],
   "source": [
    "plt.figure(figsize=(15, 10))\n",
    "# plt.hist(train_predict, bins=50)\n",
    "# plt.hist(train_predict[y_true == 0], bins=50, range=(1-1e-6, 1), label = '0')\n",
    "# plt.hist(train_predict[y_true == 1], bins=50, range=(1-1e-6, 1), label = '1')\n",
    "plt.hist(train_predict[y_true == 0], bins=50, label = '0')\n",
    "plt.hist(train_predict[y_true == 1], bins=50, label = '1')\n",
    "plt.legend()\n",
    "plt.show()"
   ]
  },
  {
   "cell_type": "code",
   "execution_count": 106,
   "metadata": {},
   "outputs": [
    {
     "data": {
      "text/plain": [
       "array([3])"
      ]
     },
     "execution_count": 106,
     "metadata": {},
     "output_type": "execute_result"
    }
   ],
   "source": [
    "sum(train_predict[y_true == 1].values < 1 - 1e-1)"
   ]
  },
  {
   "cell_type": "code",
   "execution_count": 66,
   "metadata": {},
   "outputs": [
    {
     "data": {
      "text/plain": [
       "9042"
      ]
     },
     "execution_count": 66,
     "metadata": {},
     "output_type": "execute_result"
    }
   ],
   "source": [
    "len(train_predict)"
   ]
  },
  {
   "cell_type": "code",
   "execution_count": null,
   "metadata": {},
   "outputs": [],
   "source": []
  }
 ],
 "metadata": {
  "kernelspec": {
   "display_name": "Python 3",
   "language": "python",
   "name": "python3"
  },
  "language_info": {
   "codemirror_mode": {
    "name": "ipython",
    "version": 3
   },
   "file_extension": ".py",
   "mimetype": "text/x-python",
   "name": "python",
   "nbconvert_exporter": "python",
   "pygments_lexer": "ipython3",
   "version": "3.8.5"
  }
 },
 "nbformat": 4,
 "nbformat_minor": 4
}
