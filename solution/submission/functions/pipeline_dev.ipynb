{
 "cells": [
  {
   "cell_type": "markdown",
   "id": "665932cf",
   "metadata": {},
   "source": [
    "# Draft. This jupyter notebook was used to review data files and try to learn insights from the data"
   ]
  },
  {
   "cell_type": "code",
   "execution_count": 1,
   "id": "7694eaf1",
   "metadata": {},
   "outputs": [],
   "source": [
    "import numpy as np\n",
    "import pandas as pd\n",
    "import matplotlib.pyplot as plt\n",
    "from sklearn.model_selection import train_test_split\n",
    "import lightgbm as lgb \n",
    "\n",
    "from focal_loss import FocalLoss\n",
    "from SimpleModel_dev import BoostingModel_dev\n",
    "from aux_functions import prepare_data, prepare_data_dev"
   ]
  },
  {
   "cell_type": "code",
   "execution_count": 2,
   "id": "61782d47",
   "metadata": {},
   "outputs": [],
   "source": [
    "%load_ext autoreload\n",
    "%autoreload 2"
   ]
  },
  {
   "cell_type": "code",
   "execution_count": 3,
   "id": "65a0e731",
   "metadata": {},
   "outputs": [],
   "source": [
    "DATA_FOLDER = 'idao_2021_train/'"
   ]
  },
  {
   "cell_type": "code",
   "execution_count": 4,
   "id": "2e1efd31",
   "metadata": {
    "tags": []
   },
   "outputs": [],
   "source": [
    "df_funnel = pd.read_csv(DATA_FOLDER + 'funnel.csv')\n",
    "N_SAMPLES = len(df_funnel)"
   ]
  },
  {
   "cell_type": "markdown",
   "id": "a98d11a6",
   "metadata": {},
   "source": [
    "### data"
   ]
  },
  {
   "cell_type": "code",
   "execution_count": 5,
   "id": "6aa2ccaf",
   "metadata": {},
   "outputs": [
    {
     "name": "stderr",
     "output_type": "stream",
     "text": [
      "/Users/yaourt/miniconda3/envs/idao/lib/python3.8/site-packages/IPython/core/interactiveshell.py:3347: DtypeWarning: Columns (10) have mixed types.Specify dtype option on import or set low_memory=False.\n",
      "  if (await self.run_code(code, result,  async_=asy)):\n"
     ]
    }
   ],
   "source": [
    "# train_data, metric_data = prepare_data_dev(DATA_FOLDER)\n",
    "train_data, metric_data = prepare_data_dev(DATA_FOLDER)\n",
    "metric_data.sale_amount = metric_data.sale_amount.fillna(0)\n",
    "X = train_data.drop(columns=['sale_flg'])\n",
    "y = train_data['sale_flg']"
   ]
  },
  {
   "cell_type": "code",
   "execution_count": 6,
   "id": "0a524d9d",
   "metadata": {},
   "outputs": [],
   "source": [
    "split_fr = 0.2\n",
    "X_train, X_test, y_train, y_test, metric_data_train, metric_data_test = train_test_split(X, y, metric_data, test_size=split_fr, random_state=42)       "
   ]
  },
  {
   "cell_type": "markdown",
   "id": "b9207f8e",
   "metadata": {},
   "source": [
    "### fit"
   ]
  },
  {
   "cell_type": "code",
   "execution_count": 7,
   "id": "5b3e98d2",
   "metadata": {},
   "outputs": [],
   "source": [
    "fl = FocalLoss(alpha=.99, gamma=1.01)"
   ]
  },
  {
   "cell_type": "code",
   "execution_count": 8,
   "id": "f49c109f",
   "metadata": {
    "tags": []
   },
   "outputs": [
    {
     "name": "stderr",
     "output_type": "stream",
     "text": [
      "/Users/yaourt/miniconda3/envs/idao/lib/python3.8/site-packages/lightgbm/engine.py:156: UserWarning: Found `early_stopping` in params. Will use it instead of argument\n",
      "  warnings.warn(\"Found `{}` in params. Will use it instead of argument\".format(alias))\n"
     ]
    },
    {
     "name": "stdout",
     "output_type": "stream",
     "text": [
      "[1]\tvalid_0's auc: 0.659722\tvalid_0's focal_loss: 0.117585\n",
      "Training until validation scores don't improve for 30 rounds\n",
      "[2]\tvalid_0's auc: 0.665896\tvalid_0's focal_loss: 0.104035\n",
      "[3]\tvalid_0's auc: 0.678952\tvalid_0's focal_loss: 0.0924255\n",
      "[4]\tvalid_0's auc: 0.685585\tvalid_0's focal_loss: 0.0824748\n",
      "[5]\tvalid_0's auc: 0.687458\tvalid_0's focal_loss: 0.0738439\n",
      "[6]\tvalid_0's auc: 0.68835\tvalid_0's focal_loss: 0.0664608\n",
      "[7]\tvalid_0's auc: 0.691595\tvalid_0's focal_loss: 0.0600918\n",
      "[8]\tvalid_0's auc: 0.694777\tvalid_0's focal_loss: 0.0545417\n",
      "[9]\tvalid_0's auc: 0.696347\tvalid_0's focal_loss: 0.0497327\n",
      "[10]\tvalid_0's auc: 0.696054\tvalid_0's focal_loss: 0.0455014\n",
      "[11]\tvalid_0's auc: 0.696398\tvalid_0's focal_loss: 0.0417607\n",
      "[12]\tvalid_0's auc: 0.696282\tvalid_0's focal_loss: 0.0384974\n",
      "[13]\tvalid_0's auc: 0.696262\tvalid_0's focal_loss: 0.03566\n",
      "[14]\tvalid_0's auc: 0.697771\tvalid_0's focal_loss: 0.0331858\n",
      "[15]\tvalid_0's auc: 0.695671\tvalid_0's focal_loss: 0.0310099\n",
      "[16]\tvalid_0's auc: 0.701297\tvalid_0's focal_loss: 0.0291126\n",
      "[17]\tvalid_0's auc: 0.700042\tvalid_0's focal_loss: 0.0275434\n",
      "[18]\tvalid_0's auc: 0.70084\tvalid_0's focal_loss: 0.0260505\n",
      "[19]\tvalid_0's auc: 0.69964\tvalid_0's focal_loss: 0.0248505\n",
      "[20]\tvalid_0's auc: 0.699126\tvalid_0's focal_loss: 0.0238376\n",
      "[21]\tvalid_0's auc: 0.699664\tvalid_0's focal_loss: 0.0229784\n",
      "[22]\tvalid_0's auc: 0.699343\tvalid_0's focal_loss: 0.0222501\n",
      "[23]\tvalid_0's auc: 0.69935\tvalid_0's focal_loss: 0.0216298\n",
      "[24]\tvalid_0's auc: 0.70035\tvalid_0's focal_loss: 0.021001\n",
      "[25]\tvalid_0's auc: 0.701425\tvalid_0's focal_loss: 0.0204572\n",
      "[26]\tvalid_0's auc: 0.701775\tvalid_0's focal_loss: 0.0199764\n",
      "[27]\tvalid_0's auc: 0.70249\tvalid_0's focal_loss: 0.0194999\n",
      "[28]\tvalid_0's auc: 0.703809\tvalid_0's focal_loss: 0.0190836\n",
      "[29]\tvalid_0's auc: 0.702081\tvalid_0's focal_loss: 0.0187343\n",
      "[30]\tvalid_0's auc: 0.701742\tvalid_0's focal_loss: 0.0184547\n",
      "[31]\tvalid_0's auc: 0.705749\tvalid_0's focal_loss: 0.0181885\n",
      "[32]\tvalid_0's auc: 0.708972\tvalid_0's focal_loss: 0.0179658\n",
      "[33]\tvalid_0's auc: 0.710511\tvalid_0's focal_loss: 0.0177521\n",
      "[34]\tvalid_0's auc: 0.712108\tvalid_0's focal_loss: 0.0175368\n",
      "[35]\tvalid_0's auc: 0.7115\tvalid_0's focal_loss: 0.0174679\n",
      "[36]\tvalid_0's auc: 0.716138\tvalid_0's focal_loss: 0.017242\n",
      "[37]\tvalid_0's auc: 0.715061\tvalid_0's focal_loss: 0.0171258\n",
      "[38]\tvalid_0's auc: 0.716327\tvalid_0's focal_loss: 0.01698\n",
      "[39]\tvalid_0's auc: 0.716226\tvalid_0's focal_loss: 0.0168853\n",
      "[40]\tvalid_0's auc: 0.714579\tvalid_0's focal_loss: 0.0168137\n",
      "[41]\tvalid_0's auc: 0.714908\tvalid_0's focal_loss: 0.0167713\n",
      "[42]\tvalid_0's auc: 0.715351\tvalid_0's focal_loss: 0.0167172\n",
      "[43]\tvalid_0's auc: 0.714767\tvalid_0's focal_loss: 0.0167394\n",
      "[44]\tvalid_0's auc: 0.714854\tvalid_0's focal_loss: 0.0166807\n",
      "[45]\tvalid_0's auc: 0.714318\tvalid_0's focal_loss: 0.0167104\n",
      "[46]\tvalid_0's auc: 0.714913\tvalid_0's focal_loss: 0.0167038\n",
      "[47]\tvalid_0's auc: 0.715373\tvalid_0's focal_loss: 0.0166646\n",
      "[48]\tvalid_0's auc: 0.716375\tvalid_0's focal_loss: 0.0166315\n",
      "[49]\tvalid_0's auc: 0.717181\tvalid_0's focal_loss: 0.0166035\n",
      "[50]\tvalid_0's auc: 0.716417\tvalid_0's focal_loss: 0.0166554\n",
      "[51]\tvalid_0's auc: 0.716581\tvalid_0's focal_loss: 0.0166344\n",
      "[52]\tvalid_0's auc: 0.716521\tvalid_0's focal_loss: 0.0166001\n",
      "[53]\tvalid_0's auc: 0.716221\tvalid_0's focal_loss: 0.0166096\n",
      "[54]\tvalid_0's auc: 0.715741\tvalid_0's focal_loss: 0.0166311\n",
      "[55]\tvalid_0's auc: 0.715962\tvalid_0's focal_loss: 0.0166177\n",
      "[56]\tvalid_0's auc: 0.717136\tvalid_0's focal_loss: 0.0165942\n",
      "[57]\tvalid_0's auc: 0.717091\tvalid_0's focal_loss: 0.0165783\n",
      "[58]\tvalid_0's auc: 0.717533\tvalid_0's focal_loss: 0.016561\n",
      "[59]\tvalid_0's auc: 0.71758\tvalid_0's focal_loss: 0.016579\n",
      "[60]\tvalid_0's auc: 0.71621\tvalid_0's focal_loss: 0.0165758\n",
      "[61]\tvalid_0's auc: 0.715732\tvalid_0's focal_loss: 0.0166083\n",
      "[62]\tvalid_0's auc: 0.715355\tvalid_0's focal_loss: 0.0166521\n",
      "[63]\tvalid_0's auc: 0.714965\tvalid_0's focal_loss: 0.0166733\n",
      "[64]\tvalid_0's auc: 0.714421\tvalid_0's focal_loss: 0.0167058\n",
      "[65]\tvalid_0's auc: 0.715027\tvalid_0's focal_loss: 0.016778\n",
      "[66]\tvalid_0's auc: 0.715471\tvalid_0's focal_loss: 0.0167705\n",
      "[67]\tvalid_0's auc: 0.717168\tvalid_0's focal_loss: 0.0167587\n",
      "[68]\tvalid_0's auc: 0.717834\tvalid_0's focal_loss: 0.0168016\n",
      "[69]\tvalid_0's auc: 0.718477\tvalid_0's focal_loss: 0.0167758\n",
      "[70]\tvalid_0's auc: 0.719293\tvalid_0's focal_loss: 0.0167729\n",
      "[71]\tvalid_0's auc: 0.720377\tvalid_0's focal_loss: 0.0167516\n",
      "[72]\tvalid_0's auc: 0.720973\tvalid_0's focal_loss: 0.0167512\n",
      "[73]\tvalid_0's auc: 0.721356\tvalid_0's focal_loss: 0.0167381\n",
      "[74]\tvalid_0's auc: 0.72187\tvalid_0's focal_loss: 0.0167231\n",
      "[75]\tvalid_0's auc: 0.721924\tvalid_0's focal_loss: 0.0167369\n",
      "[76]\tvalid_0's auc: 0.722007\tvalid_0's focal_loss: 0.0167044\n",
      "[77]\tvalid_0's auc: 0.721526\tvalid_0's focal_loss: 0.0167301\n",
      "[78]\tvalid_0's auc: 0.720933\tvalid_0's focal_loss: 0.0167107\n",
      "[79]\tvalid_0's auc: 0.720958\tvalid_0's focal_loss: 0.0167404\n",
      "[80]\tvalid_0's auc: 0.720984\tvalid_0's focal_loss: 0.0167112\n",
      "[81]\tvalid_0's auc: 0.720886\tvalid_0's focal_loss: 0.0167211\n",
      "[82]\tvalid_0's auc: 0.721253\tvalid_0's focal_loss: 0.0167278\n",
      "[83]\tvalid_0's auc: 0.721464\tvalid_0's focal_loss: 0.0167321\n",
      "[84]\tvalid_0's auc: 0.720957\tvalid_0's focal_loss: 0.01678\n",
      "[85]\tvalid_0's auc: 0.720781\tvalid_0's focal_loss: 0.0168772\n",
      "[86]\tvalid_0's auc: 0.721069\tvalid_0's focal_loss: 0.0169\n",
      "[87]\tvalid_0's auc: 0.721042\tvalid_0's focal_loss: 0.0168957\n",
      "[88]\tvalid_0's auc: 0.721025\tvalid_0's focal_loss: 0.0169932\n",
      "Early stopping, best iteration is:\n",
      "[58]\tvalid_0's auc: 0.717533\tvalid_0's focal_loss: 0.016561\n"
     ]
    }
   ],
   "source": [
    "model = BoostingModel_dev(fl)\n",
    "# model = BoostingModel_dev()\n",
    "# model.fit(X, y, 1, 1e8)\n",
    "model.fit(X_train, y_train, 1000, 1, 1, X_test, y_test, early_stopping=30)"
   ]
  },
  {
   "cell_type": "markdown",
   "id": "4c66bff3",
   "metadata": {},
   "source": [
    "### evaluate"
   ]
  },
  {
   "cell_type": "code",
   "execution_count": 9,
   "id": "4a226423",
   "metadata": {},
   "outputs": [
    {
     "data": {
      "image/png": "[encoded data removed]",
      "text/plain": [
       "<Figure size 1584x576 with 2 Axes>"
      ]
     },
     "metadata": {
      "needs_background": "light"
     },
     "output_type": "display_data"
    }
   ],
   "source": [
    "fig, axs = plt.subplots(1, 2, figsize=(22, 8))\n",
    "axs[0].hist(model.predict(X_train)[y_train==0], bins=30, density=True, histtype='step', linewidth=4)#, range=(0., 1.1))\n",
    "axs[0].hist(model.predict(X_train)[y_train==1], bins=30, density=True, histtype='step', linewidth=4)#, range=(0., 1.1))\n",
    "axs[0].set_title('train')\n",
    "axs[1].hist(model.predict(X_test)[y_test==0], bins=30, density=True, histtype='step', linewidth=4)#, range=(0., 1.1) )\n",
    "axs[1].hist(model.predict(X_test)[y_test==1], bins=30, density=True, histtype='step', linewidth=4)#, range=(0., 1.1) )\n",
    "axs[1].set_title('test')\n",
    "plt.show()"
   ]
  },
  {
   "cell_type": "code",
   "execution_count": 10,
   "id": "e9aa48e9",
   "metadata": {},
   "outputs": [],
   "source": [
    "# thr = 1-1e-5\n",
    "thr = 0.1"
   ]
  },
  {
   "cell_type": "code",
   "execution_count": 11,
   "id": "2b979c8e",
   "metadata": {},
   "outputs": [
    {
     "name": "stdout",
     "output_type": "stream",
     "text": [
      "0.1 :  5301.46207496045 5353.183970601915 5311.806454088753\n"
     ]
    }
   ],
   "source": [
    "# for thr in [0.001, 0.005, 0.01, 0.02, 0.05, 0.08, 0.1, 0.2, 0.3, 0.4]:\n",
    "for thr in [thr]:\n",
    "    y_train_pred = model.predict(X_train) > thr\n",
    "    y_test_pred = model.predict(X_test) > thr\n",
    "    y_pred = model.predict(X) > thr\n",
    "    nic_train = sum(y_train_pred*metric_data_train.sale_amount - 4000*metric_data_train.contacts) / ((1-split_fr)*N_SAMPLES)\n",
    "    nic_test = sum(y_test_pred*metric_data_test.sale_amount - 4000*metric_data_test.contacts) / ((split_fr)*N_SAMPLES)\n",
    "    nic = sum(y_pred*metric_data.sale_amount - 4000*metric_data.contacts) / N_SAMPLES\n",
    "    print(thr, ': ', nic_train, nic_test, nic)"
   ]
  },
  {
   "cell_type": "code",
   "execution_count": null,
   "id": "138701c2",
   "metadata": {},
   "outputs": [],
   "source": []
  }
 ],
 "metadata": {
  "kernelspec": {
   "display_name": "idao",
   "language": "python",
   "name": "idao"
  },
  "language_info": {
   "codemirror_mode": {
    "name": "ipython",
    "version": 3
   },
   "file_extension": ".py",
   "mimetype": "text/x-python",
   "name": "python",
   "nbconvert_exporter": "python",
   "pygments_lexer": "ipython3",
   "version": "3.8.8"
  }
 },
 "nbformat": 4,
 "nbformat_minor": 5
}
