{
 "cells": [
  {
   "cell_type": "markdown",
   "id": "e5d8f7e7",
   "metadata": {},
   "source": [
    "# Draft. This jupyter notebook was used to review data files and try to learn insights from the data"
   ]
  },
  {
   "cell_type": "markdown",
   "id": "645e6076",
   "metadata": {},
   "source": [
    "## import libraries"
   ]
  },
  {
   "cell_type": "code",
   "execution_count": 1,
   "id": "f5003b6a",
   "metadata": {},
   "outputs": [],
   "source": [
    "import numpy as np\n",
    "import pandas as pd\n",
    "\n",
    "import matplotlib.pyplot as plt\n",
    "import seaborn as sns\n",
    "sns.set(rc={'figure.figsize':(11.7,8.27)})"
   ]
  },
  {
   "cell_type": "code",
   "execution_count": 2,
   "id": "173c0b95",
   "metadata": {},
   "outputs": [],
   "source": [
    "CALL_COST = 400 / 0.1\n",
    "DATA_FOLDER = 'idao_2021_train/'"
   ]
  },
  {
   "cell_type": "code",
   "execution_count": 3,
   "id": "e14a7754",
   "metadata": {},
   "outputs": [
    {
     "name": "stderr",
     "output_type": "stream",
     "text": [
      "/Users/yaourt/miniconda3/envs/idao/lib/python3.8/site-packages/IPython/core/interactiveshell.py:3155: DtypeWarning: Columns (10) have mixed types.Specify dtype option on import or set low_memory=False.\n",
      "  has_raised = await self.run_ast_nodes(code_ast.body, cell_name,\n"
     ]
    }
   ],
   "source": [
    "df_balance = pd.read_csv(f'{DATA_FOLDER}/balance.csv')\n",
    "df_client = pd.read_csv(f'{DATA_FOLDER}/client.csv')\n",
    "df_com = pd.read_csv(f'{DATA_FOLDER}/com.csv')\n",
    "df_appl = pd.read_csv(f'{DATA_FOLDER}/appl.csv')\n",
    "df_aum = pd.read_csv(f'{DATA_FOLDER}/aum.csv')\n",
    "df_payments = pd.read_csv(f'{DATA_FOLDER}/payments.csv')\n",
    "df_mcc = pd.read_csv(f'{DATA_FOLDER}/dict_mcc.csv')\n",
    "df_funnel = pd.read_csv(f'{DATA_FOLDER}/funnel.csv')\n",
    "df_deals = pd.read_csv(f'{DATA_FOLDER}/deals.csv')\n",
    "df_trxn = pd.read_csv(f'{DATA_FOLDER}/trxn.csv')"
   ]
  },
  {
   "cell_type": "code",
   "execution_count": 4,
   "id": "0f0aace0",
   "metadata": {},
   "outputs": [
    {
     "data": {
      "text/plain": [
       "Index(['client_id', 'card_id', 'tran_time', 'tran_amt_rur', 'mcc_cd',\n",
       "       'merchant_cd', 'txn_country', 'txn_city', 'tsp_name', 'txn_comment_1',\n",
       "       'txn_comment_2'],\n",
       "      dtype='object')"
      ]
     },
     "execution_count": 4,
     "metadata": {},
     "output_type": "execute_result"
    }
   ],
   "source": [
    "df_trxn.columns"
   ]
  },
  {
   "cell_type": "code",
   "execution_count": 5,
   "id": "b59cf604",
   "metadata": {},
   "outputs": [
    {
     "name": "stdout",
     "output_type": "stream",
     "text": [
      "(1194684, 9) (21498, 8) (113055, 10) (12030, 6) (117392, 4)\n",
      "(188068, 4) (915, 3) (21498, 16) (109016, 8) (3035705, 11)\n"
     ]
    }
   ],
   "source": [
    "print(df_balance.shape, df_client.shape, df_com.shape, df_appl.shape, df_aum.shape)\n",
    "print(df_payments.shape, df_mcc.shape, df_funnel.shape, df_deals.shape, df_trxn.shape)"
   ]
  },
  {
   "cell_type": "markdown",
   "id": "6ed931de",
   "metadata": {},
   "source": [
    "## funnel"
   ]
  },
  {
   "cell_type": "markdown",
   "id": "0da715d3",
   "metadata": {},
   "source": [
    "### selection"
   ]
  },
  {
   "cell_type": "code",
   "execution_count": 6,
   "id": "b417a786",
   "metadata": {},
   "outputs": [
    {
     "data": {
      "text/html": [
       "<div>\n",
       "<style scoped>\n",
       "    .dataframe tbody tr th:only-of-type {\n",
       "        vertical-align: middle;\n",
       "    }\n",
       "\n",
       "    .dataframe tbody tr th {\n",
       "        vertical-align: top;\n",
       "    }\n",
       "\n",
       "    .dataframe thead th {\n",
       "        text-align: right;\n",
       "    }\n",
       "</style>\n",
       "<table border=\"1\" class=\"dataframe\">\n",
       "  <thead>\n",
       "    <tr style=\"text-align: right;\">\n",
       "      <th></th>\n",
       "      <th>client_id</th>\n",
       "      <th>sale_flg</th>\n",
       "      <th>sale_amount</th>\n",
       "      <th>contacts</th>\n",
       "      <th>feature_1</th>\n",
       "      <th>client_segment</th>\n",
       "      <th>feature_2</th>\n",
       "      <th>feature_3</th>\n",
       "      <th>feature_4</th>\n",
       "      <th>feature_5</th>\n",
       "      <th>feature_6</th>\n",
       "      <th>feature_7</th>\n",
       "      <th>feature_8</th>\n",
       "      <th>feature_9</th>\n",
       "      <th>feature_10</th>\n",
       "      <th>region_cd</th>\n",
       "    </tr>\n",
       "  </thead>\n",
       "  <tbody>\n",
       "    <tr>\n",
       "      <th>8377</th>\n",
       "      <td>5943882567588849330</td>\n",
       "      <td>0</td>\n",
       "      <td>NaN</td>\n",
       "      <td>1</td>\n",
       "      <td>1</td>\n",
       "      <td>14.0</td>\n",
       "      <td>3642369.0</td>\n",
       "      <td>2596.0</td>\n",
       "      <td>9865.0</td>\n",
       "      <td>0.0</td>\n",
       "      <td>15488.0</td>\n",
       "      <td>120198.0</td>\n",
       "      <td>84139.0</td>\n",
       "      <td>10.9</td>\n",
       "      <td>2607.0</td>\n",
       "      <td>16.0</td>\n",
       "    </tr>\n",
       "    <tr>\n",
       "      <th>21478</th>\n",
       "      <td>-6427468191296496064</td>\n",
       "      <td>0</td>\n",
       "      <td>NaN</td>\n",
       "      <td>3</td>\n",
       "      <td>2</td>\n",
       "      <td>1.0</td>\n",
       "      <td>6070615.0</td>\n",
       "      <td>62203.0</td>\n",
       "      <td>13814.0</td>\n",
       "      <td>69058.0</td>\n",
       "      <td>21277.0</td>\n",
       "      <td>3075374.0</td>\n",
       "      <td>2641746.0</td>\n",
       "      <td>7.9</td>\n",
       "      <td>62210.0</td>\n",
       "      <td>86.0</td>\n",
       "    </tr>\n",
       "    <tr>\n",
       "      <th>529</th>\n",
       "      <td>-8076530053713895064</td>\n",
       "      <td>0</td>\n",
       "      <td>NaN</td>\n",
       "      <td>1</td>\n",
       "      <td>5</td>\n",
       "      <td>13.0</td>\n",
       "      <td>1245763.0</td>\n",
       "      <td>34258.0</td>\n",
       "      <td>0.0</td>\n",
       "      <td>0.0</td>\n",
       "      <td>0.0</td>\n",
       "      <td>1245690.0</td>\n",
       "      <td>1091753.0</td>\n",
       "      <td>11.9</td>\n",
       "      <td>28280.0</td>\n",
       "      <td>54.0</td>\n",
       "    </tr>\n",
       "    <tr>\n",
       "      <th>10530</th>\n",
       "      <td>6475605197775032447</td>\n",
       "      <td>0</td>\n",
       "      <td>NaN</td>\n",
       "      <td>1</td>\n",
       "      <td>5</td>\n",
       "      <td>14.0</td>\n",
       "      <td>3642369.0</td>\n",
       "      <td>2100.0</td>\n",
       "      <td>25001.0</td>\n",
       "      <td>0.0</td>\n",
       "      <td>62347.0</td>\n",
       "      <td>97130.0</td>\n",
       "      <td>74715.0</td>\n",
       "      <td>10.9</td>\n",
       "      <td>2107.0</td>\n",
       "      <td>76.0</td>\n",
       "    </tr>\n",
       "    <tr>\n",
       "      <th>3948</th>\n",
       "      <td>-1009585223108911229</td>\n",
       "      <td>0</td>\n",
       "      <td>NaN</td>\n",
       "      <td>1</td>\n",
       "      <td>8</td>\n",
       "      <td>14.0</td>\n",
       "      <td>2428246.0</td>\n",
       "      <td>1021727.0</td>\n",
       "      <td>166798.0</td>\n",
       "      <td>0.0</td>\n",
       "      <td>340882.0</td>\n",
       "      <td>2428246.0</td>\n",
       "      <td>2209505.0</td>\n",
       "      <td>17.9</td>\n",
       "      <td>61529.0</td>\n",
       "      <td>38.0</td>\n",
       "    </tr>\n",
       "  </tbody>\n",
       "</table>\n",
       "</div>"
      ],
      "text/plain": [
       "                 client_id  sale_flg  sale_amount  contacts  feature_1  \\\n",
       "8377   5943882567588849330         0          NaN         1          1   \n",
       "21478 -6427468191296496064         0          NaN         3          2   \n",
       "529   -8076530053713895064         0          NaN         1          5   \n",
       "10530  6475605197775032447         0          NaN         1          5   \n",
       "3948  -1009585223108911229         0          NaN         1          8   \n",
       "\n",
       "       client_segment  feature_2  feature_3  feature_4  feature_5  feature_6  \\\n",
       "8377             14.0  3642369.0     2596.0     9865.0        0.0    15488.0   \n",
       "21478             1.0  6070615.0    62203.0    13814.0    69058.0    21277.0   \n",
       "529              13.0  1245763.0    34258.0        0.0        0.0        0.0   \n",
       "10530            14.0  3642369.0     2100.0    25001.0        0.0    62347.0   \n",
       "3948             14.0  2428246.0  1021727.0   166798.0        0.0   340882.0   \n",
       "\n",
       "       feature_7  feature_8  feature_9  feature_10  region_cd  \n",
       "8377    120198.0    84139.0       10.9      2607.0       16.0  \n",
       "21478  3075374.0  2641746.0        7.9     62210.0       86.0  \n",
       "529    1245690.0  1091753.0       11.9     28280.0       54.0  \n",
       "10530    97130.0    74715.0       10.9      2107.0       76.0  \n",
       "3948   2428246.0  2209505.0       17.9     61529.0       38.0  "
      ]
     },
     "execution_count": 6,
     "metadata": {},
     "output_type": "execute_result"
    }
   ],
   "source": [
    "df_funnel.sample(5)"
   ]
  },
  {
   "cell_type": "code",
   "execution_count": 7,
   "id": "67b2e148",
   "metadata": {},
   "outputs": [],
   "source": [
    "df_funnel = df_funnel.fillna(0)"
   ]
  },
  {
   "cell_type": "code",
   "execution_count": 8,
   "id": "80416e49",
   "metadata": {},
   "outputs": [
    {
     "data": {
      "text/plain": [
       "0"
      ]
     },
     "execution_count": 8,
     "metadata": {},
     "output_type": "execute_result"
    }
   ],
   "source": [
    "df_funnel['nic'] = df_funnel['sale_flg']*df_funnel['sale_amount']  - CALL_COST*df_funnel['contacts']\n",
    "sum(df_funnel['nic'] == 0)"
   ]
  },
  {
   "cell_type": "code",
   "execution_count": 9,
   "id": "265a4f70",
   "metadata": {},
   "outputs": [],
   "source": [
    "# remove clients with NaN education\n",
    "df_funnel = df_funnel.set_index('client_id')\n",
    "cid_nan_edu = df_client[~df_client.education.isna()].client_id\n",
    "df_funnel = df_funnel.loc[cid_nan_edu]"
   ]
  },
  {
   "cell_type": "code",
   "execution_count": 10,
   "id": "68a8027c",
   "metadata": {},
   "outputs": [
    {
     "data": {
      "text/plain": [
       "array([138018.05, 121907.95,      0.  , ...,  50289.7 ,  52367.45,\n",
       "        43882.85])"
      ]
     },
     "execution_count": 10,
     "metadata": {},
     "output_type": "execute_result"
    }
   ],
   "source": [
    "df_funnel.sale_amount.unique()"
   ]
  },
  {
   "cell_type": "code",
   "execution_count": 11,
   "id": "a4459ca7",
   "metadata": {},
   "outputs": [
    {
     "data": {
      "text/plain": [
       "<seaborn.axisgrid.PairGrid at 0x7f97032e87f0>"
      ]
     },
     "execution_count": 11,
     "metadata": {},
     "output_type": "execute_result"
    },
    {
     "data": {
      "image/png": "[encoded data removed]",
      "text/plain": [
       "<Figure size 720x720 with 20 Axes>"
      ]
     },
     "metadata": {},
     "output_type": "display_data"
    }
   ],
   "source": [
    "sns.pairplot(df_funnel[['sale_flg', 'sale_amount', 'contacts', 'client_segment']])"
   ]
  },
  {
   "cell_type": "markdown",
   "id": "52278b44",
   "metadata": {},
   "source": [
    "### NIC"
   ]
  },
  {
   "cell_type": "code",
   "execution_count": 12,
   "id": "b95fc652",
   "metadata": {},
   "outputs": [
    {
     "data": {
      "image/png": "[encoded data removed]",
      "text/plain": [
       "<Figure size 1296x576 with 2 Axes>"
      ]
     },
     "metadata": {},
     "output_type": "display_data"
    }
   ],
   "source": [
    "fig, axs = plt.subplots(1,2, figsize=(18,8))\n",
    "axs[0].hist(df_funnel.query('nic < 0')['nic'], bins=50)\n",
    "axs[1].hist(df_funnel.query('nic >= 0')['nic'], bins=80)\n",
    "plt.show()"
   ]
  },
  {
   "cell_type": "code",
   "execution_count": 13,
   "id": "08596b9f",
   "metadata": {},
   "outputs": [
    {
     "data": {
      "text/plain": [
       "sale_flg\n",
       "1           3302\n",
       "dtype: int64"
      ]
     },
     "execution_count": 13,
     "metadata": {},
     "output_type": "execute_result"
    }
   ],
   "source": [
    "df_funnel.query('nic > 0')[['sale_flg']].value_counts()"
   ]
  },
  {
   "cell_type": "code",
   "execution_count": 14,
   "id": "7dbfb338",
   "metadata": {},
   "outputs": [
    {
     "data": {
      "text/plain": [
       "sale_flg\n",
       "0           5770\n",
       "1            208\n",
       "dtype: int64"
      ]
     },
     "execution_count": 14,
     "metadata": {},
     "output_type": "execute_result"
    }
   ],
   "source": [
    "df_funnel.query('nic < 0')[['sale_flg']].value_counts()"
   ]
  },
  {
   "cell_type": "code",
   "execution_count": 15,
   "id": "9faa6fde",
   "metadata": {},
   "outputs": [
    {
     "data": {
      "text/plain": [
       "sale_flg\n",
       "1           208\n",
       "dtype: int64"
      ]
     },
     "execution_count": 15,
     "metadata": {},
     "output_type": "execute_result"
    }
   ],
   "source": [
    "df_funnel.query('nic < 0 and nic % 4000 != 0')[['sale_flg']].value_counts()"
   ]
  },
  {
   "cell_type": "code",
   "execution_count": 16,
   "id": "b6c2a683",
   "metadata": {},
   "outputs": [
    {
     "data": {
      "image/png": "[encoded data removed]",
      "text/plain": [
       "<Figure size 842.4x595.44 with 1 Axes>"
      ]
     },
     "metadata": {},
     "output_type": "display_data"
    }
   ],
   "source": [
    "plt.hist(df_funnel.query('nic < 0 and nic % 4000 != 0')[['nic']], bins=50)\n",
    "plt.show()"
   ]
  },
  {
   "cell_type": "code",
   "execution_count": 17,
   "id": "ac87e6da",
   "metadata": {},
   "outputs": [
    {
     "data": {
      "text/plain": [
       "113150771.55"
      ]
     },
     "execution_count": 17,
     "metadata": {},
     "output_type": "execute_result"
    }
   ],
   "source": [
    "sum(df_funnel['nic'])"
   ]
  },
  {
   "cell_type": "code",
   "execution_count": 18,
   "id": "914ed886",
   "metadata": {},
   "outputs": [
    {
     "data": {
      "text/plain": [
       "-347978.5499999999"
      ]
     },
     "execution_count": 18,
     "metadata": {},
     "output_type": "execute_result"
    }
   ],
   "source": [
    "sum(df_funnel.query('nic < 0 and nic % 4000 != 0')['nic'])"
   ]
  },
  {
   "cell_type": "code",
   "execution_count": 19,
   "id": "5dd2d1e4",
   "metadata": {},
   "outputs": [
    {
     "data": {
      "text/plain": [
       "-30191978.549999975"
      ]
     },
     "execution_count": 19,
     "metadata": {},
     "output_type": "execute_result"
    }
   ],
   "source": [
    "sum(df_funnel.query('nic < 0')['nic'])"
   ]
  },
  {
   "cell_type": "code",
   "execution_count": null,
   "id": "a7354bfc",
   "metadata": {},
   "outputs": [],
   "source": []
  },
  {
   "cell_type": "markdown",
   "id": "4cc5be2d",
   "metadata": {},
   "source": [
    "### region"
   ]
  },
  {
   "cell_type": "code",
   "execution_count": 20,
   "id": "6582887f",
   "metadata": {},
   "outputs": [
    {
     "data": {
      "text/plain": [
       "86.0    851\n",
       "54.0    196\n",
       "77.0    164\n",
       "59.0    143\n",
       "50.0    138\n",
       "       ... \n",
       "79.0      4\n",
       "41.0      3\n",
       "25.0      2\n",
       "19.0      2\n",
       "83.0      1\n",
       "Name: region_cd, Length: 73, dtype: int64"
      ]
     },
     "execution_count": 20,
     "metadata": {},
     "output_type": "execute_result"
    }
   ],
   "source": [
    "df_funnel.query('sale_flg == 1').region_cd.value_counts()"
   ]
  },
  {
   "cell_type": "code",
   "execution_count": 21,
   "id": "f9f32e6e",
   "metadata": {},
   "outputs": [
    {
     "data": {
      "text/plain": [
       "86.0    797\n",
       "54.0    301\n",
       "77.0    301\n",
       "66.0    279\n",
       "78.0    249\n",
       "       ... \n",
       "79.0      4\n",
       "19.0      3\n",
       "15.0      2\n",
       "89.0      2\n",
       "14.0      1\n",
       "Name: region_cd, Length: 73, dtype: int64"
      ]
     },
     "execution_count": 21,
     "metadata": {},
     "output_type": "execute_result"
    }
   ],
   "source": [
    "df_funnel.query('sale_flg == 0').region_cd.value_counts()"
   ]
  },
  {
   "cell_type": "code",
   "execution_count": null,
   "id": "37fdb797",
   "metadata": {},
   "outputs": [],
   "source": []
  },
  {
   "cell_type": "markdown",
   "id": "455f6e2b",
   "metadata": {},
   "source": [
    "## noname features"
   ]
  },
  {
   "cell_type": "markdown",
   "id": "d62550bf",
   "metadata": {},
   "source": [
    "### insights from feature importance"
   ]
  },
  {
   "cell_type": "code",
   "execution_count": 22,
   "id": "fa8881f1",
   "metadata": {},
   "outputs": [],
   "source": [
    "from sklearn.model_selection import train_test_split\n",
    "from sklearn.metrics import roc_auc_score, classification_report\n",
    "import lightgbm as lgb\n",
    "import shap"
   ]
  },
  {
   "cell_type": "code",
   "execution_count": 23,
   "id": "7d5afa28",
   "metadata": {},
   "outputs": [],
   "source": [
    "lgb_params = {\n",
    " 'boosting_type': 'gbdt',\n",
    " 'objective': 'binary',\n",
    " 'metric': 'binary_logloss',\n",
    " 'max_depth': 5,\n",
    " 'learning_rate': 0.1,\n",
    " 'feature_fraction': 0.9,\n",
    " 'bagging_fraction': 0.8,\n",
    " 'bagging_freq': 5,\n",
    " 'early_stopping': 10,\n",
    " 'verbose': -1,\n",
    " 'seed': 777\n",
    "}"
   ]
  },
  {
   "cell_type": "code",
   "execution_count": 24,
   "id": "51400978",
   "metadata": {},
   "outputs": [],
   "source": [
    "X = df_funnel[['feature_1', 'feature_2', 'feature_3',\n",
    "               'feature_4', \n",
    "    'feature_5',\n",
    "               'feature_6', 'feature_7', 'feature_8', \n",
    "               'feature_9',\n",
    "               'feature_10',\n",
    "]]\n",
    "y = df_funnel.sale_flg"
   ]
  },
  {
   "cell_type": "code",
   "execution_count": 25,
   "id": "a405723d",
   "metadata": {},
   "outputs": [],
   "source": [
    "# w = len(y) / np.bincount(y)\n",
    "# weights = np.where(y, w[1], w[0])"
   ]
  },
  {
   "cell_type": "code",
   "execution_count": 26,
   "id": "8bccf0ba",
   "metadata": {},
   "outputs": [],
   "source": [
    "# X_train, X_test, y_train, y_test, w_train, w_test = train_test_split(X, y, weights, test_size=0.33, random_state=42, stratify=y)\n",
    "X_train, X_test, y_train, y_test, = train_test_split(X, y, test_size=0.33, random_state=42, stratify=y)"
   ]
  },
  {
   "cell_type": "code",
   "execution_count": 27,
   "id": "996cd2ea",
   "metadata": {
    "tags": []
   },
   "outputs": [
    {
     "name": "stdout",
     "output_type": "stream",
     "text": [
      "[LightGBM] [Warning] Accuracy may be bad since you didn't explicitly set num_leaves OR 2^max_depth > num_leaves. (num_leaves=31).\n",
      "[1]\tvalid_0's binary_logloss: 0.65243\n",
      "Training until validation scores don't improve for 10 rounds\n",
      "[2]\tvalid_0's binary_logloss: 0.643052\n",
      "[3]\tvalid_0's binary_logloss: 0.635889\n",
      "[4]\tvalid_0's binary_logloss: 0.630739\n",
      "[5]\tvalid_0's binary_logloss: 0.626103\n",
      "[6]\tvalid_0's binary_logloss: 0.622817\n",
      "[7]\tvalid_0's binary_logloss: 0.620094\n",
      "[8]\tvalid_0's binary_logloss: 0.617122\n",
      "[9]\tvalid_0's binary_logloss: 0.615124\n",
      "[10]\tvalid_0's binary_logloss: 0.613355\n",
      "[11]\tvalid_0's binary_logloss: 0.612238\n",
      "[12]\tvalid_0's binary_logloss: 0.610865\n",
      "[13]\tvalid_0's binary_logloss: 0.610305\n",
      "[14]\tvalid_0's binary_logloss: 0.60984\n",
      "[15]\tvalid_0's binary_logloss: 0.609247\n",
      "[16]\tvalid_0's binary_logloss: 0.608307\n",
      "[17]\tvalid_0's binary_logloss: 0.607307\n",
      "[18]\tvalid_0's binary_logloss: 0.607479\n",
      "[19]\tvalid_0's binary_logloss: 0.607339\n",
      "[20]\tvalid_0's binary_logloss: 0.607021\n",
      "[21]\tvalid_0's binary_logloss: 0.606966\n",
      "[22]\tvalid_0's binary_logloss: 0.60687\n",
      "[23]\tvalid_0's binary_logloss: 0.60693\n",
      "[24]\tvalid_0's binary_logloss: 0.606941\n",
      "[25]\tvalid_0's binary_logloss: 0.606783\n",
      "[26]\tvalid_0's binary_logloss: 0.606658\n",
      "[27]\tvalid_0's binary_logloss: 0.606441\n",
      "[28]\tvalid_0's binary_logloss: 0.606592\n",
      "[29]\tvalid_0's binary_logloss: 0.605553\n",
      "[30]\tvalid_0's binary_logloss: 0.605162\n",
      "[31]\tvalid_0's binary_logloss: 0.605257\n",
      "[32]\tvalid_0's binary_logloss: 0.605335\n",
      "[33]\tvalid_0's binary_logloss: 0.605411\n",
      "[34]\tvalid_0's binary_logloss: 0.605254\n",
      "[35]\tvalid_0's binary_logloss: 0.605305\n",
      "[36]\tvalid_0's binary_logloss: 0.605341\n",
      "[37]\tvalid_0's binary_logloss: 0.605725\n",
      "[38]\tvalid_0's binary_logloss: 0.605791\n",
      "[39]\tvalid_0's binary_logloss: 0.605761\n",
      "[40]\tvalid_0's binary_logloss: 0.605763\n",
      "Early stopping, best iteration is:\n",
      "[30]\tvalid_0's binary_logloss: 0.605162\n"
     ]
    },
    {
     "name": "stderr",
     "output_type": "stream",
     "text": [
      "Found `early_stopping` in params. Will use it instead of argument\n"
     ]
    }
   ],
   "source": [
    "lgb_train = lgb.Dataset(X_train, y_train, weight=None, free_raw_data=False)\n",
    "lgb_test = lgb.Dataset(X_test, y_test, weight=None, reference=lgb_train, free_raw_data=False)\n",
    "clf = lgb.train(\n",
    "                lgb_params,\n",
    "                lgb_train,\n",
    "                num_boost_round=1000,\n",
    "                valid_sets=lgb_test,\n",
    "               )"
   ]
  },
  {
   "cell_type": "code",
   "execution_count": 28,
   "id": "3fdd7656",
   "metadata": {},
   "outputs": [],
   "source": [
    "y_train_pred = clf.predict(X_train)\n",
    "y_test_pred = clf.predict(X_test)"
   ]
  },
  {
   "cell_type": "code",
   "execution_count": 29,
   "id": "d9ead59c",
   "metadata": {},
   "outputs": [
    {
     "data": {
      "text/plain": [
       "(0.780357028511274, 0.6981859180255363)"
      ]
     },
     "execution_count": 29,
     "metadata": {},
     "output_type": "execute_result"
    }
   ],
   "source": [
    "roc_auc_score(y_train, y_train_pred), roc_auc_score(y_test, y_test_pred)"
   ]
  },
  {
   "cell_type": "code",
   "execution_count": 30,
   "id": "27410323",
   "metadata": {},
   "outputs": [],
   "source": [
    "# print(classification_report(y_train, y_train_pred > 0.5))"
   ]
  },
  {
   "cell_type": "code",
   "execution_count": 31,
   "id": "db06f55c",
   "metadata": {},
   "outputs": [
    {
     "name": "stdout",
     "output_type": "stream",
     "text": [
      "              precision    recall  f1-score   support\n",
      "\n",
      "           0       0.69      0.83      0.75      1904\n",
      "           1       0.58      0.40      0.47      1159\n",
      "\n",
      "    accuracy                           0.66      3063\n",
      "   macro avg       0.64      0.61      0.61      3063\n",
      "weighted avg       0.65      0.66      0.65      3063\n",
      "\n"
     ]
    }
   ],
   "source": [
    "print(classification_report(y_test, y_test_pred > 0.5))"
   ]
  },
  {
   "cell_type": "code",
   "execution_count": 32,
   "id": "05c19d8f",
   "metadata": {},
   "outputs": [
    {
     "name": "stdout",
     "output_type": "stream",
     "text": [
      "              precision    recall  f1-score   support\n",
      "\n",
      "           0       0.69      0.83      0.75      1904\n",
      "           1       0.58      0.40      0.47      1159\n",
      "\n",
      "    accuracy                           0.66      3063\n",
      "   macro avg       0.64      0.61      0.61      3063\n",
      "weighted avg       0.65      0.66      0.65      3063\n",
      "\n"
     ]
    }
   ],
   "source": [
    "print(classification_report(y_test, y_test_pred > 0.5))"
   ]
  },
  {
   "cell_type": "code",
   "execution_count": 33,
   "id": "2c06d82d",
   "metadata": {},
   "outputs": [
    {
     "data": {
      "image/png": "[encoded data removed]",
      "text/plain": [
       "<Figure size 1368x576 with 2 Axes>"
      ]
     },
     "metadata": {},
     "output_type": "display_data"
    }
   ],
   "source": [
    "fig, axs = plt.subplots(1, 2, figsize=(19,8))\n",
    "axs[0].hist(y_train_pred[y_train==0], bins=100, density=True, histtype='step', linewidth=4)\n",
    "axs[0].hist(y_train_pred[y_train==1], bins=100, density=True, histtype='step', linewidth=4)\n",
    "axs[1].hist(y_train_pred[y_train==0], bins=100, density=True, histtype='step', linewidth=4)\n",
    "axs[1].hist(y_train_pred[y_train==1], bins=100, density=True, histtype='step', linewidth=4)\n",
    "plt.show()"
   ]
  },
  {
   "cell_type": "code",
   "execution_count": 34,
   "id": "42132eb4",
   "metadata": {},
   "outputs": [
    {
     "name": "stderr",
     "output_type": "stream",
     "text": [
      "LightGBM binary classifier with TreeExplainer shap values output has changed to a list of ndarray\n"
     ]
    }
   ],
   "source": [
    "explainer = shap.TreeExplainer(clf)\n",
    "shap_values = explainer.shap_values(X)"
   ]
  },
  {
   "cell_type": "code",
   "execution_count": 35,
   "id": "7c94aa0d",
   "metadata": {},
   "outputs": [
    {
     "data": {
      "image/png": "[encoded data removed]",
      "text/plain": [
       "<Figure size 576x396 with 1 Axes>"
      ]
     },
     "metadata": {},
     "output_type": "display_data"
    }
   ],
   "source": [
    "shap.summary_plot(shap_values, X)"
   ]
  },
  {
   "cell_type": "code",
   "execution_count": 36,
   "id": "cf690fa4",
   "metadata": {},
   "outputs": [
    {
     "data": {
      "image/png": "[encoded data removed]",
      "text/plain": [
       "<Figure size 842.4x595.44 with 1 Axes>"
      ]
     },
     "metadata": {},
     "output_type": "display_data"
    }
   ],
   "source": [
    "lgb.plot_importance(clf)\n",
    "plt.show()"
   ]
  },
  {
   "cell_type": "code",
   "execution_count": null,
   "id": "ce2d6557",
   "metadata": {},
   "outputs": [],
   "source": []
  },
  {
   "cell_type": "markdown",
   "id": "be22b34a",
   "metadata": {},
   "source": [
    "### joint plots"
   ]
  },
  {
   "cell_type": "code",
   "execution_count": 37,
   "id": "b464bfe4",
   "metadata": {},
   "outputs": [
    {
     "data": {
      "text/html": [
       "<div>\n",
       "<style scoped>\n",
       "    .dataframe tbody tr th:only-of-type {\n",
       "        vertical-align: middle;\n",
       "    }\n",
       "\n",
       "    .dataframe tbody tr th {\n",
       "        vertical-align: top;\n",
       "    }\n",
       "\n",
       "    .dataframe thead th {\n",
       "        text-align: right;\n",
       "    }\n",
       "</style>\n",
       "<table border=\"1\" class=\"dataframe\">\n",
       "  <thead>\n",
       "    <tr style=\"text-align: right;\">\n",
       "      <th></th>\n",
       "      <th>sale_flg</th>\n",
       "      <th>sale_amount</th>\n",
       "      <th>contacts</th>\n",
       "      <th>feature_1</th>\n",
       "      <th>client_segment</th>\n",
       "      <th>feature_2</th>\n",
       "      <th>feature_3</th>\n",
       "      <th>feature_4</th>\n",
       "      <th>feature_5</th>\n",
       "      <th>feature_6</th>\n",
       "      <th>feature_7</th>\n",
       "      <th>feature_8</th>\n",
       "      <th>feature_9</th>\n",
       "      <th>feature_10</th>\n",
       "      <th>region_cd</th>\n",
       "      <th>nic</th>\n",
       "    </tr>\n",
       "    <tr>\n",
       "      <th>client_id</th>\n",
       "      <th></th>\n",
       "      <th></th>\n",
       "      <th></th>\n",
       "      <th></th>\n",
       "      <th></th>\n",
       "      <th></th>\n",
       "      <th></th>\n",
       "      <th></th>\n",
       "      <th></th>\n",
       "      <th></th>\n",
       "      <th></th>\n",
       "      <th></th>\n",
       "      <th></th>\n",
       "      <th></th>\n",
       "      <th></th>\n",
       "      <th></th>\n",
       "    </tr>\n",
       "  </thead>\n",
       "  <tbody>\n",
       "    <tr>\n",
       "      <th>-4098589863068527393</th>\n",
       "      <td>1</td>\n",
       "      <td>19881.95</td>\n",
       "      <td>1</td>\n",
       "      <td>10</td>\n",
       "      <td>3.0</td>\n",
       "      <td>6070615.0</td>\n",
       "      <td>92340.0</td>\n",
       "      <td>0.0</td>\n",
       "      <td>64652.0</td>\n",
       "      <td>47363.0</td>\n",
       "      <td>4565102.0</td>\n",
       "      <td>4153869.0</td>\n",
       "      <td>7.9</td>\n",
       "      <td>92345.0</td>\n",
       "      <td>72.0</td>\n",
       "      <td>15881.95</td>\n",
       "    </tr>\n",
       "    <tr>\n",
       "      <th>-3800879198050978878</th>\n",
       "      <td>0</td>\n",
       "      <td>0.00</td>\n",
       "      <td>1</td>\n",
       "      <td>4</td>\n",
       "      <td>13.0</td>\n",
       "      <td>3642369.0</td>\n",
       "      <td>1808.0</td>\n",
       "      <td>0.0</td>\n",
       "      <td>0.0</td>\n",
       "      <td>6232.0</td>\n",
       "      <td>84989.0</td>\n",
       "      <td>65376.0</td>\n",
       "      <td>9.9</td>\n",
       "      <td>1817.0</td>\n",
       "      <td>16.0</td>\n",
       "      <td>-4000.00</td>\n",
       "    </tr>\n",
       "    <tr>\n",
       "      <th>-6259722264063605412</th>\n",
       "      <td>1</td>\n",
       "      <td>52682.20</td>\n",
       "      <td>1</td>\n",
       "      <td>4</td>\n",
       "      <td>4.0</td>\n",
       "      <td>3642369.0</td>\n",
       "      <td>28396.0</td>\n",
       "      <td>27836.0</td>\n",
       "      <td>0.0</td>\n",
       "      <td>45643.0</td>\n",
       "      <td>1403526.0</td>\n",
       "      <td>259311.0</td>\n",
       "      <td>7.9</td>\n",
       "      <td>28391.0</td>\n",
       "      <td>61.0</td>\n",
       "      <td>48682.20</td>\n",
       "    </tr>\n",
       "    <tr>\n",
       "      <th>2903724758311312844</th>\n",
       "      <td>1</td>\n",
       "      <td>131726.65</td>\n",
       "      <td>1</td>\n",
       "      <td>5</td>\n",
       "      <td>6.0</td>\n",
       "      <td>3642369.0</td>\n",
       "      <td>165447.0</td>\n",
       "      <td>50031.0</td>\n",
       "      <td>0.0</td>\n",
       "      <td>209305.0</td>\n",
       "      <td>3642369.0</td>\n",
       "      <td>2209644.0</td>\n",
       "      <td>9.4</td>\n",
       "      <td>78108.0</td>\n",
       "      <td>86.0</td>\n",
       "      <td>127726.65</td>\n",
       "    </tr>\n",
       "    <tr>\n",
       "      <th>5034303583573327776</th>\n",
       "      <td>0</td>\n",
       "      <td>0.00</td>\n",
       "      <td>3</td>\n",
       "      <td>3</td>\n",
       "      <td>3.0</td>\n",
       "      <td>6070615.0</td>\n",
       "      <td>24592.0</td>\n",
       "      <td>56847.0</td>\n",
       "      <td>15085.0</td>\n",
       "      <td>90630.0</td>\n",
       "      <td>1201982.0</td>\n",
       "      <td>115595.0</td>\n",
       "      <td>7.4</td>\n",
       "      <td>24603.0</td>\n",
       "      <td>73.0</td>\n",
       "      <td>-12000.00</td>\n",
       "    </tr>\n",
       "  </tbody>\n",
       "</table>\n",
       "</div>"
      ],
      "text/plain": [
       "                      sale_flg  sale_amount  contacts  feature_1  \\\n",
       "client_id                                                          \n",
       "-4098589863068527393         1     19881.95         1         10   \n",
       "-3800879198050978878         0         0.00         1          4   \n",
       "-6259722264063605412         1     52682.20         1          4   \n",
       " 2903724758311312844         1    131726.65         1          5   \n",
       " 5034303583573327776         0         0.00         3          3   \n",
       "\n",
       "                      client_segment  feature_2  feature_3  feature_4  \\\n",
       "client_id                                                               \n",
       "-4098589863068527393             3.0  6070615.0    92340.0        0.0   \n",
       "-3800879198050978878            13.0  3642369.0     1808.0        0.0   \n",
       "-6259722264063605412             4.0  3642369.0    28396.0    27836.0   \n",
       " 2903724758311312844             6.0  3642369.0   165447.0    50031.0   \n",
       " 5034303583573327776             3.0  6070615.0    24592.0    56847.0   \n",
       "\n",
       "                      feature_5  feature_6  feature_7  feature_8  feature_9  \\\n",
       "client_id                                                                     \n",
       "-4098589863068527393    64652.0    47363.0  4565102.0  4153869.0        7.9   \n",
       "-3800879198050978878        0.0     6232.0    84989.0    65376.0        9.9   \n",
       "-6259722264063605412        0.0    45643.0  1403526.0   259311.0        7.9   \n",
       " 2903724758311312844        0.0   209305.0  3642369.0  2209644.0        9.4   \n",
       " 5034303583573327776    15085.0    90630.0  1201982.0   115595.0        7.4   \n",
       "\n",
       "                      feature_10  region_cd        nic  \n",
       "client_id                                               \n",
       "-4098589863068527393     92345.0       72.0   15881.95  \n",
       "-3800879198050978878      1817.0       16.0   -4000.00  \n",
       "-6259722264063605412     28391.0       61.0   48682.20  \n",
       " 2903724758311312844     78108.0       86.0  127726.65  \n",
       " 5034303583573327776     24603.0       73.0  -12000.00  "
      ]
     },
     "execution_count": 37,
     "metadata": {},
     "output_type": "execute_result"
    }
   ],
   "source": [
    "df_funnel.sample(5)"
   ]
  },
  {
   "cell_type": "code",
   "execution_count": 38,
   "id": "6208f345",
   "metadata": {},
   "outputs": [
    {
     "name": "stderr",
     "output_type": "stream",
     "text": [
      "Dataset has 0 variance; skipping density estimate.\n"
     ]
    },
    {
     "data": {
      "image/png": "[encoded data removed]",
      "text/plain": [
       "<Figure size 720x720 with 3 Axes>"
      ]
     },
     "metadata": {},
     "output_type": "display_data"
    }
   ],
   "source": [
    "feature = 'feature_1'\n",
    "jplt = sns.jointplot(x=feature, y='sale_amount', data=df_funnel, hue='sale_flg', alpha=0.2, height=10) # .query('sale_flg == 1')\n",
    "# jplt.ax_marg_x.set_xlim(0, 1e7)\n",
    "# jplt.ax_marg_y.set_xlim(0, 3e5)\n",
    "plt.xlabel('sale_amount')\n",
    "plt.ylabel(feature)\n",
    "plt.show()"
   ]
  },
  {
   "cell_type": "markdown",
   "id": "310fee05",
   "metadata": {},
   "source": [
    "### feature 2"
   ]
  },
  {
   "cell_type": "code",
   "execution_count": 39,
   "id": "b18306fc",
   "metadata": {},
   "outputs": [
    {
     "data": {
      "text/plain": [
       "6070615.0    2381\n",
       "3642369.0    1902\n",
       "2428246.0     892\n",
       "1821184.0     356\n",
       "0.0           199\n",
       "             ... \n",
       "4042263.0       1\n",
       "1067828.0       1\n",
       "341693.0        1\n",
       "742121.0        1\n",
       "1074967.0       1\n",
       "Name: feature_2, Length: 2922, dtype: int64"
      ]
     },
     "execution_count": 39,
     "metadata": {},
     "output_type": "execute_result"
    }
   ],
   "source": [
    "df_funnel.feature_2.value_counts()"
   ]
  },
  {
   "cell_type": "code",
   "execution_count": 40,
   "id": "cef535cf",
   "metadata": {},
   "outputs": [
    {
     "data": {
      "text/plain": [
       "0    5770\n",
       "1    3510\n",
       "Name: sale_flg, dtype: int64"
      ]
     },
     "execution_count": 40,
     "metadata": {},
     "output_type": "execute_result"
    }
   ],
   "source": [
    "df_funnel.sale_flg.value_counts()"
   ]
  },
  {
   "cell_type": "code",
   "execution_count": 41,
   "id": "2fb95acb",
   "metadata": {},
   "outputs": [
    {
     "data": {
      "text/plain": [
       "0    1220\n",
       "1     682\n",
       "Name: sale_flg, dtype: int64"
      ]
     },
     "execution_count": 41,
     "metadata": {},
     "output_type": "execute_result"
    }
   ],
   "source": [
    "df_funnel.query('feature_2 == 3642369.0').sale_flg.value_counts()"
   ]
  },
  {
   "cell_type": "code",
   "execution_count": 42,
   "id": "1a6c64a4",
   "metadata": {},
   "outputs": [
    {
     "data": {
      "text/plain": [
       "0    1525\n",
       "1     856\n",
       "Name: sale_flg, dtype: int64"
      ]
     },
     "execution_count": 42,
     "metadata": {},
     "output_type": "execute_result"
    }
   ],
   "source": [
    "df_funnel.query('feature_2 == 6070615.0').sale_flg.value_counts()"
   ]
  },
  {
   "cell_type": "code",
   "execution_count": 43,
   "id": "6d5818db",
   "metadata": {},
   "outputs": [
    {
     "data": {
      "text/plain": [
       "0    593\n",
       "1    299\n",
       "Name: sale_flg, dtype: int64"
      ]
     },
     "execution_count": 43,
     "metadata": {},
     "output_type": "execute_result"
    }
   ],
   "source": [
    "df_funnel.query('feature_2 == 2428246.0').sale_flg.value_counts()"
   ]
  },
  {
   "cell_type": "code",
   "execution_count": 44,
   "id": "1c5cb8c5",
   "metadata": {},
   "outputs": [
    {
     "data": {
      "text/plain": [
       "0    311\n",
       "1     45\n",
       "Name: sale_flg, dtype: int64"
      ]
     },
     "execution_count": 44,
     "metadata": {},
     "output_type": "execute_result"
    }
   ],
   "source": [
    "df_funnel.query('feature_2 == 1821184.0').sale_flg.value_counts()"
   ]
  },
  {
   "cell_type": "code",
   "execution_count": 45,
   "id": "4e4a0632",
   "metadata": {},
   "outputs": [
    {
     "data": {
      "text/plain": [
       "0    2121\n",
       "1    1628\n",
       "Name: sale_flg, dtype: int64"
      ]
     },
     "execution_count": 45,
     "metadata": {},
     "output_type": "execute_result"
    }
   ],
   "source": [
    "df_funnel.query('~(feature_2 == 1821184.0 or feature_2 == 2428246.0 or feature_2 == 6070615.0 or feature_2 == 3642369.0)').sale_flg.value_counts()"
   ]
  },
  {
   "cell_type": "code",
   "execution_count": null,
   "id": "81fa4c5e",
   "metadata": {},
   "outputs": [],
   "source": []
  },
  {
   "cell_type": "markdown",
   "id": "b849722a",
   "metadata": {},
   "source": [
    "## balance"
   ]
  },
  {
   "cell_type": "code",
   "execution_count": 46,
   "id": "75b35f19",
   "metadata": {},
   "outputs": [
    {
     "data": {
      "text/html": [
       "<div>\n",
       "<style scoped>\n",
       "    .dataframe tbody tr th:only-of-type {\n",
       "        vertical-align: middle;\n",
       "    }\n",
       "\n",
       "    .dataframe tbody tr th {\n",
       "        vertical-align: top;\n",
       "    }\n",
       "\n",
       "    .dataframe thead th {\n",
       "        text-align: right;\n",
       "    }\n",
       "</style>\n",
       "<table border=\"1\" class=\"dataframe\">\n",
       "  <thead>\n",
       "    <tr style=\"text-align: right;\">\n",
       "      <th></th>\n",
       "      <th>client_id</th>\n",
       "      <th>crncy_cd</th>\n",
       "      <th>eop_bal_sum_rur</th>\n",
       "      <th>min_bal_sum_rur</th>\n",
       "      <th>max_bal_sum_rur</th>\n",
       "      <th>avg_bal_sum_rur</th>\n",
       "      <th>month_end_dt</th>\n",
       "      <th>prod_cat_name</th>\n",
       "      <th>prod_group_name</th>\n",
       "    </tr>\n",
       "  </thead>\n",
       "  <tbody>\n",
       "    <tr>\n",
       "      <th>551069</th>\n",
       "      <td>-6399530399676774700</td>\n",
       "      <td>810.0</td>\n",
       "      <td>0.0</td>\n",
       "      <td>0.0</td>\n",
       "      <td>0.0</td>\n",
       "      <td>0.0</td>\n",
       "      <td>2018-10-31</td>\n",
       "      <td>KN</td>\n",
       "      <td>Salary cards</td>\n",
       "    </tr>\n",
       "    <tr>\n",
       "      <th>373792</th>\n",
       "      <td>5201865934100634173</td>\n",
       "      <td>840.0</td>\n",
       "      <td>0.0</td>\n",
       "      <td>0.0</td>\n",
       "      <td>0.0</td>\n",
       "      <td>0.0</td>\n",
       "      <td>2019-04-30</td>\n",
       "      <td>DEPOSITS</td>\n",
       "      <td>Time deposits</td>\n",
       "    </tr>\n",
       "    <tr>\n",
       "      <th>229553</th>\n",
       "      <td>-2310017577502220445</td>\n",
       "      <td>810.0</td>\n",
       "      <td>0.0</td>\n",
       "      <td>0.0</td>\n",
       "      <td>0.0</td>\n",
       "      <td>0.0</td>\n",
       "      <td>2019-04-30</td>\n",
       "      <td>CURRENT ACCOUNTS</td>\n",
       "      <td>Cash on demand</td>\n",
       "    </tr>\n",
       "    <tr>\n",
       "      <th>421734</th>\n",
       "      <td>-4071916414225378001</td>\n",
       "      <td>810.0</td>\n",
       "      <td>0.0</td>\n",
       "      <td>0.0</td>\n",
       "      <td>0.0</td>\n",
       "      <td>0.0</td>\n",
       "      <td>2019-05-31</td>\n",
       "      <td>DEPOSITS</td>\n",
       "      <td>Time deposits</td>\n",
       "    </tr>\n",
       "    <tr>\n",
       "      <th>470266</th>\n",
       "      <td>-2717619842847128620</td>\n",
       "      <td>810.0</td>\n",
       "      <td>0.0</td>\n",
       "      <td>0.0</td>\n",
       "      <td>0.0</td>\n",
       "      <td>0.0</td>\n",
       "      <td>2019-02-28</td>\n",
       "      <td>DEPOSITS</td>\n",
       "      <td>Time deposits</td>\n",
       "    </tr>\n",
       "  </tbody>\n",
       "</table>\n",
       "</div>"
      ],
      "text/plain": [
       "                  client_id  crncy_cd  eop_bal_sum_rur  min_bal_sum_rur  \\\n",
       "551069 -6399530399676774700     810.0              0.0              0.0   \n",
       "373792  5201865934100634173     840.0              0.0              0.0   \n",
       "229553 -2310017577502220445     810.0              0.0              0.0   \n",
       "421734 -4071916414225378001     810.0              0.0              0.0   \n",
       "470266 -2717619842847128620     810.0              0.0              0.0   \n",
       "\n",
       "        max_bal_sum_rur  avg_bal_sum_rur month_end_dt     prod_cat_name  \\\n",
       "551069              0.0              0.0   2018-10-31                KN   \n",
       "373792              0.0              0.0   2019-04-30          DEPOSITS   \n",
       "229553              0.0              0.0   2019-04-30  CURRENT ACCOUNTS   \n",
       "421734              0.0              0.0   2019-05-31          DEPOSITS   \n",
       "470266              0.0              0.0   2019-02-28          DEPOSITS   \n",
       "\n",
       "       prod_group_name  \n",
       "551069    Salary cards  \n",
       "373792   Time deposits  \n",
       "229553  Cash on demand  \n",
       "421734   Time deposits  \n",
       "470266   Time deposits  "
      ]
     },
     "execution_count": 46,
     "metadata": {},
     "output_type": "execute_result"
    }
   ],
   "source": [
    "df_balance.sample(5)"
   ]
  },
  {
   "cell_type": "code",
   "execution_count": 47,
   "id": "37bdeb86",
   "metadata": {},
   "outputs": [
    {
     "data": {
      "text/plain": [
       "KN                        575203\n",
       "CURRENT ACCOUNTS          302334\n",
       "DEPOSITS                  174921\n",
       "SALARY CARDS               71497\n",
       "DEBIT CARDS                38824\n",
       "CREDIT CARDS               17224\n",
       "MORTGAGE                    7080\n",
       "TECHNICAL CARDS             3587\n",
       "CAR LOANS                   1092\n",
       "Cash on demand               312\n",
       "CREDITS IN CASH OR           312\n",
       "CASH CREDITS (X-SALE)        264\n",
       "OTHER MORTGAGE                48\n",
       "VIP DEBIT CARDS               24\n",
       "URGENT DEPOSITS BIN           24\n",
       "LENDING SALARY CLIENTS        12\n",
       "VIP CREDIT CARDS              12\n",
       "LOANS FOR EMPLOYEES           12\n",
       "PREAD MAP                     12\n",
       "Name: prod_cat_name, dtype: int64"
      ]
     },
     "execution_count": 47,
     "metadata": {},
     "output_type": "execute_result"
    }
   ],
   "source": [
    "df_balance.prod_cat_name.value_counts()"
   ]
  },
  {
   "cell_type": "code",
   "execution_count": 48,
   "id": "c4cd7509",
   "metadata": {},
   "outputs": [
    {
     "data": {
      "text/plain": [
       "810.0    1148838\n",
       "840.0      28007\n",
       "978.0      15354\n",
       "500.0        552\n",
       "826.0        446\n",
       "98.0         190\n",
       "99.0         120\n",
       "578.0         96\n",
       "33.0          68\n",
       "76.0          41\n",
       "392.0         36\n",
       "156.0         24\n",
       "756.0         12\n",
       "124.0         12\n",
       "Name: crncy_cd, dtype: int64"
      ]
     },
     "execution_count": 48,
     "metadata": {},
     "output_type": "execute_result"
    }
   ],
   "source": [
    "df_balance.crncy_cd.value_counts()"
   ]
  },
  {
   "cell_type": "code",
   "execution_count": 49,
   "id": "1bdb3fa2",
   "metadata": {},
   "outputs": [
    {
     "data": {
      "text/plain": [
       "2019-08-31    106386\n",
       "2019-07-31    105252\n",
       "2019-06-30    104320\n",
       "2019-05-31    103358\n",
       "2019-04-30    102478\n",
       "2019-03-31    101640\n",
       "2019-02-28     99744\n",
       "2019-01-31     98172\n",
       "2018-12-31     97017\n",
       "2018-11-30     95155\n",
       "2018-10-31     91962\n",
       "2018-09-30     89200\n",
       "Name: month_end_dt, dtype: int64"
      ]
     },
     "execution_count": 49,
     "metadata": {},
     "output_type": "execute_result"
    }
   ],
   "source": [
    "df_balance.month_end_dt.value_counts()"
   ]
  },
  {
   "cell_type": "code",
   "execution_count": 50,
   "id": "0ba06cb0",
   "metadata": {},
   "outputs": [
    {
     "data": {
      "text/plain": [
       "(1035779, (1194684, 9))"
      ]
     },
     "execution_count": 50,
     "metadata": {},
     "output_type": "execute_result"
    }
   ],
   "source": [
    "sum(df_balance.min_bal_sum_rur == 0), df_balance.shape"
   ]
  },
  {
   "cell_type": "code",
   "execution_count": null,
   "id": "db5aea8e",
   "metadata": {},
   "outputs": [],
   "source": []
  },
  {
   "cell_type": "markdown",
   "id": "cdb93fba",
   "metadata": {},
   "source": [
    "## payments"
   ]
  },
  {
   "cell_type": "code",
   "execution_count": 51,
   "id": "b36e836a",
   "metadata": {},
   "outputs": [
    {
     "data": {
      "text/html": [
       "<div>\n",
       "<style scoped>\n",
       "    .dataframe tbody tr th:only-of-type {\n",
       "        vertical-align: middle;\n",
       "    }\n",
       "\n",
       "    .dataframe tbody tr th {\n",
       "        vertical-align: top;\n",
       "    }\n",
       "\n",
       "    .dataframe thead th {\n",
       "        text-align: right;\n",
       "    }\n",
       "</style>\n",
       "<table border=\"1\" class=\"dataframe\">\n",
       "  <thead>\n",
       "    <tr style=\"text-align: right;\">\n",
       "      <th></th>\n",
       "      <th>client_id</th>\n",
       "      <th>day_dt</th>\n",
       "      <th>sum_rur</th>\n",
       "      <th>pmnts_name</th>\n",
       "    </tr>\n",
       "  </thead>\n",
       "  <tbody>\n",
       "    <tr>\n",
       "      <th>0</th>\n",
       "      <td>-1893104556496814867</td>\n",
       "      <td>2019-06-29</td>\n",
       "      <td>6071.0</td>\n",
       "      <td>Salary receipts</td>\n",
       "    </tr>\n",
       "    <tr>\n",
       "      <th>1</th>\n",
       "      <td>-1893104556496814867</td>\n",
       "      <td>2019-08-13</td>\n",
       "      <td>45641.0</td>\n",
       "      <td>Salary receipts</td>\n",
       "    </tr>\n",
       "    <tr>\n",
       "      <th>2</th>\n",
       "      <td>-1893104556496814867</td>\n",
       "      <td>2018-10-22</td>\n",
       "      <td>6071.0</td>\n",
       "      <td>Salary receipts</td>\n",
       "    </tr>\n",
       "    <tr>\n",
       "      <th>3</th>\n",
       "      <td>-1893104556496814867</td>\n",
       "      <td>2018-09-26</td>\n",
       "      <td>6071.0</td>\n",
       "      <td>Salary receipts</td>\n",
       "    </tr>\n",
       "    <tr>\n",
       "      <th>4</th>\n",
       "      <td>-1893104556496814867</td>\n",
       "      <td>2018-09-10</td>\n",
       "      <td>5872.0</td>\n",
       "      <td>Salary receipts</td>\n",
       "    </tr>\n",
       "    <tr>\n",
       "      <th>...</th>\n",
       "      <td>...</td>\n",
       "      <td>...</td>\n",
       "      <td>...</td>\n",
       "      <td>...</td>\n",
       "    </tr>\n",
       "    <tr>\n",
       "      <th>188063</th>\n",
       "      <td>-8727103852075923180</td>\n",
       "      <td>2019-05-29</td>\n",
       "      <td>12141.0</td>\n",
       "      <td>Pension receipts</td>\n",
       "    </tr>\n",
       "    <tr>\n",
       "      <th>188064</th>\n",
       "      <td>-8727103852075923180</td>\n",
       "      <td>2019-06-04</td>\n",
       "      <td>6071.0</td>\n",
       "      <td>Pension receipts</td>\n",
       "    </tr>\n",
       "    <tr>\n",
       "      <th>188065</th>\n",
       "      <td>-8727103852075923180</td>\n",
       "      <td>2019-07-01</td>\n",
       "      <td>12141.0</td>\n",
       "      <td>Pension receipts</td>\n",
       "    </tr>\n",
       "    <tr>\n",
       "      <th>188066</th>\n",
       "      <td>4662551505651924284</td>\n",
       "      <td>2019-06-01</td>\n",
       "      <td>12141.0</td>\n",
       "      <td>Pension receipts</td>\n",
       "    </tr>\n",
       "    <tr>\n",
       "      <th>188067</th>\n",
       "      <td>4662551505651924284</td>\n",
       "      <td>2019-07-01</td>\n",
       "      <td>12141.0</td>\n",
       "      <td>Pension receipts</td>\n",
       "    </tr>\n",
       "  </tbody>\n",
       "</table>\n",
       "<p>188068 rows × 4 columns</p>\n",
       "</div>"
      ],
      "text/plain": [
       "                  client_id      day_dt  sum_rur        pmnts_name\n",
       "0      -1893104556496814867  2019-06-29   6071.0   Salary receipts\n",
       "1      -1893104556496814867  2019-08-13  45641.0   Salary receipts\n",
       "2      -1893104556496814867  2018-10-22   6071.0   Salary receipts\n",
       "3      -1893104556496814867  2018-09-26   6071.0   Salary receipts\n",
       "4      -1893104556496814867  2018-09-10   5872.0   Salary receipts\n",
       "...                     ...         ...      ...               ...\n",
       "188063 -8727103852075923180  2019-05-29  12141.0  Pension receipts\n",
       "188064 -8727103852075923180  2019-06-04   6071.0  Pension receipts\n",
       "188065 -8727103852075923180  2019-07-01  12141.0  Pension receipts\n",
       "188066  4662551505651924284  2019-06-01  12141.0  Pension receipts\n",
       "188067  4662551505651924284  2019-07-01  12141.0  Pension receipts\n",
       "\n",
       "[188068 rows x 4 columns]"
      ]
     },
     "execution_count": 51,
     "metadata": {},
     "output_type": "execute_result"
    }
   ],
   "source": [
    "df_payments"
   ]
  },
  {
   "cell_type": "code",
   "execution_count": 52,
   "id": "cfab1c97",
   "metadata": {},
   "outputs": [],
   "source": [
    "df_payments = df_payments.set_index('client_id')"
   ]
  },
  {
   "cell_type": "code",
   "execution_count": 53,
   "id": "d85c4574",
   "metadata": {},
   "outputs": [
    {
     "data": {
      "text/plain": [
       "Salary receipts     181662\n",
       "Pension receipts      6406\n",
       "Name: pmnts_name, dtype: int64"
      ]
     },
     "execution_count": 53,
     "metadata": {},
     "output_type": "execute_result"
    }
   ],
   "source": [
    "df_payments.pmnts_name.value_counts()"
   ]
  },
  {
   "cell_type": "markdown",
   "id": "37847084",
   "metadata": {},
   "source": [
    "### salaries"
   ]
  },
  {
   "cell_type": "code",
   "execution_count": 54,
   "id": "8dfe041f",
   "metadata": {},
   "outputs": [
    {
     "data": {
      "text/plain": [
       "client_id\n",
       "-9220236243053692422    15737.333333\n",
       "-9220233431709087652    32787.000000\n",
       "-9219699286371310531     4629.636364\n",
       "-9218871523310554579    15783.120000\n",
       "-9217476774110203314     3614.833333\n",
       "                            ...     \n",
       " 9217721824424937511     7899.333333\n",
       " 9218801691173598782    13808.576923\n",
       " 9219024469308275500     7467.200000\n",
       " 9220335314469087849    15792.523810\n",
       " 9223107459698100059     8081.333333\n",
       "Name: sum_rur, Length: 8954, dtype: float64"
      ]
     },
     "execution_count": 54,
     "metadata": {},
     "output_type": "execute_result"
    }
   ],
   "source": [
    "mean_salaries = df_payments.groupby('client_id').sum_rur.mean()\n",
    "mean_salaries"
   ]
  },
  {
   "cell_type": "code",
   "execution_count": 55,
   "id": "f7efe348",
   "metadata": {},
   "outputs": [
    {
     "data": {
      "text/plain": [
       "<AxesSubplot:>"
      ]
     },
     "execution_count": 55,
     "metadata": {},
     "output_type": "execute_result"
    },
    {
     "data": {
      "image/png": "[encoded data removed]",
      "text/plain": [
       "<Figure size 842.4x595.44 with 1 Axes>"
      ]
     },
     "metadata": {},
     "output_type": "display_data"
    }
   ],
   "source": [
    "mean_salaries.hist(bins=100, range=(0, 200000))"
   ]
  },
  {
   "cell_type": "code",
   "execution_count": 56,
   "id": "125c235c",
   "metadata": {},
   "outputs": [],
   "source": [
    "df_payments['month'] = pd.to_datetime(df_payments.day_dt).dt.month"
   ]
  },
  {
   "cell_type": "code",
   "execution_count": 57,
   "id": "c5b741ba",
   "metadata": {},
   "outputs": [
    {
     "data": {
      "text/plain": [
       "16875.954453007984"
      ]
     },
     "execution_count": 57,
     "metadata": {},
     "output_type": "execute_result"
    }
   ],
   "source": [
    "df_payments.groupby(['client_id', 'month']).sum_rur.sum().loc[-9220236243053692422].std()"
   ]
  },
  {
   "cell_type": "code",
   "execution_count": 58,
   "id": "4bb70574",
   "metadata": {},
   "outputs": [],
   "source": [
    "std_salaries = df_payments.groupby(['client_id', 'month']).sum_rur.sum().std(level=0)"
   ]
  },
  {
   "cell_type": "code",
   "execution_count": 59,
   "id": "2a6d4fd5",
   "metadata": {},
   "outputs": [],
   "source": [
    "sale_flg = df_funnel.loc[np.intersect1d(std_salaries.index, df_funnel.index)].sale_flg"
   ]
  },
  {
   "cell_type": "code",
   "execution_count": 60,
   "id": "1e39dcb4",
   "metadata": {},
   "outputs": [
    {
     "data": {
      "text/plain": [
       "Text(0.5, 1.0, 'std salary')"
      ]
     },
     "execution_count": 60,
     "metadata": {},
     "output_type": "execute_result"
    },
    {
     "data": {
      "image/png": "[encoded data removed]",
      "text/plain": [
       "<Figure size 1224x648 with 2 Axes>"
      ]
     },
     "metadata": {},
     "output_type": "display_data"
    }
   ],
   "source": [
    "fig, axs = plt.subplots(1,2, figsize=(17, 9))\n",
    "sns.boxplot(x=sale_flg, y=mean_salaries, ax=axs[0])\n",
    "axs[0].set_ylim(0, 1e5)\n",
    "axs[0].set_title('mean salary')\n",
    "#\n",
    "sns.boxplot(x=sale_flg, y=std_salaries, ax=axs[1])\n",
    "axs[1].set_ylim(0, 2e5)\n",
    "axs[1].set_title('std salary')"
   ]
  },
  {
   "cell_type": "code",
   "execution_count": 61,
   "id": "7bd3d506",
   "metadata": {},
   "outputs": [
    {
     "data": {
      "text/plain": [
       "client_id\n",
       "-9220236243053692422     9\n",
       "-9220233431709087652    23\n",
       "-9219699286371310531    11\n",
       "-9218871523310554579    25\n",
       "-9217476774110203314     6\n",
       "                        ..\n",
       " 9217721824424937511    24\n",
       " 9218801691173598782    26\n",
       " 9219024469308275500    20\n",
       " 9220335314469087849    19\n",
       " 9223107459698100059    12\n",
       "Name: sum_rur, Length: 8800, dtype: int64"
      ]
     },
     "execution_count": 61,
     "metadata": {},
     "output_type": "execute_result"
    }
   ],
   "source": [
    "count_salaries = df_payments.query('pmnts_name == \"Salary receipts\"').groupby('client_id').sum_rur.count()\n",
    "count_salaries"
   ]
  },
  {
   "cell_type": "code",
   "execution_count": 62,
   "id": "af68d187",
   "metadata": {},
   "outputs": [
    {
     "data": {
      "text/plain": [
       "<AxesSubplot:>"
      ]
     },
     "execution_count": 62,
     "metadata": {},
     "output_type": "execute_result"
    },
    {
     "data": {
      "image/png": "[encoded data removed]",
      "text/plain": [
       "<Figure size 842.4x595.44 with 1 Axes>"
      ]
     },
     "metadata": {},
     "output_type": "display_data"
    }
   ],
   "source": [
    "count_salaries.loc[np.intersect1d(df_funnel.query('sale_flg == 1').index, count_salaries.index)].hist(bins=40, density=True, histtype='step', linewidth=4)\n",
    "count_salaries.loc[np.intersect1d(df_funnel.query('sale_flg == 0').index, count_salaries.index)].hist(bins=40, density=True, histtype='step', linewidth=4)"
   ]
  },
  {
   "cell_type": "markdown",
   "id": "8b4953a2",
   "metadata": {},
   "source": [
    "### pensions"
   ]
  },
  {
   "cell_type": "code",
   "execution_count": 63,
   "id": "3ae4d588",
   "metadata": {},
   "outputs": [
    {
     "data": {
      "text/html": [
       "<div>\n",
       "<style scoped>\n",
       "    .dataframe tbody tr th:only-of-type {\n",
       "        vertical-align: middle;\n",
       "    }\n",
       "\n",
       "    .dataframe tbody tr th {\n",
       "        vertical-align: top;\n",
       "    }\n",
       "\n",
       "    .dataframe thead th {\n",
       "        text-align: right;\n",
       "    }\n",
       "</style>\n",
       "<table border=\"1\" class=\"dataframe\">\n",
       "  <thead>\n",
       "    <tr style=\"text-align: right;\">\n",
       "      <th></th>\n",
       "      <th>day_dt</th>\n",
       "      <th>sum_rur</th>\n",
       "      <th>pmnts_name</th>\n",
       "      <th>month</th>\n",
       "    </tr>\n",
       "    <tr>\n",
       "      <th>client_id</th>\n",
       "      <th></th>\n",
       "      <th></th>\n",
       "      <th></th>\n",
       "      <th></th>\n",
       "    </tr>\n",
       "  </thead>\n",
       "  <tbody>\n",
       "    <tr>\n",
       "      <th>-1893104556496814867</th>\n",
       "      <td>2019-06-29</td>\n",
       "      <td>6071.0</td>\n",
       "      <td>Salary receipts</td>\n",
       "      <td>6</td>\n",
       "    </tr>\n",
       "    <tr>\n",
       "      <th>-1893104556496814867</th>\n",
       "      <td>2019-08-13</td>\n",
       "      <td>45641.0</td>\n",
       "      <td>Salary receipts</td>\n",
       "      <td>8</td>\n",
       "    </tr>\n",
       "    <tr>\n",
       "      <th>-1893104556496814867</th>\n",
       "      <td>2018-10-22</td>\n",
       "      <td>6071.0</td>\n",
       "      <td>Salary receipts</td>\n",
       "      <td>10</td>\n",
       "    </tr>\n",
       "    <tr>\n",
       "      <th>-1893104556496814867</th>\n",
       "      <td>2018-09-26</td>\n",
       "      <td>6071.0</td>\n",
       "      <td>Salary receipts</td>\n",
       "      <td>9</td>\n",
       "    </tr>\n",
       "    <tr>\n",
       "      <th>-1893104556496814867</th>\n",
       "      <td>2018-09-10</td>\n",
       "      <td>5872.0</td>\n",
       "      <td>Salary receipts</td>\n",
       "      <td>9</td>\n",
       "    </tr>\n",
       "    <tr>\n",
       "      <th>...</th>\n",
       "      <td>...</td>\n",
       "      <td>...</td>\n",
       "      <td>...</td>\n",
       "      <td>...</td>\n",
       "    </tr>\n",
       "    <tr>\n",
       "      <th>-8727103852075923180</th>\n",
       "      <td>2019-05-29</td>\n",
       "      <td>12141.0</td>\n",
       "      <td>Pension receipts</td>\n",
       "      <td>5</td>\n",
       "    </tr>\n",
       "    <tr>\n",
       "      <th>-8727103852075923180</th>\n",
       "      <td>2019-06-04</td>\n",
       "      <td>6071.0</td>\n",
       "      <td>Pension receipts</td>\n",
       "      <td>6</td>\n",
       "    </tr>\n",
       "    <tr>\n",
       "      <th>-8727103852075923180</th>\n",
       "      <td>2019-07-01</td>\n",
       "      <td>12141.0</td>\n",
       "      <td>Pension receipts</td>\n",
       "      <td>7</td>\n",
       "    </tr>\n",
       "    <tr>\n",
       "      <th>4662551505651924284</th>\n",
       "      <td>2019-06-01</td>\n",
       "      <td>12141.0</td>\n",
       "      <td>Pension receipts</td>\n",
       "      <td>6</td>\n",
       "    </tr>\n",
       "    <tr>\n",
       "      <th>4662551505651924284</th>\n",
       "      <td>2019-07-01</td>\n",
       "      <td>12141.0</td>\n",
       "      <td>Pension receipts</td>\n",
       "      <td>7</td>\n",
       "    </tr>\n",
       "  </tbody>\n",
       "</table>\n",
       "<p>188068 rows × 4 columns</p>\n",
       "</div>"
      ],
      "text/plain": [
       "                          day_dt  sum_rur        pmnts_name  month\n",
       "client_id                                                         \n",
       "-1893104556496814867  2019-06-29   6071.0   Salary receipts      6\n",
       "-1893104556496814867  2019-08-13  45641.0   Salary receipts      8\n",
       "-1893104556496814867  2018-10-22   6071.0   Salary receipts     10\n",
       "-1893104556496814867  2018-09-26   6071.0   Salary receipts      9\n",
       "-1893104556496814867  2018-09-10   5872.0   Salary receipts      9\n",
       "...                          ...      ...               ...    ...\n",
       "-8727103852075923180  2019-05-29  12141.0  Pension receipts      5\n",
       "-8727103852075923180  2019-06-04   6071.0  Pension receipts      6\n",
       "-8727103852075923180  2019-07-01  12141.0  Pension receipts      7\n",
       " 4662551505651924284  2019-06-01  12141.0  Pension receipts      6\n",
       " 4662551505651924284  2019-07-01  12141.0  Pension receipts      7\n",
       "\n",
       "[188068 rows x 4 columns]"
      ]
     },
     "execution_count": 63,
     "metadata": {},
     "output_type": "execute_result"
    }
   ],
   "source": [
    "df_payments"
   ]
  },
  {
   "cell_type": "code",
   "execution_count": 64,
   "id": "d808478f",
   "metadata": {},
   "outputs": [],
   "source": [
    "cid_pension = np.intersect1d(df_payments.query('pmnts_name == \"Pension receipts\"').index.unique(), df_funnel.index)"
   ]
  },
  {
   "cell_type": "code",
   "execution_count": 65,
   "id": "e60b6d17",
   "metadata": {},
   "outputs": [
    {
     "data": {
      "text/plain": [
       "0    0.5625\n",
       "1    0.4375\n",
       "Name: sale_flg, dtype: float64"
      ]
     },
     "execution_count": 65,
     "metadata": {},
     "output_type": "execute_result"
    }
   ],
   "source": [
    "df_funnel.loc[cid_pension].sale_flg.value_counts() / len(cid_pension)"
   ]
  },
  {
   "cell_type": "code",
   "execution_count": 66,
   "id": "f34b0bdc",
   "metadata": {},
   "outputs": [
    {
     "data": {
      "text/plain": [
       "client_id\n",
       "-9216473704060526660     3\n",
       "-9210484825961669240     2\n",
       "-9209732247128824451    11\n",
       "-9198654031673722494     9\n",
       "-9197872890596891221     2\n",
       "                        ..\n",
       " 9157380216762169201    11\n",
       " 9175438673891918463     3\n",
       " 9178680470928980533     2\n",
       " 9182169606313054731     2\n",
       " 9220335314469087849     2\n",
       "Name: sum_rur, Length: 1202, dtype: int64"
      ]
     },
     "execution_count": 66,
     "metadata": {},
     "output_type": "execute_result"
    }
   ],
   "source": [
    "count_pension = df_payments.query('pmnts_name == \"Pension receipts\"').groupby('client_id').sum_rur.count()\n",
    "count_pension"
   ]
  },
  {
   "cell_type": "code",
   "execution_count": 67,
   "id": "30cb1def",
   "metadata": {},
   "outputs": [
    {
     "data": {
      "text/plain": [
       "<AxesSubplot:>"
      ]
     },
     "execution_count": 67,
     "metadata": {},
     "output_type": "execute_result"
    },
    {
     "data": {
      "image/png": "[encoded data removed]",
      "text/plain": [
       "<Figure size 842.4x595.44 with 1 Axes>"
      ]
     },
     "metadata": {},
     "output_type": "display_data"
    }
   ],
   "source": [
    "count_pension.loc[np.intersect1d(df_funnel.query('sale_flg == 1').index, count_pension.index)].hist(bins=40, density=True, histtype='step', linewidth=4)\n",
    "count_pension.loc[np.intersect1d(df_funnel.query('sale_flg == 0').index, count_pension.index)].hist(bins=40, density=True, histtype='step', linewidth=4)"
   ]
  },
  {
   "cell_type": "code",
   "execution_count": 68,
   "id": "df63d6ce",
   "metadata": {},
   "outputs": [
    {
     "data": {
      "text/plain": [
       "client_id\n",
       "-9216473704060526660     6071.0\n",
       "-9210484825961669240    24282.0\n",
       "-9209732247128824451     3609.0\n",
       "-9198654031673722494    23939.0\n",
       "-9197872890596891221    12141.0\n",
       "                         ...   \n",
       " 9157380216762169201     3609.0\n",
       " 9175438673891918463     6071.0\n",
       " 9178680470928980533    12141.0\n",
       " 9182169606313054731    24282.0\n",
       " 9220335314469087849    12141.0\n",
       "Name: sum_rur, Length: 1202, dtype: float64"
      ]
     },
     "execution_count": 68,
     "metadata": {},
     "output_type": "execute_result"
    }
   ],
   "source": [
    "min_pension = df_payments.query('pmnts_name == \"Pension receipts\"').groupby('client_id').sum_rur.min()\n",
    "min_pension"
   ]
  },
  {
   "cell_type": "code",
   "execution_count": 69,
   "id": "2f333800",
   "metadata": {},
   "outputs": [
    {
     "data": {
      "text/plain": [
       "<AxesSubplot:>"
      ]
     },
     "execution_count": 69,
     "metadata": {},
     "output_type": "execute_result"
    },
    {
     "data": {
      "image/png": "[encoded data removed]",
      "text/plain": [
       "<Figure size 842.4x595.44 with 1 Axes>"
      ]
     },
     "metadata": {},
     "output_type": "display_data"
    }
   ],
   "source": [
    "min_pension.loc[np.intersect1d(df_funnel.query('sale_flg == 1').index, min_pension.index)].hist(bins=40, density=True, histtype='step', linewidth=4)\n",
    "min_pension.loc[np.intersect1d(df_funnel.query('sale_flg == 0').index, min_pension.index)].hist(bins=40, density=True, histtype='step', linewidth=4)"
   ]
  },
  {
   "cell_type": "code",
   "execution_count": 70,
   "id": "e054a7e4",
   "metadata": {},
   "outputs": [
    {
     "data": {
      "text/plain": [
       "<AxesSubplot:>"
      ]
     },
     "execution_count": 70,
     "metadata": {},
     "output_type": "execute_result"
    },
    {
     "data": {
      "image/png": "[encoded data removed]",
      "text/plain": [
       "<Figure size 842.4x595.44 with 1 Axes>"
      ]
     },
     "metadata": {},
     "output_type": "display_data"
    }
   ],
   "source": [
    "min_pension.loc[np.intersect1d(df_funnel.query('sale_flg == 1').index, min_pension.index)].hist(bins=40, density=True, histtype='step', linewidth=4)\n",
    "min_pension.loc[np.intersect1d(df_funnel.query('sale_flg == 0').index, min_pension.index)].hist(bins=40, density=True, histtype='step', linewidth=4)"
   ]
  },
  {
   "cell_type": "code",
   "execution_count": 71,
   "id": "446d91ef",
   "metadata": {},
   "outputs": [
    {
     "data": {
      "text/plain": [
       "client_id\n",
       "-9216473704060526660    12141.0\n",
       "-9210484825961669240    24282.0\n",
       "-9209732247128824451     3718.0\n",
       "-9198654031673722494    24199.0\n",
       "-9197872890596891221    12141.0\n",
       "                         ...   \n",
       " 9157380216762169201     3718.0\n",
       " 9175438673891918463    12141.0\n",
       " 9178680470928980533    12141.0\n",
       " 9182169606313054731    24282.0\n",
       " 9220335314469087849    12141.0\n",
       "Name: sum_rur, Length: 1202, dtype: float64"
      ]
     },
     "execution_count": 71,
     "metadata": {},
     "output_type": "execute_result"
    }
   ],
   "source": [
    "max_pension = df_payments.query('pmnts_name == \"Pension receipts\"').groupby('client_id').sum_rur.max()\n",
    "max_pension"
   ]
  },
  {
   "cell_type": "code",
   "execution_count": 72,
   "id": "e611b3a1",
   "metadata": {},
   "outputs": [
    {
     "data": {
      "text/plain": [
       "5"
      ]
     },
     "execution_count": 72,
     "metadata": {},
     "output_type": "execute_result"
    }
   ],
   "source": [
    "sum(max_pension > 80000)"
   ]
  },
  {
   "cell_type": "code",
   "execution_count": 73,
   "id": "be44cd93",
   "metadata": {},
   "outputs": [
    {
     "data": {
      "text/plain": [
       "<matplotlib.legend.Legend at 0x7f970420b820>"
      ]
     },
     "execution_count": 73,
     "metadata": {},
     "output_type": "execute_result"
    },
    {
     "data": {
      "image/png": "[encoded data removed]",
      "text/plain": [
       "<Figure size 842.4x595.44 with 1 Axes>"
      ]
     },
     "metadata": {},
     "output_type": "display_data"
    }
   ],
   "source": [
    "max_pension.loc[np.intersect1d(df_funnel.query('sale_flg == 1').index, max_pension.index)].hist(bins=40, density=False, histtype='step', linewidth=4, label='1')\n",
    "max_pension.loc[np.intersect1d(df_funnel.query('sale_flg == 0').index, max_pension.index)].hist(bins=40, density=False, histtype='step', linewidth=4, label='0')\n",
    "plt.legend()"
   ]
  },
  {
   "cell_type": "code",
   "execution_count": 74,
   "id": "b8644dc3",
   "metadata": {},
   "outputs": [
    {
     "data": {
      "text/plain": [
       "client_id\n",
       "-9216473704060526660    10117.666667\n",
       "-9210484825961669240    24282.000000\n",
       "-9209732247128824451     3668.454545\n",
       "-9198654031673722494    23967.888889\n",
       "-9197872890596891221    12141.000000\n",
       "                            ...     \n",
       " 9157380216762169201     3668.454545\n",
       " 9175438673891918463    10117.666667\n",
       " 9178680470928980533    12141.000000\n",
       " 9182169606313054731    24282.000000\n",
       " 9220335314469087849    12141.000000\n",
       "Name: sum_rur, Length: 1202, dtype: float64"
      ]
     },
     "execution_count": 74,
     "metadata": {},
     "output_type": "execute_result"
    }
   ],
   "source": [
    "mean_pension = df_payments.query('pmnts_name == \"Pension receipts\"').groupby('client_id').sum_rur.mean()\n",
    "mean_pension"
   ]
  },
  {
   "cell_type": "code",
   "execution_count": 75,
   "id": "deb1ba8b",
   "metadata": {},
   "outputs": [
    {
     "data": {
      "text/plain": [
       "<matplotlib.legend.Legend at 0x7f96e50c2550>"
      ]
     },
     "execution_count": 75,
     "metadata": {},
     "output_type": "execute_result"
    },
    {
     "data": {
      "image/png": "[encoded data removed]",
      "text/plain": [
       "<Figure size 842.4x595.44 with 1 Axes>"
      ]
     },
     "metadata": {},
     "output_type": "display_data"
    }
   ],
   "source": [
    "mean_pension.loc[np.intersect1d(df_funnel.query('sale_flg == 1').index, mean_pension.index)].hist(bins=40, density=False, histtype='step', linewidth=4, label='1')\n",
    "mean_pension.loc[np.intersect1d(df_funnel.query('sale_flg == 0').index, mean_pension.index)].hist(bins=40, density=False, histtype='step', linewidth=4, label='0')\n",
    "plt.legend()"
   ]
  },
  {
   "cell_type": "code",
   "execution_count": null,
   "id": "3432375a",
   "metadata": {},
   "outputs": [],
   "source": []
  },
  {
   "cell_type": "markdown",
   "id": "222b4031",
   "metadata": {},
   "source": [
    "## client"
   ]
  },
  {
   "cell_type": "code",
   "execution_count": 76,
   "id": "6782edcf",
   "metadata": {},
   "outputs": [
    {
     "data": {
      "text/html": [
       "<div>\n",
       "<style scoped>\n",
       "    .dataframe tbody tr th:only-of-type {\n",
       "        vertical-align: middle;\n",
       "    }\n",
       "\n",
       "    .dataframe tbody tr th {\n",
       "        vertical-align: top;\n",
       "    }\n",
       "\n",
       "    .dataframe thead th {\n",
       "        text-align: right;\n",
       "    }\n",
       "</style>\n",
       "<table border=\"1\" class=\"dataframe\">\n",
       "  <thead>\n",
       "    <tr style=\"text-align: right;\">\n",
       "      <th></th>\n",
       "      <th>client_id</th>\n",
       "      <th>gender</th>\n",
       "      <th>age</th>\n",
       "      <th>region</th>\n",
       "      <th>city</th>\n",
       "      <th>citizenship</th>\n",
       "      <th>education</th>\n",
       "      <th>job_type</th>\n",
       "    </tr>\n",
       "  </thead>\n",
       "  <tbody>\n",
       "    <tr>\n",
       "      <th>0</th>\n",
       "      <td>7513301859607023584</td>\n",
       "      <td>F</td>\n",
       "      <td>33.0</td>\n",
       "      <td>0</td>\n",
       "      <td>115</td>\n",
       "      <td>RUSSIA</td>\n",
       "      <td>NaN</td>\n",
       "      <td>NaN</td>\n",
       "    </tr>\n",
       "    <tr>\n",
       "      <th>1</th>\n",
       "      <td>9157009756404187626</td>\n",
       "      <td>F</td>\n",
       "      <td>59.0</td>\n",
       "      <td>17</td>\n",
       "      <td>668</td>\n",
       "      <td>RUSSIA</td>\n",
       "      <td>NaN</td>\n",
       "      <td>NaN</td>\n",
       "    </tr>\n",
       "    <tr>\n",
       "      <th>2</th>\n",
       "      <td>-1893104556496814867</td>\n",
       "      <td>M</td>\n",
       "      <td>51.0</td>\n",
       "      <td>28</td>\n",
       "      <td>65</td>\n",
       "      <td>RUSSIA</td>\n",
       "      <td>NaN</td>\n",
       "      <td>NaN</td>\n",
       "    </tr>\n",
       "    <tr>\n",
       "      <th>3</th>\n",
       "      <td>6886062013213911831</td>\n",
       "      <td>F</td>\n",
       "      <td>56.0</td>\n",
       "      <td>0</td>\n",
       "      <td>40</td>\n",
       "      <td>RUSSIA</td>\n",
       "      <td>NaN</td>\n",
       "      <td>NaN</td>\n",
       "    </tr>\n",
       "    <tr>\n",
       "      <th>4</th>\n",
       "      <td>-8156468515495593794</td>\n",
       "      <td>F</td>\n",
       "      <td>34.0</td>\n",
       "      <td>-1</td>\n",
       "      <td>-1</td>\n",
       "      <td>RUSSIA</td>\n",
       "      <td>HIGHER_PROFESSIONAL</td>\n",
       "      <td>NaN</td>\n",
       "    </tr>\n",
       "    <tr>\n",
       "      <th>...</th>\n",
       "      <td>...</td>\n",
       "      <td>...</td>\n",
       "      <td>...</td>\n",
       "      <td>...</td>\n",
       "      <td>...</td>\n",
       "      <td>...</td>\n",
       "      <td>...</td>\n",
       "      <td>...</td>\n",
       "    </tr>\n",
       "    <tr>\n",
       "      <th>21493</th>\n",
       "      <td>4662551505651924284</td>\n",
       "      <td>M</td>\n",
       "      <td>31.0</td>\n",
       "      <td>0</td>\n",
       "      <td>14</td>\n",
       "      <td>RUSSIA</td>\n",
       "      <td>NaN</td>\n",
       "      <td>NaN</td>\n",
       "    </tr>\n",
       "    <tr>\n",
       "      <th>21494</th>\n",
       "      <td>-8968737688687691353</td>\n",
       "      <td>M</td>\n",
       "      <td>53.0</td>\n",
       "      <td>25</td>\n",
       "      <td>33</td>\n",
       "      <td>RUSSIA</td>\n",
       "      <td>NaN</td>\n",
       "      <td>NaN</td>\n",
       "    </tr>\n",
       "    <tr>\n",
       "      <th>21495</th>\n",
       "      <td>-5799097497074119478</td>\n",
       "      <td>F</td>\n",
       "      <td>57.0</td>\n",
       "      <td>12</td>\n",
       "      <td>225</td>\n",
       "      <td>RUSSIA</td>\n",
       "      <td>NaN</td>\n",
       "      <td>NaN</td>\n",
       "    </tr>\n",
       "    <tr>\n",
       "      <th>21496</th>\n",
       "      <td>-2264802671063321355</td>\n",
       "      <td>M</td>\n",
       "      <td>37.0</td>\n",
       "      <td>37</td>\n",
       "      <td>368</td>\n",
       "      <td>RUSSIA</td>\n",
       "      <td>MIDDLE_PROFESSIONAL</td>\n",
       "      <td>NaN</td>\n",
       "    </tr>\n",
       "    <tr>\n",
       "      <th>21497</th>\n",
       "      <td>-174115151336149439</td>\n",
       "      <td>M</td>\n",
       "      <td>33.0</td>\n",
       "      <td>7</td>\n",
       "      <td>13</td>\n",
       "      <td>RUSSIA</td>\n",
       "      <td>NaN</td>\n",
       "      <td>NaN</td>\n",
       "    </tr>\n",
       "  </tbody>\n",
       "</table>\n",
       "<p>21498 rows × 8 columns</p>\n",
       "</div>"
      ],
      "text/plain": [
       "                 client_id gender   age  region  city citizenship  \\\n",
       "0      7513301859607023584      F  33.0       0   115      RUSSIA   \n",
       "1      9157009756404187626      F  59.0      17   668      RUSSIA   \n",
       "2     -1893104556496814867      M  51.0      28    65      RUSSIA   \n",
       "3      6886062013213911831      F  56.0       0    40      RUSSIA   \n",
       "4     -8156468515495593794      F  34.0      -1    -1      RUSSIA   \n",
       "...                    ...    ...   ...     ...   ...         ...   \n",
       "21493  4662551505651924284      M  31.0       0    14      RUSSIA   \n",
       "21494 -8968737688687691353      M  53.0      25    33      RUSSIA   \n",
       "21495 -5799097497074119478      F  57.0      12   225      RUSSIA   \n",
       "21496 -2264802671063321355      M  37.0      37   368      RUSSIA   \n",
       "21497  -174115151336149439      M  33.0       7    13      RUSSIA   \n",
       "\n",
       "                 education job_type  \n",
       "0                      NaN      NaN  \n",
       "1                      NaN      NaN  \n",
       "2                      NaN      NaN  \n",
       "3                      NaN      NaN  \n",
       "4      HIGHER_PROFESSIONAL      NaN  \n",
       "...                    ...      ...  \n",
       "21493                  NaN      NaN  \n",
       "21494                  NaN      NaN  \n",
       "21495                  NaN      NaN  \n",
       "21496  MIDDLE_PROFESSIONAL      NaN  \n",
       "21497                  NaN      NaN  \n",
       "\n",
       "[21498 rows x 8 columns]"
      ]
     },
     "execution_count": 76,
     "metadata": {},
     "output_type": "execute_result"
    }
   ],
   "source": [
    "df_client"
   ]
  },
  {
   "cell_type": "code",
   "execution_count": 77,
   "id": "6b049d70",
   "metadata": {},
   "outputs": [
    {
     "data": {
      "text/plain": [
       "13      1354\n",
       "33      1086\n",
       "1       1084\n",
       "205      499\n",
       "42       453\n",
       "        ... \n",
       "1254       1\n",
       "3255       1\n",
       "3207       1\n",
       "3159       1\n",
       "4094       1\n",
       "Name: city, Length: 2546, dtype: int64"
      ]
     },
     "execution_count": 77,
     "metadata": {},
     "output_type": "execute_result"
    }
   ],
   "source": [
    "df_client.city.value_counts(dropna=False)"
   ]
  },
  {
   "cell_type": "code",
   "execution_count": 78,
   "id": "7a887116",
   "metadata": {},
   "outputs": [
    {
     "data": {
      "text/plain": [
       "<AxesSubplot:>"
      ]
     },
     "execution_count": 78,
     "metadata": {},
     "output_type": "execute_result"
    },
    {
     "data": {
      "image/png": "[encoded data removed]",
      "text/plain": [
       "<Figure size 842.4x595.44 with 1 Axes>"
      ]
     },
     "metadata": {},
     "output_type": "display_data"
    }
   ],
   "source": [
    "df_client.age.hist(bins=150, )"
   ]
  },
  {
   "cell_type": "code",
   "execution_count": null,
   "id": "60c4c061",
   "metadata": {},
   "outputs": [],
   "source": []
  },
  {
   "cell_type": "markdown",
   "id": "f36928ba",
   "metadata": {},
   "source": [
    "## trxn"
   ]
  },
  {
   "cell_type": "code",
   "execution_count": 79,
   "id": "bd7a045e",
   "metadata": {},
   "outputs": [
    {
     "data": {
      "text/html": [
       "<div>\n",
       "<style scoped>\n",
       "    .dataframe tbody tr th:only-of-type {\n",
       "        vertical-align: middle;\n",
       "    }\n",
       "\n",
       "    .dataframe tbody tr th {\n",
       "        vertical-align: top;\n",
       "    }\n",
       "\n",
       "    .dataframe thead th {\n",
       "        text-align: right;\n",
       "    }\n",
       "</style>\n",
       "<table border=\"1\" class=\"dataframe\">\n",
       "  <thead>\n",
       "    <tr style=\"text-align: right;\">\n",
       "      <th></th>\n",
       "      <th>client_id</th>\n",
       "      <th>card_id</th>\n",
       "      <th>tran_time</th>\n",
       "      <th>tran_amt_rur</th>\n",
       "      <th>mcc_cd</th>\n",
       "      <th>merchant_cd</th>\n",
       "      <th>txn_country</th>\n",
       "      <th>txn_city</th>\n",
       "      <th>tsp_name</th>\n",
       "      <th>txn_comment_1</th>\n",
       "      <th>txn_comment_2</th>\n",
       "    </tr>\n",
       "  </thead>\n",
       "  <tbody>\n",
       "    <tr>\n",
       "      <th>0</th>\n",
       "      <td>-1893104556496814867</td>\n",
       "      <td>-6909844117230568380</td>\n",
       "      <td>2019-07-01 00:00:00</td>\n",
       "      <td>6071.0</td>\n",
       "      <td>6011.0</td>\n",
       "      <td>3796217713062573289</td>\n",
       "      <td>RUS</td>\n",
       "      <td>N. NOVGOROD</td>\n",
       "      <td>MOLODEZHNYY PR. DEPO</td>\n",
       "      <td>Cash withdrawal through an ATM</td>\n",
       "      <td>NaN</td>\n",
       "    </tr>\n",
       "    <tr>\n",
       "      <th>1</th>\n",
       "      <td>-1893104556496814867</td>\n",
       "      <td>-6909844117230568380</td>\n",
       "      <td>2019-07-29 00:00:00</td>\n",
       "      <td>6071.0</td>\n",
       "      <td>6011.0</td>\n",
       "      <td>3796217713062573289</td>\n",
       "      <td>RUS</td>\n",
       "      <td>N. NOVGOROD</td>\n",
       "      <td>MOLODEZHNYY PR. DEPO</td>\n",
       "      <td>Cash withdrawal through an ATM</td>\n",
       "      <td>NaN</td>\n",
       "    </tr>\n",
       "    <tr>\n",
       "      <th>2</th>\n",
       "      <td>-1893104556496814867</td>\n",
       "      <td>-6909844117230568380</td>\n",
       "      <td>2019-08-31 00:00:00</td>\n",
       "      <td>7285.0</td>\n",
       "      <td>6011.0</td>\n",
       "      <td>3796217713062573289</td>\n",
       "      <td>RUS</td>\n",
       "      <td>N. NOVGOROD</td>\n",
       "      <td>MOLODEZHNYY PR. DEPO</td>\n",
       "      <td>Cash withdrawal through an ATM</td>\n",
       "      <td>NaN</td>\n",
       "    </tr>\n",
       "    <tr>\n",
       "      <th>3</th>\n",
       "      <td>6886062013213911831</td>\n",
       "      <td>6527755410945490683</td>\n",
       "      <td>2019-08-14 10:38:33</td>\n",
       "      <td>2428.0</td>\n",
       "      <td>6011.0</td>\n",
       "      <td>-774579209084196290</td>\n",
       "      <td>RUS</td>\n",
       "      <td>RADUZHNYI</td>\n",
       "      <td>TTS SITI</td>\n",
       "      <td>Cash withdrawal through an ATM</td>\n",
       "      <td>NaN</td>\n",
       "    </tr>\n",
       "    <tr>\n",
       "      <th>4</th>\n",
       "      <td>6886062013213911831</td>\n",
       "      <td>6527755410945490683</td>\n",
       "      <td>2019-07-17 12:27:58</td>\n",
       "      <td>6071.0</td>\n",
       "      <td>6011.0</td>\n",
       "      <td>-7735007003326589238</td>\n",
       "      <td>RUS</td>\n",
       "      <td>RADUZHNYI</td>\n",
       "      <td>ODTS AGANGRAD</td>\n",
       "      <td>Cash withdrawal through an ATM</td>\n",
       "      <td>NaN</td>\n",
       "    </tr>\n",
       "    <tr>\n",
       "      <th>...</th>\n",
       "      <td>...</td>\n",
       "      <td>...</td>\n",
       "      <td>...</td>\n",
       "      <td>...</td>\n",
       "      <td>...</td>\n",
       "      <td>...</td>\n",
       "      <td>...</td>\n",
       "      <td>...</td>\n",
       "      <td>...</td>\n",
       "      <td>...</td>\n",
       "      <td>...</td>\n",
       "    </tr>\n",
       "    <tr>\n",
       "      <th>3035700</th>\n",
       "      <td>-3405096435133737788</td>\n",
       "      <td>-1484177776108621230</td>\n",
       "      <td>2018-09-06 07:41:17</td>\n",
       "      <td>728.0</td>\n",
       "      <td>6012.0</td>\n",
       "      <td>3967370607447365704</td>\n",
       "      <td>RUS</td>\n",
       "      <td>VISA DIRECT</td>\n",
       "      <td>VISA MONEY TRANSFER</td>\n",
       "      <td>Payment by card (bank transfer)</td>\n",
       "      <td>VISA MONEY TRANSFER</td>\n",
       "    </tr>\n",
       "    <tr>\n",
       "      <th>3035701</th>\n",
       "      <td>5941620754379828660</td>\n",
       "      <td>-4513708287312715087</td>\n",
       "      <td>2018-12-02 08:16:48</td>\n",
       "      <td>2550.0</td>\n",
       "      <td>6012.0</td>\n",
       "      <td>3967370607447365704</td>\n",
       "      <td>RUS</td>\n",
       "      <td>VISA DIRECT</td>\n",
       "      <td>VISA MONEY TRANSFER</td>\n",
       "      <td>Payment by card (bank transfer)</td>\n",
       "      <td>VISA MONEY TRANSFER</td>\n",
       "    </tr>\n",
       "    <tr>\n",
       "      <th>3035702</th>\n",
       "      <td>5941620754379828660</td>\n",
       "      <td>-4513708287312715087</td>\n",
       "      <td>2018-12-28 13:55:12</td>\n",
       "      <td>3642.0</td>\n",
       "      <td>6012.0</td>\n",
       "      <td>3967370607447365704</td>\n",
       "      <td>RUS</td>\n",
       "      <td>VISA DIRECT</td>\n",
       "      <td>VISA MONEY TRANSFER</td>\n",
       "      <td>Payment by card (bank transfer)</td>\n",
       "      <td>VISA MONEY TRANSFER</td>\n",
       "    </tr>\n",
       "    <tr>\n",
       "      <th>3035703</th>\n",
       "      <td>2964514409686635938</td>\n",
       "      <td>4497627322591857070</td>\n",
       "      <td>2018-12-21 09:32:26</td>\n",
       "      <td>2792.0</td>\n",
       "      <td>6012.0</td>\n",
       "      <td>3967370607447365704</td>\n",
       "      <td>RUS</td>\n",
       "      <td>VISA DIRECT</td>\n",
       "      <td>VISA MONEY TRANSFER</td>\n",
       "      <td>Payment by card (bank transfer)</td>\n",
       "      <td>VISA MONEY TRANSFER</td>\n",
       "    </tr>\n",
       "    <tr>\n",
       "      <th>3035704</th>\n",
       "      <td>-6226831769412580676</td>\n",
       "      <td>-1272519220927585782</td>\n",
       "      <td>2018-10-30 08:11:24</td>\n",
       "      <td>1214.0</td>\n",
       "      <td>6536.0</td>\n",
       "      <td>3967370607447365704</td>\n",
       "      <td>RUS</td>\n",
       "      <td>MOSCOW</td>\n",
       "      <td>MASTERCARD MONEYSEND</td>\n",
       "      <td>Payment by card (bank transfer)</td>\n",
       "      <td>MASTERCARD MONEYSEND</td>\n",
       "    </tr>\n",
       "  </tbody>\n",
       "</table>\n",
       "<p>3035705 rows × 11 columns</p>\n",
       "</div>"
      ],
      "text/plain": [
       "                   client_id              card_id            tran_time  \\\n",
       "0       -1893104556496814867 -6909844117230568380  2019-07-01 00:00:00   \n",
       "1       -1893104556496814867 -6909844117230568380  2019-07-29 00:00:00   \n",
       "2       -1893104556496814867 -6909844117230568380  2019-08-31 00:00:00   \n",
       "3        6886062013213911831  6527755410945490683  2019-08-14 10:38:33   \n",
       "4        6886062013213911831  6527755410945490683  2019-07-17 12:27:58   \n",
       "...                      ...                  ...                  ...   \n",
       "3035700 -3405096435133737788 -1484177776108621230  2018-09-06 07:41:17   \n",
       "3035701  5941620754379828660 -4513708287312715087  2018-12-02 08:16:48   \n",
       "3035702  5941620754379828660 -4513708287312715087  2018-12-28 13:55:12   \n",
       "3035703  2964514409686635938  4497627322591857070  2018-12-21 09:32:26   \n",
       "3035704 -6226831769412580676 -1272519220927585782  2018-10-30 08:11:24   \n",
       "\n",
       "         tran_amt_rur  mcc_cd          merchant_cd txn_country     txn_city  \\\n",
       "0              6071.0  6011.0  3796217713062573289         RUS  N. NOVGOROD   \n",
       "1              6071.0  6011.0  3796217713062573289         RUS  N. NOVGOROD   \n",
       "2              7285.0  6011.0  3796217713062573289         RUS  N. NOVGOROD   \n",
       "3              2428.0  6011.0  -774579209084196290         RUS    RADUZHNYI   \n",
       "4              6071.0  6011.0 -7735007003326589238         RUS    RADUZHNYI   \n",
       "...               ...     ...                  ...         ...          ...   \n",
       "3035700         728.0  6012.0  3967370607447365704         RUS  VISA DIRECT   \n",
       "3035701        2550.0  6012.0  3967370607447365704         RUS  VISA DIRECT   \n",
       "3035702        3642.0  6012.0  3967370607447365704         RUS  VISA DIRECT   \n",
       "3035703        2792.0  6012.0  3967370607447365704         RUS  VISA DIRECT   \n",
       "3035704        1214.0  6536.0  3967370607447365704         RUS       MOSCOW   \n",
       "\n",
       "                     tsp_name                    txn_comment_1  \\\n",
       "0        MOLODEZHNYY PR. DEPO   Cash withdrawal through an ATM   \n",
       "1        MOLODEZHNYY PR. DEPO   Cash withdrawal through an ATM   \n",
       "2        MOLODEZHNYY PR. DEPO   Cash withdrawal through an ATM   \n",
       "3                    TTS SITI   Cash withdrawal through an ATM   \n",
       "4               ODTS AGANGRAD   Cash withdrawal through an ATM   \n",
       "...                       ...                              ...   \n",
       "3035700   VISA MONEY TRANSFER  Payment by card (bank transfer)   \n",
       "3035701   VISA MONEY TRANSFER  Payment by card (bank transfer)   \n",
       "3035702   VISA MONEY TRANSFER  Payment by card (bank transfer)   \n",
       "3035703   VISA MONEY TRANSFER  Payment by card (bank transfer)   \n",
       "3035704  MASTERCARD MONEYSEND  Payment by card (bank transfer)   \n",
       "\n",
       "                txn_comment_2  \n",
       "0                         NaN  \n",
       "1                         NaN  \n",
       "2                         NaN  \n",
       "3                         NaN  \n",
       "4                         NaN  \n",
       "...                       ...  \n",
       "3035700   VISA MONEY TRANSFER  \n",
       "3035701   VISA MONEY TRANSFER  \n",
       "3035702   VISA MONEY TRANSFER  \n",
       "3035703   VISA MONEY TRANSFER  \n",
       "3035704  MASTERCARD MONEYSEND  \n",
       "\n",
       "[3035705 rows x 11 columns]"
      ]
     },
     "execution_count": 79,
     "metadata": {},
     "output_type": "execute_result"
    }
   ],
   "source": [
    "df_trxn"
   ]
  },
  {
   "cell_type": "code",
   "execution_count": 80,
   "id": "088fe812",
   "metadata": {},
   "outputs": [
    {
     "data": {
      "text/plain": [
       "Payment for goods and services     2546655\n",
       "Cash withdrawal through an ATM      243562\n",
       "Cashless transfer                   146586\n",
       "Payment by card (bank transfer)      52325\n",
       "Cash deposit by card                 36342\n",
       "Return of goods / services            8979\n",
       "Cash withdrawal                       1256\n",
       "Name: txn_comment_1, dtype: int64"
      ]
     },
     "execution_count": 80,
     "metadata": {},
     "output_type": "execute_result"
    }
   ],
   "source": [
    "df_trxn.txn_comment_1.value_counts()"
   ]
  },
  {
   "cell_type": "code",
   "execution_count": 81,
   "id": "7b27015e",
   "metadata": {},
   "outputs": [
    {
     "data": {
      "text/plain": [
       "<manual mode>             157751\n",
       "Opening Online            138906\n",
       "Purchase payment (web)     93744\n",
       "VISA MONEY TRANSFER         6511\n",
       "MASTERCARD MONEYSEND           7\n",
       "Name: txn_comment_2, dtype: int64"
      ]
     },
     "execution_count": 81,
     "metadata": {},
     "output_type": "execute_result"
    }
   ],
   "source": [
    "df_trxn.txn_comment_2.value_counts()"
   ]
  },
  {
   "cell_type": "code",
   "execution_count": null,
   "id": "8a2af5cb",
   "metadata": {},
   "outputs": [],
   "source": []
  },
  {
   "cell_type": "markdown",
   "id": "5d0599fc",
   "metadata": {},
   "source": [
    "## com"
   ]
  },
  {
   "cell_type": "code",
   "execution_count": 82,
   "id": "896b7116",
   "metadata": {},
   "outputs": [
    {
     "data": {
      "text/html": [
       "<div>\n",
       "<style scoped>\n",
       "    .dataframe tbody tr th:only-of-type {\n",
       "        vertical-align: middle;\n",
       "    }\n",
       "\n",
       "    .dataframe tbody tr th {\n",
       "        vertical-align: top;\n",
       "    }\n",
       "\n",
       "    .dataframe thead th {\n",
       "        text-align: right;\n",
       "    }\n",
       "</style>\n",
       "<table border=\"1\" class=\"dataframe\">\n",
       "  <thead>\n",
       "    <tr style=\"text-align: right;\">\n",
       "      <th></th>\n",
       "      <th>client_id</th>\n",
       "      <th>agr_flg</th>\n",
       "      <th>otkaz</th>\n",
       "      <th>dumaet</th>\n",
       "      <th>ring_up_flg</th>\n",
       "      <th>not_ring_up_flg</th>\n",
       "      <th>count_comm</th>\n",
       "      <th>month_end_dt</th>\n",
       "      <th>channel</th>\n",
       "      <th>prod</th>\n",
       "    </tr>\n",
       "  </thead>\n",
       "  <tbody>\n",
       "    <tr>\n",
       "      <th>0</th>\n",
       "      <td>7513301859607023584</td>\n",
       "      <td>0</td>\n",
       "      <td>0</td>\n",
       "      <td>0</td>\n",
       "      <td>0</td>\n",
       "      <td>2</td>\n",
       "      <td>2</td>\n",
       "      <td>2018-12-31</td>\n",
       "      <td>CALL</td>\n",
       "      <td>Credit Card</td>\n",
       "    </tr>\n",
       "    <tr>\n",
       "      <th>1</th>\n",
       "      <td>7513301859607023584</td>\n",
       "      <td>0</td>\n",
       "      <td>0</td>\n",
       "      <td>0</td>\n",
       "      <td>0</td>\n",
       "      <td>2</td>\n",
       "      <td>2</td>\n",
       "      <td>2019-02-28</td>\n",
       "      <td>CALL</td>\n",
       "      <td>Credit Card</td>\n",
       "    </tr>\n",
       "    <tr>\n",
       "      <th>2</th>\n",
       "      <td>-8079817404148237243</td>\n",
       "      <td>0</td>\n",
       "      <td>0</td>\n",
       "      <td>0</td>\n",
       "      <td>2</td>\n",
       "      <td>0</td>\n",
       "      <td>2</td>\n",
       "      <td>2019-08-31</td>\n",
       "      <td>CALL</td>\n",
       "      <td>Credit Card</td>\n",
       "    </tr>\n",
       "    <tr>\n",
       "      <th>3</th>\n",
       "      <td>-8079817404148237243</td>\n",
       "      <td>0</td>\n",
       "      <td>0</td>\n",
       "      <td>0</td>\n",
       "      <td>2</td>\n",
       "      <td>0</td>\n",
       "      <td>2</td>\n",
       "      <td>2019-03-31</td>\n",
       "      <td>CALL</td>\n",
       "      <td>Credit Card</td>\n",
       "    </tr>\n",
       "    <tr>\n",
       "      <th>4</th>\n",
       "      <td>2897849887287086776</td>\n",
       "      <td>0</td>\n",
       "      <td>0</td>\n",
       "      <td>0</td>\n",
       "      <td>0</td>\n",
       "      <td>16</td>\n",
       "      <td>16</td>\n",
       "      <td>2019-02-28</td>\n",
       "      <td>CALL</td>\n",
       "      <td>Credit Card</td>\n",
       "    </tr>\n",
       "    <tr>\n",
       "      <th>...</th>\n",
       "      <td>...</td>\n",
       "      <td>...</td>\n",
       "      <td>...</td>\n",
       "      <td>...</td>\n",
       "      <td>...</td>\n",
       "      <td>...</td>\n",
       "      <td>...</td>\n",
       "      <td>...</td>\n",
       "      <td>...</td>\n",
       "      <td>...</td>\n",
       "    </tr>\n",
       "    <tr>\n",
       "      <th>113050</th>\n",
       "      <td>2307145364875101716</td>\n",
       "      <td>0</td>\n",
       "      <td>0</td>\n",
       "      <td>0</td>\n",
       "      <td>0</td>\n",
       "      <td>0</td>\n",
       "      <td>2</td>\n",
       "      <td>2019-05-31</td>\n",
       "      <td>SMS</td>\n",
       "      <td>Savings account</td>\n",
       "    </tr>\n",
       "    <tr>\n",
       "      <th>113051</th>\n",
       "      <td>-2262941530044003186</td>\n",
       "      <td>0</td>\n",
       "      <td>0</td>\n",
       "      <td>0</td>\n",
       "      <td>0</td>\n",
       "      <td>0</td>\n",
       "      <td>2</td>\n",
       "      <td>2019-05-31</td>\n",
       "      <td>SMS</td>\n",
       "      <td>Savings account</td>\n",
       "    </tr>\n",
       "    <tr>\n",
       "      <th>113052</th>\n",
       "      <td>-8788421051454805335</td>\n",
       "      <td>0</td>\n",
       "      <td>0</td>\n",
       "      <td>0</td>\n",
       "      <td>0</td>\n",
       "      <td>0</td>\n",
       "      <td>2</td>\n",
       "      <td>2019-05-31</td>\n",
       "      <td>SMS</td>\n",
       "      <td>Savings account</td>\n",
       "    </tr>\n",
       "    <tr>\n",
       "      <th>113053</th>\n",
       "      <td>-389524536695171379</td>\n",
       "      <td>0</td>\n",
       "      <td>0</td>\n",
       "      <td>0</td>\n",
       "      <td>0</td>\n",
       "      <td>0</td>\n",
       "      <td>2</td>\n",
       "      <td>2019-05-31</td>\n",
       "      <td>SMS</td>\n",
       "      <td>Savings account</td>\n",
       "    </tr>\n",
       "    <tr>\n",
       "      <th>113054</th>\n",
       "      <td>-2700538904239872155</td>\n",
       "      <td>0</td>\n",
       "      <td>0</td>\n",
       "      <td>0</td>\n",
       "      <td>0</td>\n",
       "      <td>0</td>\n",
       "      <td>2</td>\n",
       "      <td>2019-05-31</td>\n",
       "      <td>SMS</td>\n",
       "      <td>Savings account</td>\n",
       "    </tr>\n",
       "  </tbody>\n",
       "</table>\n",
       "<p>113055 rows × 10 columns</p>\n",
       "</div>"
      ],
      "text/plain": [
       "                  client_id  agr_flg  otkaz  dumaet  ring_up_flg  \\\n",
       "0       7513301859607023584        0      0       0            0   \n",
       "1       7513301859607023584        0      0       0            0   \n",
       "2      -8079817404148237243        0      0       0            2   \n",
       "3      -8079817404148237243        0      0       0            2   \n",
       "4       2897849887287086776        0      0       0            0   \n",
       "...                     ...      ...    ...     ...          ...   \n",
       "113050  2307145364875101716        0      0       0            0   \n",
       "113051 -2262941530044003186        0      0       0            0   \n",
       "113052 -8788421051454805335        0      0       0            0   \n",
       "113053  -389524536695171379        0      0       0            0   \n",
       "113054 -2700538904239872155        0      0       0            0   \n",
       "\n",
       "        not_ring_up_flg  count_comm month_end_dt channel             prod  \n",
       "0                     2           2   2018-12-31    CALL      Credit Card  \n",
       "1                     2           2   2019-02-28    CALL      Credit Card  \n",
       "2                     0           2   2019-08-31    CALL      Credit Card  \n",
       "3                     0           2   2019-03-31    CALL      Credit Card  \n",
       "4                    16          16   2019-02-28    CALL      Credit Card  \n",
       "...                 ...         ...          ...     ...              ...  \n",
       "113050                0           2   2019-05-31     SMS  Savings account  \n",
       "113051                0           2   2019-05-31     SMS  Savings account  \n",
       "113052                0           2   2019-05-31     SMS  Savings account  \n",
       "113053                0           2   2019-05-31     SMS  Savings account  \n",
       "113054                0           2   2019-05-31     SMS  Savings account  \n",
       "\n",
       "[113055 rows x 10 columns]"
      ]
     },
     "execution_count": 82,
     "metadata": {},
     "output_type": "execute_result"
    }
   ],
   "source": [
    "df_com"
   ]
  },
  {
   "cell_type": "code",
   "execution_count": 83,
   "id": "3336e5db",
   "metadata": {},
   "outputs": [],
   "source": [
    "df_com = df_com.set_index(\"client_id\")"
   ]
  },
  {
   "cell_type": "code",
   "execution_count": 84,
   "id": "9dc40357",
   "metadata": {},
   "outputs": [
    {
     "data": {
      "text/plain": [
       "Cash Loan                       92816\n",
       "Credit Card                     15115\n",
       "Debit Card                       2109\n",
       "Investment bundle                1057\n",
       "Mortgage                          678\n",
       "Currency exchange                 518\n",
       "Not applicable                    387\n",
       "Investment product                123\n",
       "Savings account                    37\n",
       "Integrated insurance product       30\n",
       "Other                               5\n",
       "Name: prod, dtype: int64"
      ]
     },
     "execution_count": 84,
     "metadata": {},
     "output_type": "execute_result"
    }
   ],
   "source": [
    "df_com['prod'].value_counts()"
   ]
  },
  {
   "cell_type": "markdown",
   "id": "01a97572",
   "metadata": {},
   "source": [
    "### agr_flg"
   ]
  },
  {
   "cell_type": "code",
   "execution_count": 85,
   "id": "61ada92e",
   "metadata": {},
   "outputs": [
    {
     "data": {
      "text/plain": [
       "(1600, 16466)"
      ]
     },
     "execution_count": 85,
     "metadata": {},
     "output_type": "execute_result"
    }
   ],
   "source": [
    "cid_agr = df_com.query('agr_flg >= 1').index.unique()\n",
    "cid_not_agr = df_com.query('agr_flg < 1').index.unique()\n",
    "len(cid_agr), len(cid_not_agr)"
   ]
  },
  {
   "cell_type": "code",
   "execution_count": 86,
   "id": "6bfd9768",
   "metadata": {},
   "outputs": [
    {
     "data": {
      "text/plain": [
       "(1142, 7823)"
      ]
     },
     "execution_count": 86,
     "metadata": {},
     "output_type": "execute_result"
    }
   ],
   "source": [
    "cid_agr_fun = np.intersect1d(cid_agr, cid_nan_edu)\n",
    "cid_not_agr_fun = np.intersect1d(cid_not_agr, cid_nan_edu)\n",
    "len(cid_agr_fun), len(cid_not_agr_fun)"
   ]
  },
  {
   "cell_type": "code",
   "execution_count": 87,
   "id": "927d9c52",
   "metadata": {},
   "outputs": [
    {
     "data": {
      "text/plain": [
       "1    602\n",
       "0    540\n",
       "Name: sale_flg, dtype: int64"
      ]
     },
     "execution_count": 87,
     "metadata": {},
     "output_type": "execute_result"
    }
   ],
   "source": [
    "df_funnel.loc[cid_agr_fun].sale_flg.value_counts() #/ len(cid_agr_fun)"
   ]
  },
  {
   "cell_type": "code",
   "execution_count": 88,
   "id": "8db3d18e",
   "metadata": {},
   "outputs": [
    {
     "data": {
      "text/plain": [
       "0    4803\n",
       "1    3020\n",
       "Name: sale_flg, dtype: int64"
      ]
     },
     "execution_count": 88,
     "metadata": {},
     "output_type": "execute_result"
    }
   ],
   "source": [
    "df_funnel.loc[cid_not_agr_fun].sale_flg.value_counts() #/ len(cid_not_agr_fun)"
   ]
  },
  {
   "cell_type": "code",
   "execution_count": 89,
   "id": "60ebadcc",
   "metadata": {},
   "outputs": [
    {
     "data": {
      "text/plain": [
       "0    5770\n",
       "1    3510\n",
       "Name: sale_flg, dtype: int64"
      ]
     },
     "execution_count": 89,
     "metadata": {},
     "output_type": "execute_result"
    }
   ],
   "source": [
    "df_funnel.loc[cid_nan_edu].sale_flg.value_counts() #/ len(cid_nan_edu)"
   ]
  },
  {
   "cell_type": "code",
   "execution_count": null,
   "id": "d624f698",
   "metadata": {},
   "outputs": [],
   "source": []
  },
  {
   "cell_type": "markdown",
   "id": "9b9f7f67",
   "metadata": {},
   "source": [
    "### multiple agreements"
   ]
  },
  {
   "cell_type": "code",
   "execution_count": 90,
   "id": "56048a9b",
   "metadata": {},
   "outputs": [
    {
     "data": {
      "text/plain": [
       "1142"
      ]
     },
     "execution_count": 90,
     "metadata": {},
     "output_type": "execute_result"
    }
   ],
   "source": [
    "len(cid_agr_fun)"
   ]
  },
  {
   "cell_type": "code",
   "execution_count": 91,
   "id": "e43f84b9",
   "metadata": {},
   "outputs": [
    {
     "data": {
      "text/plain": [
       "<AxesSubplot:>"
      ]
     },
     "execution_count": 91,
     "metadata": {},
     "output_type": "execute_result"
    },
    {
     "data": {
      "image/png": "[encoded data removed]",
      "text/plain": [
       "<Figure size 842.4x595.44 with 1 Axes>"
      ]
     },
     "metadata": {},
     "output_type": "display_data"
    }
   ],
   "source": [
    "df_com.loc[cid_agr_fun].groupby('client_id').agr_flg.sum().hist()"
   ]
  },
  {
   "cell_type": "code",
   "execution_count": 92,
   "id": "a5a63e4f",
   "metadata": {},
   "outputs": [],
   "source": [
    "cid_many_agr_fun = cid_agr_fun[df_com.loc[cid_agr_fun].groupby('client_id').agr_flg.sum() > 3]"
   ]
  },
  {
   "cell_type": "code",
   "execution_count": 93,
   "id": "29a1058b",
   "metadata": {},
   "outputs": [
    {
     "data": {
      "text/plain": [
       "1    10\n",
       "0     1\n",
       "Name: sale_flg, dtype: int64"
      ]
     },
     "execution_count": 93,
     "metadata": {},
     "output_type": "execute_result"
    }
   ],
   "source": [
    "df_funnel.loc[cid_many_agr_fun].sale_flg.value_counts() #/ len(cid_many_agr_fun)"
   ]
  },
  {
   "cell_type": "code",
   "execution_count": 94,
   "id": "9725429b",
   "metadata": {},
   "outputs": [
    {
     "data": {
      "text/plain": [
       "44.70653017241379"
      ]
     },
     "execution_count": 94,
     "metadata": {},
     "output_type": "execute_result"
    }
   ],
   "source": [
    "sum(df_funnel.loc[cid_many_agr_fun].nic) / len(df_funnel)"
   ]
  },
  {
   "cell_type": "code",
   "execution_count": null,
   "id": "2eb016a1",
   "metadata": {},
   "outputs": [],
   "source": []
  },
  {
   "cell_type": "markdown",
   "id": "d1e058ff",
   "metadata": {},
   "source": [
    "### clean up subcategories?"
   ]
  },
  {
   "cell_type": "code",
   "execution_count": 95,
   "id": "75605a9e",
   "metadata": {},
   "outputs": [
    {
     "data": {
      "text/plain": [
       "15408.919348060326"
      ]
     },
     "execution_count": 95,
     "metadata": {},
     "output_type": "execute_result"
    }
   ],
   "source": [
    "sum(df_funnel.query('sale_flg == 1').nic) / len(df_funnel)"
   ]
  },
  {
   "cell_type": "code",
   "execution_count": 96,
   "id": "bb85eb5d",
   "metadata": {},
   "outputs": [
    {
     "data": {
      "text/plain": [
       "3151.2696713362093"
      ]
     },
     "execution_count": 96,
     "metadata": {},
     "output_type": "execute_result"
    }
   ],
   "source": [
    "sum(df_funnel.loc[cid_agr_fun].query('sale_flg == 1').nic) / len(df_funnel)"
   ]
  },
  {
   "cell_type": "code",
   "execution_count": 97,
   "id": "4c5af108",
   "metadata": {},
   "outputs": [
    {
     "data": {
      "text/plain": [
       "2834.028292025865"
      ]
     },
     "execution_count": 97,
     "metadata": {},
     "output_type": "execute_result"
    }
   ],
   "source": [
    "sum(df_funnel.loc[cid_agr_fun].nic) / len(df_funnel)"
   ]
  },
  {
   "cell_type": "code",
   "execution_count": 98,
   "id": "c58a1a6f",
   "metadata": {},
   "outputs": [
    {
     "data": {
      "text/plain": [
       "1    602\n",
       "0    540\n",
       "Name: sale_flg, dtype: int64"
      ]
     },
     "execution_count": 98,
     "metadata": {},
     "output_type": "execute_result"
    }
   ],
   "source": [
    "df_funnel.loc[cid_agr_fun].sale_flg.value_counts() #/ len(cid_agr_fun)"
   ]
  },
  {
   "cell_type": "code",
   "execution_count": 99,
   "id": "ad032b01",
   "metadata": {},
   "outputs": [
    {
     "data": {
      "text/plain": [
       "(5770, 3510)"
      ]
     },
     "execution_count": 99,
     "metadata": {},
     "output_type": "execute_result"
    }
   ],
   "source": [
    "cid_sflg_0 = df_funnel.query('sale_flg == 0').index.unique()\n",
    "cid_sflg_1 = df_funnel.query('sale_flg == 1').index.unique()\n",
    "len(cid_sflg_0), len(cid_sflg_1)"
   ]
  },
  {
   "cell_type": "code",
   "execution_count": 100,
   "id": "a63c4b59",
   "metadata": {},
   "outputs": [],
   "source": [
    "df_com_sflg_0 = df_com.loc[np.intersect1d(cid_sflg_0, df_com.index)]\n",
    "df_com_sflg_1 = df_com.loc[np.intersect1d(cid_sflg_1, df_com.index)]"
   ]
  },
  {
   "cell_type": "code",
   "execution_count": null,
   "id": "8302c923",
   "metadata": {},
   "outputs": [],
   "source": []
  },
  {
   "cell_type": "markdown",
   "id": "ab7708ae",
   "metadata": {},
   "source": [
    "#### agr_flg"
   ]
  },
  {
   "cell_type": "code",
   "execution_count": 101,
   "id": "7b7e0dd8",
   "metadata": {},
   "outputs": [
    {
     "data": {
      "text/plain": [
       "0    4274\n",
       "1     452\n",
       "2      75\n",
       "3      12\n",
       "6       1\n",
       "Name: agr_flg, dtype: int64"
      ]
     },
     "execution_count": 101,
     "metadata": {},
     "output_type": "execute_result"
    }
   ],
   "source": [
    "df_com_sflg_0.groupby('client_id').agr_flg.sum().value_counts()"
   ]
  },
  {
   "cell_type": "code",
   "execution_count": 102,
   "id": "b67bd14f",
   "metadata": {},
   "outputs": [
    {
     "data": {
      "text/plain": [
       "0    2424\n",
       "1     470\n",
       "2      97\n",
       "3      25\n",
       "4       8\n",
       "5       2\n",
       "Name: agr_flg, dtype: int64"
      ]
     },
     "execution_count": 102,
     "metadata": {},
     "output_type": "execute_result"
    }
   ],
   "source": [
    "df_com_sflg_1.groupby('client_id').agr_flg.sum().value_counts()"
   ]
  },
  {
   "cell_type": "code",
   "execution_count": 103,
   "id": "8fcca038",
   "metadata": {},
   "outputs": [
    {
     "data": {
      "text/plain": [
       "Int64Index([ 7513301859607023584, -8079817404148237243,  2897849887287086776,\n",
       "             4497537671718296975,  6993413286470994550, -5830927494923600943,\n",
       "            -8173149418989047002,  2790171791554172197,  7204827006754532528,\n",
       "            -9204276027106380024,\n",
       "            ...\n",
       "            -3895371027463171998,   185380171625760536,  6572385981809905212,\n",
       "            -6512662144778394772,  4283004478738429971, -3435670659717479552,\n",
       "            -8486881008985080921, -1057496898447530204, -1035010166850045417,\n",
       "            -8788421051454805335],\n",
       "           dtype='int64', name='client_id', length=16466)"
      ]
     },
     "execution_count": 103,
     "metadata": {},
     "output_type": "execute_result"
    }
   ],
   "source": [
    "cid_not_agr = df_com.query('agr_flg == 0').index.unique()\n",
    "cid_not_agr"
   ]
  },
  {
   "cell_type": "code",
   "execution_count": 104,
   "id": "cb6cc137",
   "metadata": {},
   "outputs": [
    {
     "data": {
      "text/plain": [
       "client_id\n",
       "-8156468515495593794    134018.05\n",
       "-2918739578801888500    117907.95\n",
       "-4569470415387261653     -8000.00\n",
       " 497866795935220651      -4000.00\n",
       "-1093433514453846397     -4000.00\n",
       "                          ...    \n",
       "-8727103852075923180     17016.60\n",
       " 8867503270592066463     42289.70\n",
       " 6124360150058591747     -4000.00\n",
       " 6304729431024445752     48367.45\n",
       "-2264802671063321355     35882.85\n",
       "Name: nic, Length: 9280, dtype: float64"
      ]
     },
     "execution_count": 104,
     "metadata": {},
     "output_type": "execute_result"
    }
   ],
   "source": [
    "test_nic = df_funnel.nic\n",
    "test_nic"
   ]
  },
  {
   "cell_type": "code",
   "execution_count": 105,
   "id": "8529c2eb",
   "metadata": {},
   "outputs": [
    {
     "data": {
      "text/plain": [
       "7823"
      ]
     },
     "execution_count": 105,
     "metadata": {},
     "output_type": "execute_result"
    }
   ],
   "source": [
    "len(np.intersect1d(cid_not_agr, cid_nan_edu))"
   ]
  },
  {
   "cell_type": "code",
   "execution_count": 106,
   "id": "930a0d1c",
   "metadata": {},
   "outputs": [
    {
     "name": "stderr",
     "output_type": "stream",
     "text": [
      "\n",
      "A value is trying to be set on a copy of a slice from a DataFrame\n",
      "\n",
      "See the caveats in the documentation: https://pandas.pydata.org/pandas-docs/stable/user_guide/indexing.html#returning-a-view-versus-a-copy\n"
     ]
    }
   ],
   "source": [
    "test_nic.loc[np.intersect1d(cid_not_agr, cid_nan_edu)] = 0"
   ]
  },
  {
   "cell_type": "code",
   "execution_count": 107,
   "id": "cb16b5f6",
   "metadata": {},
   "outputs": [
    {
     "data": {
      "text/plain": [
       "client_id\n",
       "-8156468515495593794         0.00\n",
       "-2918739578801888500    117907.95\n",
       "-4569470415387261653         0.00\n",
       " 497866795935220651          0.00\n",
       "-1093433514453846397     -4000.00\n",
       "                          ...    \n",
       "-8727103852075923180         0.00\n",
       " 8867503270592066463     42289.70\n",
       " 6124360150058591747     -4000.00\n",
       " 6304729431024445752         0.00\n",
       "-2264802671063321355     35882.85\n",
       "Name: nic, Length: 9280, dtype: float64"
      ]
     },
     "execution_count": 107,
     "metadata": {},
     "output_type": "execute_result"
    }
   ],
   "source": [
    "test_nic"
   ]
  },
  {
   "cell_type": "code",
   "execution_count": 108,
   "id": "6a86053c",
   "metadata": {},
   "outputs": [
    {
     "data": {
      "text/plain": [
       "1135.4969881465513"
      ]
     },
     "execution_count": 108,
     "metadata": {},
     "output_type": "execute_result"
    }
   ],
   "source": [
    "sum(test_nic)/len(df_funnel)"
   ]
  },
  {
   "cell_type": "code",
   "execution_count": null,
   "id": "7d3c3e9b",
   "metadata": {},
   "outputs": [],
   "source": []
  },
  {
   "cell_type": "markdown",
   "id": "23663a44",
   "metadata": {},
   "source": [
    "#### calls"
   ]
  },
  {
   "cell_type": "code",
   "execution_count": 109,
   "id": "bd3859f3",
   "metadata": {},
   "outputs": [
    {
     "data": {
      "text/html": [
       "<div>\n",
       "<style scoped>\n",
       "    .dataframe tbody tr th:only-of-type {\n",
       "        vertical-align: middle;\n",
       "    }\n",
       "\n",
       "    .dataframe tbody tr th {\n",
       "        vertical-align: top;\n",
       "    }\n",
       "\n",
       "    .dataframe thead th {\n",
       "        text-align: right;\n",
       "    }\n",
       "</style>\n",
       "<table border=\"1\" class=\"dataframe\">\n",
       "  <thead>\n",
       "    <tr style=\"text-align: right;\">\n",
       "      <th></th>\n",
       "      <th>agr_flg</th>\n",
       "      <th>otkaz</th>\n",
       "      <th>dumaet</th>\n",
       "      <th>ring_up_flg</th>\n",
       "      <th>not_ring_up_flg</th>\n",
       "      <th>count_comm</th>\n",
       "      <th>month_end_dt</th>\n",
       "      <th>channel</th>\n",
       "      <th>prod</th>\n",
       "    </tr>\n",
       "    <tr>\n",
       "      <th>client_id</th>\n",
       "      <th></th>\n",
       "      <th></th>\n",
       "      <th></th>\n",
       "      <th></th>\n",
       "      <th></th>\n",
       "      <th></th>\n",
       "      <th></th>\n",
       "      <th></th>\n",
       "      <th></th>\n",
       "    </tr>\n",
       "  </thead>\n",
       "  <tbody>\n",
       "    <tr>\n",
       "      <th>7513301859607023584</th>\n",
       "      <td>0</td>\n",
       "      <td>0</td>\n",
       "      <td>0</td>\n",
       "      <td>0</td>\n",
       "      <td>2</td>\n",
       "      <td>2</td>\n",
       "      <td>2018-12-31</td>\n",
       "      <td>CALL</td>\n",
       "      <td>Credit Card</td>\n",
       "    </tr>\n",
       "    <tr>\n",
       "      <th>7513301859607023584</th>\n",
       "      <td>0</td>\n",
       "      <td>0</td>\n",
       "      <td>0</td>\n",
       "      <td>0</td>\n",
       "      <td>2</td>\n",
       "      <td>2</td>\n",
       "      <td>2019-02-28</td>\n",
       "      <td>CALL</td>\n",
       "      <td>Credit Card</td>\n",
       "    </tr>\n",
       "    <tr>\n",
       "      <th>-8079817404148237243</th>\n",
       "      <td>0</td>\n",
       "      <td>0</td>\n",
       "      <td>0</td>\n",
       "      <td>2</td>\n",
       "      <td>0</td>\n",
       "      <td>2</td>\n",
       "      <td>2019-08-31</td>\n",
       "      <td>CALL</td>\n",
       "      <td>Credit Card</td>\n",
       "    </tr>\n",
       "    <tr>\n",
       "      <th>-8079817404148237243</th>\n",
       "      <td>0</td>\n",
       "      <td>0</td>\n",
       "      <td>0</td>\n",
       "      <td>2</td>\n",
       "      <td>0</td>\n",
       "      <td>2</td>\n",
       "      <td>2019-03-31</td>\n",
       "      <td>CALL</td>\n",
       "      <td>Credit Card</td>\n",
       "    </tr>\n",
       "    <tr>\n",
       "      <th>2897849887287086776</th>\n",
       "      <td>0</td>\n",
       "      <td>0</td>\n",
       "      <td>0</td>\n",
       "      <td>0</td>\n",
       "      <td>16</td>\n",
       "      <td>16</td>\n",
       "      <td>2019-02-28</td>\n",
       "      <td>CALL</td>\n",
       "      <td>Credit Card</td>\n",
       "    </tr>\n",
       "    <tr>\n",
       "      <th>...</th>\n",
       "      <td>...</td>\n",
       "      <td>...</td>\n",
       "      <td>...</td>\n",
       "      <td>...</td>\n",
       "      <td>...</td>\n",
       "      <td>...</td>\n",
       "      <td>...</td>\n",
       "      <td>...</td>\n",
       "      <td>...</td>\n",
       "    </tr>\n",
       "    <tr>\n",
       "      <th>2307145364875101716</th>\n",
       "      <td>0</td>\n",
       "      <td>0</td>\n",
       "      <td>0</td>\n",
       "      <td>0</td>\n",
       "      <td>0</td>\n",
       "      <td>2</td>\n",
       "      <td>2019-05-31</td>\n",
       "      <td>SMS</td>\n",
       "      <td>Savings account</td>\n",
       "    </tr>\n",
       "    <tr>\n",
       "      <th>-2262941530044003186</th>\n",
       "      <td>0</td>\n",
       "      <td>0</td>\n",
       "      <td>0</td>\n",
       "      <td>0</td>\n",
       "      <td>0</td>\n",
       "      <td>2</td>\n",
       "      <td>2019-05-31</td>\n",
       "      <td>SMS</td>\n",
       "      <td>Savings account</td>\n",
       "    </tr>\n",
       "    <tr>\n",
       "      <th>-8788421051454805335</th>\n",
       "      <td>0</td>\n",
       "      <td>0</td>\n",
       "      <td>0</td>\n",
       "      <td>0</td>\n",
       "      <td>0</td>\n",
       "      <td>2</td>\n",
       "      <td>2019-05-31</td>\n",
       "      <td>SMS</td>\n",
       "      <td>Savings account</td>\n",
       "    </tr>\n",
       "    <tr>\n",
       "      <th>-389524536695171379</th>\n",
       "      <td>0</td>\n",
       "      <td>0</td>\n",
       "      <td>0</td>\n",
       "      <td>0</td>\n",
       "      <td>0</td>\n",
       "      <td>2</td>\n",
       "      <td>2019-05-31</td>\n",
       "      <td>SMS</td>\n",
       "      <td>Savings account</td>\n",
       "    </tr>\n",
       "    <tr>\n",
       "      <th>-2700538904239872155</th>\n",
       "      <td>0</td>\n",
       "      <td>0</td>\n",
       "      <td>0</td>\n",
       "      <td>0</td>\n",
       "      <td>0</td>\n",
       "      <td>2</td>\n",
       "      <td>2019-05-31</td>\n",
       "      <td>SMS</td>\n",
       "      <td>Savings account</td>\n",
       "    </tr>\n",
       "  </tbody>\n",
       "</table>\n",
       "<p>113055 rows × 9 columns</p>\n",
       "</div>"
      ],
      "text/plain": [
       "                      agr_flg  otkaz  dumaet  ring_up_flg  not_ring_up_flg  \\\n",
       "client_id                                                                    \n",
       " 7513301859607023584        0      0       0            0                2   \n",
       " 7513301859607023584        0      0       0            0                2   \n",
       "-8079817404148237243        0      0       0            2                0   \n",
       "-8079817404148237243        0      0       0            2                0   \n",
       " 2897849887287086776        0      0       0            0               16   \n",
       "...                       ...    ...     ...          ...              ...   \n",
       " 2307145364875101716        0      0       0            0                0   \n",
       "-2262941530044003186        0      0       0            0                0   \n",
       "-8788421051454805335        0      0       0            0                0   \n",
       "-389524536695171379         0      0       0            0                0   \n",
       "-2700538904239872155        0      0       0            0                0   \n",
       "\n",
       "                      count_comm month_end_dt channel             prod  \n",
       "client_id                                                               \n",
       " 7513301859607023584           2   2018-12-31    CALL      Credit Card  \n",
       " 7513301859607023584           2   2019-02-28    CALL      Credit Card  \n",
       "-8079817404148237243           2   2019-08-31    CALL      Credit Card  \n",
       "-8079817404148237243           2   2019-03-31    CALL      Credit Card  \n",
       " 2897849887287086776          16   2019-02-28    CALL      Credit Card  \n",
       "...                          ...          ...     ...              ...  \n",
       " 2307145364875101716           2   2019-05-31     SMS  Savings account  \n",
       "-2262941530044003186           2   2019-05-31     SMS  Savings account  \n",
       "-8788421051454805335           2   2019-05-31     SMS  Savings account  \n",
       "-389524536695171379            2   2019-05-31     SMS  Savings account  \n",
       "-2700538904239872155           2   2019-05-31     SMS  Savings account  \n",
       "\n",
       "[113055 rows x 9 columns]"
      ]
     },
     "execution_count": 109,
     "metadata": {},
     "output_type": "execute_result"
    }
   ],
   "source": [
    "df_com"
   ]
  },
  {
   "cell_type": "code",
   "execution_count": 110,
   "id": "51eae50a",
   "metadata": {},
   "outputs": [
    {
     "data": {
      "text/plain": [
       "<AxesSubplot:>"
      ]
     },
     "execution_count": 110,
     "metadata": {},
     "output_type": "execute_result"
    },
    {
     "data": {
      "image/png": "[encoded data removed]",
      "text/plain": [
       "<Figure size 842.4x595.44 with 1 Axes>"
      ]
     },
     "metadata": {},
     "output_type": "display_data"
    }
   ],
   "source": [
    "df_com.groupby('client_id').otkaz.sum().hist(bins=10)"
   ]
  },
  {
   "cell_type": "code",
   "execution_count": null,
   "id": "3f40603a",
   "metadata": {},
   "outputs": [],
   "source": []
  },
  {
   "cell_type": "markdown",
   "id": "c48bf015",
   "metadata": {},
   "source": [
    "## deals"
   ]
  },
  {
   "cell_type": "code",
   "execution_count": 111,
   "id": "c0acecd1",
   "metadata": {},
   "outputs": [
    {
     "data": {
      "text/html": [
       "<div>\n",
       "<style scoped>\n",
       "    .dataframe tbody tr th:only-of-type {\n",
       "        vertical-align: middle;\n",
       "    }\n",
       "\n",
       "    .dataframe tbody tr th {\n",
       "        vertical-align: top;\n",
       "    }\n",
       "\n",
       "    .dataframe thead th {\n",
       "        text-align: right;\n",
       "    }\n",
       "</style>\n",
       "<table border=\"1\" class=\"dataframe\">\n",
       "  <thead>\n",
       "    <tr style=\"text-align: right;\">\n",
       "      <th></th>\n",
       "      <th>client_id</th>\n",
       "      <th>agrmnt_start_dt</th>\n",
       "      <th>agrmnt_close_dt</th>\n",
       "      <th>crncy_cd</th>\n",
       "      <th>agrmnt_rate_active</th>\n",
       "      <th>agrmnt_rate_passive</th>\n",
       "      <th>agrmnt_sum_rur</th>\n",
       "      <th>prod_type_name</th>\n",
       "    </tr>\n",
       "  </thead>\n",
       "  <tbody>\n",
       "    <tr>\n",
       "      <th>0</th>\n",
       "      <td>7513301859607023584</td>\n",
       "      <td>2010-08-12</td>\n",
       "      <td>2014-10-30</td>\n",
       "      <td>810.0</td>\n",
       "      <td>NaN</td>\n",
       "      <td>NaN</td>\n",
       "      <td>0.0</td>\n",
       "      <td>Cash on demand</td>\n",
       "    </tr>\n",
       "    <tr>\n",
       "      <th>1</th>\n",
       "      <td>7513301859607023584</td>\n",
       "      <td>2013-02-15</td>\n",
       "      <td>2013-08-16</td>\n",
       "      <td>810.0</td>\n",
       "      <td>NaN</td>\n",
       "      <td>NaN</td>\n",
       "      <td>0.0</td>\n",
       "      <td>Cash on demand</td>\n",
       "    </tr>\n",
       "    <tr>\n",
       "      <th>2</th>\n",
       "      <td>7513301859607023584</td>\n",
       "      <td>2013-08-16</td>\n",
       "      <td>2014-02-14</td>\n",
       "      <td>810.0</td>\n",
       "      <td>NaN</td>\n",
       "      <td>NaN</td>\n",
       "      <td>0.0</td>\n",
       "      <td>Cash on demand</td>\n",
       "    </tr>\n",
       "    <tr>\n",
       "      <th>3</th>\n",
       "      <td>7513301859607023584</td>\n",
       "      <td>2015-07-12</td>\n",
       "      <td>2015-07-12</td>\n",
       "      <td>810.0</td>\n",
       "      <td>NaN</td>\n",
       "      <td>NaN</td>\n",
       "      <td>0.0</td>\n",
       "      <td>Cash on demand</td>\n",
       "    </tr>\n",
       "    <tr>\n",
       "      <th>4</th>\n",
       "      <td>7513301859607023584</td>\n",
       "      <td>2015-07-12</td>\n",
       "      <td>2015-07-12</td>\n",
       "      <td>810.0</td>\n",
       "      <td>NaN</td>\n",
       "      <td>NaN</td>\n",
       "      <td>0.0</td>\n",
       "      <td>Cash on demand</td>\n",
       "    </tr>\n",
       "    <tr>\n",
       "      <th>...</th>\n",
       "      <td>...</td>\n",
       "      <td>...</td>\n",
       "      <td>...</td>\n",
       "      <td>...</td>\n",
       "      <td>...</td>\n",
       "      <td>...</td>\n",
       "      <td>...</td>\n",
       "      <td>...</td>\n",
       "    </tr>\n",
       "    <tr>\n",
       "      <th>109011</th>\n",
       "      <td>-8242641659611256965</td>\n",
       "      <td>2011-08-10</td>\n",
       "      <td>2011-08-10</td>\n",
       "      <td>810.0</td>\n",
       "      <td>NaN</td>\n",
       "      <td>NaN</td>\n",
       "      <td>0.0</td>\n",
       "      <td>POST OFFICE</td>\n",
       "    </tr>\n",
       "    <tr>\n",
       "      <th>109012</th>\n",
       "      <td>-8242641659611256965</td>\n",
       "      <td>2011-08-10</td>\n",
       "      <td>2018-07-03</td>\n",
       "      <td>810.0</td>\n",
       "      <td>NaN</td>\n",
       "      <td>3.25</td>\n",
       "      <td>13089.0</td>\n",
       "      <td>POST OFFICE</td>\n",
       "    </tr>\n",
       "    <tr>\n",
       "      <th>109013</th>\n",
       "      <td>-8242641659611256965</td>\n",
       "      <td>2011-08-10</td>\n",
       "      <td>2011-08-10</td>\n",
       "      <td>810.0</td>\n",
       "      <td>NaN</td>\n",
       "      <td>NaN</td>\n",
       "      <td>0.0</td>\n",
       "      <td>POST OFFICE</td>\n",
       "    </tr>\n",
       "    <tr>\n",
       "      <th>109014</th>\n",
       "      <td>-8242641659611256965</td>\n",
       "      <td>2011-08-23</td>\n",
       "      <td>2012-09-18</td>\n",
       "      <td>810.0</td>\n",
       "      <td>NaN</td>\n",
       "      <td>7.00</td>\n",
       "      <td>5403.0</td>\n",
       "      <td>POST OFFICE</td>\n",
       "    </tr>\n",
       "    <tr>\n",
       "      <th>109015</th>\n",
       "      <td>-4636514022054340174</td>\n",
       "      <td>2014-06-09</td>\n",
       "      <td>2017-07-31</td>\n",
       "      <td>810.0</td>\n",
       "      <td>18.75</td>\n",
       "      <td>NaN</td>\n",
       "      <td>3299986.0</td>\n",
       "      <td>Mortgage plus</td>\n",
       "    </tr>\n",
       "  </tbody>\n",
       "</table>\n",
       "<p>109016 rows × 8 columns</p>\n",
       "</div>"
      ],
      "text/plain": [
       "                  client_id agrmnt_start_dt agrmnt_close_dt  crncy_cd  \\\n",
       "0       7513301859607023584      2010-08-12      2014-10-30     810.0   \n",
       "1       7513301859607023584      2013-02-15      2013-08-16     810.0   \n",
       "2       7513301859607023584      2013-08-16      2014-02-14     810.0   \n",
       "3       7513301859607023584      2015-07-12      2015-07-12     810.0   \n",
       "4       7513301859607023584      2015-07-12      2015-07-12     810.0   \n",
       "...                     ...             ...             ...       ...   \n",
       "109011 -8242641659611256965      2011-08-10      2011-08-10     810.0   \n",
       "109012 -8242641659611256965      2011-08-10      2018-07-03     810.0   \n",
       "109013 -8242641659611256965      2011-08-10      2011-08-10     810.0   \n",
       "109014 -8242641659611256965      2011-08-23      2012-09-18     810.0   \n",
       "109015 -4636514022054340174      2014-06-09      2017-07-31     810.0   \n",
       "\n",
       "        agrmnt_rate_active  agrmnt_rate_passive  agrmnt_sum_rur  \\\n",
       "0                      NaN                  NaN             0.0   \n",
       "1                      NaN                  NaN             0.0   \n",
       "2                      NaN                  NaN             0.0   \n",
       "3                      NaN                  NaN             0.0   \n",
       "4                      NaN                  NaN             0.0   \n",
       "...                    ...                  ...             ...   \n",
       "109011                 NaN                  NaN             0.0   \n",
       "109012                 NaN                 3.25         13089.0   \n",
       "109013                 NaN                  NaN             0.0   \n",
       "109014                 NaN                 7.00          5403.0   \n",
       "109015               18.75                  NaN       3299986.0   \n",
       "\n",
       "        prod_type_name  \n",
       "0       Cash on demand  \n",
       "1       Cash on demand  \n",
       "2       Cash on demand  \n",
       "3       Cash on demand  \n",
       "4       Cash on demand  \n",
       "...                ...  \n",
       "109011     POST OFFICE  \n",
       "109012     POST OFFICE  \n",
       "109013     POST OFFICE  \n",
       "109014     POST OFFICE  \n",
       "109015   Mortgage plus  \n",
       "\n",
       "[109016 rows x 8 columns]"
      ]
     },
     "execution_count": 111,
     "metadata": {},
     "output_type": "execute_result"
    }
   ],
   "source": [
    "df_deals"
   ]
  },
  {
   "cell_type": "code",
   "execution_count": 112,
   "id": "09caf4bf",
   "metadata": {},
   "outputs": [
    {
     "data": {
      "text/plain": [
       "NaN      60279\n",
       "0.00     34063\n",
       "0.10      2922\n",
       "0.01      2126\n",
       "4.00      1398\n",
       "         ...  \n",
       "9.67         1\n",
       "9.33         1\n",
       "13.99        1\n",
       "2.55         1\n",
       "3.71         1\n",
       "Name: agrmnt_rate_passive, Length: 609, dtype: int64"
      ]
     },
     "execution_count": 112,
     "metadata": {},
     "output_type": "execute_result"
    }
   ],
   "source": [
    "df_deals.agrmnt_rate_passive.value_counts(dropna=False)"
   ]
  },
  {
   "cell_type": "code",
   "execution_count": 113,
   "id": "2a0a4140",
   "metadata": {},
   "outputs": [],
   "source": [
    "df_deals = df_deals.set_index('client_id')"
   ]
  },
  {
   "cell_type": "code",
   "execution_count": 114,
   "id": "036f0276",
   "metadata": {},
   "outputs": [
    {
     "data": {
      "text/plain": [
       "Salary cards                                   17472\n",
       "Debit cards                                    13578\n",
       "Credit cards                                   13525\n",
       "Cash on demand                                 11009\n",
       "Current account                                10676\n",
       "BIN time deposits                               5154\n",
       "Cash loans OP                                   4641\n",
       "Savings account                                 4386\n",
       "OD etc .                                        3660\n",
       "Lending to payroll clients                      3141\n",
       "Technical cards                                 2243\n",
       "Special offers                                  2095\n",
       "AP etc .                                        1378\n",
       "Corporate lending                                766\n",
       "SU etc .                                         753\n",
       "RocketBank                                       671\n",
       "Pension                                          592\n",
       "Pension cash on demand                           512\n",
       "Cash loans (x-sale)                              505\n",
       "Deposits old                                     344\n",
       "Main income etc .                                308\n",
       "Lending to pensioners                            257\n",
       "Loans for employees                              239\n",
       "Apartment                                        221\n",
       "POS lending                                      211\n",
       "Others                                           201\n",
       "Prepaid cards                                    172\n",
       "Refinancing                                      170\n",
       "OMS                                              168\n",
       "Technical account (interest payment)             166\n",
       "New building                                     159\n",
       "Quasi cash on demand                             126\n",
       "Technical account (for loan repayment)           100\n",
       "Other cash on demand                              93\n",
       "Technical account                                 93\n",
       "Other mortgages                                   88\n",
       "Complex product                                   84\n",
       "Assignment                                        65\n",
       "Legacy auto                                       57\n",
       "Free control etc .                                40\n",
       "Restructuring                                     35\n",
       "BIN car loans                                     34\n",
       "Active replenishment etc .                        33\n",
       "VIP deposits                                      29\n",
       "Ind. Attitudes and employees                      28\n",
       "POST OFFICE                                       23\n",
       "Redeemed                                          21\n",
       "Mortgage. Purchase                                19\n",
       "New building subsidies                            18\n",
       "VIP Credit Cards                                   9\n",
       "VIP Debit Cards                                    6\n",
       "Lending on individual terms                        5\n",
       "On the security of the acquired real estate        4\n",
       "Military mortgage                                  3\n",
       "Demand on bail                                     2\n",
       "Mortgage plus                                      1\n",
       "Apartments                                         1\n",
       "Name: prod_type_name, dtype: int64"
      ]
     },
     "execution_count": 114,
     "metadata": {},
     "output_type": "execute_result"
    }
   ],
   "source": [
    "df_deals.prod_type_name.value_counts()"
   ]
  },
  {
   "cell_type": "code",
   "execution_count": 115,
   "id": "2b5af1c2",
   "metadata": {},
   "outputs": [
    {
     "data": {
      "text/plain": [
       "0.00     3899\n",
       "18.00    2962\n",
       "16.00    2601\n",
       "24.00     977\n",
       "8.50      959\n",
       "         ... \n",
       "19.25       1\n",
       "8.65        1\n",
       "54.00       1\n",
       "7.60        1\n",
       "11.27       1\n",
       "Name: agrmnt_rate_active, Length: 315, dtype: int64"
      ]
     },
     "execution_count": 115,
     "metadata": {},
     "output_type": "execute_result"
    }
   ],
   "source": [
    "df_deals.agrmnt_rate_active.value_counts()"
   ]
  },
  {
   "cell_type": "code",
   "execution_count": 116,
   "id": "cedf4587",
   "metadata": {},
   "outputs": [
    {
     "data": {
      "text/html": [
       "<div>\n",
       "<style scoped>\n",
       "    .dataframe tbody tr th:only-of-type {\n",
       "        vertical-align: middle;\n",
       "    }\n",
       "\n",
       "    .dataframe tbody tr th {\n",
       "        vertical-align: top;\n",
       "    }\n",
       "\n",
       "    .dataframe thead th {\n",
       "        text-align: right;\n",
       "    }\n",
       "</style>\n",
       "<table border=\"1\" class=\"dataframe\">\n",
       "  <thead>\n",
       "    <tr style=\"text-align: right;\">\n",
       "      <th></th>\n",
       "      <th>sale_flg</th>\n",
       "      <th>sale_amount</th>\n",
       "      <th>contacts</th>\n",
       "      <th>feature_1</th>\n",
       "      <th>client_segment</th>\n",
       "      <th>feature_2</th>\n",
       "      <th>feature_3</th>\n",
       "      <th>feature_4</th>\n",
       "      <th>feature_5</th>\n",
       "      <th>feature_6</th>\n",
       "      <th>feature_7</th>\n",
       "      <th>feature_8</th>\n",
       "      <th>feature_9</th>\n",
       "      <th>feature_10</th>\n",
       "      <th>region_cd</th>\n",
       "      <th>nic</th>\n",
       "    </tr>\n",
       "    <tr>\n",
       "      <th>client_id</th>\n",
       "      <th></th>\n",
       "      <th></th>\n",
       "      <th></th>\n",
       "      <th></th>\n",
       "      <th></th>\n",
       "      <th></th>\n",
       "      <th></th>\n",
       "      <th></th>\n",
       "      <th></th>\n",
       "      <th></th>\n",
       "      <th></th>\n",
       "      <th></th>\n",
       "      <th></th>\n",
       "      <th></th>\n",
       "      <th></th>\n",
       "      <th></th>\n",
       "    </tr>\n",
       "  </thead>\n",
       "  <tbody>\n",
       "    <tr>\n",
       "      <th>-9220236243053692422</th>\n",
       "      <td>1</td>\n",
       "      <td>32920.90</td>\n",
       "      <td>2</td>\n",
       "      <td>1</td>\n",
       "      <td>3.0</td>\n",
       "      <td>3642369.0</td>\n",
       "      <td>24469.0</td>\n",
       "      <td>23073.0</td>\n",
       "      <td>16764.0</td>\n",
       "      <td>49060.0</td>\n",
       "      <td>1141276.0</td>\n",
       "      <td>436482.0</td>\n",
       "      <td>8.9</td>\n",
       "      <td>24474.0</td>\n",
       "      <td>36.0</td>\n",
       "      <td>24920.90</td>\n",
       "    </tr>\n",
       "    <tr>\n",
       "      <th>-9220233431709087652</th>\n",
       "      <td>0</td>\n",
       "      <td>0.00</td>\n",
       "      <td>1</td>\n",
       "      <td>6</td>\n",
       "      <td>1.0</td>\n",
       "      <td>1371274.0</td>\n",
       "      <td>77447.0</td>\n",
       "      <td>27857.0</td>\n",
       "      <td>61894.0</td>\n",
       "      <td>15563.0</td>\n",
       "      <td>1370745.0</td>\n",
       "      <td>1177470.0</td>\n",
       "      <td>11.9</td>\n",
       "      <td>30422.0</td>\n",
       "      <td>86.0</td>\n",
       "      <td>0.00</td>\n",
       "    </tr>\n",
       "    <tr>\n",
       "      <th>-9218923580775423458</th>\n",
       "      <td>1</td>\n",
       "      <td>65841.85</td>\n",
       "      <td>1</td>\n",
       "      <td>1</td>\n",
       "      <td>8.0</td>\n",
       "      <td>3520957.0</td>\n",
       "      <td>112431.0</td>\n",
       "      <td>28532.0</td>\n",
       "      <td>0.0</td>\n",
       "      <td>251026.0</td>\n",
       "      <td>3520957.0</td>\n",
       "      <td>3203783.0</td>\n",
       "      <td>10.9</td>\n",
       "      <td>76379.0</td>\n",
       "      <td>78.0</td>\n",
       "      <td>61841.85</td>\n",
       "    </tr>\n",
       "    <tr>\n",
       "      <th>-9217522148893126271</th>\n",
       "      <td>1</td>\n",
       "      <td>8278.15</td>\n",
       "      <td>2</td>\n",
       "      <td>8</td>\n",
       "      <td>7.0</td>\n",
       "      <td>2428246.0</td>\n",
       "      <td>10156.0</td>\n",
       "      <td>27712.0</td>\n",
       "      <td>0.0</td>\n",
       "      <td>65304.0</td>\n",
       "      <td>418872.0</td>\n",
       "      <td>331124.0</td>\n",
       "      <td>15.9</td>\n",
       "      <td>10164.0</td>\n",
       "      <td>86.0</td>\n",
       "      <td>0.00</td>\n",
       "    </tr>\n",
       "    <tr>\n",
       "      <th>-9216562154770464646</th>\n",
       "      <td>1</td>\n",
       "      <td>20411.00</td>\n",
       "      <td>4</td>\n",
       "      <td>1</td>\n",
       "      <td>16.0</td>\n",
       "      <td>1563042.0</td>\n",
       "      <td>49642.0</td>\n",
       "      <td>8180.0</td>\n",
       "      <td>54507.0</td>\n",
       "      <td>26663.0</td>\n",
       "      <td>1562576.0</td>\n",
       "      <td>1259809.0</td>\n",
       "      <td>9.4</td>\n",
       "      <td>33509.0</td>\n",
       "      <td>86.0</td>\n",
       "      <td>0.00</td>\n",
       "    </tr>\n",
       "    <tr>\n",
       "      <th>...</th>\n",
       "      <td>...</td>\n",
       "      <td>...</td>\n",
       "      <td>...</td>\n",
       "      <td>...</td>\n",
       "      <td>...</td>\n",
       "      <td>...</td>\n",
       "      <td>...</td>\n",
       "      <td>...</td>\n",
       "      <td>...</td>\n",
       "      <td>...</td>\n",
       "      <td>...</td>\n",
       "      <td>...</td>\n",
       "      <td>...</td>\n",
       "      <td>...</td>\n",
       "      <td>...</td>\n",
       "      <td>...</td>\n",
       "    </tr>\n",
       "    <tr>\n",
       "      <th>9210268912367210109</th>\n",
       "      <td>1</td>\n",
       "      <td>39505.05</td>\n",
       "      <td>1</td>\n",
       "      <td>8</td>\n",
       "      <td>4.0</td>\n",
       "      <td>1942452.0</td>\n",
       "      <td>186626.0</td>\n",
       "      <td>62247.0</td>\n",
       "      <td>0.0</td>\n",
       "      <td>289176.0</td>\n",
       "      <td>1942597.0</td>\n",
       "      <td>1668691.0</td>\n",
       "      <td>17.9</td>\n",
       "      <td>49224.0</td>\n",
       "      <td>77.0</td>\n",
       "      <td>0.00</td>\n",
       "    </tr>\n",
       "    <tr>\n",
       "      <th>9213178145161007127</th>\n",
       "      <td>1</td>\n",
       "      <td>39804.15</td>\n",
       "      <td>1</td>\n",
       "      <td>1</td>\n",
       "      <td>4.0</td>\n",
       "      <td>2921272.0</td>\n",
       "      <td>90305.0</td>\n",
       "      <td>62373.0</td>\n",
       "      <td>0.0</td>\n",
       "      <td>63942.0</td>\n",
       "      <td>2762130.0</td>\n",
       "      <td>2528454.0</td>\n",
       "      <td>10.9</td>\n",
       "      <td>90298.0</td>\n",
       "      <td>61.0</td>\n",
       "      <td>0.00</td>\n",
       "    </tr>\n",
       "    <tr>\n",
       "      <th>9216281001619457018</th>\n",
       "      <td>0</td>\n",
       "      <td>0.00</td>\n",
       "      <td>2</td>\n",
       "      <td>9</td>\n",
       "      <td>5.0</td>\n",
       "      <td>1821184.0</td>\n",
       "      <td>103380.0</td>\n",
       "      <td>51232.0</td>\n",
       "      <td>0.0</td>\n",
       "      <td>178757.0</td>\n",
       "      <td>1821184.0</td>\n",
       "      <td>694561.0</td>\n",
       "      <td>19.4</td>\n",
       "      <td>47644.0</td>\n",
       "      <td>60.0</td>\n",
       "      <td>0.00</td>\n",
       "    </tr>\n",
       "    <tr>\n",
       "      <th>9218801691173598782</th>\n",
       "      <td>0</td>\n",
       "      <td>0.00</td>\n",
       "      <td>2</td>\n",
       "      <td>11</td>\n",
       "      <td>3.0</td>\n",
       "      <td>6070615.0</td>\n",
       "      <td>31423.0</td>\n",
       "      <td>6678.0</td>\n",
       "      <td>29919.0</td>\n",
       "      <td>11303.0</td>\n",
       "      <td>1552863.0</td>\n",
       "      <td>1360968.0</td>\n",
       "      <td>7.9</td>\n",
       "      <td>31412.0</td>\n",
       "      <td>54.0</td>\n",
       "      <td>-8000.00</td>\n",
       "    </tr>\n",
       "    <tr>\n",
       "      <th>9223107459698100059</th>\n",
       "      <td>0</td>\n",
       "      <td>0.00</td>\n",
       "      <td>1</td>\n",
       "      <td>12</td>\n",
       "      <td>6.0</td>\n",
       "      <td>3642369.0</td>\n",
       "      <td>16163.0</td>\n",
       "      <td>0.0</td>\n",
       "      <td>0.0</td>\n",
       "      <td>0.0</td>\n",
       "      <td>798893.0</td>\n",
       "      <td>631125.0</td>\n",
       "      <td>7.9</td>\n",
       "      <td>16160.0</td>\n",
       "      <td>64.0</td>\n",
       "      <td>0.00</td>\n",
       "    </tr>\n",
       "  </tbody>\n",
       "</table>\n",
       "<p>8581 rows × 16 columns</p>\n",
       "</div>"
      ],
      "text/plain": [
       "                      sale_flg  sale_amount  contacts  feature_1  \\\n",
       "client_id                                                          \n",
       "-9220236243053692422         1     32920.90         2          1   \n",
       "-9220233431709087652         0         0.00         1          6   \n",
       "-9218923580775423458         1     65841.85         1          1   \n",
       "-9217522148893126271         1      8278.15         2          8   \n",
       "-9216562154770464646         1     20411.00         4          1   \n",
       "...                        ...          ...       ...        ...   \n",
       " 9210268912367210109         1     39505.05         1          8   \n",
       " 9213178145161007127         1     39804.15         1          1   \n",
       " 9216281001619457018         0         0.00         2          9   \n",
       " 9218801691173598782         0         0.00         2         11   \n",
       " 9223107459698100059         0         0.00         1         12   \n",
       "\n",
       "                      client_segment  feature_2  feature_3  feature_4  \\\n",
       "client_id                                                               \n",
       "-9220236243053692422             3.0  3642369.0    24469.0    23073.0   \n",
       "-9220233431709087652             1.0  1371274.0    77447.0    27857.0   \n",
       "-9218923580775423458             8.0  3520957.0   112431.0    28532.0   \n",
       "-9217522148893126271             7.0  2428246.0    10156.0    27712.0   \n",
       "-9216562154770464646            16.0  1563042.0    49642.0     8180.0   \n",
       "...                              ...        ...        ...        ...   \n",
       " 9210268912367210109             4.0  1942452.0   186626.0    62247.0   \n",
       " 9213178145161007127             4.0  2921272.0    90305.0    62373.0   \n",
       " 9216281001619457018             5.0  1821184.0   103380.0    51232.0   \n",
       " 9218801691173598782             3.0  6070615.0    31423.0     6678.0   \n",
       " 9223107459698100059             6.0  3642369.0    16163.0        0.0   \n",
       "\n",
       "                      feature_5  feature_6  feature_7  feature_8  feature_9  \\\n",
       "client_id                                                                     \n",
       "-9220236243053692422    16764.0    49060.0  1141276.0   436482.0        8.9   \n",
       "-9220233431709087652    61894.0    15563.0  1370745.0  1177470.0       11.9   \n",
       "-9218923580775423458        0.0   251026.0  3520957.0  3203783.0       10.9   \n",
       "-9217522148893126271        0.0    65304.0   418872.0   331124.0       15.9   \n",
       "-9216562154770464646    54507.0    26663.0  1562576.0  1259809.0        9.4   \n",
       "...                         ...        ...        ...        ...        ...   \n",
       " 9210268912367210109        0.0   289176.0  1942597.0  1668691.0       17.9   \n",
       " 9213178145161007127        0.0    63942.0  2762130.0  2528454.0       10.9   \n",
       " 9216281001619457018        0.0   178757.0  1821184.0   694561.0       19.4   \n",
       " 9218801691173598782    29919.0    11303.0  1552863.0  1360968.0        7.9   \n",
       " 9223107459698100059        0.0        0.0   798893.0   631125.0        7.9   \n",
       "\n",
       "                      feature_10  region_cd       nic  \n",
       "client_id                                              \n",
       "-9220236243053692422     24474.0       36.0  24920.90  \n",
       "-9220233431709087652     30422.0       86.0      0.00  \n",
       "-9218923580775423458     76379.0       78.0  61841.85  \n",
       "-9217522148893126271     10164.0       86.0      0.00  \n",
       "-9216562154770464646     33509.0       86.0      0.00  \n",
       "...                          ...        ...       ...  \n",
       " 9210268912367210109     49224.0       77.0      0.00  \n",
       " 9213178145161007127     90298.0       61.0      0.00  \n",
       " 9216281001619457018     47644.0       60.0      0.00  \n",
       " 9218801691173598782     31412.0       54.0  -8000.00  \n",
       " 9223107459698100059     16160.0       64.0      0.00  \n",
       "\n",
       "[8581 rows x 16 columns]"
      ]
     },
     "execution_count": 116,
     "metadata": {},
     "output_type": "execute_result"
    }
   ],
   "source": [
    "df_funnel.loc[np.intersect1d(df_deals.index.unique(), df_funnel.index)]"
   ]
  },
  {
   "cell_type": "code",
   "execution_count": null,
   "id": "1fd06eee",
   "metadata": {},
   "outputs": [],
   "source": []
  },
  {
   "cell_type": "markdown",
   "id": "538cbedd",
   "metadata": {},
   "source": [
    "## appl"
   ]
  },
  {
   "cell_type": "code",
   "execution_count": 117,
   "id": "9e86b4c8",
   "metadata": {},
   "outputs": [
    {
     "data": {
      "text/html": [
       "<div>\n",
       "<style scoped>\n",
       "    .dataframe tbody tr th:only-of-type {\n",
       "        vertical-align: middle;\n",
       "    }\n",
       "\n",
       "    .dataframe tbody tr th {\n",
       "        vertical-align: top;\n",
       "    }\n",
       "\n",
       "    .dataframe thead th {\n",
       "        text-align: right;\n",
       "    }\n",
       "</style>\n",
       "<table border=\"1\" class=\"dataframe\">\n",
       "  <thead>\n",
       "    <tr style=\"text-align: right;\">\n",
       "      <th></th>\n",
       "      <th>client_id</th>\n",
       "      <th>month_end_dt</th>\n",
       "      <th>appl_prod_group_name</th>\n",
       "      <th>appl_prod_type_name</th>\n",
       "      <th>appl_stts_name_dc</th>\n",
       "      <th>appl_sale_channel_name</th>\n",
       "    </tr>\n",
       "  </thead>\n",
       "  <tbody>\n",
       "    <tr>\n",
       "      <th>0</th>\n",
       "      <td>6886062013213911831</td>\n",
       "      <td>2018-10-31</td>\n",
       "      <td>PILS</td>\n",
       "      <td>PILS</td>\n",
       "      <td>The consultation is over</td>\n",
       "      <td>Network</td>\n",
       "    </tr>\n",
       "    <tr>\n",
       "      <th>1</th>\n",
       "      <td>4497537671718296975</td>\n",
       "      <td>2018-10-31</td>\n",
       "      <td>PILS</td>\n",
       "      <td>PILS</td>\n",
       "      <td>The consultation is over</td>\n",
       "      <td>Network</td>\n",
       "    </tr>\n",
       "    <tr>\n",
       "      <th>2</th>\n",
       "      <td>1316154201527307743</td>\n",
       "      <td>2018-09-30</td>\n",
       "      <td>PILS</td>\n",
       "      <td>PILS</td>\n",
       "      <td>The consultation is over</td>\n",
       "      <td>Network</td>\n",
       "    </tr>\n",
       "    <tr>\n",
       "      <th>3</th>\n",
       "      <td>1316154201527307743</td>\n",
       "      <td>2018-09-30</td>\n",
       "      <td>PILS</td>\n",
       "      <td>PILS</td>\n",
       "      <td>The consultation is over</td>\n",
       "      <td>Network</td>\n",
       "    </tr>\n",
       "    <tr>\n",
       "      <th>4</th>\n",
       "      <td>1316154201527307743</td>\n",
       "      <td>2018-09-30</td>\n",
       "      <td>PILS</td>\n",
       "      <td>PILS</td>\n",
       "      <td>The consultation is over</td>\n",
       "      <td>Network</td>\n",
       "    </tr>\n",
       "    <tr>\n",
       "      <th>...</th>\n",
       "      <td>...</td>\n",
       "      <td>...</td>\n",
       "      <td>...</td>\n",
       "      <td>...</td>\n",
       "      <td>...</td>\n",
       "      <td>...</td>\n",
       "    </tr>\n",
       "    <tr>\n",
       "      <th>12025</th>\n",
       "      <td>-7051552770088413806</td>\n",
       "      <td>2019-03-31</td>\n",
       "      <td>Mortgage</td>\n",
       "      <td>Mortgage</td>\n",
       "      <td>four</td>\n",
       "      <td>NaN</td>\n",
       "    </tr>\n",
       "    <tr>\n",
       "      <th>12026</th>\n",
       "      <td>-2283863549841851654</td>\n",
       "      <td>2019-02-28</td>\n",
       "      <td>Mortgage</td>\n",
       "      <td>Mortgage</td>\n",
       "      <td>four</td>\n",
       "      <td>NaN</td>\n",
       "    </tr>\n",
       "    <tr>\n",
       "      <th>12027</th>\n",
       "      <td>4409001434092016310</td>\n",
       "      <td>2019-03-31</td>\n",
       "      <td>Mortgage</td>\n",
       "      <td>Mortgage</td>\n",
       "      <td>2</td>\n",
       "      <td>NaN</td>\n",
       "    </tr>\n",
       "    <tr>\n",
       "      <th>12028</th>\n",
       "      <td>-2119157901008689776</td>\n",
       "      <td>2018-11-30</td>\n",
       "      <td>Cards</td>\n",
       "      <td>Credit cards</td>\n",
       "      <td>Issuing a card</td>\n",
       "      <td>UCHK</td>\n",
       "    </tr>\n",
       "    <tr>\n",
       "      <th>12029</th>\n",
       "      <td>-1065664632342440074</td>\n",
       "      <td>2018-12-31</td>\n",
       "      <td>Cards</td>\n",
       "      <td>Credit cards</td>\n",
       "      <td>Issuing a card</td>\n",
       "      <td>UCHK</td>\n",
       "    </tr>\n",
       "  </tbody>\n",
       "</table>\n",
       "<p>12030 rows × 6 columns</p>\n",
       "</div>"
      ],
      "text/plain": [
       "                 client_id month_end_dt appl_prod_group_name  \\\n",
       "0      6886062013213911831   2018-10-31                 PILS   \n",
       "1      4497537671718296975   2018-10-31                 PILS   \n",
       "2      1316154201527307743   2018-09-30                 PILS   \n",
       "3      1316154201527307743   2018-09-30                 PILS   \n",
       "4      1316154201527307743   2018-09-30                 PILS   \n",
       "...                    ...          ...                  ...   \n",
       "12025 -7051552770088413806   2019-03-31             Mortgage   \n",
       "12026 -2283863549841851654   2019-02-28             Mortgage   \n",
       "12027  4409001434092016310   2019-03-31             Mortgage   \n",
       "12028 -2119157901008689776   2018-11-30                Cards   \n",
       "12029 -1065664632342440074   2018-12-31                Cards   \n",
       "\n",
       "      appl_prod_type_name         appl_stts_name_dc appl_sale_channel_name  \n",
       "0                    PILS  The consultation is over                Network  \n",
       "1                    PILS  The consultation is over                Network  \n",
       "2                    PILS  The consultation is over                Network  \n",
       "3                    PILS  The consultation is over                Network  \n",
       "4                    PILS  The consultation is over                Network  \n",
       "...                   ...                       ...                    ...  \n",
       "12025            Mortgage                      four                    NaN  \n",
       "12026            Mortgage                      four                    NaN  \n",
       "12027            Mortgage                         2                    NaN  \n",
       "12028        Credit cards            Issuing a card                   UCHK  \n",
       "12029        Credit cards            Issuing a card                   UCHK  \n",
       "\n",
       "[12030 rows x 6 columns]"
      ]
     },
     "execution_count": 117,
     "metadata": {},
     "output_type": "execute_result"
    }
   ],
   "source": [
    "df_appl"
   ]
  },
  {
   "cell_type": "code",
   "execution_count": 118,
   "id": "06a1d032",
   "metadata": {},
   "outputs": [],
   "source": [
    "df_appl = df_appl.set_index('client_id')"
   ]
  },
  {
   "cell_type": "code",
   "execution_count": 119,
   "id": "e23d72f6",
   "metadata": {},
   "outputs": [
    {
     "data": {
      "text/plain": [
       "6209"
      ]
     },
     "execution_count": 119,
     "metadata": {},
     "output_type": "execute_result"
    }
   ],
   "source": [
    "len(df_appl.index.unique())"
   ]
  },
  {
   "cell_type": "markdown",
   "id": "6edffcf0",
   "metadata": {},
   "source": [
    "### stts"
   ]
  },
  {
   "cell_type": "code",
   "execution_count": 120,
   "id": "eead15e5",
   "metadata": {},
   "outputs": [
    {
     "data": {
      "text/plain": [
       "Issuance has been made                     4667\n",
       "Issuing a card                             1255\n",
       "The consultation is over                    828\n",
       "Informing the Methodics                     828\n",
       "Attachment of documents (after release)     599\n",
       "Draft                                       153\n",
       "Client refusal (Methodics)                   84\n",
       "Bank refusal (sent to Methodics)             34\n",
       "The documents have been prepared             34\n",
       "An agreement is required to be signed        16\n",
       "Client refusal                               16\n",
       "Formation of the application                 16\n",
       "Verification of customer data                 7\n",
       "Attachment of documents                       7\n",
       "four                                          5\n",
       "Getting a list of customer cards              5\n",
       "Waiting for contract data                     2\n",
       "To issue                                      2\n",
       "Confirmation of issue by the Controller       2\n",
       "one                                           2\n",
       "five                                          2\n",
       "Improvement is required from the URC          1\n",
       "Introduced                                    1\n",
       "2                                             1\n",
       "Name: appl_stts_name_dc, dtype: int64"
      ]
     },
     "execution_count": 120,
     "metadata": {},
     "output_type": "execute_result"
    }
   ],
   "source": [
    "df_appl.appl_stts_name_dc.value_counts()"
   ]
  },
  {
   "cell_type": "code",
   "execution_count": 121,
   "id": "bb13e82a",
   "metadata": {},
   "outputs": [],
   "source": [
    "message = \"Issuing a card\"\n",
    "messafe_id = np.intersect1d(df_appl.query(f'appl_stts_name_dc == \"{message}\"').index.unique(), df_funnel.index)"
   ]
  },
  {
   "cell_type": "code",
   "execution_count": 122,
   "id": "964b4d93",
   "metadata": {},
   "outputs": [
    {
     "data": {
      "text/plain": [
       "0    0.79058\n",
       "1    0.20942\n",
       "Name: sale_flg, dtype: float64"
      ]
     },
     "execution_count": 122,
     "metadata": {},
     "output_type": "execute_result"
    }
   ],
   "source": [
    "df_funnel.loc[messafe_id].sale_flg.value_counts() / len(messafe_id)"
   ]
  },
  {
   "cell_type": "markdown",
   "id": "fe5a30a5",
   "metadata": {},
   "source": [
    "### channel"
   ]
  },
  {
   "cell_type": "code",
   "execution_count": 123,
   "id": "0e213493",
   "metadata": {},
   "outputs": [
    {
     "data": {
      "text/plain": [
       "Network                  6836\n",
       "Direct sales             3111\n",
       "Telesales                1150\n",
       "DRKK                      776\n",
       "Premium                    51\n",
       "Sales to FC employees      30\n",
       "Heavy network               5\n",
       "Mini-offices                4\n",
       "UCHK                        2\n",
       "SME                         1\n",
       "Name: appl_sale_channel_name, dtype: int64"
      ]
     },
     "execution_count": 123,
     "metadata": {},
     "output_type": "execute_result"
    }
   ],
   "source": [
    "df_appl.appl_sale_channel_name.value_counts()"
   ]
  },
  {
   "cell_type": "code",
   "execution_count": 124,
   "id": "50332165",
   "metadata": {},
   "outputs": [],
   "source": [
    "channel_id = np.intersect1d(df_appl[df_appl['appl_sale_channel_name'] == \"Premium\"].index.unique(), df_funnel.index)"
   ]
  },
  {
   "cell_type": "code",
   "execution_count": 125,
   "id": "b74188a1",
   "metadata": {},
   "outputs": [
    {
     "data": {
      "text/plain": [
       "0    0.5\n",
       "1    0.5\n",
       "Name: sale_flg, dtype: float64"
      ]
     },
     "execution_count": 125,
     "metadata": {},
     "output_type": "execute_result"
    }
   ],
   "source": [
    "df_funnel.loc[channel_id].sale_flg.value_counts() / len(channel_id)"
   ]
  },
  {
   "cell_type": "markdown",
   "id": "a58b6dc3",
   "metadata": {},
   "source": [
    "### group"
   ]
  },
  {
   "cell_type": "code",
   "execution_count": 126,
   "id": "29e512ff",
   "metadata": {},
   "outputs": [
    {
     "data": {
      "text/plain": [
       "Cards       8307\n",
       "PILS        3689\n",
       "Mortgage      34\n",
       "Name: appl_prod_group_name, dtype: int64"
      ]
     },
     "execution_count": 126,
     "metadata": {},
     "output_type": "execute_result"
    }
   ],
   "source": [
    "df_appl.appl_prod_group_name.value_counts()"
   ]
  },
  {
   "cell_type": "code",
   "execution_count": 127,
   "id": "ecedad3e",
   "metadata": {},
   "outputs": [],
   "source": [
    "group_id = np.intersect1d(df_appl[df_appl['appl_prod_group_name'] == \"Mortgage\"].index.unique(), df_funnel.index)"
   ]
  },
  {
   "cell_type": "code",
   "execution_count": 128,
   "id": "aa883325",
   "metadata": {},
   "outputs": [
    {
     "data": {
      "text/plain": [
       "0    0.538462\n",
       "1    0.461538\n",
       "Name: sale_flg, dtype: float64"
      ]
     },
     "execution_count": 128,
     "metadata": {},
     "output_type": "execute_result"
    }
   ],
   "source": [
    "df_funnel.loc[group_id].sale_flg.value_counts() / len(group_id)"
   ]
  },
  {
   "cell_type": "markdown",
   "id": "78f111cb",
   "metadata": {},
   "source": [
    "### prod_type"
   ]
  },
  {
   "cell_type": "code",
   "execution_count": 129,
   "id": "44a2481e",
   "metadata": {},
   "outputs": [
    {
     "data": {
      "text/plain": [
       "Debit cards     4749\n",
       "PILS            3689\n",
       "Credit cards    3558\n",
       "Mortgage          34\n",
       "Name: appl_prod_type_name, dtype: int64"
      ]
     },
     "execution_count": 129,
     "metadata": {},
     "output_type": "execute_result"
    }
   ],
   "source": [
    "df_appl.appl_prod_type_name.value_counts()"
   ]
  },
  {
   "cell_type": "code",
   "execution_count": 130,
   "id": "346c534d",
   "metadata": {},
   "outputs": [],
   "source": [
    "type_id = np.intersect1d(df_appl[df_appl['appl_prod_type_name'] == \"Debit cards\"].index.unique(), df_funnel.index)"
   ]
  },
  {
   "cell_type": "code",
   "execution_count": 131,
   "id": "5e69fb45",
   "metadata": {},
   "outputs": [
    {
     "data": {
      "text/plain": [
       "0    0.618923\n",
       "1    0.381077\n",
       "Name: sale_flg, dtype: float64"
      ]
     },
     "execution_count": 131,
     "metadata": {},
     "output_type": "execute_result"
    }
   ],
   "source": [
    "df_funnel.loc[type_id].sale_flg.value_counts() / len(type_id)"
   ]
  },
  {
   "cell_type": "code",
   "execution_count": null,
   "id": "73a4acae",
   "metadata": {},
   "outputs": [],
   "source": []
  }
 ],
 "metadata": {
  "kernelspec": {
   "display_name": "idao",
   "language": "python",
   "name": "idao"
  },
  "language_info": {
   "codemirror_mode": {
    "name": "ipython",
    "version": 3
   },
   "file_extension": ".py",
   "mimetype": "text/x-python",
   "name": "python",
   "nbconvert_exporter": "python",
   "pygments_lexer": "ipython3",
   "version": "3.8.8"
  }
 },
 "nbformat": 4,
 "nbformat_minor": 5
}
